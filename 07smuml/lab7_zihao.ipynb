{
 "cells": [
  {
   "cell_type": "code",
   "execution_count": 1,
   "metadata": {
    "collapsed": true
   },
   "outputs": [],
   "source": [
    "import numpy as np\n",
    "import os\n",
    "import matplotlib.pyplot as plt\n",
    "from scipy.misc import imresize\n",
    "from skimage.color import rgb2gray\n",
    "%matplotlib inline\n",
    "imagedir = '../img_data/Images'"
   ]
  },
  {
   "cell_type": "code",
   "execution_count": 2,
   "metadata": {
    "collapsed": true
   },
   "outputs": [],
   "source": [
    "def load_images(num_classes, h, w):\n",
    "    \n",
    "    # preinitialize the matrix\n",
    "    #img_arr = np.empty((num_samples_per_breed*num_breeds,h*w))  # 20 instances of each breed, each img will be 200x200 = 40000 pixels\n",
    "    img_arr = []\n",
    "    label_arr = []\n",
    "    \n",
    "    # sample 60 breeds from the dataset\n",
    "    a = np.arange(len(os.listdir(imagedir)))\n",
    "    np.random.shuffle(a)\n",
    "    breed_sample_idxs = a[:num_classes]\n",
    "    for i, idx in enumerate(breed_sample_idxs):\n",
    "        breed = os.listdir(imagedir)[idx]\n",
    "        if breed[0] == '.' : \n",
    "            continue # stupid ds.store on mac\n",
    "        print(i,breed)\n",
    "        \n",
    "        for img in os.listdir(os.path.join(imagedir, breed)):\n",
    "            dog_path = os.path.join(imagedir,breed,img)            \n",
    "\n",
    "            img = plt.imread(dog_path)\n",
    "            \n",
    "            # converts image to gray, resizes it to be 200x200, and then linearizes it\n",
    "            img_gray_resize_flat = rgb2gray(imresize(img, (h,w,3))).flatten()\n",
    "                        \n",
    "            img_arr.append(img_gray_resize_flat)\n",
    "\n",
    "            # add name to list of labels\n",
    "            fname = dog_path.split('/')[-1] # 'dog_name_123497.jpg'\n",
    "            dog_name = fname[:fname.rfind('_')] # 'dog_name'\n",
    "            label_arr.append(breed)\n",
    "            \n",
    "    return img_arr, label_arr"
   ]
  },
  {
   "cell_type": "code",
   "execution_count": 3,
   "metadata": {},
   "outputs": [
    {
     "name": "stdout",
     "output_type": "stream",
     "text": [
      "0 Pembroke\n"
     ]
    },
    {
     "name": "stderr",
     "output_type": "stream",
     "text": [
      "C:\\Users\\leima\\AppData\\Local\\conda\\conda\\envs\\my_root\\lib\\site-packages\\ipykernel_launcher.py:24: DeprecationWarning: `imresize` is deprecated!\n",
      "`imresize` is deprecated in SciPy 1.0.0, and will be removed in 1.2.0.\n",
      "Use ``skimage.transform.resize`` instead.\n"
     ]
    },
    {
     "name": "stdout",
     "output_type": "stream",
     "text": [
      "1 Bernese_mountain_dog\n",
      "2 Mexican_hairless\n",
      "3 English_foxhound\n",
      "4 Shih\n",
      "925\n",
      "Wall time: 14.4 s\n"
     ]
    }
   ],
   "source": [
    "%%time\n",
    "num_breeds = 5\n",
    "h=128\n",
    "w=128\n",
    "dogs, labels = load_images(num_classes=num_breeds, h=h, w=w)\n",
    "print(len(dogs))"
   ]
  },
  {
   "cell_type": "code",
   "execution_count": 4,
   "metadata": {},
   "outputs": [],
   "source": [
    "import pandas as pd\n",
    "from sklearn.preprocessing import LabelEncoder\n",
    "\n",
    "df= pd.DataFrame(dogs)\n",
    "\n",
    "X = np.array(dogs)\n",
    "enc = LabelEncoder()\n",
    "y = enc.fit_transform(labels)\n",
    "\n",
    "img_wh = 128\n"
   ]
  },
  {
   "cell_type": "code",
   "execution_count": 5,
   "metadata": {},
   "outputs": [
    {
     "name": "stderr",
     "output_type": "stream",
     "text": [
      "Using TensorFlow backend.\n"
     ]
    },
    {
     "data": {
      "text/plain": [
       "'2.0.9'"
      ]
     },
     "execution_count": 5,
     "metadata": {},
     "output_type": "execute_result"
    }
   ],
   "source": [
    "import keras\n",
    "from keras.models import Sequential\n",
    "from keras.layers import Reshape\n",
    "from keras.layers import Dense, Dropout, Activation, Flatten\n",
    "from keras.layers import Conv2D, MaxPooling2D\n",
    "\n",
    "keras.__version__"
   ]
  },
  {
   "cell_type": "code",
   "execution_count": 6,
   "metadata": {},
   "outputs": [
    {
     "data": {
      "text/plain": [
       "(740, 16384)"
      ]
     },
     "execution_count": 6,
     "metadata": {},
     "output_type": "execute_result"
    }
   ],
   "source": [
    "from sklearn import datasets, metrics\n",
    "from sklearn.model_selection import train_test_split\n",
    "import numpy as np\n",
    "\n",
    "np.random.seed(0) # using this to help make results reproducible\n",
    "\n",
    "# Split it into train / test subsets\n",
    "X_train, X_test, y_train, y_test = train_test_split(X, y, test_size=0.2)\n",
    "\n",
    "# Split X_train again to create validation data\n",
    "#X_train, X_val, y_train, y_val = train_test_split(X_train,y_train,test_size=0.2)\n",
    "\n",
    "X_train.shape"
   ]
  },
  {
   "cell_type": "code",
   "execution_count": 7,
   "metadata": {},
   "outputs": [
    {
     "name": "stdout",
     "output_type": "stream",
     "text": [
      "(740, 16384)\n",
      "(185, 16384)\n"
     ]
    }
   ],
   "source": [
    "NUM_CLASSES = 5\n",
    "print(X_train.shape)\n",
    "print(X_test.shape)"
   ]
  },
  {
   "cell_type": "code",
   "execution_count": 8,
   "metadata": {},
   "outputs": [
    {
     "name": "stdout",
     "output_type": "stream",
     "text": [
      "Epoch 1/10\n",
      "740/740 [==============================] - 1s 1ms/step - loss: 0.2295 - acc: 0.2419\n",
      "Epoch 2/10\n",
      "740/740 [==============================] - 1s 751us/step - loss: 0.2041 - acc: 0.2595\n",
      "Epoch 3/10\n",
      "740/740 [==============================] - 1s 751us/step - loss: 0.2023 - acc: 0.2811\n",
      "Epoch 4/10\n",
      "740/740 [==============================] - 1s 718us/step - loss: 0.1941 - acc: 0.3014\n",
      "Epoch 5/10\n",
      "740/740 [==============================] - 1s 724us/step - loss: 0.1827 - acc: 0.2743\n",
      "Epoch 6/10\n",
      "740/740 [==============================] - 1s 753us/step - loss: 0.1787 - acc: 0.2959\n",
      "Epoch 7/10\n",
      "740/740 [==============================] - 1s 723us/step - loss: 0.1696 - acc: 0.3054\n",
      "Epoch 8/10\n",
      "740/740 [==============================] - 1s 752us/step - loss: 0.1627 - acc: 0.3230\n",
      "Epoch 9/10\n",
      "740/740 [==============================] - 1s 746us/step - loss: 0.1623 - acc: 0.3122\n",
      "Epoch 10/10\n",
      "740/740 [==============================] - 1s 746us/step - loss: 0.1598 - acc: 0.3189\n",
      "Wall time: 6.27 s\n"
     ]
    }
   ],
   "source": [
    "%%time\n",
    "\n",
    "y_train_ohe = keras.utils.to_categorical(y_train, NUM_CLASSES)\n",
    "y_test_ohe = keras.utils.to_categorical(y_test, NUM_CLASSES)\n",
    "\n",
    "# make a 3 layer keras MLP\n",
    "mlp = Sequential()\n",
    "mlp.add( Dense(input_dim=X_train.shape[1], units=30, activation='relu') )\n",
    "mlp.add( Dense(units=15, activation='relu') )\n",
    "mlp.add( Dense(NUM_CLASSES) )\n",
    "mlp.add( Activation('softmax') )\n",
    "\n",
    "mlp.compile(loss='mean_squared_error',\n",
    "              optimizer='rmsprop',\n",
    "              metrics=['accuracy'])\n",
    "\n",
    "mlp.fit(X_train, y_train_ohe, \n",
    "        batch_size=32, epochs=10, \n",
    "        shuffle=True, verbose=1)"
   ]
  },
  {
   "cell_type": "code",
   "execution_count": 9,
   "metadata": {},
   "outputs": [
    {
     "name": "stdout",
     "output_type": "stream",
     "text": [
      "Epoch 1/10\n",
      "740/740 [==============================] - 1s 2ms/step - loss: 0.1583 - acc: 0.2568\n",
      "Epoch 2/10\n",
      "740/740 [==============================] - 1s 1ms/step - loss: 0.1497 - acc: 0.3432\n",
      "Epoch 3/10\n",
      "740/740 [==============================] - 1s 2ms/step - loss: 0.1447 - acc: 0.3919\n",
      "Epoch 4/10\n",
      "740/740 [==============================] - 1s 2ms/step - loss: 0.1418 - acc: 0.3932\n",
      "Epoch 5/10\n",
      "740/740 [==============================] - 1s 2ms/step - loss: 0.1406 - acc: 0.4351\n",
      "Epoch 6/10\n",
      "740/740 [==============================] - 1s 2ms/step - loss: 0.1368 - acc: 0.4311\n",
      "Epoch 7/10\n",
      "740/740 [==============================] - 1s 2ms/step - loss: 0.1350 - acc: 0.4797\n",
      "Epoch 8/10\n",
      "740/740 [==============================] - 1s 2ms/step - loss: 0.1366 - acc: 0.4635\n",
      "Epoch 9/10\n",
      "740/740 [==============================] - 1s 2ms/step - loss: 0.1316 - acc: 0.4919\n",
      "Epoch 10/10\n",
      "740/740 [==============================] - 1s 2ms/step - loss: 0.1321 - acc: 0.4757\n",
      "Wall time: 13.4 s\n"
     ]
    }
   ],
   "source": [
    "%%time\n",
    "\n",
    "cnn_layers = [16, 16]\n",
    "\n",
    "# make a CNN with conv layer and max pooling\n",
    "cnn = Sequential()\n",
    "cnn.add(Reshape((1,h,w), input_shape=(1,h*w)))\n",
    "\n",
    "for n in cnn_layers:\n",
    "    cnn.add(Conv2D(filters=n, kernel_size= (3, 3), padding='same', input_shape=(1,h,w)))\n",
    "    cnn.add(Activation('relu'))\n",
    "    cnn.add(MaxPooling2D(pool_size=(2, 2), data_format=\"channels_first\"))\n",
    "    \n",
    "# add one layer on flattened output\n",
    "cnn.add(Flatten())\n",
    "cnn.add(Dense(50))\n",
    "cnn.add(Activation('relu'))\n",
    "cnn.add(Dense(NUM_CLASSES))\n",
    "cnn.add(Activation('softmax'))\n",
    "\n",
    "\n",
    "# Let's train the model \n",
    "cnn.compile(loss='mean_squared_error',\n",
    "              optimizer='rmsprop',\n",
    "              metrics=['accuracy'])\n",
    "\n",
    "# we need to exapnd the dimensions here to give the \n",
    "#   \"channels\" dimension expected by Keras\n",
    "cnn.fit(np.expand_dims(X_train, axis=1), y_train_ohe, \n",
    "        batch_size=32, epochs=10, \n",
    "        shuffle=True, verbose=1)"
   ]
  },
  {
   "cell_type": "code",
   "execution_count": 10,
   "metadata": {
    "collapsed": true
   },
   "outputs": [],
   "source": [
    "from sklearn import metrics as mt\n",
    "from matplotlib import pyplot as plt\n",
    "import seaborn as sns\n",
    "%matplotlib inline\n",
    "\n",
    "def compare_mlp_cnn(cnn, mlp, X_test, y_test):\n",
    "    plt.figure(figsize=(15,5))\n",
    "    if cnn is not None:\n",
    "        yhat_cnn = np.argmax(cnn.predict(np.expand_dims(X_test, axis=1)), axis=1)\n",
    "        acc_cnn = mt.accuracy_score(y_test,yhat_cnn)\n",
    "        plt.subplot(1,2,1)\n",
    "        cm = mt.confusion_matrix(y_test,yhat_cnn)\n",
    "        cm = cm/np.sum(cm,axis=1)[:,np.newaxis]\n",
    "        sns.heatmap(cm, annot=True, fmt='.2f', xticklabels=enc.inverse_transform([0, 1, 2, 3, 4]), \n",
    "                   yticklabels=enc.inverse_transform([0, 1, 2, 3, 4]))\n",
    "        plt.title('CNN: '+str(acc_cnn))\n",
    "    \n",
    "    if mlp is not None:\n",
    "        yhat_mlp = np.argmax(mlp.predict(X_test), axis=1)\n",
    "        acc_mlp = mt.accuracy_score(y_test,yhat_mlp)\n",
    "        plt.subplot(1,2,2)\n",
    "        cm = mt.confusion_matrix(y_test,yhat_mlp)\n",
    "        cm = cm/np.sum(cm,axis=1)[:,np.newaxis]\n",
    "        sns.heatmap(cm,annot=True, fmt='.2f', xticklabels=enc.inverse_transform([0, 1, 2, 3, 4]), \n",
    "                   yticklabels=enc.inverse_transform([0, 1, 2, 3, 4]))\n",
    "        plt.title('MLP: '+str(acc_mlp))"
   ]
  },
  {
   "cell_type": "code",
   "execution_count": 11,
   "metadata": {},
   "outputs": [
    {
     "name": "stderr",
     "output_type": "stream",
     "text": [
      "C:\\Users\\leima\\AppData\\Local\\conda\\conda\\envs\\my_root\\lib\\site-packages\\seaborn\\matrix.py:143: FutureWarning: elementwise comparison failed; returning scalar instead, but in the future will perform elementwise comparison\n",
      "  if xticklabels == []:\n",
      "C:\\Users\\leima\\AppData\\Local\\conda\\conda\\envs\\my_root\\lib\\site-packages\\seaborn\\matrix.py:151: FutureWarning: elementwise comparison failed; returning scalar instead, but in the future will perform elementwise comparison\n",
      "  if yticklabels == []:\n"
     ]
    },
    {
     "data": {
      "image/png": "[encoded data removed]",
      "text/plain": [
       "<matplotlib.figure.Figure at 0x2240520be80>"
      ]
     },
     "metadata": {},
     "output_type": "display_data"
    }
   ],
   "source": [
    "compare_mlp_cnn(cnn,mlp,X_test,y_test)"
   ]
  },
  {
   "cell_type": "code",
   "execution_count": 12,
   "metadata": {},
   "outputs": [
    {
     "data": {
      "text/plain": [
       "'2.0.9'"
      ]
     },
     "execution_count": 12,
     "metadata": {},
     "output_type": "execute_result"
    }
   ],
   "source": [
    "import keras\n",
    "from keras.models import Sequential\n",
    "from keras.layers import Reshape\n",
    "from keras.layers import Dense, Dropout, Activation, Flatten\n",
    "from keras.layers import Conv2D, MaxPooling2D\n",
    "from keras.preprocessing.image import ImageDataGenerator\n",
    "from keras.callbacks import EarlyStopping\n",
    "from keras.regularizers import l2\n",
    "from keras.layers import average \n",
    "from keras.models import Input, Model\n",
    "from keras.applications.resnet50 import preprocess_input, decode_predictions\n",
    "\n",
    "keras.__version__"
   ]
  },
  {
   "cell_type": "code",
   "execution_count": 13,
   "metadata": {
    "collapsed": true
   },
   "outputs": [],
   "source": [
    "from sklearn import metrics as mt\n",
    "from matplotlib import pyplot as plt\n",
    "from skimage.io import imshow\n",
    "import seaborn as sns\n",
    "import os\n",
    "import struct\n",
    "%matplotlib inline\n",
    "\n",
    "def summarize_net(net, X_test, y_test, title_text=''):\n",
    "    plt.figure(figsize=(15,5))\n",
    "    yhat = np.argmax(net.predict(X_test), axis=1)\n",
    "    acc = mt.accuracy_score(y_test,yhat)\n",
    "    cm = mt.confusion_matrix(y_test,yhat)\n",
    "    cm = cm/np.sum(cm,axis=1)[:,np.newaxis]\n",
    "    sns.heatmap(cm, annot=True, fmt='.2f')\n",
    "    plt.title(title_text+'{:.4f}'.format(acc))\n",
    "\n"
   ]
  },
  {
   "cell_type": "code",
   "execution_count": 19,
   "metadata": {},
   "outputs": [],
   "source": [
    "l2_lambda = 0.0001\n",
    "img_hw = 128\n",
    "X = np.expand_dims(X.reshape(-1,img_hw,img_hw), axis=3)\n",
    "datagen = ImageDataGenerator(featurewise_center=False,\n",
    "    samplewise_center=False,\n",
    "    featurewise_std_normalization=False,\n",
    "    samplewise_std_normalization=False,\n",
    "    zca_whitening=False,\n",
    "    rotation_range=5, # used, Int. Degree range for random rotations.\n",
    "    width_shift_range=0.1, # used, Float (fraction of total width). Range for random horizontal shifts.\n",
    "    height_shift_range=0.1, # used,  Float (fraction of total height). Range for random vertical shifts.\n",
    "    shear_range=0., # Float. Shear Intensity (Shear angle in counter-clockwise direction as radians)\n",
    "    zoom_range=0.,\n",
    "    channel_shift_range=0.,\n",
    "    fill_mode='nearest',\n",
    "    cval=0.,\n",
    "    horizontal_flip=False,\n",
    "    vertical_flip=False,\n",
    "    rescale=None)\n"
   ]
  },
  {
   "cell_type": "code",
   "execution_count": 20,
   "metadata": {},
   "outputs": [
    {
     "name": "stdout",
     "output_type": "stream",
     "text": [
      "(740, 128, 128, 1)\n",
      "(740,)\n"
     ]
    }
   ],
   "source": [
    "X_train, X_test, y_train, y_test = train_test_split(X, y, test_size=0.2)\n",
    "print(X_train.shape)\n",
    "print(y_train.shape)"
   ]
  },
  {
   "cell_type": "code",
   "execution_count": 22,
   "metadata": {},
   "outputs": [
    {
     "name": "stdout",
     "output_type": "stream",
     "text": [
      "Epoch 1/3\n",
      "6/5 [====================================] - 75s 12s/step - loss: 2.1898 - acc: 0.1911 - val_loss: 1.7415 - val_acc: 0.1405\n",
      "Epoch 2/3\n",
      "6/5 [====================================] - 70s 12s/step - loss: 1.7334 - acc: 0.2125 - val_loss: 1.7031 - val_acc: 0.2595\n",
      "Epoch 3/3\n",
      "6/5 [====================================] - 79s 13s/step - loss: 1.7676 - acc: 0.1916 - val_loss: 1.7338 - val_acc: 0.1676\n",
      "Wall time: 3min 46s\n"
     ]
    }
   ],
   "source": [
    "%%time\n",
    "\n",
    "from keras.layers import average \n",
    "from keras.models import Input, Model\n",
    "\n",
    "num_ensembles = 3\n",
    "\n",
    "input_holder = Input(shape=(img_wh, img_wh, 1))\n",
    "\n",
    "branches = []\n",
    "for _ in range(num_ensembles):\n",
    "\n",
    "    conv1 = Conv2D(filters=32,\n",
    "                   input_shape = (img_wh,img_wh,1),\n",
    "                   kernel_size=(3,3),\n",
    "                   kernel_initializer='he_uniform', \n",
    "                   kernel_regularizer=l2(l2_lambda),\n",
    "                   padding='same', \n",
    "                   activation='relu')(input_holder)\n",
    "    \n",
    "    max1 = MaxPooling2D(pool_size=(2, 2), data_format=\"channels_last\")(conv1)\n",
    "\n",
    "    conv2 = Conv2D(filters=32,\n",
    "                   kernel_size=(3,3),\n",
    "                   kernel_initializer='he_uniform', \n",
    "                   kernel_regularizer=l2(l2_lambda),\n",
    "                   padding='same', \n",
    "                   activation='relu')(max1)\n",
    "    \n",
    "    max2 = MaxPooling2D(pool_size=(2, 2), data_format=\"channels_last\")(conv2)\n",
    "\n",
    "\n",
    "    # add one layer on flattened output\n",
    "    drop1 = Dropout(0.25)(max2) # add some dropout for regularization after conv layers\n",
    "    flat1 = Flatten()(drop1)\n",
    "    dense1 = Dense(128, \n",
    "                  activation='relu',\n",
    "                  kernel_initializer='he_uniform',\n",
    "                  kernel_regularizer=l2(l2_lambda)\n",
    "                )(flat1)\n",
    "    drop2 = Dropout(0.5)(dense1) # add some dropout for regularization, again!\n",
    "    dense2 = Dense(NUM_CLASSES, \n",
    "                  activation='sigmoid', \n",
    "                  kernel_initializer='glorot_uniform',\n",
    "                  kernel_regularizer=l2(l2_lambda)\n",
    "                 )(drop2)\n",
    "    \n",
    "    # now add this branch onto the master list\n",
    "    branches.append(dense2)\n",
    "\n",
    "# that's it, we just need to average the results\n",
    "ave = average(branches)\n",
    "\n",
    "# here is the secret sauce for setting the network using the \n",
    "#   Model API:\n",
    "cnn_ens = Model(inputs=input_holder,outputs=ave)\n",
    "\n",
    "# Let's train the model \n",
    "cnn_ens.compile(loss='categorical_crossentropy', # 'categorical_crossentropy' 'mean_squared_error'\n",
    "                optimizer='rmsprop', # 'adadelta' 'rmsprop'\n",
    "                metrics=['accuracy'])\n",
    "\n",
    "# the flow method yields batches of images indefinitely, with the given transofmrations\n",
    "cnn_ens.fit_generator(datagen.flow(X_train, y_train_ohe, batch_size=128), \n",
    "                      steps_per_epoch=int(len(X_train)/128), # how many generators to go through per epoch\n",
    "                      epochs=3, verbose=1,\n",
    "                      validation_data=(X_test,y_test_ohe),\n",
    "                      callbacks=[EarlyStopping(monitor='val_loss', patience=4)]\n",
    "                     )"
   ]
  },
  {
   "cell_type": "code",
   "execution_count": 23,
   "metadata": {},
   "outputs": [
    {
     "data": {
      "image/png": "[encoded data removed]",
      "text/plain": [
       "<matplotlib.figure.Figure at 0x2242bcb4198>"
      ]
     },
     "metadata": {},
     "output_type": "display_data"
    }
   ],
   "source": [
    "summarize_net(cnn_ens, X_test, y_test, title_text='CNN Ensemble:')"
   ]
  },
  {
   "cell_type": "code",
   "execution_count": null,
   "metadata": {
    "collapsed": true
   },
   "outputs": [],
   "source": []
  }
 ],
 "metadata": {
  "kernelspec": {
   "display_name": "Python 3",
   "language": "python",
   "name": "python3"
  },
  "language_info": {
   "codemirror_mode": {
    "name": "ipython",
    "version": 3
   },
   "file_extension": ".py",
   "mimetype": "text/x-python",
   "name": "python",
   "nbconvert_exporter": "python",
   "pygments_lexer": "ipython3",
   "version": "3.6.1"
  }
 },
 "nbformat": 4,
 "nbformat_minor": 2
}
