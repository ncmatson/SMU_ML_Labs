{
 "cells": [
  {
   "cell_type": "markdown",
   "metadata": {},
   "source": [
    "Zihao Mao\n",
    "\n",
    "Cameron Matson\n",
    "\n",
    "9/22/2017\n",
    "\n",
    "# Lab 7: CNN\n",
    "\n",
    "## Introduction\n",
    "\n",
    "For this lab we examine the images of the Stanford Dog Dataset.  The dataset consits of ~20,000 images of dogs from 120 different breeds.\n",
    "\n",
    "#### Issues\n",
    "The dataset is primarily used for fine-grained classification problems, meaning that the instances are all members of the same main class and are divided by subclass.  In this case, the main class is 'Dog' and the subclass is the breed: 'Beagle', 'Poodle', 'Lab'...  These are potentially more difficult than standard classification problems because in theory all members of teh main class should at least share similar features.  In other words as the saying goes \"a dog is a dog is a dog not a cat.\"\n",
    "\n",
    "Another challenge with this dataset is that there is that they do not depict a standard scene.  These are not faces of dogs.  These are not photoshoot photos of dogs.  The images in the dataset are not even exclusively of dogs.  Some contain multiple dogs or even people.  The dataset would benefit from preprocessing in the form of some sort of standardization such that all the images are of the same kind, using facial detection for instance.\n",
    "\n",
    "#### Uses\n",
    "Some possible uses of this type of classification: maybe a city or some other community has had a problem recently with a particular breed of dog acting violently towards humans, this system could be used on video footage (from a source like street cameras) in an attempt to identify areas where these dogs are.  Another use could be by the American Kennel Club in order to help them identify dog breeds when registering dogs without previous paperwork.  Maybe the could use the system as a preliminary step to shrink down the number of applications.  Or maybe there is an online marketplace for person to person pet sales that wants to ensure that the sellers are reliably posting the breeds that the claim.\n",
    "\n",
    "#### Metric\n",
    "In both of the cases above a high level of accuracy would be required for it to replace a human classifier.  People, especially ones who work in Animal Control or for the AKC are likely to be pretty good at identifying dogs.  Therefore to make the system as useful as possible we'd like it to have as low a false negative rate as possible, this way the human user would only be tasked with identifying false positives.  Therefore we will use recall as our metric, specifically the micro-averaged recall, because we're particularly concerned with minimizing the number of false negatives for each class."
   ]
  },
  {
   "cell_type": "code",
   "execution_count": 12,
   "metadata": {
    "collapsed": true
   },
   "outputs": [],
   "source": [
    "import numpy as np\n",
    "import os\n",
    "import matplotlib.pyplot as plt\n",
    "from scipy.misc import imresize\n",
    "from skimage.color import rgb2gray\n",
    "%matplotlib inline\n",
    "# for zihao\n",
    "#imagedir = '../img_data/dogs/Images'\n",
    "# for cameron\n",
    "imagedir = '../../data/dogs'"
   ]
  },
  {
   "cell_type": "code",
   "execution_count": 10,
   "metadata": {},
   "outputs": [
    {
     "name": "stderr",
     "output_type": "stream",
     "text": [
      "Using TensorFlow backend.\n"
     ]
    },
    {
     "data": {
      "text/plain": [
       "'2.0.8'"
      ]
     },
     "execution_count": 10,
     "metadata": {},
     "output_type": "execute_result"
    }
   ],
   "source": [
    "import keras\n",
    "from keras.models import Sequential\n",
    "from keras.layers import Reshape\n",
    "from keras.layers import Dense, Dropout, Activation, Flatten\n",
    "from keras.layers import Conv2D, MaxPooling2D\n",
    "from keras.layers import average \n",
    "from keras.models import Input, Model\n",
    "from keras.regularizers import l2\n",
    "\n",
    "from sklearn import datasets, metrics\n",
    "from sklearn.model_selection import train_test_split, StratifiedKFold\n",
    "from sklearn import metrics as mt\n",
    "\n",
    "import numpy as np\n",
    "\n",
    "keras.__version__"
   ]
  },
  {
   "cell_type": "markdown",
   "metadata": {},
   "source": [
    "## Data Preprocessing\n",
    "\n",
    "There are 120 different breeds included in the dataset with bout 150 images of each breed for a total of 20,580 images.  The images are stored in directories by breed.  To make the size of the dataset more managable, we're only going to select 5 particular breeds."
   ]
  },
  {
   "cell_type": "code",
   "execution_count": 13,
   "metadata": {},
   "outputs": [],
   "source": [
    "# remove dsstore\n",
    "for d in os.listdir(imagedir):\n",
    "    if d.find('.DS') != -1:\n",
    "        os.remove(os.path.join(imagedir,d))\n",
    "        continue\n",
    "    for f in os.listdir(os.path.join(imagedir, d)):\n",
    "        if f.find('.DS') != -1:\n",
    "            os.remove(os.path.join(imagedir,d,f))\n",
    "    "
   ]
  },
  {
   "cell_type": "code",
   "execution_count": 14,
   "metadata": {
    "collapsed": true
   },
   "outputs": [],
   "source": [
    "def load_images(num_classes, h, w):\n",
    "    \n",
    "    # preinitialize the matrix\n",
    "    #img_arr = np.empty((num_samples_per_breed*num_breeds,h*w))  # 20 instances of each breed, each img will be 200x200 = 40000 pixels\n",
    "    img_arr = []\n",
    "    label_arr = []\n",
    "    \n",
    "    # sample 60 breeds from the dataset\n",
    "    a = np.arange(len(os.listdir(imagedir)))\n",
    "    np.random.shuffle(a)\n",
    "    breed_sample_idxs = a[:num_classes]\n",
    "    for i, idx in enumerate(breed_sample_idxs):\n",
    "        breed = os.listdir(imagedir)[idx]\n",
    "        if breed[0] == '.' : \n",
    "            continue # stupid ds.store on mac\n",
    "        print(i,breed)\n",
    "        \n",
    "        for img in os.listdir(os.path.join(imagedir, breed)):\n",
    "            dog_path = os.path.join(imagedir,breed,img)            \n",
    "\n",
    "            img = plt.imread(dog_path)\n",
    "            \n",
    "            # converts image to gray, resizes it to be 200x200, and then linearizes it\n",
    "            img_gray_resize_flat = rgb2gray(imresize(img, (h,w,3))).flatten()\n",
    "                        \n",
    "            img_arr.append(img_gray_resize_flat)\n",
    "\n",
    "            # add name to list of labels\n",
    "            fname = dog_path.split('/')[-1] # 'dog_name_123497.jpg'\n",
    "            dog_name = fname[:fname.rfind('_')] # 'dog_name'\n",
    "            label_arr.append(breed)\n",
    "            \n",
    "    return img_arr, label_arr"
   ]
  },
  {
   "cell_type": "code",
   "execution_count": 15,
   "metadata": {
    "scrolled": false
   },
   "outputs": [
    {
     "name": "stdout",
     "output_type": "stream",
     "text": [
      "0 Eskimo_dog\n",
      "1 Pomeranian\n",
      "2 wire\n",
      "3 West_Highland_white_terrier\n",
      "4 English_springer\n",
      "854\n",
      "Wall time: 5.3 s\n"
     ]
    }
   ],
   "source": [
    "%%time\n",
    "num_breeds = 5\n",
    "h=128\n",
    "w=128\n",
    "\n",
    "dogs, labels = load_images(num_classes=num_breeds, h=h, w=w)\n",
    "print(len(dogs))"
   ]
  },
  {
   "cell_type": "code",
   "execution_count": 17,
   "metadata": {
    "collapsed": true,
    "scrolled": true
   },
   "outputs": [],
   "source": [
    "import pandas as pd\n",
    "from sklearn.preprocessing import LabelEncoder\n",
    "\n",
    "df= pd.DataFrame(dogs)\n",
    "\n",
    "X = np.array(dogs)\n",
    "\n",
    "enc = LabelEncoder()\n",
    "y = enc.fit_transform(labels)\n",
    "\n",
    "#X_train, X_test, y_train, y_test = train_test_split(X, y, test_size=0.2)\n",
    "#y_train_ohe = keras.utils.to_categorical(y_train, NUM_CLASSES)\n",
    "#y_test_ohe = keras.utils.to_categorical(y_test, NUM_CLASSES)"
   ]
  },
  {
   "cell_type": "code",
   "execution_count": 19,
   "metadata": {},
   "outputs": [
    {
     "data": {
      "image/png": "[encoded data removed]",
      "text/plain": [
       "<matplotlib.figure.Figure at 0x27ab4cc0f28>"
      ]
     },
     "metadata": {},
     "output_type": "display_data"
    }
   ],
   "source": [
    "ex = dogs[0].reshape((h,w))\n",
    "plt.imshow(ex, cmap='gray')\n",
    "plt.title(labels[0])\n",
    "plt.show()"
   ]
  },
  {
   "cell_type": "markdown",
   "metadata": {},
   "source": [
    "Let's do a quick check of the distribution of breeds that we're using."
   ]
  },
  {
   "cell_type": "code",
   "execution_count": 20,
   "metadata": {},
   "outputs": [
    {
     "data": {
      "image/png": "[encoded data removed]",
      "text/plain": [
       "<matplotlib.figure.Figure at 0x27ae6cf0d30>"
      ]
     },
     "metadata": {},
     "output_type": "display_data"
    }
   ],
   "source": [
    "plt.figure(figsize=(15, 5))\n",
    "plt.bar(list(set(y)), pd.Series(y).value_counts())\n",
    "plt.xticks(np.arange(5), enc.classes_)\n",
    "plt.show()"
   ]
  },
  {
   "cell_type": "markdown",
   "metadata": {},
   "source": [
    "As was stated previously the distribution betwewen classes is nearly uniform."
   ]
  },
  {
   "cell_type": "markdown",
   "metadata": {},
   "source": [
    "### Cross Validation Scheme\n",
    "\n",
    "Since these networks take SOO long to train and we don't have that much data, we're  going to use a 3-fold cross-validation set up.  K-fold because we can't afford to not train on all of thee data, and 3 folds so we can finish on time.  We'll also use stratified folds to be safe even though our breed distribution is pretty uniform.  After we train the 3 models we'll be able to look at the average performance to get a sense of how the model might perform once deployed.\n",
    "\n",
    "First we'll define 3 functions to perform three different architectures, a regular MLP, a basic CNN (a few convolutions followed by a few dense layers), and an Ensemble Net style architecture."
   ]
  },
  {
   "cell_type": "code",
   "execution_count": 21,
   "metadata": {
    "collapsed": true
   },
   "outputs": [],
   "source": [
    "# some constants we'll need\n",
    "img_hw = 128\n",
    "img_wh = 128\n",
    "l2_lambda = 0.001"
   ]
  },
  {
   "cell_type": "markdown",
   "metadata": {},
   "source": [
    "## MLP"
   ]
  },
  {
   "cell_type": "code",
   "execution_count": 22,
   "metadata": {
    "collapsed": true,
    "scrolled": true
   },
   "outputs": [],
   "source": [
    "def do_mlp(X_train, y_train, X_test, y_test):\n",
    "    # make a 3 layer keras MLP\n",
    "    mlp = Sequential()\n",
    "    mlp.add( Dense(input_dim=X_train.shape[1], units=30, activation='relu') )\n",
    "    mlp.add( Dense(units=15, activation='relu') )\n",
    "    mlp.add( Dense(units=30, activation='relu') )\n",
    "    mlp.add( Dense(NUM_CLASSES) )\n",
    "    mlp.add( Activation('softmax') )\n",
    "\n",
    "    mlp.compile(loss='categorical_crossentropy',\n",
    "                  optimizer='rmsprop',\n",
    "                  metrics=['accuracy'])\n",
    "\n",
    "    mlp.fit(X_train, y_train, \n",
    "            batch_size=32, epochs=10, \n",
    "            shuffle=True, verbose=1)\n",
    "    \n",
    "    yhat_mlp = np.argmax(mlp.predict(X_test), axis=1)\n",
    "    \n",
    "    return mlp, mt.accuracy_score(y_test,yhat_mlp)"
   ]
  },
  {
   "cell_type": "markdown",
   "metadata": {},
   "source": [
    "## cnn1: simple"
   ]
  },
  {
   "cell_type": "code",
   "execution_count": 23,
   "metadata": {
    "scrolled": true
   },
   "outputs": [],
   "source": [
    "def do_cnn1(X_train, y_train, X_test, y_test, y_test_ohe):\n",
    "    cnn_layers = [32, 16]\n",
    "\n",
    "    # make a CNN with conv layer and max pooling\n",
    "    cnn = Sequential()\n",
    "    cnn.add(Reshape((1, 128, 128), input_shape=(1,128*128)))\n",
    "\n",
    "    for n in cnn_layers:\n",
    "        cnn.add(Conv2D(filters=n, kernel_size= (3, 3), padding='same', input_shape=(1, h,w), data_format='channels_first'))\n",
    "        cnn.add(Activation('relu'))\n",
    "        cnn.add(MaxPooling2D(pool_size=(2, 2), data_format=\"channels_first\"))\n",
    "\n",
    "    # add one layer on flattened output\n",
    "    cnn.add(Dropout(0.25))\n",
    "    cnn.add(Flatten())\n",
    "\n",
    "    cnn.add(Dropout(0.25))\n",
    "    cnn.add(Dense(80))\n",
    "    cnn.add(Activation('relu'))\n",
    "\n",
    "    cnn.add(Dropout(0.50))\n",
    "    cnn.add(Dense(20))\n",
    "    cnn.add(Activation('relu'))\n",
    "\n",
    "\n",
    "    cnn.add(Dense(NUM_CLASSES))\n",
    "    cnn.add(Activation('softmax'))\n",
    "\n",
    "\n",
    "    # Let's train the model \n",
    "    cnn.compile(loss='categorical_crossentropy',\n",
    "                  optimizer='adam',\n",
    "                  metrics=['accuracy'])\n",
    "\n",
    "    # we need to exapnd the dimensions here to give the \n",
    "    #   \"channels\" dimension expected by Keras\n",
    "    cnn.fit(np.expand_dims(X_train, axis = 1), y_train, \n",
    "            batch_size=32, epochs=20,\n",
    "            validation_data=((np.expand_dims(X_test, axis=1), y_test_ohe)),\n",
    "            shuffle=True, verbose=1)\n",
    "    \n",
    "    yhat_cnn = np.argmax(cnn.predict(np.expand_dims(X_test, axis=1)), axis=1)\n",
    "    \n",
    "    rec = mt.recall_score(y_pred=yhat_cnn, y_true=y_test)\n",
    "    return cnn, rec"
   ]
  },
  {
   "cell_type": "markdown",
   "metadata": {},
   "source": [
    "## cnn2:  Ensemble Net"
   ]
  },
  {
   "cell_type": "code",
   "execution_count": 24,
   "metadata": {
    "collapsed": true
   },
   "outputs": [],
   "source": [
    "def do_ensemble(X_train, y_train, X_test, y_test):\n",
    "\n",
    "\n",
    "    num_ensembles = 3\n",
    "\n",
    "    input_holder = Input(shape=(img_wh, img_wh, 1))\n",
    "\n",
    "    branches = []\n",
    "    for _ in range(num_ensembles):\n",
    "\n",
    "        conv1 = Conv2D(filters=32,\n",
    "                       input_shape = (img_wh,img_wh,1),\n",
    "                       kernel_size=(3,3),\n",
    "                       kernel_initializer='he_uniform', \n",
    "                       kernel_regularizer=l2(l2_lambda),\n",
    "                       padding='same', \n",
    "                       activation='relu',data_format=\"channels_last\")(input_holder)\n",
    "\n",
    "        max1 = MaxPooling2D(pool_size=(2, 2), data_format=\"channels_last\")(conv1)\n",
    "\n",
    "        conv2 = Conv2D(filters=32,\n",
    "                       kernel_size=(3,3),\n",
    "                       kernel_initializer='he_uniform', \n",
    "                       kernel_regularizer=l2(l2_lambda),\n",
    "                       padding='same', \n",
    "                       activation='relu',data_format=\"channels_last\")(max1)\n",
    "\n",
    "        max2 = MaxPooling2D(pool_size=(2, 2), data_format=\"channels_last\")(conv2)\n",
    "\n",
    "\n",
    "        # add one layer on flattened output\n",
    "        drop1 = Dropout(0.25)(max2) # add some dropout for regularization after conv layers\n",
    "        flat1 = Flatten()(drop1)\n",
    "        dense1 = Dense(128, \n",
    "                      activation='relu',\n",
    "                      kernel_initializer='he_uniform',\n",
    "                      kernel_regularizer=l2(l2_lambda)\n",
    "                    )(flat1)\n",
    "        drop2 = Dropout(0.5)(dense1) # add some dropout for regularization, again!\n",
    "        dense2 = Dense(NUM_CLASSES, \n",
    "                      activation='sigmoid', \n",
    "                      kernel_initializer='glorot_uniform',\n",
    "                      kernel_regularizer=l2(l2_lambda)\n",
    "                     )(drop2)\n",
    "\n",
    "        # now add this branch onto the master list\n",
    "        branches.append(dense2)\n",
    "\n",
    "    # that's it, we just need to average the results\n",
    "    ave = average(branches)\n",
    "\n",
    "    # here is the secret sauce for setting the network using the \n",
    "    #   Model API:\n",
    "    cnn_ens = Model(inputs=input_holder,outputs=ave)\n",
    "\n",
    "    # Let's train the model \n",
    "    cnn_ens.compile(loss='categorical_crossentropy', # 'categorical_crossentropy' 'mean_squared_error'\n",
    "                    optimizer='rmsprop', # 'adadelta' 'rmsprop'\n",
    "                    metrics=['accuracy'])\n",
    "    X_train = np.expand_dims(X_train.reshape(-1,img_hw,img_hw), axis=3)\n",
    "    X_test = np.expand_dims(X_test.reshape(-1,img_hw,img_hw), axis=3)\n",
    "    # the flow method yields batches of images indefinitely, with the given transofmrations\n",
    "    cnn_ens.fit(X_train, y_train, \n",
    "            batch_size=32, epochs=20,\n",
    "            shuffle=True, verbose=1)\n",
    "    yhat = np.argmax(cnn_ens.predict(X_test), axis=1)\n",
    "    rec = mt.recall_score(y_test,yhat)\n",
    "    \n",
    "    return cnn_ens, rec"
   ]
  },
  {
   "cell_type": "markdown",
   "metadata": {},
   "source": [
    "And now for the loop..."
   ]
  },
  {
   "cell_type": "code",
   "execution_count": 42,
   "metadata": {
    "scrolled": true
   },
   "outputs": [
    {
     "name": "stdout",
     "output_type": "stream",
     "text": [
      "training cnn 1\n",
      "Train on 520 samples, validate on 263 samples\n",
      "Epoch 1/10\n",
      "520/520 [==============================] - 21s 41ms/step - loss: 1.6367 - acc: 0.1846 - val_loss: 1.6099 - val_acc: 0.1901\n",
      "Epoch 2/10\n",
      "520/520 [==============================] - 20s 39ms/step - loss: 1.6101 - acc: 0.1558 - val_loss: 1.6092 - val_acc: 0.2319\n",
      "Epoch 3/10\n",
      "520/520 [==============================] - 20s 39ms/step - loss: 1.6081 - acc: 0.2192 - val_loss: 1.6087 - val_acc: 0.2091\n",
      "Epoch 4/10\n",
      "520/520 [==============================] - 21s 41ms/step - loss: 1.6038 - acc: 0.1981 - val_loss: 1.5941 - val_acc: 0.2928\n",
      "Epoch 5/10\n",
      "520/520 [==============================] - 21s 41ms/step - loss: 1.5838 - acc: 0.2712 - val_loss: 1.5471 - val_acc: 0.2167\n",
      "Epoch 6/10\n",
      "520/520 [==============================] - 21s 41ms/step - loss: 1.5562 - acc: 0.3115 - val_loss: 1.5310 - val_acc: 0.2776\n",
      "Epoch 7/10\n",
      "520/520 [==============================] - 21s 41ms/step - loss: 1.5227 - acc: 0.3077 - val_loss: 1.4900 - val_acc: 0.3650\n",
      "Epoch 8/10\n",
      "520/520 [==============================] - 21s 41ms/step - loss: 1.4850 - acc: 0.3288 - val_loss: 1.5041 - val_acc: 0.3270\n",
      "Epoch 9/10\n",
      "520/520 [==============================] - 21s 41ms/step - loss: 1.4505 - acc: 0.3692 - val_loss: 1.4838 - val_acc: 0.3536\n",
      "Epoch 10/10\n",
      "520/520 [==============================] - 21s 40ms/step - loss: 1.4145 - acc: 0.4019 - val_loss: 1.4439 - val_acc: 0.3878\n",
      "accuracy cnn1:  0.38783269962\n",
      "training cnn 2\n",
      "Epoch 1/10\n",
      "520/520 [==============================] - 21s 40ms/step - loss: 2.1929 - acc: 0.2192\n",
      "Epoch 2/10\n",
      "520/520 [==============================] - 19s 36ms/step - loss: 1.7559 - acc: 0.2019\n",
      "Epoch 3/10\n",
      "520/520 [==============================] - 19s 36ms/step - loss: 1.7908 - acc: 0.2212\n",
      "Epoch 4/10\n",
      "520/520 [==============================] - 18s 35ms/step - loss: 1.7291 - acc: 0.2288\n",
      "Epoch 5/10\n",
      "520/520 [==============================] - 18s 35ms/step - loss: 1.7316 - acc: 0.2115\n",
      "Epoch 6/10\n",
      "520/520 [==============================] - 18s 35ms/step - loss: 1.6431 - acc: 0.2346\n",
      "Epoch 7/10\n",
      "520/520 [==============================] - 18s 35ms/step - loss: 1.5294 - acc: 0.3038\n",
      "Epoch 8/10\n",
      "520/520 [==============================] - 18s 34ms/step - loss: 1.4640 - acc: 0.3538\n",
      "Epoch 9/10\n",
      "520/520 [==============================] - 17s 34ms/step - loss: 1.1988 - acc: 0.5096\n",
      "Epoch 10/10\n",
      "520/520 [==============================] - 17s 34ms/step - loss: 1.1024 - acc: 0.5769\n",
      "accuracy cnn2:  0.307984790875\n",
      "training mlp\n",
      "Epoch 1/10\n",
      "520/520 [==============================] - 1s 3ms/step - loss: 0.2819 - acc: 0.1904\n",
      "Epoch 2/10\n",
      "520/520 [==============================] - 0s 300us/step - loss: 0.2703 - acc: 0.1942\n",
      "Epoch 3/10\n",
      "520/520 [==============================] - 0s 307us/step - loss: 0.2362 - acc: 0.2308\n",
      "Epoch 4/10\n",
      "520/520 [==============================] - 0s 296us/step - loss: 0.2155 - acc: 0.2212\n",
      "Epoch 5/10\n",
      "520/520 [==============================] - 0s 301us/step - loss: 0.1866 - acc: 0.2673\n",
      "Epoch 6/10\n",
      "520/520 [==============================] - 0s 298us/step - loss: 0.1765 - acc: 0.2596\n",
      "Epoch 7/10\n",
      "520/520 [==============================] - 0s 297us/step - loss: 0.1594 - acc: 0.3000\n",
      "Epoch 8/10\n",
      "520/520 [==============================] - 0s 300us/step - loss: 0.1572 - acc: 0.2923\n",
      "Epoch 9/10\n",
      "520/520 [==============================] - 0s 306us/step - loss: 0.1529 - acc: 0.3481\n",
      "Epoch 10/10\n",
      "520/520 [==============================] - 0s 304us/step - loss: 0.1594 - acc: 0.3212\n",
      "accuracy mlp:  0.273764258555\n",
      "training cnn 1\n",
      "Train on 522 samples, validate on 261 samples\n",
      "Epoch 1/10\n",
      "522/522 [==============================] - 22s 42ms/step - loss: 1.6262 - acc: 0.1992 - val_loss: 1.6042 - val_acc: 0.2107\n",
      "Epoch 2/10\n",
      "522/522 [==============================] - 20s 38ms/step - loss: 1.5973 - acc: 0.2644 - val_loss: 1.5868 - val_acc: 0.2375\n",
      "Epoch 3/10\n",
      "522/522 [==============================] - 20s 38ms/step - loss: 1.5356 - acc: 0.3065 - val_loss: 1.5406 - val_acc: 0.2874\n",
      "Epoch 4/10\n",
      "522/522 [==============================] - 20s 38ms/step - loss: 1.4541 - acc: 0.3812 - val_loss: 1.5086 - val_acc: 0.3142\n",
      "Epoch 5/10\n",
      "522/522 [==============================] - 20s 38ms/step - loss: 1.4084 - acc: 0.3889 - val_loss: 1.4824 - val_acc: 0.3372\n",
      "Epoch 6/10\n",
      "522/522 [==============================] - 20s 38ms/step - loss: 1.3410 - acc: 0.4464 - val_loss: 1.4983 - val_acc: 0.3563\n",
      "Epoch 7/10\n",
      "522/522 [==============================] - 20s 38ms/step - loss: 1.2278 - acc: 0.4828 - val_loss: 1.4770 - val_acc: 0.3448\n",
      "Epoch 8/10\n",
      "522/522 [==============================] - 20s 38ms/step - loss: 1.1610 - acc: 0.5192 - val_loss: 1.4889 - val_acc: 0.3065\n",
      "Epoch 9/10\n",
      "522/522 [==============================] - 20s 37ms/step - loss: 1.0749 - acc: 0.5958 - val_loss: 1.5034 - val_acc: 0.3372\n",
      "Epoch 10/10\n",
      "522/522 [==============================] - 20s 38ms/step - loss: 0.9242 - acc: 0.6533 - val_loss: 1.5401 - val_acc: 0.3678\n",
      "accuracy cnn1:  0.367816091954\n",
      "training cnn 2\n",
      "Epoch 1/10\n",
      "522/522 [==============================] - 19s 37ms/step - loss: 2.0442 - acc: 0.1916\n",
      "Epoch 2/10\n",
      "522/522 [==============================] - 17s 33ms/step - loss: 1.7457 - acc: 0.1954\n",
      "Epoch 3/10\n",
      "522/522 [==============================] - 17s 33ms/step - loss: 1.7240 - acc: 0.2050\n",
      "Epoch 4/10\n",
      "522/522 [==============================] - 18s 34ms/step - loss: 1.7358 - acc: 0.2203\n",
      "Epoch 5/10\n",
      "522/522 [==============================] - 18s 34ms/step - loss: 1.7783 - acc: 0.1839\n",
      "Epoch 6/10\n",
      "522/522 [==============================] - 18s 34ms/step - loss: 1.7178 - acc: 0.2184\n",
      "Epoch 7/10\n",
      "522/522 [==============================] - 17s 33ms/step - loss: 1.7082 - acc: 0.2337\n",
      "Epoch 8/10\n",
      "522/522 [==============================] - 18s 34ms/step - loss: 1.6635 - acc: 0.2548\n",
      "Epoch 9/10\n",
      "522/522 [==============================] - 18s 34ms/step - loss: 1.5925 - acc: 0.2548\n",
      "Epoch 10/10\n",
      "522/522 [==============================] - 17s 33ms/step - loss: 1.4923 - acc: 0.3410\n",
      "accuracy cnn2:  0.314176245211\n",
      "training mlp\n",
      "Epoch 1/10\n",
      "522/522 [==============================] - 2s 3ms/step - loss: 0.3099 - acc: 0.1801\n",
      "Epoch 2/10\n",
      "522/522 [==============================] - 0s 298us/step - loss: 0.3189 - acc: 0.2011\n",
      "Epoch 3/10\n",
      "522/522 [==============================] - 0s 298us/step - loss: 0.3255 - acc: 0.1820\n",
      "Epoch 4/10\n",
      "522/522 [==============================] - 0s 296us/step - loss: 0.3128 - acc: 0.2107\n",
      "Epoch 5/10\n",
      "522/522 [==============================] - 0s 295us/step - loss: 0.3149 - acc: 0.2126\n",
      "Epoch 6/10\n",
      "522/522 [==============================] - 0s 295us/step - loss: 0.2559 - acc: 0.1916\n",
      "Epoch 7/10\n",
      "522/522 [==============================] - 0s 308us/step - loss: 0.1987 - acc: 0.2107\n",
      "Epoch 8/10\n",
      "522/522 [==============================] - 0s 316us/step - loss: 0.1606 - acc: 0.2318\n",
      "Epoch 9/10\n",
      "522/522 [==============================] - 0s 317us/step - loss: 0.1567 - acc: 0.2816\n",
      "Epoch 10/10\n",
      "522/522 [==============================] - 0s 313us/step - loss: 0.1566 - acc: 0.2893\n",
      "accuracy mlp:  0.302681992337\n",
      "training cnn 1\n",
      "Train on 524 samples, validate on 259 samples\n",
      "Epoch 1/10\n",
      "524/524 [==============================] - 21s 41ms/step - loss: 1.6168 - acc: 0.2042 - val_loss: 1.6074 - val_acc: 0.2008\n",
      "Epoch 2/10\n",
      "524/524 [==============================] - 20s 37ms/step - loss: 1.6044 - acc: 0.2462 - val_loss: 1.6034 - val_acc: 0.1969\n",
      "Epoch 3/10\n",
      "524/524 [==============================] - 20s 37ms/step - loss: 1.5921 - acc: 0.2748 - val_loss: 1.5760 - val_acc: 0.2239\n",
      "Epoch 4/10\n",
      "524/524 [==============================] - 20s 38ms/step - loss: 1.5641 - acc: 0.2939 - val_loss: 1.5197 - val_acc: 0.2973\n",
      "Epoch 5/10\n",
      "524/524 [==============================] - 20s 38ms/step - loss: 1.5016 - acc: 0.3168 - val_loss: 1.4746 - val_acc: 0.3591\n",
      "Epoch 6/10\n",
      "524/524 [==============================] - 20s 37ms/step - loss: 1.3938 - acc: 0.4160 - val_loss: 1.4976 - val_acc: 0.3205\n",
      "Epoch 7/10\n",
      "524/524 [==============================] - 20s 37ms/step - loss: 1.4044 - acc: 0.4084 - val_loss: 1.4477 - val_acc: 0.4247\n",
      "Epoch 8/10\n",
      "524/524 [==============================] - 20s 38ms/step - loss: 1.3128 - acc: 0.4332 - val_loss: 1.4350 - val_acc: 0.3707\n",
      "Epoch 9/10\n",
      "524/524 [==============================] - 20s 38ms/step - loss: 1.2049 - acc: 0.5000 - val_loss: 1.4622 - val_acc: 0.3784\n",
      "Epoch 10/10\n"
     ]
    },
    {
     "name": "stdout",
     "output_type": "stream",
     "text": [
      "524/524 [==============================] - 20s 38ms/step - loss: 1.1111 - acc: 0.5305 - val_loss: 1.4318 - val_acc: 0.4054\n",
      "accuracy cnn1:  0.405405405405\n",
      "training cnn 2\n",
      "Epoch 1/10\n",
      "524/524 [==============================] - 20s 38ms/step - loss: 2.0865 - acc: 0.2118\n",
      "Epoch 2/10\n",
      "524/524 [==============================] - 18s 33ms/step - loss: 1.7464 - acc: 0.2042\n",
      "Epoch 3/10\n",
      "524/524 [==============================] - 18s 33ms/step - loss: 1.7312 - acc: 0.2195\n",
      "Epoch 4/10\n",
      "524/524 [==============================] - 18s 34ms/step - loss: 1.7019 - acc: 0.2042\n",
      "Epoch 5/10\n",
      "524/524 [==============================] - 17s 33ms/step - loss: 1.6951 - acc: 0.2366\n",
      "Epoch 6/10\n",
      "524/524 [==============================] - 17s 33ms/step - loss: 1.7094 - acc: 0.2156\n",
      "Epoch 7/10\n",
      "524/524 [==============================] - 17s 33ms/step - loss: 1.6813 - acc: 0.2328\n",
      "Epoch 8/10\n",
      "524/524 [==============================] - 18s 33ms/step - loss: 1.6814 - acc: 0.2405\n",
      "Epoch 9/10\n",
      "524/524 [==============================] - 17s 33ms/step - loss: 1.6891 - acc: 0.2729\n",
      "Epoch 10/10\n",
      "524/524 [==============================] - 17s 33ms/step - loss: 1.6394 - acc: 0.2844\n",
      "accuracy cnn2:  0.27027027027\n",
      "training mlp\n",
      "Epoch 1/10\n",
      "524/524 [==============================] - 2s 3ms/step - loss: 0.2455 - acc: 0.1985\n",
      "Epoch 2/10\n",
      "524/524 [==============================] - 0s 310us/step - loss: 0.1867 - acc: 0.2233\n",
      "Epoch 3/10\n",
      "524/524 [==============================] - 0s 297us/step - loss: 0.1806 - acc: 0.2366\n",
      "Epoch 4/10\n",
      "524/524 [==============================] - 0s 296us/step - loss: 0.1616 - acc: 0.2347\n",
      "Epoch 5/10\n",
      "524/524 [==============================] - 0s 297us/step - loss: 0.1564 - acc: 0.2309\n",
      "Epoch 6/10\n",
      "524/524 [==============================] - 0s 301us/step - loss: 0.1564 - acc: 0.2882\n",
      "Epoch 7/10\n",
      "524/524 [==============================] - 0s 301us/step - loss: 0.1565 - acc: 0.2691\n",
      "Epoch 8/10\n",
      "524/524 [==============================] - 0s 300us/step - loss: 0.1555 - acc: 0.2920\n",
      "Epoch 9/10\n",
      "524/524 [==============================] - 0s 302us/step - loss: 0.1539 - acc: 0.3073\n",
      "Epoch 10/10\n",
      "524/524 [==============================] - 0s 300us/step - loss: 0.1538 - acc: 0.2767\n",
      "accuracy mlp:  0.285714285714\n"
     ]
    }
   ],
   "source": [
    "from sklearn import datasets, metrics\n",
    "from sklearn.model_selection import train_test_split, StratifiedKFold\n",
    "\n",
    "N_SPLITS = 3\n",
    "N_CLASSES = 5\n",
    "\n",
    "cnn1_rec = []\n",
    "cnn2_rec = []\n",
    "mlp_rec = []\n",
    "\n",
    "skf = StratifiedKFold(n_splits=N_SPLITS, random_state=0, shuffle=False)\n",
    "for train, test in skf.split(X, y):\n",
    "    # split up the data\n",
    "    X_train = X[train]\n",
    "    y_train = y[train]\n",
    "    \n",
    "    X_test = X[test]\n",
    "    y_test = y[test]\n",
    "    \n",
    "    y_train_ohe = keras.utils.to_categorical(y_train, NUM_CLASSES)\n",
    "    y_test_ohe = keras.utils.to_categorical(y_test, NUM_CLASSES)\n",
    "    \n",
    "    # architecture 1\n",
    "    print('training cnn 1')\n",
    "    cnn1, cnn1_result = do_cnn1(X_train, y_train_ohe, X_test, y_test, y_test_ohe)\n",
    "    cnn1_rec.append(cnn1_result)\n",
    "    print('cnn1 recall score: ', cnn2_result)\n",
    "    \n",
    "    # architecture 2\n",
    "    print('training cnn 2')\n",
    "    cnn2, cnn2_result = do_ensemble(X_test=X_test, X_train=X_train, y_test=y_test, y_train=y_train_ohe)\n",
    "    cnn2_rec.append(cnn2_result)\n",
    "    print('cnn2 recall score: ', cnn2_result)\n",
    "        \n",
    "    # MLP\n",
    "    print('training mlp')\n",
    "    mlp, mlp_result = do_mlp(X_train, y_train_ohe, X_test, y_test)\n",
    "    mlp_rec.append(result)\n",
    "    print('mlp recall score: ', mlp_result)\n"
   ]
  },
  {
   "cell_type": "markdown",
   "metadata": {},
   "source": [
    "## howd it do....\n",
    "\n",
    "Below are the general statistics from the cross validation"
   ]
  },
  {
   "cell_type": "code",
   "execution_count": null,
   "metadata": {
    "collapsed": true
   },
   "outputs": [],
   "source": [
    "print('stats:')\n",
    "print('*'*6)\n",
    "print('mlp:', np.mean(mlp_rec), '+-', np.std(mlp_rec))\n",
    "print('cnn1:', np.mean(cnn1_rec), '+-', np.std(cnn1_rec))\n",
    "print('cnn2:', np.mean(cnn2_rec), '+-', np.std(cnn2_rec))"
   ]
  },
  {
   "cell_type": "markdown",
   "metadata": {},
   "source": [
    "We can also look at the confusion matrix for the final instance of each of the architecture's"
   ]
  },
  {
   "cell_type": "code",
   "execution_count": 7,
   "metadata": {
    "collapsed": true
   },
   "outputs": [],
   "source": [
    "from sklearn import metrics as mt\n",
    "from matplotlib import pyplot as plt\n",
    "import seaborn as sns\n",
    "%matplotlib inline\n",
    "\n",
    "def compare_mlp_cnn(cnn1, cnn2, mlp, X_test, y_test, enc):\n",
    "    plt.figure(figsize=(20,5))\n",
    "    if cnn1 is not None:\n",
    "        yhat_cnn1 = np.argmax(cnn1.predict(np.expand_dims(X_test, axis=1)), axis=1)\n",
    "        rec_cnn1 = mt.recall_score(y_test,yhat_cnn1)\n",
    "        plt.subplot(1,3,2)\n",
    "        cm = mt.confusion_matrix(y_test,yhat_cnn1)\n",
    "        cm = cm/np.sum(cm,axis=1)[:,np.newaxis]\n",
    "        sns.heatmap(cm, annot=True, fmt='.2f', xticklabels=enc.inverse_transform([0, 1, 2, 3, 4]), \n",
    "                   yticklabels=enc.inverse_transform([0, 1, 2, 3, 4]))\n",
    "        plt.title('CNN1: '+str(rec_cnn))\n",
    "    \n",
    "    if cnn2 is not None:\n",
    "        yhat_cnn2 = np.argmax(cnn2.predict(np.expand_dims(X_test, axis=1)), axis=1)\n",
    "        rec_cnn2 = mt.recall_score(y_test,yhat_cnn2)\n",
    "        plt.subplot(1,3,3)\n",
    "        cm = mt.confusion_matrix(y_test,yhat_cnn2)\n",
    "        cm = cm/np.sum(cm,axis=1)[:,np.newaxis]\n",
    "        sns.heatmap(cm, annot=True, fmt='.2f', xticklabels=enc.inverse_transform([0, 1, 2, 3, 4]), \n",
    "                   yticklabels=enc.inverse_transform([0, 1, 2, 3, 4]))\n",
    "        plt.title('CNN2: '+str(rec_cnn2))\n",
    "    \n",
    "    if mlp is not None:\n",
    "        yhat_mlp = np.argmax(mlp.predict(X_test), axis=1)\n",
    "        rec_mlp = mt.accuracy_score(y_test,yhat_mlp)\n",
    "        plt.subplot(1,3,1)\n",
    "        cm = mt.confusion_matrix(y_test,yhat_mlp)\n",
    "        cm = cm/np.sum(cm,axis=1)[:,np.newaxis]\n",
    "        sns.heatmap(cm,annot=True, fmt='.2f', xticklabels=enc.inverse_transform([0, 1, 2, 3, 4]), \n",
    "                   yticklabels=enc.inverse_transform([0, 1, 2, 3, 4]))\n",
    "        plt.title('MLP: '+str(rec_mlp))"
   ]
  },
  {
   "cell_type": "code",
   "execution_count": null,
   "metadata": {
    "collapsed": true
   },
   "outputs": [],
   "source": [
    "compare_mlp_cnn(cnn1, cnn2, mlp, X_test, y_test, enc)"
   ]
  },
  {
   "cell_type": "markdown",
   "metadata": {},
   "source": [
    "We can also look at the ROC curve for each architecture.  Again, we'll just use the last fold, but assuming that the standard deviation on the cross-validation is small it should give a fairly good estimation. "
   ]
  },
  {
   "cell_type": "code",
   "execution_count": null,
   "metadata": {
    "collapsed": true
   },
   "outputs": [],
   "source": [
    "from sklearn.metrics import roc_curve, auc\n",
    "perclass_mean_tpr = 0.0\n",
    "roc_auc = 0\n",
    "\n",
    "# we'll just grab a random 20 % of the samples\n",
    "idx = np.random.randint(0, len(X), size=int(len(X)/5))\n",
    "X_hm = X[idx]\n",
    "y_hm = y[idx]\n",
    "\n",
    "probas_mlp = mlp.predict_proba(X_hm)\n",
    "probas_cnn1 = cnn1.predict_proba(np.expand_dims(X_hm, axis=1))\n",
    "probas_cnn2 = cnn2.predict_proba(np.expand_dims(X_hm, axis=1))\n",
    "\n",
    "for probas in [probas_mlp, probas_cnn1]:\n",
    "    perclass_mean_tpr = 0.0\n",
    "    roc_auc = 0\n",
    "    classes = np.unique(y_test)\n",
    "    # get the mean fpr and tpr, per class\n",
    "    for j in classes:\n",
    "        fpr, tpr, thresholds = roc_curve(y_hm,\n",
    "                                         probas[:, j],\n",
    "                                         pos_label=j)\n",
    "        perclass_mean_tpr += interp(mean_fpr, fpr, tpr)\n",
    "        perclass_mean_tpr[0] = 0.0\n",
    "        roc_auc += auc(fpr, tpr)\n",
    "\n",
    "    perclass_mean_tpr /= len(classes)\n",
    "    roc_auc /= len(classes)\n",
    "    mean_tpr += perclass_mean_tpr\n",
    "    plt.plot(mean_fpr,perclass_mean_tpr,lw=2,label = 'Mean Class ROC: MLP (area = %0.2f)'\n",
    "                   % (roc_auc))\n",
    "    \n",
    "plt.legend(loc='best')\n",
    "plt.grid()"
   ]
  }
 ],
 "metadata": {
  "kernelspec": {
   "display_name": "Python [default]",
   "language": "python",
   "name": "python3"
  },
  "language_info": {
   "codemirror_mode": {
    "name": "ipython",
    "version": 3
   },
   "file_extension": ".py",
   "mimetype": "text/x-python",
   "name": "python",
   "nbconvert_exporter": "python",
   "pygments_lexer": "ipython3",
   "version": "3.6.3"
  }
 },
 "nbformat": 4,
 "nbformat_minor": 2
}
