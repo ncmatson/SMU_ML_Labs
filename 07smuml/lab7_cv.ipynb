{
 "cells": [
  {
   "cell_type": "markdown",
   "metadata": {},
   "source": [
    "Zihao Mao\n",
    "\n",
    "Cameron Matson\n",
    "\n",
    "9/22/2017\n",
    "\n",
    "# Lab 7: CNN\n",
    "\n",
    "## Introduction\n",
    "\n",
    "For this lab we examine the images of the Stanford Dog Dataset.  The dataset consits of ~20,000 images of dogs from 120 different breeds.\n",
    "\n",
    "#### Issues\n",
    "The dataset is primarily used for fine-grained classification problems, meaning that the instances are all members of the same main class and are divided by subclass.  In this case, the main class is 'Dog' and the subclass is the breed: 'Beagle', 'Poodle', 'Lab'...  These are potentially more difficult than standard classification problems because in theory all members of teh main class should at least share similar features.  In other words as the saying goes \"a dog is a dog is a dog not a cat.\"\n",
    "\n",
    "Another challenge with this dataset is that there is that they do not depict a standard scene.  These are not faces of dogs.  These are not photoshoot photos of dogs.  The images in the dataset are not even exclusively of dogs.  Some contain multiple dogs or even people.  The dataset would benefit from preprocessing in the form of some sort of standardization such that all the images are of the same kind, using facial detection for instance.\n",
    "\n",
    "#### Uses\n",
    "Some possible uses of this type of classification: maybe a city or some other community has had a problem recently with a particular breed of dog acting violently towards humans, this system could be used on video footage (from a source like street cameras) in an attempt to identify areas where these dogs are.  Another use could be by the American Kennel Club in order to help them identify dog breeds when registering dogs without previous paperwork.  Maybe the could use the system as a preliminary step to shrink down the number of applications.  Or maybe there is an online marketplace for person to person pet sales that wants to ensure that the sellers are reliably posting the breeds that the claim.\n",
    "\n",
    "#### Metric\n",
    "In both of the cases above a high level of accuracy would be required for it to replace a human classifier.  People, especially ones who work in Animal Control or for the AKC are likely to be pretty good at identifying dogs.  Therefore to make the system as useful as possible we'd like it to have as low a false negative rate as possible, this way the human user would only be tasked with identifying false positives.  Therefore we will use recall as our metric, specifically the micro-averaged recall, because we're particularly concerned with minimizing the number of false negatives for each class."
   ]
  },
  {
   "cell_type": "code",
   "execution_count": 25,
   "metadata": {
    "collapsed": true
   },
   "outputs": [],
   "source": [
    "import numpy as np\n",
    "import os\n",
    "import matplotlib.pyplot as plt\n",
    "from scipy.misc import imresize\n",
    "from skimage.color import rgb2gray\n",
    "%matplotlib inline\n",
    "# for zihao\n",
    "#imagedir = '../img_data/dogs/Images'\n",
    "# for cameron\n",
    "imagedir = '../../data/dogs'"
   ]
  },
  {
   "cell_type": "code",
   "execution_count": 26,
   "metadata": {},
   "outputs": [
    {
     "data": {
      "text/plain": [
       "'2.0.8'"
      ]
     },
     "execution_count": 26,
     "metadata": {},
     "output_type": "execute_result"
    }
   ],
   "source": [
    "import keras\n",
    "from keras.models import Sequential\n",
    "from keras.layers import Reshape\n",
    "from keras.layers import Dense, Dropout, Activation, Flatten\n",
    "from keras.layers import Conv2D, MaxPooling2D\n",
    "from keras.layers import average \n",
    "from keras.models import Input, Model\n",
    "from keras.regularizers import l2\n",
    "\n",
    "from sklearn import datasets, metrics\n",
    "from sklearn.model_selection import train_test_split, StratifiedKFold\n",
    "from sklearn import metrics as mt\n",
    "\n",
    "import numpy as np\n",
    "\n",
    "keras.__version__"
   ]
  },
  {
   "cell_type": "markdown",
   "metadata": {},
   "source": [
    "## Data Preprocessing\n",
    "\n",
    "There are 120 different breeds included in the dataset with bout 150 images of each breed for a total of 20,580 images.  The images are stored in directories by breed.  To make the size of the dataset more managable, we're only going to select 5 particular breeds."
   ]
  },
  {
   "cell_type": "code",
   "execution_count": 27,
   "metadata": {},
   "outputs": [],
   "source": [
    "# remove dsstore\n",
    "for d in os.listdir(imagedir):\n",
    "    if d.find('.DS') != -1:\n",
    "        os.remove(os.path.join(imagedir,d))\n",
    "        continue\n",
    "    for f in os.listdir(os.path.join(imagedir, d)):\n",
    "        if f.find('.DS') != -1:\n",
    "            os.remove(os.path.join(imagedir,d,f))\n",
    "    "
   ]
  },
  {
   "cell_type": "code",
   "execution_count": 28,
   "metadata": {
    "collapsed": true
   },
   "outputs": [],
   "source": [
    "def load_images(num_classes, h, w):\n",
    "    \n",
    "    # preinitialize the matrix\n",
    "    #img_arr = np.empty((num_samples_per_breed*num_breeds,h*w))  # 20 instances of each breed, each img will be 200x200 = 40000 pixels\n",
    "    img_arr = []\n",
    "    label_arr = []\n",
    "    \n",
    "    # sample 60 breeds from the dataset\n",
    "    a = np.arange(len(os.listdir(imagedir)))\n",
    "    np.random.shuffle(a)\n",
    "    breed_sample_idxs = a[:num_classes]\n",
    "    for i, idx in enumerate(breed_sample_idxs):\n",
    "        breed = os.listdir(imagedir)[idx]\n",
    "        if breed[0] == '.' : \n",
    "            continue # stupid ds.store on mac\n",
    "        print(i,breed)\n",
    "        \n",
    "        for img in os.listdir(os.path.join(imagedir, breed)):\n",
    "            dog_path = os.path.join(imagedir,breed,img)            \n",
    "\n",
    "            img = plt.imread(dog_path)\n",
    "            \n",
    "            # converts image to gray, resizes it to be 200x200, and then linearizes it\n",
    "            img_gray_resize_flat = rgb2gray(imresize(img, (h,w,3))).flatten()\n",
    "                        \n",
    "            img_arr.append(img_gray_resize_flat)\n",
    "\n",
    "            # add name to list of labels\n",
    "            fname = dog_path.split('/')[-1] # 'dog_name_123497.jpg'\n",
    "            dog_name = fname[:fname.rfind('_')] # 'dog_name'\n",
    "            label_arr.append(breed)\n",
    "            \n",
    "    return img_arr, label_arr"
   ]
  },
  {
   "cell_type": "code",
   "execution_count": 29,
   "metadata": {
    "scrolled": false
   },
   "outputs": [
    {
     "name": "stdout",
     "output_type": "stream",
     "text": [
      "0 Blenheim_spaniel\n",
      "1 Gordon_setter\n",
      "2 schipperke\n",
      "3 borzoi\n",
      "4 golden_retriever\n",
      "796\n",
      "Wall time: 6.39 s\n"
     ]
    }
   ],
   "source": [
    "%%time\n",
    "num_breeds = 5\n",
    "h=128\n",
    "w=128\n",
    "\n",
    "dogs, labels = load_images(num_classes=num_breeds, h=h, w=w)\n",
    "print(len(dogs))"
   ]
  },
  {
   "cell_type": "code",
   "execution_count": 30,
   "metadata": {
    "collapsed": true,
    "scrolled": true
   },
   "outputs": [],
   "source": [
    "import pandas as pd\n",
    "from sklearn.preprocessing import LabelEncoder\n",
    "\n",
    "df= pd.DataFrame(dogs)\n",
    "\n",
    "X = np.array(dogs)\n",
    "\n",
    "enc = LabelEncoder()\n",
    "y = enc.fit_transform(labels)\n",
    "\n",
    "#X_train, X_test, y_train, y_test = train_test_split(X, y, test_size=0.2)\n",
    "#y_train_ohe = keras.utils.to_categorical(y_train, NUM_CLASSES)\n",
    "#y_test_ohe = keras.utils.to_categorical(y_test, NUM_CLASSES)"
   ]
  },
  {
   "cell_type": "code",
   "execution_count": 31,
   "metadata": {},
   "outputs": [
    {
     "data": {
      "image/png": "[encoded data removed]",
      "text/plain": [
       "<matplotlib.figure.Figure at 0x27abdeda9e8>"
      ]
     },
     "metadata": {},
     "output_type": "display_data"
    }
   ],
   "source": [
    "ex = dogs[0].reshape((h,w))\n",
    "plt.imshow(ex, cmap='gray')\n",
    "plt.title(labels[0])\n",
    "plt.show()"
   ]
  },
  {
   "cell_type": "markdown",
   "metadata": {},
   "source": [
    "Let's do a quick check of the distribution of breeds that we're using."
   ]
  },
  {
   "cell_type": "code",
   "execution_count": 32,
   "metadata": {},
   "outputs": [
    {
     "data": {
      "image/png": "[encoded data removed]",
      "text/plain": [
       "<matplotlib.figure.Figure at 0x27aec14fba8>"
      ]
     },
     "metadata": {},
     "output_type": "display_data"
    }
   ],
   "source": [
    "plt.figure(figsize=(15, 5))\n",
    "plt.bar(list(set(y)), pd.Series(y).value_counts())\n",
    "plt.xticks(np.arange(5), enc.classes_)\n",
    "plt.show()"
   ]
  },
  {
   "cell_type": "markdown",
   "metadata": {},
   "source": [
    "As was stated previously the distribution betwewen classes is nearly uniform."
   ]
  },
  {
   "cell_type": "markdown",
   "metadata": {},
   "source": [
    "### Cross Validation Scheme\n",
    "\n",
    "Since these networks take SOO long to train and we don't have that much data, we're  going to use a 3-fold cross-validation set up.  K-fold because we can't afford to not train on all of thee data, and 3 folds so we can finish on time.  We'll also use stratified folds to be safe even though our breed distribution is pretty uniform.  After we train the 3 models we'll be able to look at the average performance to get a sense of how the model might perform once deployed.\n",
    "\n",
    "First we'll define 3 functions to perform three different architectures, a regular MLP, a basic CNN (a few convolutions followed by a few dense layers), and an Ensemble Net style architecture."
   ]
  },
  {
   "cell_type": "code",
   "execution_count": 33,
   "metadata": {
    "collapsed": true
   },
   "outputs": [],
   "source": [
    "# some constants we'll need\n",
    "img_hw = 128\n",
    "img_wh = 128\n",
    "l2_lambda = 0.001"
   ]
  },
  {
   "cell_type": "markdown",
   "metadata": {},
   "source": [
    "## MLP"
   ]
  },
  {
   "cell_type": "code",
   "execution_count": 39,
   "metadata": {
    "collapsed": true,
    "scrolled": true
   },
   "outputs": [],
   "source": [
    "def do_mlp(X_train, y_train, X_test, y_test):\n",
    "    # make a 3 layer keras MLP\n",
    "    mlp = Sequential()\n",
    "    mlp.add( Dense(input_dim=X_train.shape[1], units=30, activation='relu') )\n",
    "    mlp.add( Dense(units=15, activation='relu') )\n",
    "    mlp.add( Dense(units=30, activation='relu') )\n",
    "    mlp.add( Dense(NUM_CLASSES) )\n",
    "    mlp.add( Activation('softmax') )\n",
    "\n",
    "    mlp.compile(loss='categorical_crossentropy',\n",
    "                  optimizer='rmsprop',\n",
    "                  metrics=['accuracy'])\n",
    "\n",
    "    mlp.fit(X_train, y_train, \n",
    "            batch_size=32, epochs=10, \n",
    "            shuffle=True, verbose=1)\n",
    "    \n",
    "    yhat_mlp = np.argmax(mlp.predict(X_test), axis=1)\n",
    "    \n",
    "    return mlp, mt.recall_score(y_test,yhat_mlp, average='micro')"
   ]
  },
  {
   "cell_type": "markdown",
   "metadata": {},
   "source": [
    "## cnn1: simple"
   ]
  },
  {
   "cell_type": "code",
   "execution_count": 40,
   "metadata": {
    "scrolled": true
   },
   "outputs": [],
   "source": [
    "def do_cnn1(X_train, y_train, X_test, y_test, y_test_ohe):\n",
    "    cnn_layers = [32, 16]\n",
    "\n",
    "    # make a CNN with conv layer and max pooling\n",
    "    cnn = Sequential()\n",
    "    cnn.add(Reshape((1, 128, 128), input_shape=(1,128*128)))\n",
    "\n",
    "    for n in cnn_layers:\n",
    "        cnn.add(Conv2D(filters=n, kernel_size= (3, 3), padding='same', input_shape=(1, h,w), data_format='channels_first'))\n",
    "        cnn.add(Activation('relu'))\n",
    "        cnn.add(MaxPooling2D(pool_size=(2, 2), data_format=\"channels_first\"))\n",
    "\n",
    "    # add one layer on flattened output\n",
    "    cnn.add(Dropout(0.25))\n",
    "    cnn.add(Flatten())\n",
    "\n",
    "    cnn.add(Dropout(0.25))\n",
    "    cnn.add(Dense(80))\n",
    "    cnn.add(Activation('relu'))\n",
    "\n",
    "    cnn.add(Dropout(0.50))\n",
    "    cnn.add(Dense(20))\n",
    "    cnn.add(Activation('relu'))\n",
    "\n",
    "\n",
    "    cnn.add(Dense(NUM_CLASSES))\n",
    "    cnn.add(Activation('softmax'))\n",
    "\n",
    "\n",
    "    # Let's train the model \n",
    "    cnn.compile(loss='categorical_crossentropy',\n",
    "                  optimizer='adam',\n",
    "                  metrics=['accuracy'])\n",
    "\n",
    "    # we need to exapnd the dimensions here to give the \n",
    "    #   \"channels\" dimension expected by Keras\n",
    "    cnn.fit(np.expand_dims(X_train, axis = 1), y_train, \n",
    "            batch_size=32, epochs=1,\n",
    "            validation_data=((np.expand_dims(X_test, axis=1), y_test_ohe)),\n",
    "            shuffle=True, verbose=1)\n",
    "    \n",
    "    yhat_cnn = np.argmax(cnn.predict(np.expand_dims(X_test, axis=1)), axis=1)\n",
    "    \n",
    "    rec = mt.recall_score(y_pred=yhat_cnn, y_true=y_test, average='micro')\n",
    "    return cnn, rec"
   ]
  },
  {
   "cell_type": "markdown",
   "metadata": {},
   "source": [
    "## cnn2:  Ensemble Net"
   ]
  },
  {
   "cell_type": "code",
   "execution_count": 41,
   "metadata": {
    "collapsed": true
   },
   "outputs": [],
   "source": [
    "def do_ensemble(X_train, y_train, X_test, y_test):\n",
    "\n",
    "\n",
    "    num_ensembles = 3\n",
    "\n",
    "    input_holder = Input(shape=(img_wh, img_wh, 1))\n",
    "\n",
    "    branches = []\n",
    "    for _ in range(num_ensembles):\n",
    "\n",
    "        conv1 = Conv2D(filters=32,\n",
    "                       input_shape = (img_wh,img_wh,1),\n",
    "                       kernel_size=(3,3),\n",
    "                       kernel_initializer='he_uniform', \n",
    "                       kernel_regularizer=l2(l2_lambda),\n",
    "                       padding='same', \n",
    "                       activation='relu',data_format=\"channels_last\")(input_holder)\n",
    "\n",
    "        max1 = MaxPooling2D(pool_size=(2, 2), data_format=\"channels_last\")(conv1)\n",
    "\n",
    "        conv2 = Conv2D(filters=32,\n",
    "                       kernel_size=(3,3),\n",
    "                       kernel_initializer='he_uniform', \n",
    "                       kernel_regularizer=l2(l2_lambda),\n",
    "                       padding='same', \n",
    "                       activation='relu',data_format=\"channels_last\")(max1)\n",
    "\n",
    "        max2 = MaxPooling2D(pool_size=(2, 2), data_format=\"channels_last\")(conv2)\n",
    "\n",
    "\n",
    "        # add one layer on flattened output\n",
    "        drop1 = Dropout(0.25)(max2) # add some dropout for regularization after conv layers\n",
    "        flat1 = Flatten()(drop1)\n",
    "        dense1 = Dense(128, \n",
    "                      activation='relu',\n",
    "                      kernel_initializer='he_uniform',\n",
    "                      kernel_regularizer=l2(l2_lambda)\n",
    "                    )(flat1)\n",
    "        drop2 = Dropout(0.5)(dense1) # add some dropout for regularization, again!\n",
    "        dense2 = Dense(NUM_CLASSES, \n",
    "                      activation='sigmoid', \n",
    "                      kernel_initializer='glorot_uniform',\n",
    "                      kernel_regularizer=l2(l2_lambda)\n",
    "                     )(drop2)\n",
    "\n",
    "        # now add this branch onto the master list\n",
    "        branches.append(dense2)\n",
    "\n",
    "    # that's it, we just need to average the results\n",
    "    ave = average(branches)\n",
    "\n",
    "    # here is the secret sauce for setting the network using the \n",
    "    #   Model API:\n",
    "    cnn_ens = Model(inputs=input_holder,outputs=ave)\n",
    "\n",
    "    # Let's train the model \n",
    "    cnn_ens.compile(loss='categorical_crossentropy', # 'categorical_crossentropy' 'mean_squared_error'\n",
    "                    optimizer='rmsprop', # 'adadelta' 'rmsprop'\n",
    "                    metrics=['accuracy'])\n",
    "    X_train = np.expand_dims(X_train.reshape(-1,img_hw,img_hw), axis=3)\n",
    "    X_test = np.expand_dims(X_test.reshape(-1,img_hw,img_hw), axis=3)\n",
    "    # the flow method yields batches of images indefinitely, with the given transofmrations\n",
    "    cnn_ens.fit(X_train, y_train, \n",
    "            batch_size=32, epochs=20,\n",
    "            shuffle=True, verbose=1)\n",
    "    yhat = np.argmax(cnn_ens.predict(X_test), axis=1)\n",
    "    rec = mt.recall_score(y_test,yhat, average='micro')\n",
    "    \n",
    "    return cnn_ens, rec"
   ]
  },
  {
   "cell_type": "markdown",
   "metadata": {},
   "source": [
    "And now for the loop..."
   ]
  },
  {
   "cell_type": "code",
   "execution_count": 44,
   "metadata": {
    "scrolled": true
   },
   "outputs": [
    {
     "name": "stdout",
     "output_type": "stream",
     "text": [
      "training cnn 1\n",
      "Train on 529 samples, validate on 267 samples\n",
      "Epoch 1/1\n",
      "529/529 [==============================] - 49s - loss: 1.6343 - acc: 0.2117 - val_loss: 1.6017 - val_acc: 0.2434\n",
      "cnn1 recall score:  0.243445692884\n",
      "training mlp\n",
      "Epoch 1/10\n",
      "529/529 [==============================] - 0s - loss: 3.0583 - acc: 0.2268     \n",
      "Epoch 2/10\n",
      "529/529 [==============================] - 0s - loss: 1.9486 - acc: 0.2968     \n",
      "Epoch 3/10\n",
      "529/529 [==============================] - 0s - loss: 1.5426 - acc: 0.3251     \n",
      "Epoch 4/10\n",
      "529/529 [==============================] - 0s - loss: 1.4518 - acc: 0.3176     \n",
      "Epoch 5/10\n",
      "529/529 [==============================] - 0s - loss: 1.4738 - acc: 0.3554     \n",
      "Epoch 6/10\n",
      "529/529 [==============================] - 0s - loss: 1.3803 - acc: 0.3629     \n",
      "Epoch 7/10\n",
      "529/529 [==============================] - 0s - loss: 1.3520 - acc: 0.3762     \n",
      "Epoch 8/10\n",
      "529/529 [==============================] - 0s - loss: 1.2847 - acc: 0.4102     \n",
      "Epoch 9/10\n",
      "529/529 [==============================] - 0s - loss: 1.3782 - acc: 0.3894     \n",
      "Epoch 10/10\n",
      "529/529 [==============================] - 0s - loss: 1.2790 - acc: 0.4045     \n",
      "mlp recall score:  0.374531835206\n",
      "training cnn 1\n",
      "Train on 531 samples, validate on 265 samples\n",
      "Epoch 1/1\n",
      "531/531 [==============================] - 50s - loss: 1.6125 - acc: 0.2147 - val_loss: 1.5802 - val_acc: 0.3245\n",
      "cnn1 recall score:  0.324528301887\n",
      "training mlp\n",
      "Epoch 1/10\n",
      "531/531 [==============================] - 0s - loss: 2.2608 - acc: 0.2542     \n",
      "Epoch 2/10\n",
      "531/531 [==============================] - 0s - loss: 1.5323 - acc: 0.3239     \n",
      "Epoch 3/10\n",
      "531/531 [==============================] - 0s - loss: 1.4813 - acc: 0.3522     \n",
      "Epoch 4/10\n",
      "531/531 [==============================] - 0s - loss: 1.4541 - acc: 0.3446     \n",
      "Epoch 5/10\n",
      "531/531 [==============================] - 0s - loss: 1.4251 - acc: 0.3804     \n",
      "Epoch 6/10\n",
      "531/531 [==============================] - 0s - loss: 1.4088 - acc: 0.3748     \n",
      "Epoch 7/10\n",
      "531/531 [==============================] - 0s - loss: 1.4059 - acc: 0.3578     \n",
      "Epoch 8/10\n",
      "531/531 [==============================] - 0s - loss: 1.3901 - acc: 0.3861     \n",
      "Epoch 9/10\n",
      "531/531 [==============================] - 0s - loss: 1.3600 - acc: 0.3861     \n",
      "Epoch 10/10\n",
      "531/531 [==============================] - 0s - loss: 1.3522 - acc: 0.3823     \n",
      "mlp recall score:  0.366037735849\n",
      "training cnn 1\n",
      "Train on 532 samples, validate on 264 samples\n",
      "Epoch 1/1\n",
      "532/532 [==============================] - 56s - loss: 1.6307 - acc: 0.2011 - val_loss: 1.6085 - val_acc: 0.2348\n",
      "cnn1 recall score:  0.234848484848\n",
      "training mlp\n",
      "Epoch 1/10\n",
      "532/532 [==============================] - 0s - loss: 3.3002 - acc: 0.2124     \n",
      "Epoch 2/10\n",
      "532/532 [==============================] - 0s - loss: 1.6848 - acc: 0.2970     \n",
      "Epoch 3/10\n",
      "532/532 [==============================] - 0s - loss: 1.6068 - acc: 0.2744     \n",
      "Epoch 4/10\n",
      "532/532 [==============================] - 0s - loss: 1.5598 - acc: 0.2857     \n",
      "Epoch 5/10\n",
      "532/532 [==============================] - 0s - loss: 1.5950 - acc: 0.2989     \n",
      "Epoch 6/10\n",
      "532/532 [==============================] - 0s - loss: 1.5163 - acc: 0.3252     \n",
      "Epoch 7/10\n",
      "532/532 [==============================] - 0s - loss: 1.4920 - acc: 0.2970     \n",
      "Epoch 8/10\n",
      "532/532 [==============================] - 0s - loss: 1.4359 - acc: 0.3271     \n",
      "Epoch 9/10\n",
      "532/532 [==============================] - 0s - loss: 1.3863 - acc: 0.3628     \n",
      "Epoch 10/10\n",
      "532/532 [==============================] - 0s - loss: 1.3517 - acc: 0.3759     \n",
      "mlp recall score:  0.356060606061\n"
     ]
    }
   ],
   "source": [
    "from sklearn import datasets, metrics\n",
    "from sklearn.model_selection import train_test_split, StratifiedKFold\n",
    "\n",
    "N_SPLITS = 3\n",
    "N_CLASSES = 5\n",
    "\n",
    "cnn1_rec = []\n",
    "cnn2_rec = []\n",
    "mlp_rec = []\n",
    "\n",
    "skf = StratifiedKFold(n_splits=N_SPLITS, random_state=0, shuffle=False)\n",
    "for train, test in skf.split(X, y):\n",
    "    # split up the data\n",
    "    X_train = X[train]\n",
    "    y_train = y[train]\n",
    "    \n",
    "    X_test = X[test]\n",
    "    y_test = y[test]\n",
    "    \n",
    "    y_train_ohe = keras.utils.to_categorical(y_train, NUM_CLASSES)\n",
    "    y_test_ohe = keras.utils.to_categorical(y_test, NUM_CLASSES)\n",
    "    \n",
    "    # architecture 1\n",
    "    print('\\ntraining cnn 1')\n",
    "    cnn1, cnn1_result = do_cnn1(X_train, y_train_ohe, X_test, y_test, y_test_ohe)\n",
    "    cnn1_rec.append(cnn1_result)\n",
    "    print('cnn1 recall score: ', cnn1_result)\n",
    "    \n",
    "    # architecture 2\n",
    "    #print('\\ntraining cnn 2')\n",
    "    #cnn2, cnn2_result = do_ensemble(X_test=X_test, X_train=X_train, y_test=y_test, y_train=y_train_ohe)\n",
    "    #cnn2_rec.append(cnn2_result)\n",
    "    #print('cnn2 recall score: ', cnn2_result)\n",
    "        \n",
    "    # MLP\n",
    "    print('\\ntraining mlp')\n",
    "    mlp, mlp_result = do_mlp(X_train, y_train_ohe, X_test, y_test)\n",
    "    mlp_rec.append(mlp_result)\n",
    "    print('mlp recall score: ', mlp_result)\n"
   ]
  },
  {
   "cell_type": "markdown",
   "metadata": {},
   "source": [
    "## so how did it do....\n",
    "\n",
    "Below are the general statistics from the cross validation"
   ]
  },
  {
   "cell_type": "code",
   "execution_count": 45,
   "metadata": {},
   "outputs": [
    {
     "name": "stdout",
     "output_type": "stream",
     "text": [
      "stats:\n",
      "******\n",
      "mlp: 0.365543392372 +- 0.00754894509807\n",
      "cnn1: 0.267607493206 +- 0.0404018303391\n"
     ]
    }
   ],
   "source": [
    "print('stats:')\n",
    "print('*'*6)\n",
    "print('mlp:', np.mean(mlp_rec), '+-', np.std(mlp_rec))\n",
    "print('cnn1:', np.mean(cnn1_rec), '+-', np.std(cnn1_rec))\n",
    "#print('cnn2:', np.mean(cnn2_rec), '+-', np.std(cnn2_rec))"
   ]
  },
  {
   "cell_type": "markdown",
   "metadata": {},
   "source": [
    "We can also look at the confusion matrix for the final instance of each of the architecture's"
   ]
  },
  {
   "cell_type": "code",
   "execution_count": 50,
   "metadata": {
    "collapsed": true
   },
   "outputs": [],
   "source": [
    "from sklearn import metrics as mt\n",
    "from matplotlib import pyplot as plt\n",
    "import seaborn as sns\n",
    "%matplotlib inline\n",
    "\n",
    "def compare_mlp_cnn(cnn1, cnn2, mlp, X_test, y_test, enc):\n",
    "    plt.figure(figsize=(20,5))\n",
    "    if cnn1 is not None:\n",
    "        yhat_cnn1 = np.argmax(cnn1.predict(np.expand_dims(X_test, axis=1)), axis=1)\n",
    "        rec_cnn1 = mt.recall_score(y_test,yhat_cnn1, average='micro')\n",
    "        plt.subplot(1,3,2)\n",
    "        cm = mt.confusion_matrix(y_test,yhat_cnn1)\n",
    "        cm = cm/np.sum(cm,axis=1)[:,np.newaxis]\n",
    "        sns.heatmap(cm, annot=True, fmt='.2f', xticklabels=enc.inverse_transform([0, 1, 2, 3, 4]), \n",
    "                   yticklabels=enc.inverse_transform([0, 1, 2, 3, 4]))\n",
    "        plt.title('CNN1: '+str(rec_cnn1))\n",
    "    \n",
    "    if cnn2 is not None:\n",
    "        yhat_cnn2 = np.argmax(cnn2.predict(np.expand_dims(X_test, axis=1)), axis=1)\n",
    "        rec_cnn2 = mt.recall_score(y_test,yhat_cnn2, average='micro')\n",
    "        plt.subplot(1,3,3)\n",
    "        cm = mt.confusion_matrix(y_test,yhat_cnn2)\n",
    "        cm = cm/np.sum(cm,axis=1)[:,np.newaxis]\n",
    "        sns.heatmap(cm, annot=True, fmt='.2f', xticklabels=enc.inverse_transform([0, 1, 2, 3, 4]), \n",
    "                   yticklabels=enc.inverse_transform([0, 1, 2, 3, 4]))\n",
    "        plt.title('CNN2: '+str(rec_cnn2))\n",
    "    \n",
    "    if mlp is not None:\n",
    "        yhat_mlp = np.argmax(mlp.predict(X_test), axis=1)\n",
    "        rec_mlp = mt.recall_score(y_test,yhat_mlp, average='micro')\n",
    "        plt.subplot(1,3,1)\n",
    "        cm = mt.confusion_matrix(y_test,yhat_mlp)\n",
    "        cm = cm/np.sum(cm,axis=1)[:,np.newaxis]\n",
    "        sns.heatmap(cm,annot=True, fmt='.2f', xticklabels=enc.inverse_transform([0, 1, 2, 3, 4]), \n",
    "                   yticklabels=enc.inverse_transform([0, 1, 2, 3, 4]))\n",
    "        plt.title('MLP: '+str(rec_mlp))"
   ]
  },
  {
   "cell_type": "code",
   "execution_count": 51,
   "metadata": {},
   "outputs": [
    {
     "data": {
      "image/png": "[encoded data removed]",
      "text/plain": [
       "<matplotlib.figure.Figure at 0x27a98181e80>"
      ]
     },
     "metadata": {},
     "output_type": "display_data"
    }
   ],
   "source": [
    "#compare_mlp_cnn(cnn1, cnn2, mlp, X_test, y_test, enc)\n",
    "compare_mlp_cnn(cnn1, None, mlp, X_test, y_test, enc)"
   ]
  },
  {
   "cell_type": "markdown",
   "metadata": {},
   "source": [
    "We can also look at the ROC curve for each architecture.  Again, we'll just use the last fold, but assuming that the standard deviation on the cross-validation is small it should give a fairly good estimation. "
   ]
  },
  {
   "cell_type": "code",
   "execution_count": 58,
   "metadata": {},
   "outputs": [
    {
     "name": "stdout",
     "output_type": "stream",
     "text": [
      "159/159 [==============================] - 6s     \n"
     ]
    },
    {
     "data": {
      "image/png": "[encoded data removed]",
      "text/plain": [
       "<matplotlib.figure.Figure at 0x27a9858c7b8>"
      ]
     },
     "metadata": {},
     "output_type": "display_data"
    }
   ],
   "source": [
    "from sklearn.metrics import roc_curve, auc\n",
    "from scipy import interp\n",
    "\n",
    "perclass_mean_tpr = 0.0\n",
    "roc_auc = 0\n",
    "\n",
    "# we'll just grab a random 20 % of the samples\n",
    "idx = np.random.randint(0, len(X), size=int(len(X)/5))\n",
    "X_hm = X[idx]\n",
    "y_hm = y[idx]\n",
    "\n",
    "probas_mlp = mlp.predict_proba(X_hm)\n",
    "probas_cnn1 = cnn1.predict_proba(np.expand_dims(X_hm, axis=1))\n",
    "#probas_cnn2 = cnn2.predict_proba(np.expand_dims(X_hm, axis=1))\n",
    "\n",
    "mean_tpr = 0.0\n",
    "mean_fpr = np.linspace(0, 1, 100)\n",
    "\n",
    "#for arch in ['mlp', 'cnn1', 'cnn2']:\n",
    "for arch in ['mlp', 'cnn1']:\n",
    "    probas = eval('probas_'+arch)\n",
    "    perclass_mean_tpr = 0.0\n",
    "    roc_auc = 0\n",
    "    classes = np.unique(y_test)\n",
    "    # get the mean fpr and tpr, per class\n",
    "    for j in classes:\n",
    "        fpr, tpr, thresholds = roc_curve(y_hm,\n",
    "                                         probas[:, j],\n",
    "                                         pos_label=j)\n",
    "        perclass_mean_tpr += interp(mean_fpr, fpr, tpr)\n",
    "        perclass_mean_tpr[0] = 0.0\n",
    "        roc_auc += auc(fpr, tpr)\n",
    "\n",
    "    perclass_mean_tpr /= len(classes)\n",
    "    roc_auc /= len(classes)\n",
    "    mean_tpr += perclass_mean_tpr\n",
    "    plt.plot(mean_fpr,perclass_mean_tpr,lw=2,label = 'Mean Class ROC: %s (area = %0.2f)'\n",
    "                   % (arch, roc_auc))\n",
    "    \n",
    "plt.legend(loc='best')\n",
    "plt.grid()"
   ]
  },
  {
   "cell_type": "markdown",
   "metadata": {},
   "source": [
    "## With more data\n",
    "\n",
    "Now we'll us"
   ]
  }
 ],
 "metadata": {
  "kernelspec": {
   "display_name": "Python [default]",
   "language": "python",
   "name": "python3"
  },
  "language_info": {
   "codemirror_mode": {
    "name": "ipython",
    "version": 3
   },
   "file_extension": ".py",
   "mimetype": "text/x-python",
   "name": "python",
   "nbconvert_exporter": "python",
   "pygments_lexer": "ipython3",
   "version": "3.6.3"
  }
 },
 "nbformat": 4,
 "nbformat_minor": 2
}
