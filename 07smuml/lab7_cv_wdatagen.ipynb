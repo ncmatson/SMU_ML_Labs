{
 "cells": [
  {
   "cell_type": "markdown",
   "metadata": {},
   "source": [
    "Zihao Mao\n",
    "\n",
    "Cameron Matson\n",
    "\n",
    "9/22/2017\n",
    "\n",
    "# Lab 7: CNN\n",
    "\n",
    "## Introduction\n",
    "\n",
    "For this lab we examine the images of the Stanford Dog Dataset.  The dataset consits of ~20,000 images of dogs from 120 different breeds.\n",
    "\n",
    "#### Issues\n",
    "The dataset is primarily used for fine-grained classification problems, meaning that the instances are all members of the same main class and are divided by subclass.  In this case, the main class is 'Dog' and the subclass is the breed: 'Beagle', 'Poodle', 'Lab'...  These are potentially more difficult than standard classification problems because in theory all members of teh main class should at least share similar features.  In other words as the saying goes \"a dog is a dog is a dog not a cat.\"\n",
    "\n",
    "Another challenge with this dataset is that there is that they do not depict a standard scene.  These are not faces of dogs.  These are not photoshoot photos of dogs.  The images in the dataset are not even exclusively of dogs.  Some contain multiple dogs or even people.  The dataset would benefit from preprocessing in the form of some sort of standardization such that all the images are of the same kind, using facial detection for instance.\n",
    "\n",
    "#### Uses\n",
    "Some possible uses of this type of classification: maybe a city or some other community has had a problem recently with a particular breed of dog acting violently towards humans, this system could be used on video footage (from a source like street cameras) in an attempt to identify areas where these dogs are.  Another use could be by the American Kennel Club in order to help them identify dog breeds when registering dogs without previous paperwork.  Maybe the could use the system as a preliminary step to shrink down the number of applications.  Or maybe there is an online marketplace for person to person pet sales that wants to ensure that the sellers are reliably posting the breeds that the claim.\n",
    "\n",
    "#### Metric\n",
    "In both of the cases above a high level of accuracy would be required for it to replace a human classifier.  People, especially ones who work in Animal Control or for the AKC are likely to be pretty good at identifying dogs.  Therefore to make the system as useful as possible we'd like it to have as low a false negative rate as possible, this way the human user would only be tasked with identifying false positives.  Therefore we will use recall as our metric, specifically the micro-averaged recall, because we're particularly concerned with minimizing the number of false negatives for each class."
   ]
  },
  {
   "cell_type": "code",
   "execution_count": 2,
   "metadata": {
    "collapsed": true
   },
   "outputs": [],
   "source": [
    "import numpy as np\n",
    "import os\n",
    "import matplotlib.pyplot as plt\n",
    "from scipy.misc import imresize\n",
    "from skimage.color import rgb2gray\n",
    "%matplotlib inline\n",
    "# for zihao\n",
    "imagedir = '../img_data/Images'\n",
    "# for cameron\n",
    "#imagedir = '../../data/dogs'"
   ]
  },
  {
   "cell_type": "code",
   "execution_count": 3,
   "metadata": {},
   "outputs": [
    {
     "name": "stderr",
     "output_type": "stream",
     "text": [
      "Using TensorFlow backend.\n"
     ]
    },
    {
     "data": {
      "text/plain": [
       "'2.0.9'"
      ]
     },
     "execution_count": 3,
     "metadata": {},
     "output_type": "execute_result"
    }
   ],
   "source": [
    "import keras\n",
    "from keras.models import Sequential\n",
    "from keras.layers import Reshape\n",
    "from keras.layers import Dense, Dropout, Activation, Flatten\n",
    "from keras.layers import Conv2D, MaxPooling2D\n",
    "from keras.layers import average \n",
    "from keras.models import Input, Model\n",
    "from keras.regularizers import l2\n",
    "\n",
    "from sklearn import datasets, metrics\n",
    "from sklearn.model_selection import train_test_split, StratifiedKFold\n",
    "from sklearn import metrics as mt\n",
    "\n",
    "import numpy as np\n",
    "\n",
    "keras.__version__"
   ]
  },
  {
   "cell_type": "markdown",
   "metadata": {},
   "source": [
    "## Data Preprocessing\n",
    "\n",
    "There are 120 different breeds included in the dataset with bout 150 images of each breed for a total of 20,580 images.  The images are stored in directories by breed.  To make the size of the dataset more managable, we're only going to select 5 particular breeds."
   ]
  },
  {
   "cell_type": "code",
   "execution_count": 4,
   "metadata": {},
   "outputs": [],
   "source": [
    "# remove dsstore\n",
    "for d in os.listdir(imagedir):\n",
    "    if d.find('.DS') != -1:\n",
    "        os.remove(os.path.join(imagedir,d))\n",
    "        continue\n",
    "    for f in os.listdir(os.path.join(imagedir, d)):\n",
    "        if f.find('.DS') != -1:\n",
    "            os.remove(os.path.join(imagedir,d,f))\n",
    "    "
   ]
  },
  {
   "cell_type": "code",
   "execution_count": 5,
   "metadata": {
    "collapsed": true
   },
   "outputs": [],
   "source": [
    "def load_images(num_classes, h, w):\n",
    "    \n",
    "    # preinitialize the matrix\n",
    "    #img_arr = np.empty((num_samples_per_breed*num_breeds,h*w))  # 20 instances of each breed, each img will be 200x200 = 40000 pixels\n",
    "    img_arr = []\n",
    "    label_arr = []\n",
    "    \n",
    "    # sample 60 breeds from the dataset\n",
    "    a = np.arange(len(os.listdir(imagedir)))\n",
    "    np.random.shuffle(a)\n",
    "    breed_sample_idxs = a[:num_classes]\n",
    "    for i, idx in enumerate(breed_sample_idxs):\n",
    "        breed = os.listdir(imagedir)[idx]\n",
    "        if breed[0] == '.' : \n",
    "            continue # stupid ds.store on mac\n",
    "        print(i,breed)\n",
    "        \n",
    "        for img in os.listdir(os.path.join(imagedir, breed)):\n",
    "            dog_path = os.path.join(imagedir,breed,img)            \n",
    "\n",
    "            img = plt.imread(dog_path)\n",
    "            \n",
    "            # converts image to gray, resizes it to be 200x200, and then linearizes it\n",
    "            img_gray_resize_flat = rgb2gray(imresize(img, (h,w,3))).flatten()\n",
    "                        \n",
    "            img_arr.append(img_gray_resize_flat)\n",
    "\n",
    "            # add name to list of labels\n",
    "            fname = dog_path.split('/')[-1] # 'dog_name_123497.jpg'\n",
    "            dog_name = fname[:fname.rfind('_')] # 'dog_name'\n",
    "            label_arr.append(breed)\n",
    "            \n",
    "    return img_arr, label_arr"
   ]
  },
  {
   "cell_type": "code",
   "execution_count": 23,
   "metadata": {
    "scrolled": false
   },
   "outputs": [
    {
     "name": "stdout",
     "output_type": "stream",
     "text": [
      "0 clumber\n"
     ]
    },
    {
     "name": "stderr",
     "output_type": "stream",
     "text": [
      "C:\\Users\\leima\\AppData\\Local\\conda\\conda\\envs\\my_root\\lib\\site-packages\\ipykernel_launcher.py:24: DeprecationWarning: `imresize` is deprecated!\n",
      "`imresize` is deprecated in SciPy 1.0.0, and will be removed in 1.2.0.\n",
      "Use ``skimage.transform.resize`` instead.\n"
     ]
    },
    {
     "name": "stdout",
     "output_type": "stream",
     "text": [
      "1 English_setter\n",
      "2 chow\n",
      "3 bluetick\n",
      "4 Sussex_spaniel\n",
      "829\n",
      "Wall time: 7.01 s\n"
     ]
    }
   ],
   "source": [
    "%%time\n",
    "num_breeds = 5\n",
    "h=128\n",
    "w=128\n",
    "\n",
    "dogs, labels = load_images(num_classes=num_breeds, h=h, w=w)\n",
    "print(len(dogs))"
   ]
  },
  {
   "cell_type": "code",
   "execution_count": 24,
   "metadata": {
    "collapsed": true,
    "scrolled": true
   },
   "outputs": [],
   "source": [
    "import pandas as pd\n",
    "from sklearn.preprocessing import LabelEncoder\n",
    "\n",
    "df= pd.DataFrame(dogs)\n",
    "\n",
    "X = np.array(dogs)\n",
    "\n",
    "enc = LabelEncoder()\n",
    "y = enc.fit_transform(labels)\n",
    "\n"
   ]
  },
  {
   "cell_type": "code",
   "execution_count": 8,
   "metadata": {},
   "outputs": [
    {
     "data": {
      "image/png": "[encoded data removed]",
      "text/plain": [
       "<matplotlib.figure.Figure at 0x22146db0cc0>"
      ]
     },
     "metadata": {},
     "output_type": "display_data"
    }
   ],
   "source": [
    "ex = dogs[0].reshape((h,w))\n",
    "plt.imshow(ex, cmap='gray')\n",
    "plt.title(labels[0])\n",
    "plt.show()"
   ]
  },
  {
   "cell_type": "markdown",
   "metadata": {},
   "source": [
    "Let's do a quick check of the distribution of breeds that we're using."
   ]
  },
  {
   "cell_type": "code",
   "execution_count": 9,
   "metadata": {},
   "outputs": [
    {
     "data": {
      "image/png": "[encoded data removed]",
      "text/plain": [
       "<matplotlib.figure.Figure at 0x22148e054e0>"
      ]
     },
     "metadata": {},
     "output_type": "display_data"
    }
   ],
   "source": [
    "plt.figure(figsize=(15, 5))\n",
    "plt.bar(list(set(y)), pd.Series(y).value_counts())\n",
    "plt.xticks(np.arange(5), enc.classes_)\n",
    "plt.show()"
   ]
  },
  {
   "cell_type": "markdown",
   "metadata": {},
   "source": [
    "As was stated previously the distribution betwewen classes is nearly uniform."
   ]
  },
  {
   "cell_type": "markdown",
   "metadata": {},
   "source": [
    "### Cross Validation Scheme\n",
    "\n",
    "Since these networks take SOO long to train and we don't have that much data, we're  going to use a 3-fold cross-validation set up.  K-fold because we can't afford to not train on all of thee data, and 3 folds so we can finish on time.  We'll also use stratified folds to be safe even though our breed distribution is pretty uniform.  After we train the 3 models we'll be able to look at the average performance to get a sense of how the model might perform once deployed.\n",
    "\n",
    "First we'll define 3 functions to perform three different architectures, a regular MLP, a basic CNN (a few convolutions followed by a few dense layers), and an Ensemble Net style architecture."
   ]
  },
  {
   "cell_type": "code",
   "execution_count": 10,
   "metadata": {
    "collapsed": true
   },
   "outputs": [],
   "source": [
    "# some constants we'll need\n",
    "img_hw = 128\n",
    "img_wh = 128\n",
    "l2_lambda = 0.001"
   ]
  },
  {
   "cell_type": "markdown",
   "metadata": {},
   "source": [
    "## MLP"
   ]
  },
  {
   "cell_type": "code",
   "execution_count": 18,
   "metadata": {
    "collapsed": true,
    "scrolled": true
   },
   "outputs": [],
   "source": [
    "def do_mlp(X_train, y_train, X_test, y_test):\n",
    "    # make a 3 layer keras MLP\n",
    "    mlp = Sequential()\n",
    "    mlp.add( Dense(input_dim=X_train.shape[1], units=30, activation='relu') )\n",
    "    mlp.add( Dense(units=15, activation='relu') )\n",
    "    mlp.add( Dense(units=30, activation='relu') )\n",
    "    mlp.add( Dense(NUM_CLASSES) )\n",
    "    mlp.add( Activation('softmax') )\n",
    "\n",
    "    mlp.compile(loss='mean_squared_error',\n",
    "                  optimizer='rmsprop',\n",
    "                  metrics=['accuracy'])\n",
    "\n",
    "    mlp.fit(X_train, y_train, \n",
    "            batch_size=32, epochs=100, \n",
    "            shuffle=True, verbose=1)\n",
    "    \n",
    "    yhat_mlp = np.argmax(mlp.predict(X_test), axis=1)\n",
    "    \n",
    "    return mlp, mt.recall_score(y_test,yhat_mlp, average='micro')"
   ]
  },
  {
   "cell_type": "markdown",
   "metadata": {},
   "source": [
    "## cnn1: simple"
   ]
  },
  {
   "cell_type": "code",
   "execution_count": 23,
   "metadata": {
    "collapsed": true,
    "scrolled": true
   },
   "outputs": [],
   "source": [
    "def do_cnn1(X_train, y_train, X_test, y_test, y_test_ohe):\n",
    "    cnn_layers = [32, 16]\n",
    "\n",
    "    # make a CNN with conv layer and max pooling\n",
    "    cnn = Sequential()\n",
    "    cnn.add(Reshape((1, 128, 128), input_shape=(1,128*128)))\n",
    "\n",
    "    for n in cnn_layers:\n",
    "        cnn.add(Conv2D(filters=n, kernel_size= (3, 3), padding='same', input_shape=(1, h,w), data_format='channels_first'))\n",
    "        cnn.add(Activation('relu'))\n",
    "        cnn.add(MaxPooling2D(pool_size=(2, 2), data_format=\"channels_first\"))\n",
    "\n",
    "    # add one layer on flattened output\n",
    "    cnn.add(Dropout(0.25))\n",
    "    cnn.add(Flatten())\n",
    "\n",
    "    cnn.add(Dropout(0.25))\n",
    "    cnn.add(Dense(80))\n",
    "    cnn.add(Activation('relu'))\n",
    "\n",
    "    cnn.add(Dropout(0.50))\n",
    "    cnn.add(Dense(20))\n",
    "    cnn.add(Activation('relu'))\n",
    "\n",
    "\n",
    "    cnn.add(Dense(NUM_CLASSES))\n",
    "    cnn.add(Activation('softmax'))\n",
    "\n",
    "\n",
    "    # Let's train the model \n",
    "    cnn.compile(loss='mean_squared_error',\n",
    "                  optimizer='rmsprop',\n",
    "                  metrics=['accuracy'])\n",
    "\n",
    "    # we need to exapnd the dimensions here to give the \n",
    "    #   \"channels\" dimension expected by Keras\n",
    "    cnn.fit(np.expand_dims(X_train, axis = 1), y_train, \n",
    "            batch_size=32, epochs=1,\n",
    "            validation_data=((np.expand_dims(X_test, axis=1), y_test_ohe)),\n",
    "            shuffle=True, verbose=1)\n",
    "    \n",
    "    yhat_cnn = np.argmax(cnn.predict(np.expand_dims(X_test, axis=1)), axis=1)\n",
    "    \n",
    "    rec = mt.recall_score(y_pred=yhat_cnn, y_true=y_test, average='micro')\n",
    "    return cnn, rec"
   ]
  },
  {
   "cell_type": "markdown",
   "metadata": {},
   "source": [
    "## cnn2:  Ensemble Net"
   ]
  },
  {
   "cell_type": "code",
   "execution_count": 20,
   "metadata": {
    "collapsed": true
   },
   "outputs": [],
   "source": [
    "def do_ensemble(X_train, y_train, X_test, y_test):\n",
    "\n",
    "\n",
    "    num_ensembles = 3\n",
    "\n",
    "    input_holder = Input(shape=(img_wh, img_wh, 1))\n",
    "\n",
    "    branches = []\n",
    "    for _ in range(num_ensembles):\n",
    "\n",
    "        conv1 = Conv2D(filters=32,\n",
    "                       input_shape = (img_wh,img_wh,1),\n",
    "                       kernel_size=(3,3),\n",
    "                       kernel_initializer='he_uniform', \n",
    "                       kernel_regularizer=l2(l2_lambda),\n",
    "                       padding='same', \n",
    "                       activation='relu',data_format=\"channels_last\")(input_holder)\n",
    "\n",
    "        max1 = MaxPooling2D(pool_size=(2, 2), data_format=\"channels_last\")(conv1)\n",
    "\n",
    "        conv2 = Conv2D(filters=32,\n",
    "                       kernel_size=(3,3),\n",
    "                       kernel_initializer='he_uniform', \n",
    "                       kernel_regularizer=l2(l2_lambda),\n",
    "                       padding='same', \n",
    "                       activation='relu',data_format=\"channels_last\")(max1)\n",
    "\n",
    "        max2 = MaxPooling2D(pool_size=(2, 2), data_format=\"channels_last\")(conv2)\n",
    "\n",
    "\n",
    "        # add one layer on flattened output\n",
    "        drop1 = Dropout(0.25)(max2) # add some dropout for regularization after conv layers\n",
    "        flat1 = Flatten()(drop1)\n",
    "        dense1 = Dense(128, \n",
    "                      activation='relu',\n",
    "                      kernel_initializer='he_uniform',\n",
    "                      kernel_regularizer=l2(l2_lambda)\n",
    "                    )(flat1)\n",
    "        drop2 = Dropout(0.5)(dense1) # add some dropout for regularization, again!\n",
    "        dense2 = Dense(NUM_CLASSES, \n",
    "                      activation='sigmoid', \n",
    "                      kernel_initializer='glorot_uniform',\n",
    "                      kernel_regularizer=l2(l2_lambda)\n",
    "                     )(drop2)\n",
    "\n",
    "        # now add this branch onto the master list\n",
    "        branches.append(dense2)\n",
    "\n",
    "    # that's it, we just need to average the results\n",
    "    ave = average(branches)\n",
    "\n",
    "    # here is the secret sauce for setting the network using the \n",
    "    #   Model API:\n",
    "    cnn_ens = Model(inputs=input_holder,outputs=ave)\n",
    "\n",
    "    # Let's train the model \n",
    "    cnn_ens.compile(loss='mean_squared_error', # 'categorical_crossentropy' 'mean_squared_error'\n",
    "                    optimizer='rmsprop', # 'adadelta' 'rmsprop'\n",
    "                    metrics=['accuracy'])\n",
    "    X_train = np.expand_dims(X_train.reshape(-1,img_hw,img_hw), axis=3)\n",
    "    X_test = np.expand_dims(X_test.reshape(-1,img_hw,img_hw), axis=3)\n",
    "    # the flow method yields batches of images indefinitely, with the given transofmrations\n",
    "    cnn_ens.fit(X_train, y_train, \n",
    "            batch_size=32, epochs=20,\n",
    "            shuffle=True, verbose=1)\n",
    "    yhat = np.argmax(cnn_ens.predict(X_test), axis=1)\n",
    "    rec = mt.recall_score(y_test,yhat, average='micro')\n",
    "    \n",
    "    return cnn_ens, rec"
   ]
  },
  {
   "cell_type": "markdown",
   "metadata": {},
   "source": [
    "And now for the loop..."
   ]
  },
  {
   "cell_type": "code",
   "execution_count": 25,
   "metadata": {
    "scrolled": true
   },
   "outputs": [
    {
     "name": "stdout",
     "output_type": "stream",
     "text": [
      "\n",
      "training cnn 1\n",
      "Train on 412 samples, validate on 415 samples\n",
      "Epoch 1/1\n",
      "412/412 [==============================] - 52s 127ms/step - loss: 0.1629 - acc: 0.2184 - val_loss: 0.1599 - val_acc: 0.2265\n",
      "cnn1 recall score:  0.226506024096\n",
      "\n",
      "training mlp\n",
      "Epoch 1/100\n",
      "412/412 [==============================] - 0s 1ms/step - loss: 0.2679 - acc: 0.1942\n",
      "Epoch 2/100\n",
      "412/412 [==============================] - 0s 487us/step - loss: 0.2101 - acc: 0.2257\n",
      "Epoch 3/100\n",
      "412/412 [==============================] - 0s 531us/step - loss: 0.2039 - acc: 0.2136\n",
      "Epoch 4/100\n",
      "412/412 [==============================] - 0s 493us/step - loss: 0.1949 - acc: 0.2063\n",
      "Epoch 5/100\n",
      "412/412 [==============================] - 0s 486us/step - loss: 0.1791 - acc: 0.2112\n",
      "Epoch 6/100\n",
      "412/412 [==============================] - 0s 525us/step - loss: 0.1718 - acc: 0.2451\n",
      "Epoch 7/100\n",
      "412/412 [==============================] - 0s 486us/step - loss: 0.1712 - acc: 0.2209\n",
      "Epoch 8/100\n",
      "412/412 [==============================] - 0s 486us/step - loss: 0.1671 - acc: 0.2354\n",
      "Epoch 9/100\n",
      "412/412 [==============================] - 0s 486us/step - loss: 0.1648 - acc: 0.2136\n",
      "Epoch 10/100\n",
      "412/412 [==============================] - 0s 519us/step - loss: 0.1604 - acc: 0.2476\n",
      "Epoch 11/100\n",
      "412/412 [==============================] - 0s 491us/step - loss: 0.1597 - acc: 0.2039\n",
      "Epoch 12/100\n",
      "412/412 [==============================] - 0s 487us/step - loss: 0.1600 - acc: 0.2354\n",
      "Epoch 13/100\n",
      "412/412 [==============================] - 0s 525us/step - loss: 0.1589 - acc: 0.2136\n",
      "Epoch 14/100\n",
      "412/412 [==============================] - 0s 486us/step - loss: 0.1576 - acc: 0.2306\n",
      "Epoch 15/100\n",
      "412/412 [==============================] - 0s 511us/step - loss: 0.1585 - acc: 0.2646\n",
      "Epoch 16/100\n",
      "412/412 [==============================] - 0s 461us/step - loss: 0.1575 - acc: 0.2403\n",
      "Epoch 17/100\n",
      "412/412 [==============================] - 0s 487us/step - loss: 0.1620 - acc: 0.2379\n",
      "Epoch 18/100\n",
      "412/412 [==============================] - 0s 497us/step - loss: 0.1589 - acc: 0.2524\n",
      "Epoch 19/100\n",
      "412/412 [==============================] - 0s 476us/step - loss: 0.1566 - acc: 0.2718\n",
      "Epoch 20/100\n",
      "412/412 [==============================] - 0s 523us/step - loss: 0.1543 - acc: 0.2816\n",
      "Epoch 21/100\n",
      "412/412 [==============================] - 0s 578us/step - loss: 0.1582 - acc: 0.2573\n",
      "Epoch 22/100\n",
      "412/412 [==============================] - 0s 603us/step - loss: 0.1552 - acc: 0.2840\n",
      "Epoch 23/100\n",
      "412/412 [==============================] - 0s 573us/step - loss: 0.1542 - acc: 0.2791\n",
      "Epoch 24/100\n",
      "412/412 [==============================] - 0s 524us/step - loss: 0.1513 - acc: 0.3252\n",
      "Epoch 25/100\n",
      "412/412 [==============================] - 0s 567us/step - loss: 0.1556 - acc: 0.2913\n",
      "Epoch 26/100\n",
      "412/412 [==============================] - 0s 593us/step - loss: 0.1549 - acc: 0.3034\n",
      "Epoch 27/100\n",
      "412/412 [==============================] - 0s 750us/step - loss: 0.1551 - acc: 0.3010\n",
      "Epoch 28/100\n",
      "412/412 [==============================] - 0s 764us/step - loss: 0.1501 - acc: 0.3228\n",
      "Epoch 29/100\n",
      "412/412 [==============================] - 0s 781us/step - loss: 0.1532 - acc: 0.3058\n",
      "Epoch 30/100\n",
      "412/412 [==============================] - 0s 712us/step - loss: 0.1500 - acc: 0.3131\n",
      "Epoch 31/100\n",
      "412/412 [==============================] - 0s 818us/step - loss: 0.1503 - acc: 0.3325\n",
      "Epoch 32/100\n",
      "412/412 [==============================] - 0s 779us/step - loss: 0.1461 - acc: 0.3592\n",
      "Epoch 33/100\n",
      "412/412 [==============================] - 0s 726us/step - loss: 0.1461 - acc: 0.3422\n",
      "Epoch 34/100\n",
      "412/412 [==============================] - 0s 801us/step - loss: 0.1475 - acc: 0.3641\n",
      "Epoch 35/100\n",
      "412/412 [==============================] - 0s 754us/step - loss: 0.1499 - acc: 0.3471\n",
      "Epoch 36/100\n",
      "412/412 [==============================] - 0s 704us/step - loss: 0.1450 - acc: 0.3495\n",
      "Epoch 37/100\n",
      "412/412 [==============================] - 0s 671us/step - loss: 0.1421 - acc: 0.3641\n",
      "Epoch 38/100\n",
      "412/412 [==============================] - 0s 601us/step - loss: 0.1463 - acc: 0.3544\n",
      "Epoch 39/100\n",
      "412/412 [==============================] - 0s 526us/step - loss: 0.1445 - acc: 0.3811\n",
      "Epoch 40/100\n",
      "412/412 [==============================] - 0s 543us/step - loss: 0.1425 - acc: 0.3714\n",
      "Epoch 41/100\n",
      "412/412 [==============================] - 0s 493us/step - loss: 0.1421 - acc: 0.3932\n",
      "Epoch 42/100\n",
      "412/412 [==============================] - 0s 596us/step - loss: 0.1440 - acc: 0.3592\n",
      "Epoch 43/100\n",
      "412/412 [==============================] - 0s 676us/step - loss: 0.1446 - acc: 0.3422\n",
      "Epoch 44/100\n",
      "412/412 [==============================] - 0s 632us/step - loss: 0.1438 - acc: 0.3689\n",
      "Epoch 45/100\n",
      "412/412 [==============================] - 0s 700us/step - loss: 0.1397 - acc: 0.3956\n",
      "Epoch 46/100\n",
      "412/412 [==============================] - 0s 699us/step - loss: 0.1397 - acc: 0.3932\n",
      "Epoch 47/100\n",
      "412/412 [==============================] - 0s 729us/step - loss: 0.1414 - acc: 0.4126\n",
      "Epoch 48/100\n",
      "412/412 [==============================] - 0s 648us/step - loss: 0.1427 - acc: 0.3325\n",
      "Epoch 49/100\n",
      "412/412 [==============================] - 0s 673us/step - loss: 0.1343 - acc: 0.4272\n",
      "Epoch 50/100\n",
      "412/412 [==============================] - 0s 632us/step - loss: 0.1412 - acc: 0.3568\n",
      "Epoch 51/100\n",
      "412/412 [==============================] - 0s 699us/step - loss: 0.1436 - acc: 0.3471\n",
      "Epoch 52/100\n",
      "412/412 [==============================] - 0s 700us/step - loss: 0.1417 - acc: 0.3932\n",
      "Epoch 53/100\n",
      "412/412 [==============================] - 0s 764us/step - loss: 0.1375 - acc: 0.4005 0s - loss: 0.1303 - acc: 0.46\n",
      "Epoch 54/100\n",
      "412/412 [==============================] - 0s 691us/step - loss: 0.1335 - acc: 0.4563\n",
      "Epoch 55/100\n",
      "412/412 [==============================] - 0s 710us/step - loss: 0.1370 - acc: 0.4175\n",
      "Epoch 56/100\n",
      "412/412 [==============================] - 0s 776us/step - loss: 0.1339 - acc: 0.3981\n",
      "Epoch 57/100\n",
      "412/412 [==============================] - 0s 678us/step - loss: 0.1339 - acc: 0.4272\n",
      "Epoch 58/100\n",
      "412/412 [==============================] - 0s 591us/step - loss: 0.1338 - acc: 0.4223\n",
      "Epoch 59/100\n",
      "412/412 [==============================] - 0s 573us/step - loss: 0.1301 - acc: 0.4296\n",
      "Epoch 60/100\n",
      "412/412 [==============================] - 0s 681us/step - loss: 0.1336 - acc: 0.4466\n",
      "Epoch 61/100\n",
      "412/412 [==============================] - 0s 621us/step - loss: 0.1366 - acc: 0.4393\n",
      "Epoch 62/100\n",
      "412/412 [==============================] - 0s 651us/step - loss: 0.1311 - acc: 0.4782\n",
      "Epoch 63/100\n",
      "412/412 [==============================] - 0s 661us/step - loss: 0.1348 - acc: 0.4345\n",
      "Epoch 64/100\n",
      "412/412 [==============================] - 0s 680us/step - loss: 0.1286 - acc: 0.4587\n",
      "Epoch 65/100\n",
      "412/412 [==============================] - 0s 758us/step - loss: 0.1338 - acc: 0.4102\n",
      "Epoch 66/100\n",
      "412/412 [==============================] - 0s 603us/step - loss: 0.1233 - acc: 0.5049\n",
      "Epoch 67/100\n",
      "412/412 [==============================] - 0s 666us/step - loss: 0.1341 - acc: 0.4539\n",
      "Epoch 68/100\n",
      "412/412 [==============================] - 0s 641us/step - loss: 0.1324 - acc: 0.4466\n",
      "Epoch 69/100\n",
      "412/412 [==============================] - 0s 641us/step - loss: 0.1237 - acc: 0.4733\n",
      "Epoch 70/100\n",
      "412/412 [==============================] - 0s 631us/step - loss: 0.1268 - acc: 0.4636\n",
      "Epoch 71/100\n",
      "412/412 [==============================] - 0s 583us/step - loss: 0.1389 - acc: 0.4102\n",
      "Epoch 72/100\n",
      "412/412 [==============================] - 0s 583us/step - loss: 0.1233 - acc: 0.4976\n",
      "Epoch 73/100\n",
      "412/412 [==============================] - 0s 631us/step - loss: 0.1255 - acc: 0.4733\n",
      "Epoch 74/100\n",
      "412/412 [==============================] - 0s 641us/step - loss: 0.1276 - acc: 0.4660\n",
      "Epoch 75/100\n",
      "412/412 [==============================] - 0s 699us/step - loss: 0.1304 - acc: 0.4466\n",
      "Epoch 76/100\n",
      "412/412 [==============================] - 0s 632us/step - loss: 0.1169 - acc: 0.5267\n",
      "Epoch 77/100\n",
      "412/412 [==============================] - 0s 680us/step - loss: 0.1341 - acc: 0.4369\n",
      "Epoch 78/100\n",
      "412/412 [==============================] - 0s 641us/step - loss: 0.1243 - acc: 0.4733 0s - loss: 0.1263 - acc: 0.491 - ETA: 0s - loss: 0.1274 - acc: 0.47\n",
      "Epoch 79/100\n",
      "412/412 [==============================] - 0s 680us/step - loss: 0.1233 - acc: 0.4709\n",
      "Epoch 80/100\n"
     ]
    },
    {
     "name": "stdout",
     "output_type": "stream",
     "text": [
      "412/412 [==============================] - 0s 691us/step - loss: 0.1239 - acc: 0.5073\n",
      "Epoch 81/100\n",
      "412/412 [==============================] - 0s 759us/step - loss: 0.1311 - acc: 0.4709\n",
      "Epoch 82/100\n",
      "412/412 [==============================] - 0s 784us/step - loss: 0.1231 - acc: 0.4515\n",
      "Epoch 83/100\n",
      "412/412 [==============================] - 0s 683us/step - loss: 0.1216 - acc: 0.5073\n",
      "Epoch 84/100\n",
      "412/412 [==============================] - 0s 723us/step - loss: 0.1164 - acc: 0.5267\n",
      "Epoch 85/100\n",
      "412/412 [==============================] - 0s 734us/step - loss: 0.1306 - acc: 0.4733\n",
      "Epoch 86/100\n",
      "412/412 [==============================] - 0s 706us/step - loss: 0.1207 - acc: 0.5024\n",
      "Epoch 87/100\n",
      "412/412 [==============================] - 0s 685us/step - loss: 0.1269 - acc: 0.4830\n",
      "Epoch 88/100\n",
      "412/412 [==============================] - 0s 700us/step - loss: 0.1130 - acc: 0.5534\n",
      "Epoch 89/100\n",
      "412/412 [==============================] - 0s 719us/step - loss: 0.1226 - acc: 0.5121\n",
      "Epoch 90/100\n",
      "412/412 [==============================] - 0s 627us/step - loss: 0.1285 - acc: 0.4636\n",
      "Epoch 91/100\n",
      "412/412 [==============================] - 0s 651us/step - loss: 0.1200 - acc: 0.5049\n",
      "Epoch 92/100\n",
      "412/412 [==============================] - 0s 661us/step - loss: 0.1220 - acc: 0.4879\n",
      "Epoch 93/100\n",
      "412/412 [==============================] - 0s 781us/step - loss: 0.1154 - acc: 0.5340\n",
      "Epoch 94/100\n",
      "412/412 [==============================] - 0s 673us/step - loss: 0.1212 - acc: 0.5049\n",
      "Epoch 95/100\n",
      "412/412 [==============================] - 0s 658us/step - loss: 0.1341 - acc: 0.4587\n",
      "Epoch 96/100\n",
      "412/412 [==============================] - 0s 670us/step - loss: 0.1189 - acc: 0.5049 0s - loss: 0.1137 - acc: 0.\n",
      "Epoch 97/100\n",
      "412/412 [==============================] - 0s 640us/step - loss: 0.1194 - acc: 0.4903\n",
      "Epoch 98/100\n",
      "412/412 [==============================] - 0s 737us/step - loss: 0.1115 - acc: 0.5485\n",
      "Epoch 99/100\n",
      "412/412 [==============================] - 0s 806us/step - loss: 0.1278 - acc: 0.4490\n",
      "Epoch 100/100\n",
      "412/412 [==============================] - 0s 787us/step - loss: 0.1233 - acc: 0.4951\n",
      "mlp recall score:  0.272289156627\n",
      "\n",
      "training cnn 1\n",
      "Train on 415 samples, validate on 412 samples\n",
      "Epoch 1/1\n",
      "415/415 [==============================] - 52s 124ms/step - loss: 0.1660 - acc: 0.2024 - val_loss: 0.1600 - val_acc: 0.2039\n",
      "cnn1 recall score:  0.203883495146\n",
      "\n",
      "training mlp\n",
      "Epoch 1/100\n",
      "415/415 [==============================] - 1s 1ms/step - loss: 0.2522 - acc: 0.1928\n",
      "Epoch 2/100\n",
      "415/415 [==============================] - 0s 685us/step - loss: 0.2129 - acc: 0.1855\n",
      "Epoch 3/100\n",
      "415/415 [==============================] - 0s 656us/step - loss: 0.2052 - acc: 0.2265\n",
      "Epoch 4/100\n",
      "415/415 [==============================] - 0s 694us/step - loss: 0.1998 - acc: 0.2193\n",
      "Epoch 5/100\n",
      "415/415 [==============================] - 0s 670us/step - loss: 0.1816 - acc: 0.2000\n",
      "Epoch 6/100\n",
      "415/415 [==============================] - 0s 568us/step - loss: 0.1683 - acc: 0.2120\n",
      "Epoch 7/100\n",
      "415/415 [==============================] - 0s 482us/step - loss: 0.1641 - acc: 0.2193\n",
      "Epoch 8/100\n",
      "415/415 [==============================] - 0s 551us/step - loss: 0.1633 - acc: 0.2843\n",
      "Epoch 9/100\n",
      "415/415 [==============================] - 0s 489us/step - loss: 0.1745 - acc: 0.2169\n",
      "Epoch 10/100\n",
      "415/415 [==============================] - 0s 534us/step - loss: 0.1581 - acc: 0.2410\n",
      "Epoch 11/100\n",
      "415/415 [==============================] - 0s 704us/step - loss: 0.1636 - acc: 0.2482\n",
      "Epoch 12/100\n",
      "415/415 [==============================] - 0s 675us/step - loss: 0.1580 - acc: 0.2627\n",
      "Epoch 13/100\n",
      "415/415 [==============================] - 0s 684us/step - loss: 0.1565 - acc: 0.2964\n",
      "Epoch 14/100\n",
      "415/415 [==============================] - 0s 589us/step - loss: 0.1639 - acc: 0.2699\n",
      "Epoch 15/100\n",
      "415/415 [==============================] - 0s 694us/step - loss: 0.1561 - acc: 0.2916\n",
      "Epoch 16/100\n",
      "415/415 [==============================] - 0s 663us/step - loss: 0.1545 - acc: 0.3181\n",
      "Epoch 17/100\n",
      "415/415 [==============================] - 0s 596us/step - loss: 0.1542 - acc: 0.3253\n",
      "Epoch 18/100\n",
      "415/415 [==============================] - 0s 562us/step - loss: 0.1553 - acc: 0.2867\n",
      "Epoch 19/100\n",
      "415/415 [==============================] - 0s 589us/step - loss: 0.1512 - acc: 0.3157\n",
      "Epoch 20/100\n",
      "415/415 [==============================] - 0s 702us/step - loss: 0.1556 - acc: 0.2795\n",
      "Epoch 21/100\n",
      "415/415 [==============================] - 0s 704us/step - loss: 0.1503 - acc: 0.3229\n",
      "Epoch 22/100\n",
      "415/415 [==============================] - 0s 646us/step - loss: 0.1516 - acc: 0.3133\n",
      "Epoch 23/100\n",
      "415/415 [==============================] - 0s 612us/step - loss: 0.1466 - acc: 0.3783\n",
      "Epoch 24/100\n",
      "415/415 [==============================] - 0s 585us/step - loss: 0.1497 - acc: 0.3398\n",
      "Epoch 25/100\n",
      "415/415 [==============================] - 0s 646us/step - loss: 0.1430 - acc: 0.3831\n",
      "Epoch 26/100\n",
      "415/415 [==============================] - 0s 723us/step - loss: 0.1428 - acc: 0.3880\n",
      "Epoch 27/100\n",
      "415/415 [==============================] - 0s 787us/step - loss: 0.1482 - acc: 0.3542\n",
      "Epoch 28/100\n",
      "415/415 [==============================] - 0s 808us/step - loss: 0.1429 - acc: 0.3976\n",
      "Epoch 29/100\n",
      "415/415 [==============================] - 0s 728us/step - loss: 0.1406 - acc: 0.4193\n",
      "Epoch 30/100\n",
      "415/415 [==============================] - 0s 787us/step - loss: 0.1407 - acc: 0.4217\n",
      "Epoch 31/100\n",
      "415/415 [==============================] - 0s 814us/step - loss: 0.1423 - acc: 0.3952\n",
      "Epoch 32/100\n",
      "415/415 [==============================] - 0s 767us/step - loss: 0.1351 - acc: 0.4602\n",
      "Epoch 33/100\n",
      "415/415 [==============================] - 0s 627us/step - loss: 0.1384 - acc: 0.3976\n",
      "Epoch 34/100\n",
      "415/415 [==============================] - 0s 646us/step - loss: 0.1437 - acc: 0.4000\n",
      "Epoch 35/100\n",
      "415/415 [==============================] - 0s 680us/step - loss: 0.1348 - acc: 0.4289\n",
      "Epoch 36/100\n",
      "415/415 [==============================] - 0s 699us/step - loss: 0.1406 - acc: 0.4096\n",
      "Epoch 37/100\n",
      "415/415 [==============================] - 0s 686us/step - loss: 0.1348 - acc: 0.4530 0s - loss: 0.1357 - acc: 0.434\n",
      "Epoch 38/100\n",
      "415/415 [==============================] - 0s 695us/step - loss: 0.1324 - acc: 0.4458\n",
      "Epoch 39/100\n",
      "415/415 [==============================] - 0s 665us/step - loss: 0.1360 - acc: 0.4410\n",
      "Epoch 40/100\n",
      "415/415 [==============================] - 0s 723us/step - loss: 0.1354 - acc: 0.4434\n",
      "Epoch 41/100\n",
      "415/415 [==============================] - 0s 775us/step - loss: 0.1317 - acc: 0.4651\n",
      "Epoch 42/100\n",
      "415/415 [==============================] - 0s 627us/step - loss: 0.1288 - acc: 0.4771\n",
      "Epoch 43/100\n",
      "415/415 [==============================] - 0s 578us/step - loss: 0.1342 - acc: 0.4554\n",
      "Epoch 44/100\n",
      "415/415 [==============================] - 0s 566us/step - loss: 0.1311 - acc: 0.4867\n",
      "Epoch 45/100\n",
      "415/415 [==============================] - 0s 561us/step - loss: 0.1312 - acc: 0.4482\n",
      "Epoch 46/100\n",
      "415/415 [==============================] - 0s 617us/step - loss: 0.1253 - acc: 0.5108\n",
      "Epoch 47/100\n",
      "415/415 [==============================] - 0s 703us/step - loss: 0.1255 - acc: 0.4892\n",
      "Epoch 48/100\n",
      "415/415 [==============================] - 0s 715us/step - loss: 0.1291 - acc: 0.5012\n",
      "Epoch 49/100\n",
      "415/415 [==============================] - 0s 675us/step - loss: 0.1208 - acc: 0.4988\n",
      "Epoch 50/100\n",
      "415/415 [==============================] - 0s 703us/step - loss: 0.1248 - acc: 0.4988\n",
      "Epoch 51/100\n",
      "415/415 [==============================] - 0s 710us/step - loss: 0.1252 - acc: 0.4964\n",
      "Epoch 52/100\n",
      "415/415 [==============================] - 0s 665us/step - loss: 0.1282 - acc: 0.4843\n",
      "Epoch 53/100\n",
      "415/415 [==============================] - 0s 723us/step - loss: 0.1205 - acc: 0.5398\n",
      "Epoch 54/100\n",
      "415/415 [==============================] - 0s 694us/step - loss: 0.1273 - acc: 0.4892\n",
      "Epoch 55/100\n",
      "415/415 [==============================] - 0s 695us/step - loss: 0.1168 - acc: 0.5663 0s - loss: 0.1214 - acc: 0.54\n",
      "Epoch 56/100\n",
      "415/415 [==============================] - 0s 598us/step - loss: 0.1240 - acc: 0.4964\n",
      "Epoch 57/100\n",
      "415/415 [==============================] - 0s 549us/step - loss: 0.1282 - acc: 0.4843\n",
      "Epoch 58/100\n",
      "415/415 [==============================] - 0s 520us/step - loss: 0.1149 - acc: 0.5614\n",
      "Epoch 59/100\n"
     ]
    },
    {
     "name": "stdout",
     "output_type": "stream",
     "text": [
      "415/415 [==============================] - 0s 532us/step - loss: 0.1190 - acc: 0.5422\n",
      "Epoch 60/100\n",
      "415/415 [==============================] - 0s 506us/step - loss: 0.1228 - acc: 0.5108\n",
      "Epoch 61/100\n",
      "415/415 [==============================] - 0s 545us/step - loss: 0.1138 - acc: 0.5614\n",
      "Epoch 62/100\n",
      "415/415 [==============================] - 0s 529us/step - loss: 0.1197 - acc: 0.5108\n",
      "Epoch 63/100\n",
      "415/415 [==============================] - 0s 714us/step - loss: 0.1145 - acc: 0.5398\n",
      "Epoch 64/100\n",
      "415/415 [==============================] - 0s 705us/step - loss: 0.1133 - acc: 0.5422\n",
      "Epoch 65/100\n",
      "415/415 [==============================] - 0s 714us/step - loss: 0.1097 - acc: 0.5807\n",
      "Epoch 66/100\n",
      "415/415 [==============================] - 0s 682us/step - loss: 0.1158 - acc: 0.5398\n",
      "Epoch 67/100\n",
      "415/415 [==============================] - 0s 674us/step - loss: 0.1084 - acc: 0.6024\n",
      "Epoch 68/100\n",
      "415/415 [==============================] - 0s 691us/step - loss: 0.1109 - acc: 0.5639\n",
      "Epoch 69/100\n",
      "415/415 [==============================] - 0s 685us/step - loss: 0.1103 - acc: 0.5759\n",
      "Epoch 70/100\n",
      "415/415 [==============================] - 0s 723us/step - loss: 0.1058 - acc: 0.6096\n",
      "Epoch 71/100\n",
      "415/415 [==============================] - 0s 637us/step - loss: 0.1099 - acc: 0.5855\n",
      "Epoch 72/100\n",
      "415/415 [==============================] - 0s 490us/step - loss: 0.1059 - acc: 0.5831\n",
      "Epoch 73/100\n",
      "415/415 [==============================] - 0s 611us/step - loss: 0.1151 - acc: 0.5542\n",
      "Epoch 74/100\n",
      "415/415 [==============================] - 0s 626us/step - loss: 0.1046 - acc: 0.6024\n",
      "Epoch 75/100\n",
      "415/415 [==============================] - 0s 612us/step - loss: 0.1144 - acc: 0.5590\n",
      "Epoch 76/100\n",
      "415/415 [==============================] - 0s 555us/step - loss: 0.1097 - acc: 0.5831\n",
      "Epoch 77/100\n",
      "415/415 [==============================] - 0s 668us/step - loss: 0.1032 - acc: 0.6145\n",
      "Epoch 78/100\n",
      "415/415 [==============================] - 0s 600us/step - loss: 0.1029 - acc: 0.6145\n",
      "Epoch 79/100\n",
      "415/415 [==============================] - 0s 615us/step - loss: 0.1025 - acc: 0.6241\n",
      "Epoch 80/100\n",
      "415/415 [==============================] - 0s 746us/step - loss: 0.1100 - acc: 0.5952\n",
      "Epoch 81/100\n",
      "415/415 [==============================] - 0s 652us/step - loss: 0.1090 - acc: 0.5711\n",
      "Epoch 82/100\n",
      "415/415 [==============================] - 0s 719us/step - loss: 0.1032 - acc: 0.6193\n",
      "Epoch 83/100\n",
      "415/415 [==============================] - 0s 691us/step - loss: 0.1060 - acc: 0.6000\n",
      "Epoch 84/100\n",
      "415/415 [==============================] - 0s 675us/step - loss: 0.0914 - acc: 0.6675\n",
      "Epoch 85/100\n",
      "415/415 [==============================] - 0s 698us/step - loss: 0.1111 - acc: 0.6000\n",
      "Epoch 86/100\n",
      "415/415 [==============================] - 0s 637us/step - loss: 0.1021 - acc: 0.6289\n",
      "Epoch 87/100\n",
      "415/415 [==============================] - 0s 590us/step - loss: 0.0977 - acc: 0.6265\n",
      "Epoch 88/100\n",
      "415/415 [==============================] - 0s 598us/step - loss: 0.0970 - acc: 0.6337\n",
      "Epoch 89/100\n",
      "415/415 [==============================] - 0s 666us/step - loss: 0.1015 - acc: 0.6265\n",
      "Epoch 90/100\n",
      "415/415 [==============================] - 0s 704us/step - loss: 0.0969 - acc: 0.6458\n",
      "Epoch 91/100\n",
      "415/415 [==============================] - 0s 733us/step - loss: 0.1025 - acc: 0.6193\n",
      "Epoch 92/100\n",
      "415/415 [==============================] - 0s 714us/step - loss: 0.0983 - acc: 0.6289\n",
      "Epoch 93/100\n",
      "415/415 [==============================] - 0s 733us/step - loss: 0.0969 - acc: 0.6723\n",
      "Epoch 94/100\n",
      "415/415 [==============================] - 0s 733us/step - loss: 0.0968 - acc: 0.6169\n",
      "Epoch 95/100\n",
      "415/415 [==============================] - 0s 733us/step - loss: 0.0943 - acc: 0.6410\n",
      "Epoch 96/100\n",
      "415/415 [==============================] - 0s 685us/step - loss: 0.0924 - acc: 0.6651\n",
      "Epoch 97/100\n",
      "415/415 [==============================] - 0s 685us/step - loss: 0.1004 - acc: 0.6313\n",
      "Epoch 98/100\n",
      "415/415 [==============================] - 0s 706us/step - loss: 0.0929 - acc: 0.6675\n",
      "Epoch 99/100\n",
      "415/415 [==============================] - 0s 560us/step - loss: 0.0983 - acc: 0.6241\n",
      "Epoch 100/100\n",
      "415/415 [==============================] - 0s 490us/step - loss: 0.0880 - acc: 0.6795\n",
      "mlp recall score:  0.322815533981\n"
     ]
    }
   ],
   "source": [
    "from sklearn import datasets, metrics\n",
    "from sklearn.model_selection import train_test_split, StratifiedKFold\n",
    "\n",
    "N_SPLITS = 2\n",
    "NUM_CLASSES = 5\n",
    "\n",
    "cnn1_rec = []\n",
    "cnn2_rec = []\n",
    "mlp_rec = []\n",
    "\n",
    "skf = StratifiedKFold(n_splits=N_SPLITS, random_state=0, shuffle=False)\n",
    "for train, test in skf.split(X, y):\n",
    "    # split up the data\n",
    "    X_train = X[train]\n",
    "    y_train = y[train]\n",
    "    \n",
    "    X_test = X[test]\n",
    "    y_test = y[test]\n",
    "    \n",
    "    y_train_ohe = keras.utils.to_categorical(y_train, NUM_CLASSES)\n",
    "    y_test_ohe = keras.utils.to_categorical(y_test, NUM_CLASSES)\n",
    "    \n",
    "    # architecture 1\n",
    "    print('\\ntraining cnn 1')\n",
    "    cnn1, cnn1_result = do_cnn1(X_train, y_train_ohe, X_test, y_test, y_test_ohe)\n",
    "    cnn1_rec.append(cnn1_result)\n",
    "    print('cnn1 recall score: ', cnn1_result)\n",
    "    \n",
    "    # architecture 2\n",
    "    #print('\\ntraining cnn 2')\n",
    "    #cnn2, cnn2_result = do_ensemble(X_test=X_test, X_train=X_train, y_test=y_test, y_train=y_train_ohe)\n",
    "    #cnn2_rec.append(cnn2_result)\n",
    "    #print('cnn2 recall score: ', cnn2_result)\n",
    "        \n",
    "    # MLP\n",
    "    print('\\ntraining mlp')\n",
    "    mlp, mlp_result = do_mlp(X_train, y_train_ohe, X_test, y_test)\n",
    "    mlp_rec.append(mlp_result)\n",
    "    print('mlp recall score: ', mlp_result)\n"
   ]
  },
  {
   "cell_type": "markdown",
   "metadata": {},
   "source": [
    "## so how did it do....\n",
    "\n",
    "Below are the general statistics from the cross validation"
   ]
  },
  {
   "cell_type": "code",
   "execution_count": 26,
   "metadata": {},
   "outputs": [
    {
     "name": "stdout",
     "output_type": "stream",
     "text": [
      "stats:\n",
      "******\n",
      "mlp: 0.297552345304 +- 0.025263188677\n",
      "cnn1: 0.215194759621 +- 0.0113112644754\n"
     ]
    }
   ],
   "source": [
    "print('stats:')\n",
    "print('*'*6)\n",
    "print('mlp:', np.mean(mlp_rec), '+-', np.std(mlp_rec))\n",
    "print('cnn1:', np.mean(cnn1_rec), '+-', np.std(cnn1_rec))\n",
    "#print('cnn2:', np.mean(cnn2_rec), '+-', np.std(cnn2_rec))"
   ]
  },
  {
   "cell_type": "code",
   "execution_count": 27,
   "metadata": {},
   "outputs": [
    {
     "data": {
      "text/plain": [
       "[0.27228915662650605, 0.32281553398058255]"
      ]
     },
     "execution_count": 27,
     "metadata": {},
     "output_type": "execute_result"
    }
   ],
   "source": [
    "mlp_rec"
   ]
  },
  {
   "cell_type": "markdown",
   "metadata": {},
   "source": [
    "We can also look at the confusion matrix for the final instance of each of the architecture's"
   ]
  },
  {
   "cell_type": "code",
   "execution_count": 42,
   "metadata": {
    "collapsed": true
   },
   "outputs": [],
   "source": [
    "from sklearn import metrics as mt\n",
    "from matplotlib import pyplot as plt\n",
    "import seaborn as sns\n",
    "%matplotlib inline\n",
    "\n",
    "def compare_mlp_cnn(cnn1, cnn2, mlp, X_test, y_test, enc):\n",
    "    plt.figure(figsize=(20,5))\n",
    "    if cnn1 is not None:\n",
    "        yhat_cnn1 = np.argmax(cnn1.predict(np.expand_dims(X_test, axis=1)), axis=1)\n",
    "        rec_cnn1 = mt.recall_score(y_test,yhat_cnn1, average='micro')\n",
    "        plt.subplot(1,3,2)\n",
    "        cm = mt.confusion_matrix(y_test,yhat_cnn1)\n",
    "        cm = cm/np.sum(cm,axis=1)[:,np.newaxis]\n",
    "        sns.heatmap(cm, annot=True, fmt='.2f', xticklabels=enc.inverse_transform([0, 1, 2, 3, 4]), \n",
    "                   yticklabels=enc.inverse_transform([0, 1, 2, 3, 4]))\n",
    "        plt.title('CNN1: '+str(rec_cnn1))\n",
    "    \n",
    "    if cnn2 is not None:\n",
    "        yhat_cnn2 = np.argmax(cnn2.predict(np.expand_dims(X_test, axis=1)), axis=1)\n",
    "        rec_cnn2 = mt.recall_score(y_test,yhat_cnn2, average='micro')\n",
    "        plt.subplot(1,3,3)\n",
    "        cm = mt.confusion_matrix(y_test,yhat_cnn2)\n",
    "        cm = cm/np.sum(cm,axis=1)[:,np.newaxis]\n",
    "        sns.heatmap(cm, annot=True, fmt='.2f', xticklabels=enc.inverse_transform([0, 1, 2, 3, 4]), \n",
    "                   yticklabels=enc.inverse_transform([0, 1, 2, 3, 4]))\n",
    "        plt.title('CNN2: '+str(rec_cnn2))\n",
    "    \n",
    "    if mlp is not None:\n",
    "        yhat_mlp = np.argmax(mlp.predict(X_test), axis=1)\n",
    "        rec_mlp = mt.recall_score(y_test,yhat_mlp, average='micro')\n",
    "        plt.subplot(1,3,1)\n",
    "        cm = mt.confusion_matrix(y_test,yhat_mlp)\n",
    "        cm = cm/np.sum(cm,axis=1)[:,np.newaxis]\n",
    "        sns.heatmap(cm,annot=True, fmt='.2f', xticklabels=enc.inverse_transform([0, 1, 2, 3, 4]), \n",
    "                   yticklabels=enc.inverse_transform([0, 1, 2, 3, 4]))\n",
    "        plt.title('MLP: '+str(rec_mlp))"
   ]
  },
  {
   "cell_type": "code",
   "execution_count": 43,
   "metadata": {},
   "outputs": [
    {
     "ename": "NameError",
     "evalue": "name 'cnn1' is not defined",
     "output_type": "error",
     "traceback": [
      "\u001b[1;31m---------------------------------------------------------------------------\u001b[0m",
      "\u001b[1;31mNameError\u001b[0m                                 Traceback (most recent call last)",
      "\u001b[1;32m<ipython-input-43-d5c2490efeb9>\u001b[0m in \u001b[0;36m<module>\u001b[1;34m()\u001b[0m\n\u001b[0;32m      1\u001b[0m \u001b[1;31m#compare_mlp_cnn(cnn1, cnn2, mlp, X_test, y_test, enc)\u001b[0m\u001b[1;33m\u001b[0m\u001b[1;33m\u001b[0m\u001b[0m\n\u001b[1;32m----> 2\u001b[1;33m \u001b[0mcompare_mlp_cnn\u001b[0m\u001b[1;33m(\u001b[0m\u001b[0mcnn1\u001b[0m\u001b[1;33m,\u001b[0m \u001b[1;32mNone\u001b[0m\u001b[1;33m,\u001b[0m \u001b[0mmlp\u001b[0m\u001b[1;33m,\u001b[0m \u001b[0mX_test\u001b[0m\u001b[1;33m,\u001b[0m \u001b[0my_test\u001b[0m\u001b[1;33m,\u001b[0m \u001b[0menc\u001b[0m\u001b[1;33m)\u001b[0m\u001b[1;33m\u001b[0m\u001b[0m\n\u001b[0m",
      "\u001b[1;31mNameError\u001b[0m: name 'cnn1' is not defined"
     ]
    }
   ],
   "source": [
    "#compare_mlp_cnn(cnn1, cnn2, mlp, X_test, y_test, enc)\n",
    "compare_mlp_cnn(cnn1, None, mlp, X_test, y_test, enc)"
   ]
  },
  {
   "cell_type": "markdown",
   "metadata": {},
   "source": [
    "We can also look at the ROC curve for each architecture.  Again, we'll just use the last fold, but assuming that the standard deviation on the cross-validation is small it should give a fairly good estimation. "
   ]
  },
  {
   "cell_type": "code",
   "execution_count": 30,
   "metadata": {},
   "outputs": [
    {
     "name": "stdout",
     "output_type": "stream",
     "text": [
      "165/165 [==============================] - 0s 258us/step\n",
      "165/165 [==============================] - 7s 40ms/step\n"
     ]
    },
    {
     "data": {
      "image/png": "[encoded data removed]",
      "text/plain": [
       "<matplotlib.figure.Figure at 0x15940739588>"
      ]
     },
     "metadata": {},
     "output_type": "display_data"
    }
   ],
   "source": [
    "from sklearn.metrics import roc_curve, auc\n",
    "from scipy import interp\n",
    "\n",
    "perclass_mean_tpr = 0.0\n",
    "roc_auc = 0\n",
    "\n",
    "# we'll just grab a random 20 % of the samples\n",
    "idx = np.random.randint(0, len(X), size=int(len(X)/5))\n",
    "X_hm = X[idx]\n",
    "y_hm = y[idx]\n",
    "\n",
    "probas_mlp = mlp.predict_proba(X_hm)\n",
    "probas_cnn1 = cnn1.predict_proba(np.expand_dims(X_hm, axis=1))\n",
    "#probas_cnn2 = cnn2.predict_proba(np.expand_dims(X_hm, axis=1))\n",
    "\n",
    "mean_tpr = 0.0\n",
    "mean_fpr = np.linspace(0, 1, 100)\n",
    "\n",
    "#for arch in ['mlp', 'cnn1', 'cnn2']:\n",
    "for arch in ['mlp', 'cnn1']:\n",
    "    probas = eval('probas_'+arch)\n",
    "    perclass_mean_tpr = 0.0\n",
    "    roc_auc = 0\n",
    "    classes = np.unique(y_test)\n",
    "    # get the mean fpr and tpr, per class\n",
    "    for j in classes:\n",
    "        fpr, tpr, thresholds = roc_curve(y_hm,\n",
    "                                         probas[:, j],\n",
    "                                         pos_label=j)\n",
    "        perclass_mean_tpr += interp(mean_fpr, fpr, tpr)\n",
    "        perclass_mean_tpr[0] = 0.0\n",
    "        roc_auc += auc(fpr, tpr)\n",
    "\n",
    "    perclass_mean_tpr /= len(classes)\n",
    "    roc_auc /= len(classes)\n",
    "    mean_tpr += perclass_mean_tpr\n",
    "    plt.plot(mean_fpr,perclass_mean_tpr,lw=2,label = 'Mean Class ROC: %s (area = %0.2f)'\n",
    "                   % (arch, roc_auc))\n",
    "    \n",
    "plt.legend(loc='best')\n",
    "plt.grid()"
   ]
  },
  {
   "cell_type": "markdown",
   "metadata": {},
   "source": [
    "## With more data\n",
    "\n",
    "Now we'll us"
   ]
  },
  {
   "cell_type": "code",
   "execution_count": 11,
   "metadata": {
    "collapsed": true
   },
   "outputs": [],
   "source": [
    "from keras.preprocessing.image import ImageDataGenerator\n",
    "from keras.callbacks import EarlyStopping\n"
   ]
  },
  {
   "cell_type": "code",
   "execution_count": 28,
   "metadata": {
    "collapsed": true
   },
   "outputs": [],
   "source": [
    "X1 = X"
   ]
  },
  {
   "cell_type": "code",
   "execution_count": 39,
   "metadata": {},
   "outputs": [
    {
     "data": {
      "text/plain": [
       "(829, 16384)"
      ]
     },
     "execution_count": 39,
     "metadata": {},
     "output_type": "execute_result"
    }
   ],
   "source": [
    "X1.shape"
   ]
  },
  {
   "cell_type": "code",
   "execution_count": 46,
   "metadata": {},
   "outputs": [],
   "source": [
    "NUM_CLASSES = 5\n",
    "img_hw = 128\n",
    "#X = np.expand_dims(X1.reshape(-1,img_hw,img_hw), axis=1)\n",
    "X = X1.reshape(-1,img_hw,img_hw)\n",
    "X_train, X_test, y_train, y_test = train_test_split(X, y, test_size=0.2)\n",
    "y_train_ohe = keras.utils.to_categorical(y_train, NUM_CLASSES)\n",
    "y_test_ohe = keras.utils.to_categorical(y_test, NUM_CLASSES)\n",
    "\n",
    "datagen = ImageDataGenerator(featurewise_center=False,\n",
    "    samplewise_center=False,\n",
    "    featurewise_std_normalization=False,\n",
    "    samplewise_std_normalization=False,\n",
    "    zca_whitening=False,\n",
    "    rotation_range=5, # used, Int. Degree range for random rotations.\n",
    "    width_shift_range=0.1, # used, Float (fraction of total width). Range for random horizontal shifts.\n",
    "    height_shift_range=0.1, # used,  Float (fraction of total height). Range for random vertical shifts.\n",
    "    shear_range=0., # Float. Shear Intensity (Shear angle in counter-clockwise direction as radians)\n",
    "    zoom_range=0.,\n",
    "    channel_shift_range=0.,\n",
    "    fill_mode='nearest',\n",
    "    cval=0.,\n",
    "    horizontal_flip=False,\n",
    "    vertical_flip=False,\n",
    "    rescale=None)"
   ]
  },
  {
   "cell_type": "code",
   "execution_count": 57,
   "metadata": {},
   "outputs": [
    {
     "data": {
      "text/plain": [
       "(663, 128, 128, 1)"
      ]
     },
     "execution_count": 57,
     "metadata": {},
     "output_type": "execute_result"
    }
   ],
   "source": [
    "np.expand_dims(X_train, axis=3).shape"
   ]
  },
  {
   "cell_type": "code",
   "execution_count": 62,
   "metadata": {},
   "outputs": [
    {
     "name": "stdout",
     "output_type": "stream",
     "text": [
      "Epoch 1/1\n",
      "6/5 [====================================] - 19s 3s/step - loss: 0.1638 - acc: 0.2121 - val_loss: 0.1598 - val_acc: 0.2349\n"
     ]
    },
    {
     "data": {
      "text/plain": [
       "<keras.callbacks.History at 0x22120f59518>"
      ]
     },
     "execution_count": 62,
     "metadata": {},
     "output_type": "execute_result"
    }
   ],
   "source": [
    "cnn_layers = [32, 16]\n",
    "\n",
    "# make a CNN with conv layer and max pooling\n",
    "cnn = Sequential()\n",
    "\n",
    "for n in cnn_layers:\n",
    "    cnn.add(Conv2D(filters=n, kernel_size= (3, 3), padding='same', input_shape=(h,w, 1), data_format='channels_last'))\n",
    "    cnn.add(Activation('relu'))\n",
    "    cnn.add(MaxPooling2D(pool_size=(2, 2), data_format=\"channels_last\"))\n",
    "\n",
    "# add one layer on flattened output\n",
    "cnn.add(Dropout(0.25))\n",
    "cnn.add(Flatten())\n",
    "\n",
    "cnn.add(Dropout(0.25))\n",
    "cnn.add(Dense(80))\n",
    "cnn.add(Activation('relu'))\n",
    "\n",
    "cnn.add(Dropout(0.50))\n",
    "cnn.add(Dense(20))\n",
    "cnn.add(Activation('relu'))\n",
    "\n",
    "\n",
    "cnn.add(Dense(NUM_CLASSES))\n",
    "cnn.add(Activation('softmax'))\n",
    "\n",
    "\n",
    "# Let's train the model \n",
    "cnn.compile(loss='mean_squared_error',\n",
    "              optimizer='rmsprop',\n",
    "              metrics=['accuracy'])\n",
    "\n",
    "# we need to exapnd the dimensions here to give the \n",
    "#   \"channels\" dimension expected by Keras\n",
    "cnn.fit_generator(datagen.flow(np.expand_dims(X_train, axis=3), y_train_ohe, batch_size=128), \n",
    "                  steps_per_epoch=int(len(X_train)/128), # how many generators to go through per epoch\n",
    "                  epochs=1, verbose=1,\n",
    "                  validation_data=(np.expand_dims(X_test, axis=3),y_test_ohe),\n",
    "                  callbacks=[EarlyStopping(monitor='val_loss', patience=2)]\n",
    "                 )"
   ]
  },
  {
   "cell_type": "code",
   "execution_count": 68,
   "metadata": {},
   "outputs": [
    {
     "ename": "ValueError",
     "evalue": "Error when checking : expected conv2d_40_input to have shape (None, 128, 128, 1) but got array with shape (166, 1, 1, 16384)",
     "output_type": "error",
     "traceback": [
      "\u001b[1;31m---------------------------------------------------------------------------\u001b[0m",
      "\u001b[1;31mValueError\u001b[0m                                Traceback (most recent call last)",
      "\u001b[1;32m<ipython-input-68-983f5fb45355>\u001b[0m in \u001b[0;36m<module>\u001b[1;34m()\u001b[0m\n\u001b[1;32m----> 1\u001b[1;33m \u001b[0mcompare_mlp_cnn\u001b[0m\u001b[1;33m(\u001b[0m\u001b[0mcnn\u001b[0m\u001b[1;33m,\u001b[0m \u001b[1;32mNone\u001b[0m\u001b[1;33m,\u001b[0m \u001b[1;32mNone\u001b[0m\u001b[1;33m,\u001b[0m \u001b[0mnp\u001b[0m\u001b[1;33m.\u001b[0m\u001b[0mreshape\u001b[0m\u001b[1;33m(\u001b[0m\u001b[0mX_test\u001b[0m\u001b[1;33m,\u001b[0m \u001b[1;33m(\u001b[0m\u001b[0mX_test\u001b[0m\u001b[1;33m.\u001b[0m\u001b[0mshape\u001b[0m\u001b[1;33m[\u001b[0m\u001b[1;36m0\u001b[0m\u001b[1;33m]\u001b[0m\u001b[1;33m,\u001b[0m \u001b[1;36m1\u001b[0m\u001b[1;33m,\u001b[0m \u001b[1;36m128\u001b[0m\u001b[1;33m*\u001b[0m\u001b[1;36m128\u001b[0m\u001b[1;33m)\u001b[0m\u001b[1;33m)\u001b[0m\u001b[1;33m,\u001b[0m \u001b[0my_test\u001b[0m\u001b[1;33m,\u001b[0m \u001b[0menc\u001b[0m\u001b[1;33m)\u001b[0m\u001b[1;33m\u001b[0m\u001b[0m\n\u001b[0m",
      "\u001b[1;32m<ipython-input-42-c494c1f06be4>\u001b[0m in \u001b[0;36mcompare_mlp_cnn\u001b[1;34m(cnn1, cnn2, mlp, X_test, y_test, enc)\u001b[0m\n\u001b[0;32m      7\u001b[0m     \u001b[0mplt\u001b[0m\u001b[1;33m.\u001b[0m\u001b[0mfigure\u001b[0m\u001b[1;33m(\u001b[0m\u001b[0mfigsize\u001b[0m\u001b[1;33m=\u001b[0m\u001b[1;33m(\u001b[0m\u001b[1;36m20\u001b[0m\u001b[1;33m,\u001b[0m\u001b[1;36m5\u001b[0m\u001b[1;33m)\u001b[0m\u001b[1;33m)\u001b[0m\u001b[1;33m\u001b[0m\u001b[0m\n\u001b[0;32m      8\u001b[0m     \u001b[1;32mif\u001b[0m \u001b[0mcnn1\u001b[0m \u001b[1;32mis\u001b[0m \u001b[1;32mnot\u001b[0m \u001b[1;32mNone\u001b[0m\u001b[1;33m:\u001b[0m\u001b[1;33m\u001b[0m\u001b[0m\n\u001b[1;32m----> 9\u001b[1;33m         \u001b[0myhat_cnn1\u001b[0m \u001b[1;33m=\u001b[0m \u001b[0mnp\u001b[0m\u001b[1;33m.\u001b[0m\u001b[0margmax\u001b[0m\u001b[1;33m(\u001b[0m\u001b[0mcnn1\u001b[0m\u001b[1;33m.\u001b[0m\u001b[0mpredict\u001b[0m\u001b[1;33m(\u001b[0m\u001b[0mnp\u001b[0m\u001b[1;33m.\u001b[0m\u001b[0mexpand_dims\u001b[0m\u001b[1;33m(\u001b[0m\u001b[0mX_test\u001b[0m\u001b[1;33m,\u001b[0m \u001b[0maxis\u001b[0m\u001b[1;33m=\u001b[0m\u001b[1;36m1\u001b[0m\u001b[1;33m)\u001b[0m\u001b[1;33m)\u001b[0m\u001b[1;33m,\u001b[0m \u001b[0maxis\u001b[0m\u001b[1;33m=\u001b[0m\u001b[1;36m1\u001b[0m\u001b[1;33m)\u001b[0m\u001b[1;33m\u001b[0m\u001b[0m\n\u001b[0m\u001b[0;32m     10\u001b[0m         \u001b[0mrec_cnn1\u001b[0m \u001b[1;33m=\u001b[0m \u001b[0mmt\u001b[0m\u001b[1;33m.\u001b[0m\u001b[0mrecall_score\u001b[0m\u001b[1;33m(\u001b[0m\u001b[0my_test\u001b[0m\u001b[1;33m,\u001b[0m\u001b[0myhat_cnn1\u001b[0m\u001b[1;33m,\u001b[0m \u001b[0maverage\u001b[0m\u001b[1;33m=\u001b[0m\u001b[1;34m'micro'\u001b[0m\u001b[1;33m)\u001b[0m\u001b[1;33m\u001b[0m\u001b[0m\n\u001b[0;32m     11\u001b[0m         \u001b[0mplt\u001b[0m\u001b[1;33m.\u001b[0m\u001b[0msubplot\u001b[0m\u001b[1;33m(\u001b[0m\u001b[1;36m1\u001b[0m\u001b[1;33m,\u001b[0m\u001b[1;36m3\u001b[0m\u001b[1;33m,\u001b[0m\u001b[1;36m2\u001b[0m\u001b[1;33m)\u001b[0m\u001b[1;33m\u001b[0m\u001b[0m\n",
      "\u001b[1;32mC:\\Users\\leima\\AppData\\Local\\conda\\conda\\envs\\my_root\\lib\\site-packages\\keras\\models.py\u001b[0m in \u001b[0;36mpredict\u001b[1;34m(self, x, batch_size, verbose)\u001b[0m\n\u001b[0;32m    937\u001b[0m         \u001b[1;32mif\u001b[0m \u001b[1;32mnot\u001b[0m \u001b[0mself\u001b[0m\u001b[1;33m.\u001b[0m\u001b[0mbuilt\u001b[0m\u001b[1;33m:\u001b[0m\u001b[1;33m\u001b[0m\u001b[0m\n\u001b[0;32m    938\u001b[0m             \u001b[0mself\u001b[0m\u001b[1;33m.\u001b[0m\u001b[0mbuild\u001b[0m\u001b[1;33m(\u001b[0m\u001b[1;33m)\u001b[0m\u001b[1;33m\u001b[0m\u001b[0m\n\u001b[1;32m--> 939\u001b[1;33m         \u001b[1;32mreturn\u001b[0m \u001b[0mself\u001b[0m\u001b[1;33m.\u001b[0m\u001b[0mmodel\u001b[0m\u001b[1;33m.\u001b[0m\u001b[0mpredict\u001b[0m\u001b[1;33m(\u001b[0m\u001b[0mx\u001b[0m\u001b[1;33m,\u001b[0m \u001b[0mbatch_size\u001b[0m\u001b[1;33m=\u001b[0m\u001b[0mbatch_size\u001b[0m\u001b[1;33m,\u001b[0m \u001b[0mverbose\u001b[0m\u001b[1;33m=\u001b[0m\u001b[0mverbose\u001b[0m\u001b[1;33m)\u001b[0m\u001b[1;33m\u001b[0m\u001b[0m\n\u001b[0m\u001b[0;32m    940\u001b[0m \u001b[1;33m\u001b[0m\u001b[0m\n\u001b[0;32m    941\u001b[0m     \u001b[1;32mdef\u001b[0m \u001b[0mpredict_on_batch\u001b[0m\u001b[1;33m(\u001b[0m\u001b[0mself\u001b[0m\u001b[1;33m,\u001b[0m \u001b[0mx\u001b[0m\u001b[1;33m)\u001b[0m\u001b[1;33m:\u001b[0m\u001b[1;33m\u001b[0m\u001b[0m\n",
      "\u001b[1;32mC:\\Users\\leima\\AppData\\Local\\conda\\conda\\envs\\my_root\\lib\\site-packages\\keras\\engine\\training.py\u001b[0m in \u001b[0;36mpredict\u001b[1;34m(self, x, batch_size, verbose, steps)\u001b[0m\n\u001b[0;32m   1728\u001b[0m         x = _standardize_input_data(x, self._feed_input_names,\n\u001b[0;32m   1729\u001b[0m                                     \u001b[0mself\u001b[0m\u001b[1;33m.\u001b[0m\u001b[0m_feed_input_shapes\u001b[0m\u001b[1;33m,\u001b[0m\u001b[1;33m\u001b[0m\u001b[0m\n\u001b[1;32m-> 1730\u001b[1;33m                                     check_batch_axis=False)\n\u001b[0m\u001b[0;32m   1731\u001b[0m         \u001b[1;32mif\u001b[0m \u001b[0mself\u001b[0m\u001b[1;33m.\u001b[0m\u001b[0mstateful\u001b[0m\u001b[1;33m:\u001b[0m\u001b[1;33m\u001b[0m\u001b[0m\n\u001b[0;32m   1732\u001b[0m             \u001b[1;32mif\u001b[0m \u001b[0mx\u001b[0m\u001b[1;33m[\u001b[0m\u001b[1;36m0\u001b[0m\u001b[1;33m]\u001b[0m\u001b[1;33m.\u001b[0m\u001b[0mshape\u001b[0m\u001b[1;33m[\u001b[0m\u001b[1;36m0\u001b[0m\u001b[1;33m]\u001b[0m \u001b[1;33m>\u001b[0m \u001b[0mbatch_size\u001b[0m \u001b[1;32mand\u001b[0m \u001b[0mx\u001b[0m\u001b[1;33m[\u001b[0m\u001b[1;36m0\u001b[0m\u001b[1;33m]\u001b[0m\u001b[1;33m.\u001b[0m\u001b[0mshape\u001b[0m\u001b[1;33m[\u001b[0m\u001b[1;36m0\u001b[0m\u001b[1;33m]\u001b[0m \u001b[1;33m%\u001b[0m \u001b[0mbatch_size\u001b[0m \u001b[1;33m!=\u001b[0m \u001b[1;36m0\u001b[0m\u001b[1;33m:\u001b[0m\u001b[1;33m\u001b[0m\u001b[0m\n",
      "\u001b[1;32mC:\\Users\\leima\\AppData\\Local\\conda\\conda\\envs\\my_root\\lib\\site-packages\\keras\\engine\\training.py\u001b[0m in \u001b[0;36m_standardize_input_data\u001b[1;34m(data, names, shapes, check_batch_axis, exception_prefix)\u001b[0m\n\u001b[0;32m    152\u001b[0m                             \u001b[1;34m' to have shape '\u001b[0m \u001b[1;33m+\u001b[0m \u001b[0mstr\u001b[0m\u001b[1;33m(\u001b[0m\u001b[0mshapes\u001b[0m\u001b[1;33m[\u001b[0m\u001b[0mi\u001b[0m\u001b[1;33m]\u001b[0m\u001b[1;33m)\u001b[0m \u001b[1;33m+\u001b[0m\u001b[1;33m\u001b[0m\u001b[0m\n\u001b[0;32m    153\u001b[0m                             \u001b[1;34m' but got array with shape '\u001b[0m \u001b[1;33m+\u001b[0m\u001b[1;33m\u001b[0m\u001b[0m\n\u001b[1;32m--> 154\u001b[1;33m                             str(array.shape))\n\u001b[0m\u001b[0;32m    155\u001b[0m     \u001b[1;32mreturn\u001b[0m \u001b[0marrays\u001b[0m\u001b[1;33m\u001b[0m\u001b[0m\n\u001b[0;32m    156\u001b[0m \u001b[1;33m\u001b[0m\u001b[0m\n",
      "\u001b[1;31mValueError\u001b[0m: Error when checking : expected conv2d_40_input to have shape (None, 128, 128, 1) but got array with shape (166, 1, 1, 16384)"
     ]
    },
    {
     "data": {
      "text/plain": [
       "<matplotlib.figure.Figure at 0x2211bb1c4a8>"
      ]
     },
     "metadata": {},
     "output_type": "display_data"
    }
   ],
   "source": [
    "compare_mlp_cnn(cnn, None, None, np.reshape(X_test, (X_test.shape[0], 1, 128*128)), y_test, enc)"
   ]
  },
  {
   "cell_type": "code",
   "execution_count": 64,
   "metadata": {},
   "outputs": [
    {
     "data": {
      "text/plain": [
       "(166, 128, 128)"
      ]
     },
     "execution_count": 64,
     "metadata": {},
     "output_type": "execute_result"
    }
   ],
   "source": [
    "X_test.shape"
   ]
  },
  {
   "cell_type": "code",
   "execution_count": null,
   "metadata": {
    "collapsed": true
   },
   "outputs": [],
   "source": []
  }
 ],
 "metadata": {
  "kernelspec": {
   "display_name": "Python 3",
   "language": "python",
   "name": "python3"
  },
  "language_info": {
   "codemirror_mode": {
    "name": "ipython",
    "version": 3
   },
   "file_extension": ".py",
   "mimetype": "text/x-python",
   "name": "python",
   "nbconvert_exporter": "python",
   "pygments_lexer": "ipython3",
   "version": "3.6.1"
  }
 },
 "nbformat": 4,
 "nbformat_minor": 2
}
