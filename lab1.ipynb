{
 "cells": [
  {
   "cell_type": "markdown",
   "metadata": {},
   "source": [
    "# Lab 1:  Exploring Table Data"
   ]
  },
  {
   "cell_type": "markdown",
   "metadata": {},
   "source": [
    "## Data Cleaning"
   ]
  },
  {
   "cell_type": "code",
   "execution_count": 1618,
   "metadata": {},
   "outputs": [
    {
     "data": {
      "text/html": [
       "<div>\n",
       "<style>\n",
       "    .dataframe thead tr:only-child th {\n",
       "        text-align: right;\n",
       "    }\n",
       "\n",
       "    .dataframe thead th {\n",
       "        text-align: left;\n",
       "    }\n",
       "\n",
       "    .dataframe tbody tr th {\n",
       "        vertical-align: top;\n",
       "    }\n",
       "</style>\n",
       "<table border=\"1\" class=\"dataframe\">\n",
       "  <thead>\n",
       "    <tr style=\"text-align: right;\">\n",
       "      <th></th>\n",
       "      <th>Are you self-employed?</th>\n",
       "      <th>How many employees does your company or organization have?</th>\n",
       "      <th>Is your employer primarily a tech company/organization?</th>\n",
       "      <th>Is your primary role within your company related to tech/IT?</th>\n",
       "      <th>Does your employer provide mental health benefits as part of healthcare coverage?</th>\n",
       "      <th>Do you know the options for mental health care available under your employer-provided coverage?</th>\n",
       "      <th>Has your employer ever formally discussed mental health (for example, as part of a wellness campaign or other official communication)?</th>\n",
       "      <th>Does your employer offer resources to learn more about mental health concerns and options for seeking help?</th>\n",
       "      <th>Is your anonymity protected if you choose to take advantage of mental health or substance abuse treatment resources provided by your employer?</th>\n",
       "      <th>If a mental health issue prompted you to request a medical leave from work, asking for that leave would be:</th>\n",
       "      <th>...</th>\n",
       "      <th>If you have a mental health issue, do you feel that it interferes with your work when being treated effectively?</th>\n",
       "      <th>If you have a mental health issue, do you feel that it interferes with your work when NOT being treated effectively?</th>\n",
       "      <th>What is your age?</th>\n",
       "      <th>What is your gender?</th>\n",
       "      <th>What country do you live in?</th>\n",
       "      <th>What US state or territory do you live in?</th>\n",
       "      <th>What country do you work in?</th>\n",
       "      <th>What US state or territory do you work in?</th>\n",
       "      <th>Which of the following best describes your work position?</th>\n",
       "      <th>Do you work remotely?</th>\n",
       "    </tr>\n",
       "  </thead>\n",
       "  <tbody>\n",
       "    <tr>\n",
       "      <th>0</th>\n",
       "      <td>0</td>\n",
       "      <td>26-100</td>\n",
       "      <td>1.0</td>\n",
       "      <td>NaN</td>\n",
       "      <td>Not eligible for coverage / N/A</td>\n",
       "      <td>NaN</td>\n",
       "      <td>No</td>\n",
       "      <td>No</td>\n",
       "      <td>I don't know</td>\n",
       "      <td>Very easy</td>\n",
       "      <td>...</td>\n",
       "      <td>Not applicable to me</td>\n",
       "      <td>Not applicable to me</td>\n",
       "      <td>39</td>\n",
       "      <td>Male</td>\n",
       "      <td>United Kingdom</td>\n",
       "      <td>NaN</td>\n",
       "      <td>United Kingdom</td>\n",
       "      <td>NaN</td>\n",
       "      <td>Back-end Developer</td>\n",
       "      <td>Sometimes</td>\n",
       "    </tr>\n",
       "    <tr>\n",
       "      <th>1</th>\n",
       "      <td>0</td>\n",
       "      <td>6-25</td>\n",
       "      <td>1.0</td>\n",
       "      <td>NaN</td>\n",
       "      <td>No</td>\n",
       "      <td>Yes</td>\n",
       "      <td>Yes</td>\n",
       "      <td>Yes</td>\n",
       "      <td>Yes</td>\n",
       "      <td>Somewhat easy</td>\n",
       "      <td>...</td>\n",
       "      <td>Rarely</td>\n",
       "      <td>Sometimes</td>\n",
       "      <td>29</td>\n",
       "      <td>male</td>\n",
       "      <td>United States of America</td>\n",
       "      <td>Illinois</td>\n",
       "      <td>United States of America</td>\n",
       "      <td>Illinois</td>\n",
       "      <td>Back-end Developer|Front-end Developer</td>\n",
       "      <td>Never</td>\n",
       "    </tr>\n",
       "    <tr>\n",
       "      <th>2</th>\n",
       "      <td>0</td>\n",
       "      <td>6-25</td>\n",
       "      <td>1.0</td>\n",
       "      <td>NaN</td>\n",
       "      <td>No</td>\n",
       "      <td>NaN</td>\n",
       "      <td>No</td>\n",
       "      <td>No</td>\n",
       "      <td>I don't know</td>\n",
       "      <td>Neither easy nor difficult</td>\n",
       "      <td>...</td>\n",
       "      <td>Not applicable to me</td>\n",
       "      <td>Not applicable to me</td>\n",
       "      <td>38</td>\n",
       "      <td>Male</td>\n",
       "      <td>United Kingdom</td>\n",
       "      <td>NaN</td>\n",
       "      <td>United Kingdom</td>\n",
       "      <td>NaN</td>\n",
       "      <td>Back-end Developer</td>\n",
       "      <td>Always</td>\n",
       "    </tr>\n",
       "    <tr>\n",
       "      <th>3</th>\n",
       "      <td>1</td>\n",
       "      <td>NaN</td>\n",
       "      <td>NaN</td>\n",
       "      <td>NaN</td>\n",
       "      <td>NaN</td>\n",
       "      <td>NaN</td>\n",
       "      <td>NaN</td>\n",
       "      <td>NaN</td>\n",
       "      <td>NaN</td>\n",
       "      <td>NaN</td>\n",
       "      <td>...</td>\n",
       "      <td>Sometimes</td>\n",
       "      <td>Sometimes</td>\n",
       "      <td>43</td>\n",
       "      <td>male</td>\n",
       "      <td>United Kingdom</td>\n",
       "      <td>NaN</td>\n",
       "      <td>United Kingdom</td>\n",
       "      <td>NaN</td>\n",
       "      <td>Supervisor/Team Lead</td>\n",
       "      <td>Sometimes</td>\n",
       "    </tr>\n",
       "    <tr>\n",
       "      <th>4</th>\n",
       "      <td>0</td>\n",
       "      <td>6-25</td>\n",
       "      <td>0.0</td>\n",
       "      <td>1.0</td>\n",
       "      <td>Yes</td>\n",
       "      <td>Yes</td>\n",
       "      <td>No</td>\n",
       "      <td>No</td>\n",
       "      <td>No</td>\n",
       "      <td>Neither easy nor difficult</td>\n",
       "      <td>...</td>\n",
       "      <td>Sometimes</td>\n",
       "      <td>Sometimes</td>\n",
       "      <td>43</td>\n",
       "      <td>Female</td>\n",
       "      <td>United States of America</td>\n",
       "      <td>Illinois</td>\n",
       "      <td>United States of America</td>\n",
       "      <td>Illinois</td>\n",
       "      <td>Executive Leadership|Supervisor/Team Lead|Dev ...</td>\n",
       "      <td>Sometimes</td>\n",
       "    </tr>\n",
       "  </tbody>\n",
       "</table>\n",
       "<p>5 rows × 63 columns</p>\n",
       "</div>"
      ],
      "text/plain": [
       "   Are you self-employed?  \\\n",
       "0                       0   \n",
       "1                       0   \n",
       "2                       0   \n",
       "3                       1   \n",
       "4                       0   \n",
       "\n",
       "  How many employees does your company or organization have?  \\\n",
       "0                                             26-100           \n",
       "1                                               6-25           \n",
       "2                                               6-25           \n",
       "3                                                NaN           \n",
       "4                                               6-25           \n",
       "\n",
       "   Is your employer primarily a tech company/organization?  \\\n",
       "0                                                1.0         \n",
       "1                                                1.0         \n",
       "2                                                1.0         \n",
       "3                                                NaN         \n",
       "4                                                0.0         \n",
       "\n",
       "   Is your primary role within your company related to tech/IT?  \\\n",
       "0                                                NaN              \n",
       "1                                                NaN              \n",
       "2                                                NaN              \n",
       "3                                                NaN              \n",
       "4                                                1.0              \n",
       "\n",
       "  Does your employer provide mental health benefits as part of healthcare coverage?  \\\n",
       "0                    Not eligible for coverage / N/A                                  \n",
       "1                                                 No                                  \n",
       "2                                                 No                                  \n",
       "3                                                NaN                                  \n",
       "4                                                Yes                                  \n",
       "\n",
       "  Do you know the options for mental health care available under your employer-provided coverage?  \\\n",
       "0                                                NaN                                                \n",
       "1                                                Yes                                                \n",
       "2                                                NaN                                                \n",
       "3                                                NaN                                                \n",
       "4                                                Yes                                                \n",
       "\n",
       "  Has your employer ever formally discussed mental health (for example, as part of a wellness campaign or other official communication)?  \\\n",
       "0                                                 No                                                                                       \n",
       "1                                                Yes                                                                                       \n",
       "2                                                 No                                                                                       \n",
       "3                                                NaN                                                                                       \n",
       "4                                                 No                                                                                       \n",
       "\n",
       "  Does your employer offer resources to learn more about mental health concerns and options for seeking help?  \\\n",
       "0                                                 No                                                            \n",
       "1                                                Yes                                                            \n",
       "2                                                 No                                                            \n",
       "3                                                NaN                                                            \n",
       "4                                                 No                                                            \n",
       "\n",
       "  Is your anonymity protected if you choose to take advantage of mental health or substance abuse treatment resources provided by your employer?  \\\n",
       "0                                       I don't know                                                                                               \n",
       "1                                                Yes                                                                                               \n",
       "2                                       I don't know                                                                                               \n",
       "3                                                NaN                                                                                               \n",
       "4                                                 No                                                                                               \n",
       "\n",
       "  If a mental health issue prompted you to request a medical leave from work, asking for that leave would be:  \\\n",
       "0                                          Very easy                                                            \n",
       "1                                      Somewhat easy                                                            \n",
       "2                         Neither easy nor difficult                                                            \n",
       "3                                                NaN                                                            \n",
       "4                         Neither easy nor difficult                                                            \n",
       "\n",
       "           ...           \\\n",
       "0          ...            \n",
       "1          ...            \n",
       "2          ...            \n",
       "3          ...            \n",
       "4          ...            \n",
       "\n",
       "  If you have a mental health issue, do you feel that it interferes with your work when being treated effectively?  \\\n",
       "0                               Not applicable to me                                                                 \n",
       "1                                             Rarely                                                                 \n",
       "2                               Not applicable to me                                                                 \n",
       "3                                          Sometimes                                                                 \n",
       "4                                          Sometimes                                                                 \n",
       "\n",
       "  If you have a mental health issue, do you feel that it interferes with your work when NOT being treated effectively?  \\\n",
       "0                               Not applicable to me                                                                     \n",
       "1                                          Sometimes                                                                     \n",
       "2                               Not applicable to me                                                                     \n",
       "3                                          Sometimes                                                                     \n",
       "4                                          Sometimes                                                                     \n",
       "\n",
       "  What is your age? What is your gender? What country do you live in?  \\\n",
       "0                39                 Male               United Kingdom   \n",
       "1                29                 male     United States of America   \n",
       "2                38                Male                United Kingdom   \n",
       "3                43                 male               United Kingdom   \n",
       "4                43               Female     United States of America   \n",
       "\n",
       "  What US state or territory do you live in?  What country do you work in?  \\\n",
       "0                                        NaN                United Kingdom   \n",
       "1                                   Illinois      United States of America   \n",
       "2                                        NaN                United Kingdom   \n",
       "3                                        NaN                United Kingdom   \n",
       "4                                   Illinois      United States of America   \n",
       "\n",
       "  What US state or territory do you work in?  \\\n",
       "0                                        NaN   \n",
       "1                                   Illinois   \n",
       "2                                        NaN   \n",
       "3                                        NaN   \n",
       "4                                   Illinois   \n",
       "\n",
       "  Which of the following best describes your work position?  \\\n",
       "0                                 Back-end Developer          \n",
       "1             Back-end Developer|Front-end Developer          \n",
       "2                                 Back-end Developer          \n",
       "3                               Supervisor/Team Lead          \n",
       "4  Executive Leadership|Supervisor/Team Lead|Dev ...          \n",
       "\n",
       "  Do you work remotely?  \n",
       "0             Sometimes  \n",
       "1                 Never  \n",
       "2                Always  \n",
       "3             Sometimes  \n",
       "4             Sometimes  \n",
       "\n",
       "[5 rows x 63 columns]"
      ]
     },
     "execution_count": 1618,
     "metadata": {},
     "output_type": "execute_result"
    }
   ],
   "source": [
    "import numpy as np\n",
    "import pandas as pd\n",
    "import warnings\n",
    "warnings.filterwarnings(\"ignore\")\n",
    "\n",
    "df = pd.read_csv('../data/mental-heath-in-tech-2016_20161114.csv')\n",
    "df.head()"
   ]
  },
  {
   "cell_type": "markdown",
   "metadata": {},
   "source": [
    "There were a lot of questions asked in this survey.  We are only going to consider a few of them here."
   ]
  },
  {
   "cell_type": "code",
   "execution_count": 1619,
   "metadata": {
    "collapsed": true
   },
   "outputs": [],
   "source": [
    "data = np.array([df['What is your age?'],\n",
    "        df['What is your gender?'],\n",
    "        df['What country do you live in?'],\n",
    "        df['What country do you work in?'],\n",
    "        df['How many employees does your company or organization have?'],\n",
    "        df['Has your employer ever formally discussed mental health (for example, as part of a wellness campaign or other official communication)?'],\n",
    "        df['Do you have a family history of mental illness?'],\n",
    "        df['Have you had a mental health disorder in the past?'],\n",
    "        df['Do you currently have a mental health disorder?'],\n",
    "        df['Have you ever sought treatment for a mental health issue from a mental health professional?'],\n",
    "        df['Do you work remotely?']\n",
    "       ])\n",
    "\n",
    "columns= ['age',\n",
    "         'gender',\n",
    "         'residence_location',\n",
    "         'work_location',\n",
    "         'num_employees',\n",
    "         'employer_awareness',\n",
    "         'family_history',\n",
    "         'past_history',\n",
    "         'current_state',\n",
    "         'treatment',\n",
    "         'remote']\n"
   ]
  },
  {
   "cell_type": "code",
   "execution_count": 1620,
   "metadata": {},
   "outputs": [
    {
     "data": {
      "text/html": [
       "<div>\n",
       "<style>\n",
       "    .dataframe thead tr:only-child th {\n",
       "        text-align: right;\n",
       "    }\n",
       "\n",
       "    .dataframe thead th {\n",
       "        text-align: left;\n",
       "    }\n",
       "\n",
       "    .dataframe tbody tr th {\n",
       "        vertical-align: top;\n",
       "    }\n",
       "</style>\n",
       "<table border=\"1\" class=\"dataframe\">\n",
       "  <thead>\n",
       "    <tr style=\"text-align: right;\">\n",
       "      <th></th>\n",
       "      <th>age</th>\n",
       "      <th>gender</th>\n",
       "      <th>residence_location</th>\n",
       "      <th>work_location</th>\n",
       "      <th>num_employees</th>\n",
       "      <th>employer_awareness</th>\n",
       "      <th>family_history</th>\n",
       "      <th>past_history</th>\n",
       "      <th>current_state</th>\n",
       "      <th>treatment</th>\n",
       "      <th>remote</th>\n",
       "    </tr>\n",
       "  </thead>\n",
       "  <tbody>\n",
       "    <tr>\n",
       "      <th>0</th>\n",
       "      <td>39</td>\n",
       "      <td>Male</td>\n",
       "      <td>United Kingdom</td>\n",
       "      <td>United Kingdom</td>\n",
       "      <td>26-100</td>\n",
       "      <td>No</td>\n",
       "      <td>No</td>\n",
       "      <td>Yes</td>\n",
       "      <td>No</td>\n",
       "      <td>0</td>\n",
       "      <td>Sometimes</td>\n",
       "    </tr>\n",
       "    <tr>\n",
       "      <th>1</th>\n",
       "      <td>29</td>\n",
       "      <td>male</td>\n",
       "      <td>United States of America</td>\n",
       "      <td>United States of America</td>\n",
       "      <td>6-25</td>\n",
       "      <td>Yes</td>\n",
       "      <td>Yes</td>\n",
       "      <td>Yes</td>\n",
       "      <td>Yes</td>\n",
       "      <td>1</td>\n",
       "      <td>Never</td>\n",
       "    </tr>\n",
       "    <tr>\n",
       "      <th>2</th>\n",
       "      <td>38</td>\n",
       "      <td>Male</td>\n",
       "      <td>United Kingdom</td>\n",
       "      <td>United Kingdom</td>\n",
       "      <td>6-25</td>\n",
       "      <td>No</td>\n",
       "      <td>No</td>\n",
       "      <td>Maybe</td>\n",
       "      <td>No</td>\n",
       "      <td>1</td>\n",
       "      <td>Always</td>\n",
       "    </tr>\n",
       "    <tr>\n",
       "      <th>3</th>\n",
       "      <td>43</td>\n",
       "      <td>male</td>\n",
       "      <td>United Kingdom</td>\n",
       "      <td>United Kingdom</td>\n",
       "      <td>NaN</td>\n",
       "      <td>NaN</td>\n",
       "      <td>No</td>\n",
       "      <td>Yes</td>\n",
       "      <td>Yes</td>\n",
       "      <td>1</td>\n",
       "      <td>Sometimes</td>\n",
       "    </tr>\n",
       "    <tr>\n",
       "      <th>4</th>\n",
       "      <td>43</td>\n",
       "      <td>Female</td>\n",
       "      <td>United States of America</td>\n",
       "      <td>United States of America</td>\n",
       "      <td>6-25</td>\n",
       "      <td>No</td>\n",
       "      <td>Yes</td>\n",
       "      <td>Yes</td>\n",
       "      <td>Yes</td>\n",
       "      <td>1</td>\n",
       "      <td>Sometimes</td>\n",
       "    </tr>\n",
       "  </tbody>\n",
       "</table>\n",
       "</div>"
      ],
      "text/plain": [
       "  age  gender        residence_location             work_location  \\\n",
       "0  39    Male            United Kingdom            United Kingdom   \n",
       "1  29    male  United States of America  United States of America   \n",
       "2  38   Male             United Kingdom            United Kingdom   \n",
       "3  43    male            United Kingdom            United Kingdom   \n",
       "4  43  Female  United States of America  United States of America   \n",
       "\n",
       "  num_employees employer_awareness family_history past_history current_state  \\\n",
       "0        26-100                 No             No          Yes            No   \n",
       "1          6-25                Yes            Yes          Yes           Yes   \n",
       "2          6-25                 No             No        Maybe            No   \n",
       "3           NaN                NaN             No          Yes           Yes   \n",
       "4          6-25                 No            Yes          Yes           Yes   \n",
       "\n",
       "  treatment     remote  \n",
       "0         0  Sometimes  \n",
       "1         1      Never  \n",
       "2         1     Always  \n",
       "3         1  Sometimes  \n",
       "4         1  Sometimes  "
      ]
     },
     "execution_count": 1620,
     "metadata": {},
     "output_type": "execute_result"
    }
   ],
   "source": [
    "df = pd.DataFrame(data=data)\n",
    "df = df.T # transpose because lists are horizontal\n",
    "df.columns = columns\n",
    "df.head()"
   ]
  },
  {
   "cell_type": "code",
   "execution_count": 1621,
   "metadata": {},
   "outputs": [
    {
     "name": "stdout",
     "output_type": "stream",
     "text": [
      "<class 'pandas.core.frame.DataFrame'>\n",
      "RangeIndex: 1433 entries, 0 to 1432\n",
      "Data columns (total 11 columns):\n",
      "age                   1433 non-null object\n",
      "gender                1430 non-null object\n",
      "residence_location    1433 non-null object\n",
      "work_location         1433 non-null object\n",
      "num_employees         1146 non-null object\n",
      "employer_awareness    1146 non-null object\n",
      "family_history        1433 non-null object\n",
      "past_history          1433 non-null object\n",
      "current_state         1433 non-null object\n",
      "treatment             1433 non-null object\n",
      "remote                1433 non-null object\n",
      "dtypes: object(11)\n",
      "memory usage: 123.2+ KB\n"
     ]
    }
   ],
   "source": [
    "df.info()"
   ]
  },
  {
   "cell_type": "markdown",
   "metadata": {},
   "source": [
    "Lets look at each attribute in more detail"
   ]
  },
  {
   "cell_type": "markdown",
   "metadata": {},
   "source": [
    "### Age"
   ]
  },
  {
   "cell_type": "markdown",
   "metadata": {},
   "source": [
    "First let's see if all of the entries for the age attribute are numeric"
   ]
  },
  {
   "cell_type": "code",
   "execution_count": 1622,
   "metadata": {},
   "outputs": [
    {
     "data": {
      "text/html": [
       "<div>\n",
       "<style>\n",
       "    .dataframe thead tr:only-child th {\n",
       "        text-align: right;\n",
       "    }\n",
       "\n",
       "    .dataframe thead th {\n",
       "        text-align: left;\n",
       "    }\n",
       "\n",
       "    .dataframe tbody tr th {\n",
       "        vertical-align: top;\n",
       "    }\n",
       "</style>\n",
       "<table border=\"1\" class=\"dataframe\">\n",
       "  <thead>\n",
       "    <tr style=\"text-align: right;\">\n",
       "      <th></th>\n",
       "      <th>age</th>\n",
       "      <th>gender</th>\n",
       "      <th>residence_location</th>\n",
       "      <th>work_location</th>\n",
       "      <th>num_employees</th>\n",
       "      <th>employer_awareness</th>\n",
       "      <th>family_history</th>\n",
       "      <th>past_history</th>\n",
       "      <th>current_state</th>\n",
       "      <th>treatment</th>\n",
       "      <th>remote</th>\n",
       "    </tr>\n",
       "  </thead>\n",
       "  <tbody>\n",
       "  </tbody>\n",
       "</table>\n",
       "</div>"
      ],
      "text/plain": [
       "Empty DataFrame\n",
       "Columns: [age, gender, residence_location, work_location, num_employees, employer_awareness, family_history, past_history, current_state, treatment, remote]\n",
       "Index: []"
      ]
     },
     "execution_count": 1622,
     "metadata": {},
     "output_type": "execute_result"
    }
   ],
   "source": [
    "df[df.age.apply(lambda x: type(x)!=np.int64)]"
   ]
  },
  {
   "cell_type": "markdown",
   "metadata": {},
   "source": [
    "They are, which is good.  So we can go ahead and cast that attribute as an integer"
   ]
  },
  {
   "cell_type": "code",
   "execution_count": 1623,
   "metadata": {},
   "outputs": [
    {
     "name": "stdout",
     "output_type": "stream",
     "text": [
      "<class 'pandas.core.frame.DataFrame'>\n",
      "RangeIndex: 1433 entries, 0 to 1432\n",
      "Data columns (total 11 columns):\n",
      "age                   1433 non-null int64\n",
      "gender                1430 non-null object\n",
      "residence_location    1433 non-null object\n",
      "work_location         1433 non-null object\n",
      "num_employees         1146 non-null object\n",
      "employer_awareness    1146 non-null object\n",
      "family_history        1433 non-null object\n",
      "past_history          1433 non-null object\n",
      "current_state         1433 non-null object\n",
      "treatment             1433 non-null object\n",
      "remote                1433 non-null object\n",
      "dtypes: int64(1), object(10)\n",
      "memory usage: 123.2+ KB\n"
     ]
    }
   ],
   "source": [
    "# casting as an int\n",
    "df.age = df.age.astype(np.int64)\n",
    "df.info()"
   ]
  },
  {
   "cell_type": "markdown",
   "metadata": {},
   "source": [
    "Let's see what kind of values we have for age."
   ]
  },
  {
   "cell_type": "code",
   "execution_count": 1624,
   "metadata": {},
   "outputs": [
    {
     "data": {
      "text/plain": [
       "count    1433.000000\n",
       "mean       34.286113\n",
       "std        11.290931\n",
       "min         3.000000\n",
       "25%        28.000000\n",
       "50%        33.000000\n",
       "75%        39.000000\n",
       "max       323.000000\n",
       "Name: age, dtype: float64"
      ]
     },
     "execution_count": 1624,
     "metadata": {},
     "output_type": "execute_result"
    }
   ],
   "source": [
    "df.age.describe()"
   ]
  },
  {
   "cell_type": "markdown",
   "metadata": {},
   "source": [
    "Looks like there a few erroneous entries.  It's doubtful that a 3 yo participated in this survey, and no one is 323.  Lets restrict the ages from 18 - 65, which is a typical age range for working adults."
   ]
  },
  {
   "cell_type": "code",
   "execution_count": 1625,
   "metadata": {},
   "outputs": [
    {
     "data": {
      "text/plain": [
       "count    1426.000000\n",
       "mean       33.998597\n",
       "std         7.933407\n",
       "min        17.000000\n",
       "25%        28.000000\n",
       "50%        33.000000\n",
       "75%        38.000000\n",
       "max        65.000000\n",
       "Name: age, dtype: float64"
      ]
     },
     "execution_count": 1625,
     "metadata": {},
     "output_type": "execute_result"
    }
   ],
   "source": [
    "df.drop(df[(df.age<16) | (df.age > 65)].index, inplace=True)\n",
    "df.age.describe()"
   ]
  },
  {
   "cell_type": "markdown",
   "metadata": {},
   "source": [
    "### Gender\n"
   ]
  },
  {
   "cell_type": "code",
   "execution_count": 1626,
   "metadata": {},
   "outputs": [
    {
     "data": {
      "text/plain": [
       "count     1423\n",
       "unique      68\n",
       "top       Male\n",
       "freq       607\n",
       "Name: gender, dtype: object"
      ]
     },
     "execution_count": 1626,
     "metadata": {},
     "output_type": "execute_result"
    }
   ],
   "source": [
    "df.gender.describe()"
   ]
  },
  {
   "cell_type": "markdown",
   "metadata": {},
   "source": [
    "There are 70 unique types.  That's not an issue in general, but it might make it difficult for the purpose of analysis.  But out of curiosity, what are all 70..."
   ]
  },
  {
   "cell_type": "code",
   "execution_count": 1627,
   "metadata": {
    "scrolled": true
   },
   "outputs": [
    {
     "data": {
      "text/plain": [
       "{nan,\n",
       " 'Unicorn',\n",
       " 'Androgynous',\n",
       " 'Agender',\n",
       " 'Man',\n",
       " 'I identify as female.',\n",
       " 'genderqueer woman',\n",
       " 'mtf',\n",
       " 'Cis female ',\n",
       " 'Malr',\n",
       " 'female',\n",
       " 'M',\n",
       " 'Male',\n",
       " 'cisdude',\n",
       " 'cis man',\n",
       " 'male',\n",
       " 'human',\n",
       " 'genderqueer',\n",
       " 'Genderfluid (born female)',\n",
       " 'Woman',\n",
       " 'Dude',\n",
       " 'non-binary',\n",
       " \"I'm a man why didn't you make this a drop down question. You should of asked sex? And I would of answered yes please. Seriously how much text can this take? \",\n",
       " 'mail',\n",
       " 'Queer',\n",
       " 'MALE',\n",
       " 'Female ',\n",
       " 'female/woman',\n",
       " 'female ',\n",
       " 'Cisgender Female',\n",
       " 'm',\n",
       " 'Male.',\n",
       " 'Cis-woman',\n",
       " 'Genderqueer',\n",
       " 'Male/genderqueer',\n",
       " 'Transgender woman',\n",
       " 'Male ',\n",
       " 'Male (cis)',\n",
       " 'Other/Transfeminine',\n",
       " 'Sex is male',\n",
       " 'woman',\n",
       " 'fem',\n",
       " 'none of your business',\n",
       " 'Male (trans, FtM)',\n",
       " 'Genderflux demi-girl',\n",
       " 'Female or Multi-Gender Femme',\n",
       " 'Female assigned at birth ',\n",
       " 'Transitioned, M2F',\n",
       " 'Cis Male',\n",
       " 'AFAB',\n",
       " 'Nonbinary',\n",
       " 'Fluid',\n",
       " 'Genderfluid',\n",
       " 'Enby',\n",
       " 'Cis male',\n",
       " 'Female (props for making this a freeform field, though)',\n",
       " 'nb masculine',\n",
       " 'F',\n",
       " 'Female',\n",
       " 'Human',\n",
       " 'f',\n",
       " 'male 9:1 female, roughly',\n",
       " 'M|',\n",
       " 'male ',\n",
       " 'fm',\n",
       " 'female-bodied; no feelings about gender',\n",
       " 'man',\n",
       " 'Bigender',\n",
       " 'cis male'}"
      ]
     },
     "execution_count": 1627,
     "metadata": {},
     "output_type": "execute_result"
    }
   ],
   "source": [
    "set(df.gender)"
   ]
  },
  {
   "cell_type": "markdown",
   "metadata": {},
   "source": [
    "Wow.  Okay that's great. Lets order it, hopefully something useful will appear."
   ]
  },
  {
   "cell_type": "code",
   "execution_count": 1628,
   "metadata": {},
   "outputs": [
    {
     "data": {
      "text/plain": [
       "gender\n",
       "Male                                                                                                                                                             607\n",
       "male                                                                                                                                                             247\n",
       "Female                                                                                                                                                           153\n",
       "female                                                                                                                                                            95\n",
       "M                                                                                                                                                                 86\n",
       "m                                                                                                                                                                 79\n",
       "F                                                                                                                                                                 38\n",
       "f                                                                                                                                                                 23\n",
       "Male                                                                                                                                                              11\n",
       "Female                                                                                                                                                             9\n",
       "woman                                                                                                                                                              4\n",
       "non-binary                                                                                                                                                         4\n",
       "female                                                                                                                                                             3\n",
       "man                                                                                                                                                                3\n",
       "Woman                                                                                                                                                              3\n",
       "male                                                                                                                                                               2\n",
       "Male (cis)                                                                                                                                                         2\n",
       "Agender                                                                                                                                                            2\n",
       "Man                                                                                                                                                                2\n",
       "Nonbinary                                                                                                                                                          2\n",
       "Genderfluid (born female)                                                                                                                                          1\n",
       "Bigender                                                                                                                                                           1\n",
       "Cis female                                                                                                                                                         1\n",
       "I'm a man why didn't you make this a drop down question. You should of asked sex? And I would of answered yes please. Seriously how much text can this take?       1\n",
       "I identify as female.                                                                                                                                              1\n",
       "Human                                                                                                                                                              1\n",
       "Genderqueer                                                                                                                                                        1\n",
       "Genderflux demi-girl                                                                                                                                               1\n",
       "Dude                                                                                                                                                               1\n",
       "Enby                                                                                                                                                               1\n",
       "                                                                                                                                                                ... \n",
       "Cis-woman                                                                                                                                                          1\n",
       "Cisgender Female                                                                                                                                                   1\n",
       "Genderfluid                                                                                                                                                        1\n",
       "Malr                                                                                                                                                               1\n",
       "Male (trans, FtM)                                                                                                                                                  1\n",
       "Male.                                                                                                                                                              1\n",
       "nb masculine                                                                                                                                                       1\n",
       "mtf                                                                                                                                                                1\n",
       "male 9:1 female, roughly                                                                                                                                           1\n",
       "mail                                                                                                                                                               1\n",
       "human                                                                                                                                                              1\n",
       "genderqueer woman                                                                                                                                                  1\n",
       "genderqueer                                                                                                                                                        1\n",
       "fm                                                                                                                                                                 1\n",
       "female/woman                                                                                                                                                       1\n",
       "female-bodied; no feelings about gender                                                                                                                            1\n",
       "fem                                                                                                                                                                1\n",
       "cisdude                                                                                                                                                            1\n",
       "cis man                                                                                                                                                            1\n",
       "cis male                                                                                                                                                           1\n",
       "Unicorn                                                                                                                                                            1\n",
       "Transitioned, M2F                                                                                                                                                  1\n",
       "Transgender woman                                                                                                                                                  1\n",
       "Sex is male                                                                                                                                                        1\n",
       "Queer                                                                                                                                                              1\n",
       "Other/Transfeminine                                                                                                                                                1\n",
       "M|                                                                                                                                                                 1\n",
       "none of your business                                                                                                                                              1\n",
       "Male/genderqueer                                                                                                                                                   1\n",
       "AFAB                                                                                                                                                               1\n",
       "Length: 68, dtype: int64"
      ]
     },
     "execution_count": 1628,
     "metadata": {},
     "output_type": "execute_result"
    }
   ],
   "source": [
    "df.groupby('gender').size().sort_values(ascending=False)"
   ]
  },
  {
   "cell_type": "markdown",
   "metadata": {},
   "source": [
    "We take [Male,male,M,m] and [Female,female,F,f] to male and female respectively, and drop everything else... not that they're inaccuracies, but because it will simplify the analysis."
   ]
  },
  {
   "cell_type": "code",
   "execution_count": 1629,
   "metadata": {},
   "outputs": [
    {
     "name": "stdout",
     "output_type": "stream",
     "text": [
      "<class 'pandas.core.frame.DataFrame'>\n",
      "Int64Index: 1328 entries, 0 to 1431\n",
      "Data columns (total 11 columns):\n",
      "age                   1328 non-null int64\n",
      "gender                1328 non-null bool\n",
      "residence_location    1328 non-null object\n",
      "work_location         1328 non-null object\n",
      "num_employees         1065 non-null object\n",
      "employer_awareness    1065 non-null object\n",
      "family_history        1328 non-null object\n",
      "past_history          1328 non-null object\n",
      "current_state         1328 non-null object\n",
      "treatment             1328 non-null object\n",
      "remote                1328 non-null object\n",
      "dtypes: bool(1), int64(1), object(9)\n",
      "memory usage: 115.4+ KB\n"
     ]
    }
   ],
   "source": [
    "# replace varieties of male and female to 0 and 1\n",
    "df.gender.replace(to_replace=['Male', 'M', 'male', 'm'], value=0, inplace=True)\n",
    "df.gender.replace(to_replace=['Female', 'F', 'female', 'f'], value=1, inplace=True)\n",
    "\n",
    "# remove all other observations\n",
    "df = df[df.gender.isin([0,1])]\n",
    "df.gender = df.gender.astype(bool)\n",
    "df.info()"
   ]
  },
  {
   "cell_type": "markdown",
   "metadata": {},
   "source": [
    "### Number of Employees\n",
    "\n",
    "It looks like there some missing data for number of employees and employer awareness.  Inspecting the dataset shows that these rows all correspond to participants who reported being self-employed.  Since we're interested primarily in the relationship between the person and their company, we'll just go ahead and drop these instances."
   ]
  },
  {
   "cell_type": "code",
   "execution_count": 1630,
   "metadata": {},
   "outputs": [
    {
     "name": "stdout",
     "output_type": "stream",
     "text": [
      "<class 'pandas.core.frame.DataFrame'>\n",
      "Int64Index: 1065 entries, 0 to 1431\n",
      "Data columns (total 11 columns):\n",
      "age                   1065 non-null int64\n",
      "gender                1065 non-null bool\n",
      "residence_location    1065 non-null object\n",
      "work_location         1065 non-null object\n",
      "num_employees         1065 non-null object\n",
      "employer_awareness    1065 non-null object\n",
      "family_history        1065 non-null object\n",
      "past_history          1065 non-null object\n",
      "current_state         1065 non-null object\n",
      "treatment             1065 non-null object\n",
      "remote                1065 non-null object\n",
      "dtypes: bool(1), int64(1), object(9)\n",
      "memory usage: 92.6+ KB\n"
     ]
    }
   ],
   "source": [
    "df.dropna(subset=['num_employees'], inplace=True)\n",
    "df.info()"
   ]
  },
  {
   "cell_type": "code",
   "execution_count": 1631,
   "metadata": {},
   "outputs": [
    {
     "data": {
      "text/html": [
       "<div>\n",
       "<style>\n",
       "    .dataframe thead tr:only-child th {\n",
       "        text-align: right;\n",
       "    }\n",
       "\n",
       "    .dataframe thead th {\n",
       "        text-align: left;\n",
       "    }\n",
       "\n",
       "    .dataframe tbody tr th {\n",
       "        vertical-align: top;\n",
       "    }\n",
       "</style>\n",
       "<table border=\"1\" class=\"dataframe\">\n",
       "  <thead>\n",
       "    <tr style=\"text-align: right;\">\n",
       "      <th></th>\n",
       "      <th>age</th>\n",
       "      <th>gender</th>\n",
       "      <th>residence_location</th>\n",
       "      <th>work_location</th>\n",
       "      <th>num_employees</th>\n",
       "      <th>employer_awareness</th>\n",
       "      <th>family_history</th>\n",
       "      <th>past_history</th>\n",
       "      <th>current_state</th>\n",
       "      <th>treatment</th>\n",
       "      <th>remote</th>\n",
       "    </tr>\n",
       "  </thead>\n",
       "  <tbody>\n",
       "    <tr>\n",
       "      <th>0</th>\n",
       "      <td>39</td>\n",
       "      <td>False</td>\n",
       "      <td>United Kingdom</td>\n",
       "      <td>United Kingdom</td>\n",
       "      <td>26-100</td>\n",
       "      <td>No</td>\n",
       "      <td>No</td>\n",
       "      <td>Yes</td>\n",
       "      <td>No</td>\n",
       "      <td>0</td>\n",
       "      <td>Sometimes</td>\n",
       "    </tr>\n",
       "    <tr>\n",
       "      <th>1</th>\n",
       "      <td>29</td>\n",
       "      <td>False</td>\n",
       "      <td>United States of America</td>\n",
       "      <td>United States of America</td>\n",
       "      <td>6-25</td>\n",
       "      <td>Yes</td>\n",
       "      <td>Yes</td>\n",
       "      <td>Yes</td>\n",
       "      <td>Yes</td>\n",
       "      <td>1</td>\n",
       "      <td>Never</td>\n",
       "    </tr>\n",
       "    <tr>\n",
       "      <th>4</th>\n",
       "      <td>43</td>\n",
       "      <td>True</td>\n",
       "      <td>United States of America</td>\n",
       "      <td>United States of America</td>\n",
       "      <td>6-25</td>\n",
       "      <td>No</td>\n",
       "      <td>Yes</td>\n",
       "      <td>Yes</td>\n",
       "      <td>Yes</td>\n",
       "      <td>1</td>\n",
       "      <td>Sometimes</td>\n",
       "    </tr>\n",
       "    <tr>\n",
       "      <th>5</th>\n",
       "      <td>42</td>\n",
       "      <td>False</td>\n",
       "      <td>United Kingdom</td>\n",
       "      <td>United Kingdom</td>\n",
       "      <td>More than 1000</td>\n",
       "      <td>No</td>\n",
       "      <td>No</td>\n",
       "      <td>No</td>\n",
       "      <td>Yes</td>\n",
       "      <td>1</td>\n",
       "      <td>Sometimes</td>\n",
       "    </tr>\n",
       "    <tr>\n",
       "      <th>6</th>\n",
       "      <td>30</td>\n",
       "      <td>False</td>\n",
       "      <td>United States of America</td>\n",
       "      <td>United States of America</td>\n",
       "      <td>26-100</td>\n",
       "      <td>No</td>\n",
       "      <td>No</td>\n",
       "      <td>No</td>\n",
       "      <td>No</td>\n",
       "      <td>0</td>\n",
       "      <td>Sometimes</td>\n",
       "    </tr>\n",
       "  </tbody>\n",
       "</table>\n",
       "</div>"
      ],
      "text/plain": [
       "   age  gender        residence_location             work_location  \\\n",
       "0   39   False            United Kingdom            United Kingdom   \n",
       "1   29   False  United States of America  United States of America   \n",
       "4   43    True  United States of America  United States of America   \n",
       "5   42   False            United Kingdom            United Kingdom   \n",
       "6   30   False  United States of America  United States of America   \n",
       "\n",
       "    num_employees employer_awareness family_history past_history  \\\n",
       "0          26-100                 No             No          Yes   \n",
       "1            6-25                Yes            Yes          Yes   \n",
       "4            6-25                 No            Yes          Yes   \n",
       "5  More than 1000                 No             No           No   \n",
       "6          26-100                 No             No           No   \n",
       "\n",
       "  current_state treatment     remote  \n",
       "0            No         0  Sometimes  \n",
       "1           Yes         1      Never  \n",
       "4           Yes         1  Sometimes  \n",
       "5           Yes         1  Sometimes  \n",
       "6            No         0  Sometimes  "
      ]
     },
     "execution_count": 1631,
     "metadata": {},
     "output_type": "execute_result"
    }
   ],
   "source": [
    "df.head()"
   ]
  },
  {
   "cell_type": "markdown",
   "metadata": {},
   "source": [
    "The number of employees was reported as a range, since its ordinal, we can encode this into an integer."
   ]
  },
  {
   "cell_type": "code",
   "execution_count": 1632,
   "metadata": {},
   "outputs": [
    {
     "data": {
      "text/plain": [
       "{'1-5', '100-500', '26-100', '500-1000', '6-25', 'More than 1000'}"
      ]
     },
     "execution_count": 1632,
     "metadata": {},
     "output_type": "execute_result"
    }
   ],
   "source": [
    "set(df.num_employees)"
   ]
  },
  {
   "cell_type": "code",
   "execution_count": 1633,
   "metadata": {},
   "outputs": [],
   "source": [
    "df.num_employees.replace(to_replace=['1-5', '6-25', '26-100', '100-500', '500-1000', 'More than 1000'],\n",
    "               value=range(1,7),\n",
    "               inplace=True)"
   ]
  },
  {
   "cell_type": "markdown",
   "metadata": {},
   "source": [
    "### Nominal attributes\n",
    "\n",
    "We will replace the text responses with integers.  This is not a great way to do this as using an integer implies some sort of ordering, we should one-hot encode them, but since we aren't going to be training any algorithm on this data at the moment, we can get away with it.\n",
    "\n",
    "Survey questions are difficult because they are posed as binary, but then allow more than two responses.  We could choose to only look at 'Yes' and 'No' responses and ignore the ambivalent 'Maybe' and 'I don't know'."
   ]
  },
  {
   "cell_type": "code",
   "execution_count": 1634,
   "metadata": {},
   "outputs": [],
   "source": [
    "df.past_history.replace(to_replace=['No', 'Maybe', 'Yes'], value=[0, 1, 2], inplace=True)\n",
    "df.current_state.replace(to_replace=['No', 'Maybe', 'Yes'], value=[0, 1, 2], inplace=True)\n",
    "\n",
    "df.employer_awareness.replace(to_replace=['No', 'Yes', 'I don\\'t know'], value=[0, 1, 2], inplace=True)\n",
    "df.family_history.replace(to_replace=['No', 'Yes', 'I don\\'t know'], value=[0, 1, 2], inplace=True)\n",
    "\n",
    "df.remote.replace(to_replace=['Never','Sometimes','Always'], value=[0,1,2], inplace=True)\n",
    "\n",
    "df.treatment = df.treatment.astype(bool)"
   ]
  },
  {
   "cell_type": "code",
   "execution_count": 1635,
   "metadata": {},
   "outputs": [
    {
     "name": "stdout",
     "output_type": "stream",
     "text": [
      "<class 'pandas.core.frame.DataFrame'>\n",
      "Int64Index: 1065 entries, 0 to 1431\n",
      "Data columns (total 11 columns):\n",
      "age                   1065 non-null int64\n",
      "gender                1065 non-null bool\n",
      "residence_location    1065 non-null object\n",
      "work_location         1065 non-null object\n",
      "num_employees         1065 non-null int64\n",
      "employer_awareness    1065 non-null int64\n",
      "family_history        1065 non-null int64\n",
      "past_history          1065 non-null int64\n",
      "current_state         1065 non-null int64\n",
      "treatment             1065 non-null bool\n",
      "remote                1065 non-null int64\n",
      "dtypes: bool(2), int64(7), object(2)\n",
      "memory usage: 85.3+ KB\n"
     ]
    }
   ],
   "source": [
    "df.info()"
   ]
  },
  {
   "cell_type": "code",
   "execution_count": 1636,
   "metadata": {},
   "outputs": [
    {
     "data": {
      "text/html": [
       "<div>\n",
       "<style>\n",
       "    .dataframe thead tr:only-child th {\n",
       "        text-align: right;\n",
       "    }\n",
       "\n",
       "    .dataframe thead th {\n",
       "        text-align: left;\n",
       "    }\n",
       "\n",
       "    .dataframe tbody tr th {\n",
       "        vertical-align: top;\n",
       "    }\n",
       "</style>\n",
       "<table border=\"1\" class=\"dataframe\">\n",
       "  <thead>\n",
       "    <tr style=\"text-align: right;\">\n",
       "      <th></th>\n",
       "      <th>age</th>\n",
       "      <th>gender</th>\n",
       "      <th>residence_location</th>\n",
       "      <th>work_location</th>\n",
       "      <th>num_employees</th>\n",
       "      <th>employer_awareness</th>\n",
       "      <th>family_history</th>\n",
       "      <th>past_history</th>\n",
       "      <th>current_state</th>\n",
       "      <th>treatment</th>\n",
       "      <th>remote</th>\n",
       "    </tr>\n",
       "  </thead>\n",
       "  <tbody>\n",
       "    <tr>\n",
       "      <th>0</th>\n",
       "      <td>39</td>\n",
       "      <td>False</td>\n",
       "      <td>United Kingdom</td>\n",
       "      <td>United Kingdom</td>\n",
       "      <td>3</td>\n",
       "      <td>0</td>\n",
       "      <td>0</td>\n",
       "      <td>2</td>\n",
       "      <td>0</td>\n",
       "      <td>False</td>\n",
       "      <td>1</td>\n",
       "    </tr>\n",
       "    <tr>\n",
       "      <th>1</th>\n",
       "      <td>29</td>\n",
       "      <td>False</td>\n",
       "      <td>United States of America</td>\n",
       "      <td>United States of America</td>\n",
       "      <td>2</td>\n",
       "      <td>1</td>\n",
       "      <td>1</td>\n",
       "      <td>2</td>\n",
       "      <td>2</td>\n",
       "      <td>True</td>\n",
       "      <td>0</td>\n",
       "    </tr>\n",
       "    <tr>\n",
       "      <th>4</th>\n",
       "      <td>43</td>\n",
       "      <td>True</td>\n",
       "      <td>United States of America</td>\n",
       "      <td>United States of America</td>\n",
       "      <td>2</td>\n",
       "      <td>0</td>\n",
       "      <td>1</td>\n",
       "      <td>2</td>\n",
       "      <td>2</td>\n",
       "      <td>True</td>\n",
       "      <td>1</td>\n",
       "    </tr>\n",
       "    <tr>\n",
       "      <th>5</th>\n",
       "      <td>42</td>\n",
       "      <td>False</td>\n",
       "      <td>United Kingdom</td>\n",
       "      <td>United Kingdom</td>\n",
       "      <td>6</td>\n",
       "      <td>0</td>\n",
       "      <td>0</td>\n",
       "      <td>0</td>\n",
       "      <td>2</td>\n",
       "      <td>True</td>\n",
       "      <td>1</td>\n",
       "    </tr>\n",
       "    <tr>\n",
       "      <th>6</th>\n",
       "      <td>30</td>\n",
       "      <td>False</td>\n",
       "      <td>United States of America</td>\n",
       "      <td>United States of America</td>\n",
       "      <td>3</td>\n",
       "      <td>0</td>\n",
       "      <td>0</td>\n",
       "      <td>0</td>\n",
       "      <td>0</td>\n",
       "      <td>False</td>\n",
       "      <td>1</td>\n",
       "    </tr>\n",
       "    <tr>\n",
       "      <th>7</th>\n",
       "      <td>37</td>\n",
       "      <td>True</td>\n",
       "      <td>United States of America</td>\n",
       "      <td>United States of America</td>\n",
       "      <td>6</td>\n",
       "      <td>0</td>\n",
       "      <td>1</td>\n",
       "      <td>2</td>\n",
       "      <td>2</td>\n",
       "      <td>True</td>\n",
       "      <td>2</td>\n",
       "    </tr>\n",
       "    <tr>\n",
       "      <th>8</th>\n",
       "      <td>44</td>\n",
       "      <td>True</td>\n",
       "      <td>United States of America</td>\n",
       "      <td>United States of America</td>\n",
       "      <td>3</td>\n",
       "      <td>0</td>\n",
       "      <td>1</td>\n",
       "      <td>2</td>\n",
       "      <td>2</td>\n",
       "      <td>True</td>\n",
       "      <td>1</td>\n",
       "    </tr>\n",
       "    <tr>\n",
       "      <th>10</th>\n",
       "      <td>28</td>\n",
       "      <td>False</td>\n",
       "      <td>United States of America</td>\n",
       "      <td>United States of America</td>\n",
       "      <td>3</td>\n",
       "      <td>1</td>\n",
       "      <td>2</td>\n",
       "      <td>2</td>\n",
       "      <td>2</td>\n",
       "      <td>True</td>\n",
       "      <td>0</td>\n",
       "    </tr>\n",
       "    <tr>\n",
       "      <th>11</th>\n",
       "      <td>34</td>\n",
       "      <td>False</td>\n",
       "      <td>United States of America</td>\n",
       "      <td>United States of America</td>\n",
       "      <td>4</td>\n",
       "      <td>0</td>\n",
       "      <td>1</td>\n",
       "      <td>2</td>\n",
       "      <td>2</td>\n",
       "      <td>True</td>\n",
       "      <td>1</td>\n",
       "    </tr>\n",
       "    <tr>\n",
       "      <th>12</th>\n",
       "      <td>30</td>\n",
       "      <td>True</td>\n",
       "      <td>United States of America</td>\n",
       "      <td>United States of America</td>\n",
       "      <td>4</td>\n",
       "      <td>0</td>\n",
       "      <td>1</td>\n",
       "      <td>2</td>\n",
       "      <td>2</td>\n",
       "      <td>True</td>\n",
       "      <td>2</td>\n",
       "    </tr>\n",
       "    <tr>\n",
       "      <th>13</th>\n",
       "      <td>44</td>\n",
       "      <td>False</td>\n",
       "      <td>Canada</td>\n",
       "      <td>Canada</td>\n",
       "      <td>4</td>\n",
       "      <td>1</td>\n",
       "      <td>0</td>\n",
       "      <td>1</td>\n",
       "      <td>1</td>\n",
       "      <td>False</td>\n",
       "      <td>1</td>\n",
       "    </tr>\n",
       "    <tr>\n",
       "      <th>14</th>\n",
       "      <td>35</td>\n",
       "      <td>False</td>\n",
       "      <td>United States of America</td>\n",
       "      <td>United States of America</td>\n",
       "      <td>4</td>\n",
       "      <td>0</td>\n",
       "      <td>1</td>\n",
       "      <td>2</td>\n",
       "      <td>2</td>\n",
       "      <td>True</td>\n",
       "      <td>2</td>\n",
       "    </tr>\n",
       "    <tr>\n",
       "      <th>15</th>\n",
       "      <td>52</td>\n",
       "      <td>False</td>\n",
       "      <td>United States of America</td>\n",
       "      <td>United States of America</td>\n",
       "      <td>4</td>\n",
       "      <td>0</td>\n",
       "      <td>1</td>\n",
       "      <td>2</td>\n",
       "      <td>2</td>\n",
       "      <td>True</td>\n",
       "      <td>1</td>\n",
       "    </tr>\n",
       "    <tr>\n",
       "      <th>17</th>\n",
       "      <td>34</td>\n",
       "      <td>False</td>\n",
       "      <td>United Kingdom</td>\n",
       "      <td>United Kingdom</td>\n",
       "      <td>5</td>\n",
       "      <td>0</td>\n",
       "      <td>0</td>\n",
       "      <td>0</td>\n",
       "      <td>0</td>\n",
       "      <td>False</td>\n",
       "      <td>0</td>\n",
       "    </tr>\n",
       "    <tr>\n",
       "      <th>19</th>\n",
       "      <td>31</td>\n",
       "      <td>False</td>\n",
       "      <td>United States of America</td>\n",
       "      <td>United States of America</td>\n",
       "      <td>4</td>\n",
       "      <td>0</td>\n",
       "      <td>1</td>\n",
       "      <td>2</td>\n",
       "      <td>2</td>\n",
       "      <td>True</td>\n",
       "      <td>1</td>\n",
       "    </tr>\n",
       "    <tr>\n",
       "      <th>20</th>\n",
       "      <td>26</td>\n",
       "      <td>False</td>\n",
       "      <td>United States of America</td>\n",
       "      <td>United States of America</td>\n",
       "      <td>2</td>\n",
       "      <td>0</td>\n",
       "      <td>1</td>\n",
       "      <td>1</td>\n",
       "      <td>0</td>\n",
       "      <td>False</td>\n",
       "      <td>1</td>\n",
       "    </tr>\n",
       "    <tr>\n",
       "      <th>21</th>\n",
       "      <td>35</td>\n",
       "      <td>False</td>\n",
       "      <td>United States of America</td>\n",
       "      <td>United States of America</td>\n",
       "      <td>6</td>\n",
       "      <td>1</td>\n",
       "      <td>0</td>\n",
       "      <td>0</td>\n",
       "      <td>0</td>\n",
       "      <td>False</td>\n",
       "      <td>0</td>\n",
       "    </tr>\n",
       "    <tr>\n",
       "      <th>22</th>\n",
       "      <td>25</td>\n",
       "      <td>False</td>\n",
       "      <td>Germany</td>\n",
       "      <td>Germany</td>\n",
       "      <td>3</td>\n",
       "      <td>0</td>\n",
       "      <td>2</td>\n",
       "      <td>1</td>\n",
       "      <td>0</td>\n",
       "      <td>False</td>\n",
       "      <td>1</td>\n",
       "    </tr>\n",
       "    <tr>\n",
       "      <th>23</th>\n",
       "      <td>33</td>\n",
       "      <td>False</td>\n",
       "      <td>Canada</td>\n",
       "      <td>Canada</td>\n",
       "      <td>1</td>\n",
       "      <td>0</td>\n",
       "      <td>1</td>\n",
       "      <td>2</td>\n",
       "      <td>0</td>\n",
       "      <td>True</td>\n",
       "      <td>1</td>\n",
       "    </tr>\n",
       "    <tr>\n",
       "      <th>25</th>\n",
       "      <td>42</td>\n",
       "      <td>False</td>\n",
       "      <td>Germany</td>\n",
       "      <td>Germany</td>\n",
       "      <td>4</td>\n",
       "      <td>2</td>\n",
       "      <td>0</td>\n",
       "      <td>0</td>\n",
       "      <td>0</td>\n",
       "      <td>False</td>\n",
       "      <td>0</td>\n",
       "    </tr>\n",
       "    <tr>\n",
       "      <th>26</th>\n",
       "      <td>27</td>\n",
       "      <td>False</td>\n",
       "      <td>Netherlands</td>\n",
       "      <td>Netherlands</td>\n",
       "      <td>3</td>\n",
       "      <td>0</td>\n",
       "      <td>2</td>\n",
       "      <td>2</td>\n",
       "      <td>2</td>\n",
       "      <td>True</td>\n",
       "      <td>1</td>\n",
       "    </tr>\n",
       "    <tr>\n",
       "      <th>27</th>\n",
       "      <td>35</td>\n",
       "      <td>False</td>\n",
       "      <td>Germany</td>\n",
       "      <td>Germany</td>\n",
       "      <td>4</td>\n",
       "      <td>0</td>\n",
       "      <td>0</td>\n",
       "      <td>0</td>\n",
       "      <td>1</td>\n",
       "      <td>True</td>\n",
       "      <td>0</td>\n",
       "    </tr>\n",
       "    <tr>\n",
       "      <th>28</th>\n",
       "      <td>34</td>\n",
       "      <td>True</td>\n",
       "      <td>United Kingdom</td>\n",
       "      <td>United Kingdom</td>\n",
       "      <td>5</td>\n",
       "      <td>1</td>\n",
       "      <td>1</td>\n",
       "      <td>2</td>\n",
       "      <td>1</td>\n",
       "      <td>True</td>\n",
       "      <td>0</td>\n",
       "    </tr>\n",
       "    <tr>\n",
       "      <th>31</th>\n",
       "      <td>30</td>\n",
       "      <td>False</td>\n",
       "      <td>United States of America</td>\n",
       "      <td>United States of America</td>\n",
       "      <td>4</td>\n",
       "      <td>0</td>\n",
       "      <td>0</td>\n",
       "      <td>2</td>\n",
       "      <td>2</td>\n",
       "      <td>True</td>\n",
       "      <td>1</td>\n",
       "    </tr>\n",
       "    <tr>\n",
       "      <th>32</th>\n",
       "      <td>31</td>\n",
       "      <td>False</td>\n",
       "      <td>United States of America</td>\n",
       "      <td>United States of America</td>\n",
       "      <td>6</td>\n",
       "      <td>0</td>\n",
       "      <td>2</td>\n",
       "      <td>2</td>\n",
       "      <td>1</td>\n",
       "      <td>False</td>\n",
       "      <td>0</td>\n",
       "    </tr>\n",
       "    <tr>\n",
       "      <th>34</th>\n",
       "      <td>36</td>\n",
       "      <td>False</td>\n",
       "      <td>United Kingdom</td>\n",
       "      <td>United Kingdom</td>\n",
       "      <td>3</td>\n",
       "      <td>0</td>\n",
       "      <td>0</td>\n",
       "      <td>2</td>\n",
       "      <td>2</td>\n",
       "      <td>False</td>\n",
       "      <td>1</td>\n",
       "    </tr>\n",
       "    <tr>\n",
       "      <th>35</th>\n",
       "      <td>33</td>\n",
       "      <td>False</td>\n",
       "      <td>Germany</td>\n",
       "      <td>Germany</td>\n",
       "      <td>4</td>\n",
       "      <td>0</td>\n",
       "      <td>0</td>\n",
       "      <td>0</td>\n",
       "      <td>0</td>\n",
       "      <td>False</td>\n",
       "      <td>0</td>\n",
       "    </tr>\n",
       "    <tr>\n",
       "      <th>36</th>\n",
       "      <td>44</td>\n",
       "      <td>False</td>\n",
       "      <td>United States of America</td>\n",
       "      <td>United States of America</td>\n",
       "      <td>3</td>\n",
       "      <td>0</td>\n",
       "      <td>1</td>\n",
       "      <td>2</td>\n",
       "      <td>2</td>\n",
       "      <td>True</td>\n",
       "      <td>2</td>\n",
       "    </tr>\n",
       "    <tr>\n",
       "      <th>37</th>\n",
       "      <td>29</td>\n",
       "      <td>False</td>\n",
       "      <td>United Kingdom</td>\n",
       "      <td>United Kingdom</td>\n",
       "      <td>4</td>\n",
       "      <td>0</td>\n",
       "      <td>0</td>\n",
       "      <td>0</td>\n",
       "      <td>1</td>\n",
       "      <td>False</td>\n",
       "      <td>0</td>\n",
       "    </tr>\n",
       "    <tr>\n",
       "      <th>38</th>\n",
       "      <td>29</td>\n",
       "      <td>False</td>\n",
       "      <td>United Kingdom</td>\n",
       "      <td>United Kingdom</td>\n",
       "      <td>4</td>\n",
       "      <td>1</td>\n",
       "      <td>1</td>\n",
       "      <td>2</td>\n",
       "      <td>1</td>\n",
       "      <td>True</td>\n",
       "      <td>1</td>\n",
       "    </tr>\n",
       "    <tr>\n",
       "      <th>...</th>\n",
       "      <td>...</td>\n",
       "      <td>...</td>\n",
       "      <td>...</td>\n",
       "      <td>...</td>\n",
       "      <td>...</td>\n",
       "      <td>...</td>\n",
       "      <td>...</td>\n",
       "      <td>...</td>\n",
       "      <td>...</td>\n",
       "      <td>...</td>\n",
       "      <td>...</td>\n",
       "    </tr>\n",
       "    <tr>\n",
       "      <th>1394</th>\n",
       "      <td>33</td>\n",
       "      <td>False</td>\n",
       "      <td>United Kingdom</td>\n",
       "      <td>United Kingdom</td>\n",
       "      <td>3</td>\n",
       "      <td>0</td>\n",
       "      <td>1</td>\n",
       "      <td>2</td>\n",
       "      <td>1</td>\n",
       "      <td>True</td>\n",
       "      <td>0</td>\n",
       "    </tr>\n",
       "    <tr>\n",
       "      <th>1397</th>\n",
       "      <td>28</td>\n",
       "      <td>False</td>\n",
       "      <td>United States of America</td>\n",
       "      <td>United States of America</td>\n",
       "      <td>3</td>\n",
       "      <td>0</td>\n",
       "      <td>1</td>\n",
       "      <td>2</td>\n",
       "      <td>2</td>\n",
       "      <td>True</td>\n",
       "      <td>2</td>\n",
       "    </tr>\n",
       "    <tr>\n",
       "      <th>1398</th>\n",
       "      <td>30</td>\n",
       "      <td>False</td>\n",
       "      <td>United States of America</td>\n",
       "      <td>United States of America</td>\n",
       "      <td>6</td>\n",
       "      <td>0</td>\n",
       "      <td>1</td>\n",
       "      <td>2</td>\n",
       "      <td>2</td>\n",
       "      <td>True</td>\n",
       "      <td>0</td>\n",
       "    </tr>\n",
       "    <tr>\n",
       "      <th>1399</th>\n",
       "      <td>28</td>\n",
       "      <td>False</td>\n",
       "      <td>United States of America</td>\n",
       "      <td>United States of America</td>\n",
       "      <td>4</td>\n",
       "      <td>0</td>\n",
       "      <td>1</td>\n",
       "      <td>1</td>\n",
       "      <td>2</td>\n",
       "      <td>True</td>\n",
       "      <td>1</td>\n",
       "    </tr>\n",
       "    <tr>\n",
       "      <th>1400</th>\n",
       "      <td>28</td>\n",
       "      <td>True</td>\n",
       "      <td>United States of America</td>\n",
       "      <td>United States of America</td>\n",
       "      <td>2</td>\n",
       "      <td>1</td>\n",
       "      <td>1</td>\n",
       "      <td>2</td>\n",
       "      <td>1</td>\n",
       "      <td>True</td>\n",
       "      <td>2</td>\n",
       "    </tr>\n",
       "    <tr>\n",
       "      <th>1401</th>\n",
       "      <td>37</td>\n",
       "      <td>False</td>\n",
       "      <td>United States of America</td>\n",
       "      <td>United States of America</td>\n",
       "      <td>6</td>\n",
       "      <td>0</td>\n",
       "      <td>1</td>\n",
       "      <td>2</td>\n",
       "      <td>2</td>\n",
       "      <td>False</td>\n",
       "      <td>0</td>\n",
       "    </tr>\n",
       "    <tr>\n",
       "      <th>1402</th>\n",
       "      <td>30</td>\n",
       "      <td>False</td>\n",
       "      <td>United States of America</td>\n",
       "      <td>United States of America</td>\n",
       "      <td>3</td>\n",
       "      <td>1</td>\n",
       "      <td>1</td>\n",
       "      <td>2</td>\n",
       "      <td>2</td>\n",
       "      <td>False</td>\n",
       "      <td>1</td>\n",
       "    </tr>\n",
       "    <tr>\n",
       "      <th>1403</th>\n",
       "      <td>27</td>\n",
       "      <td>False</td>\n",
       "      <td>India</td>\n",
       "      <td>India</td>\n",
       "      <td>2</td>\n",
       "      <td>1</td>\n",
       "      <td>1</td>\n",
       "      <td>2</td>\n",
       "      <td>2</td>\n",
       "      <td>True</td>\n",
       "      <td>1</td>\n",
       "    </tr>\n",
       "    <tr>\n",
       "      <th>1405</th>\n",
       "      <td>28</td>\n",
       "      <td>False</td>\n",
       "      <td>Poland</td>\n",
       "      <td>Poland</td>\n",
       "      <td>6</td>\n",
       "      <td>0</td>\n",
       "      <td>2</td>\n",
       "      <td>2</td>\n",
       "      <td>1</td>\n",
       "      <td>True</td>\n",
       "      <td>0</td>\n",
       "    </tr>\n",
       "    <tr>\n",
       "      <th>1407</th>\n",
       "      <td>29</td>\n",
       "      <td>False</td>\n",
       "      <td>Afghanistan</td>\n",
       "      <td>United States of America</td>\n",
       "      <td>4</td>\n",
       "      <td>0</td>\n",
       "      <td>1</td>\n",
       "      <td>2</td>\n",
       "      <td>2</td>\n",
       "      <td>True</td>\n",
       "      <td>1</td>\n",
       "    </tr>\n",
       "    <tr>\n",
       "      <th>1409</th>\n",
       "      <td>36</td>\n",
       "      <td>False</td>\n",
       "      <td>United Kingdom</td>\n",
       "      <td>United Kingdom</td>\n",
       "      <td>4</td>\n",
       "      <td>1</td>\n",
       "      <td>2</td>\n",
       "      <td>0</td>\n",
       "      <td>2</td>\n",
       "      <td>True</td>\n",
       "      <td>2</td>\n",
       "    </tr>\n",
       "    <tr>\n",
       "      <th>1410</th>\n",
       "      <td>38</td>\n",
       "      <td>False</td>\n",
       "      <td>Belgium</td>\n",
       "      <td>Belgium</td>\n",
       "      <td>3</td>\n",
       "      <td>0</td>\n",
       "      <td>0</td>\n",
       "      <td>1</td>\n",
       "      <td>2</td>\n",
       "      <td>True</td>\n",
       "      <td>0</td>\n",
       "    </tr>\n",
       "    <tr>\n",
       "      <th>1411</th>\n",
       "      <td>22</td>\n",
       "      <td>True</td>\n",
       "      <td>United States of America</td>\n",
       "      <td>United States of America</td>\n",
       "      <td>2</td>\n",
       "      <td>0</td>\n",
       "      <td>0</td>\n",
       "      <td>2</td>\n",
       "      <td>2</td>\n",
       "      <td>True</td>\n",
       "      <td>1</td>\n",
       "    </tr>\n",
       "    <tr>\n",
       "      <th>1412</th>\n",
       "      <td>24</td>\n",
       "      <td>False</td>\n",
       "      <td>United States of America</td>\n",
       "      <td>United States of America</td>\n",
       "      <td>1</td>\n",
       "      <td>1</td>\n",
       "      <td>0</td>\n",
       "      <td>0</td>\n",
       "      <td>0</td>\n",
       "      <td>False</td>\n",
       "      <td>1</td>\n",
       "    </tr>\n",
       "    <tr>\n",
       "      <th>1413</th>\n",
       "      <td>24</td>\n",
       "      <td>True</td>\n",
       "      <td>United States of America</td>\n",
       "      <td>United States of America</td>\n",
       "      <td>4</td>\n",
       "      <td>0</td>\n",
       "      <td>1</td>\n",
       "      <td>2</td>\n",
       "      <td>2</td>\n",
       "      <td>True</td>\n",
       "      <td>1</td>\n",
       "    </tr>\n",
       "    <tr>\n",
       "      <th>1414</th>\n",
       "      <td>36</td>\n",
       "      <td>True</td>\n",
       "      <td>United States of America</td>\n",
       "      <td>United States of America</td>\n",
       "      <td>5</td>\n",
       "      <td>0</td>\n",
       "      <td>1</td>\n",
       "      <td>2</td>\n",
       "      <td>2</td>\n",
       "      <td>True</td>\n",
       "      <td>0</td>\n",
       "    </tr>\n",
       "    <tr>\n",
       "      <th>1415</th>\n",
       "      <td>24</td>\n",
       "      <td>True</td>\n",
       "      <td>United States of America</td>\n",
       "      <td>United States of America</td>\n",
       "      <td>6</td>\n",
       "      <td>0</td>\n",
       "      <td>1</td>\n",
       "      <td>2</td>\n",
       "      <td>2</td>\n",
       "      <td>True</td>\n",
       "      <td>0</td>\n",
       "    </tr>\n",
       "    <tr>\n",
       "      <th>1416</th>\n",
       "      <td>24</td>\n",
       "      <td>False</td>\n",
       "      <td>United States of America</td>\n",
       "      <td>United States of America</td>\n",
       "      <td>5</td>\n",
       "      <td>0</td>\n",
       "      <td>0</td>\n",
       "      <td>0</td>\n",
       "      <td>0</td>\n",
       "      <td>False</td>\n",
       "      <td>0</td>\n",
       "    </tr>\n",
       "    <tr>\n",
       "      <th>1417</th>\n",
       "      <td>31</td>\n",
       "      <td>False</td>\n",
       "      <td>Netherlands</td>\n",
       "      <td>Netherlands</td>\n",
       "      <td>3</td>\n",
       "      <td>0</td>\n",
       "      <td>1</td>\n",
       "      <td>2</td>\n",
       "      <td>2</td>\n",
       "      <td>True</td>\n",
       "      <td>0</td>\n",
       "    </tr>\n",
       "    <tr>\n",
       "      <th>1418</th>\n",
       "      <td>39</td>\n",
       "      <td>False</td>\n",
       "      <td>United Kingdom</td>\n",
       "      <td>United Kingdom</td>\n",
       "      <td>3</td>\n",
       "      <td>1</td>\n",
       "      <td>0</td>\n",
       "      <td>2</td>\n",
       "      <td>2</td>\n",
       "      <td>False</td>\n",
       "      <td>0</td>\n",
       "    </tr>\n",
       "    <tr>\n",
       "      <th>1419</th>\n",
       "      <td>41</td>\n",
       "      <td>False</td>\n",
       "      <td>United States of America</td>\n",
       "      <td>United States of America</td>\n",
       "      <td>6</td>\n",
       "      <td>1</td>\n",
       "      <td>1</td>\n",
       "      <td>2</td>\n",
       "      <td>2</td>\n",
       "      <td>True</td>\n",
       "      <td>1</td>\n",
       "    </tr>\n",
       "    <tr>\n",
       "      <th>1421</th>\n",
       "      <td>37</td>\n",
       "      <td>False</td>\n",
       "      <td>Estonia</td>\n",
       "      <td>Estonia</td>\n",
       "      <td>3</td>\n",
       "      <td>0</td>\n",
       "      <td>2</td>\n",
       "      <td>0</td>\n",
       "      <td>0</td>\n",
       "      <td>False</td>\n",
       "      <td>0</td>\n",
       "    </tr>\n",
       "    <tr>\n",
       "      <th>1422</th>\n",
       "      <td>30</td>\n",
       "      <td>False</td>\n",
       "      <td>Canada</td>\n",
       "      <td>United States of America</td>\n",
       "      <td>3</td>\n",
       "      <td>0</td>\n",
       "      <td>0</td>\n",
       "      <td>0</td>\n",
       "      <td>0</td>\n",
       "      <td>False</td>\n",
       "      <td>2</td>\n",
       "    </tr>\n",
       "    <tr>\n",
       "      <th>1423</th>\n",
       "      <td>24</td>\n",
       "      <td>False</td>\n",
       "      <td>Canada</td>\n",
       "      <td>Canada</td>\n",
       "      <td>4</td>\n",
       "      <td>1</td>\n",
       "      <td>0</td>\n",
       "      <td>0</td>\n",
       "      <td>0</td>\n",
       "      <td>False</td>\n",
       "      <td>1</td>\n",
       "    </tr>\n",
       "    <tr>\n",
       "      <th>1424</th>\n",
       "      <td>22</td>\n",
       "      <td>True</td>\n",
       "      <td>Canada</td>\n",
       "      <td>Canada</td>\n",
       "      <td>4</td>\n",
       "      <td>0</td>\n",
       "      <td>2</td>\n",
       "      <td>2</td>\n",
       "      <td>2</td>\n",
       "      <td>True</td>\n",
       "      <td>1</td>\n",
       "    </tr>\n",
       "    <tr>\n",
       "      <th>1425</th>\n",
       "      <td>24</td>\n",
       "      <td>False</td>\n",
       "      <td>Canada</td>\n",
       "      <td>Canada</td>\n",
       "      <td>4</td>\n",
       "      <td>1</td>\n",
       "      <td>2</td>\n",
       "      <td>1</td>\n",
       "      <td>1</td>\n",
       "      <td>False</td>\n",
       "      <td>1</td>\n",
       "    </tr>\n",
       "    <tr>\n",
       "      <th>1426</th>\n",
       "      <td>26</td>\n",
       "      <td>True</td>\n",
       "      <td>Canada</td>\n",
       "      <td>Canada</td>\n",
       "      <td>4</td>\n",
       "      <td>0</td>\n",
       "      <td>2</td>\n",
       "      <td>2</td>\n",
       "      <td>2</td>\n",
       "      <td>True</td>\n",
       "      <td>1</td>\n",
       "    </tr>\n",
       "    <tr>\n",
       "      <th>1427</th>\n",
       "      <td>38</td>\n",
       "      <td>True</td>\n",
       "      <td>United States of America</td>\n",
       "      <td>United States of America</td>\n",
       "      <td>5</td>\n",
       "      <td>0</td>\n",
       "      <td>1</td>\n",
       "      <td>2</td>\n",
       "      <td>2</td>\n",
       "      <td>True</td>\n",
       "      <td>2</td>\n",
       "    </tr>\n",
       "    <tr>\n",
       "      <th>1430</th>\n",
       "      <td>52</td>\n",
       "      <td>False</td>\n",
       "      <td>United States of America</td>\n",
       "      <td>United States of America</td>\n",
       "      <td>4</td>\n",
       "      <td>1</td>\n",
       "      <td>1</td>\n",
       "      <td>2</td>\n",
       "      <td>1</td>\n",
       "      <td>True</td>\n",
       "      <td>1</td>\n",
       "    </tr>\n",
       "    <tr>\n",
       "      <th>1431</th>\n",
       "      <td>30</td>\n",
       "      <td>True</td>\n",
       "      <td>United States of America</td>\n",
       "      <td>United States of America</td>\n",
       "      <td>4</td>\n",
       "      <td>0</td>\n",
       "      <td>1</td>\n",
       "      <td>1</td>\n",
       "      <td>2</td>\n",
       "      <td>False</td>\n",
       "      <td>1</td>\n",
       "    </tr>\n",
       "  </tbody>\n",
       "</table>\n",
       "<p>1065 rows × 11 columns</p>\n",
       "</div>"
      ],
      "text/plain": [
       "      age  gender        residence_location             work_location  \\\n",
       "0      39   False            United Kingdom            United Kingdom   \n",
       "1      29   False  United States of America  United States of America   \n",
       "4      43    True  United States of America  United States of America   \n",
       "5      42   False            United Kingdom            United Kingdom   \n",
       "6      30   False  United States of America  United States of America   \n",
       "7      37    True  United States of America  United States of America   \n",
       "8      44    True  United States of America  United States of America   \n",
       "10     28   False  United States of America  United States of America   \n",
       "11     34   False  United States of America  United States of America   \n",
       "12     30    True  United States of America  United States of America   \n",
       "13     44   False                    Canada                    Canada   \n",
       "14     35   False  United States of America  United States of America   \n",
       "15     52   False  United States of America  United States of America   \n",
       "17     34   False            United Kingdom            United Kingdom   \n",
       "19     31   False  United States of America  United States of America   \n",
       "20     26   False  United States of America  United States of America   \n",
       "21     35   False  United States of America  United States of America   \n",
       "22     25   False                   Germany                   Germany   \n",
       "23     33   False                    Canada                    Canada   \n",
       "25     42   False                   Germany                   Germany   \n",
       "26     27   False               Netherlands               Netherlands   \n",
       "27     35   False                   Germany                   Germany   \n",
       "28     34    True            United Kingdom            United Kingdom   \n",
       "31     30   False  United States of America  United States of America   \n",
       "32     31   False  United States of America  United States of America   \n",
       "34     36   False            United Kingdom            United Kingdom   \n",
       "35     33   False                   Germany                   Germany   \n",
       "36     44   False  United States of America  United States of America   \n",
       "37     29   False            United Kingdom            United Kingdom   \n",
       "38     29   False            United Kingdom            United Kingdom   \n",
       "...   ...     ...                       ...                       ...   \n",
       "1394   33   False            United Kingdom            United Kingdom   \n",
       "1397   28   False  United States of America  United States of America   \n",
       "1398   30   False  United States of America  United States of America   \n",
       "1399   28   False  United States of America  United States of America   \n",
       "1400   28    True  United States of America  United States of America   \n",
       "1401   37   False  United States of America  United States of America   \n",
       "1402   30   False  United States of America  United States of America   \n",
       "1403   27   False                     India                     India   \n",
       "1405   28   False                    Poland                    Poland   \n",
       "1407   29   False               Afghanistan  United States of America   \n",
       "1409   36   False            United Kingdom            United Kingdom   \n",
       "1410   38   False                   Belgium                   Belgium   \n",
       "1411   22    True  United States of America  United States of America   \n",
       "1412   24   False  United States of America  United States of America   \n",
       "1413   24    True  United States of America  United States of America   \n",
       "1414   36    True  United States of America  United States of America   \n",
       "1415   24    True  United States of America  United States of America   \n",
       "1416   24   False  United States of America  United States of America   \n",
       "1417   31   False               Netherlands               Netherlands   \n",
       "1418   39   False            United Kingdom            United Kingdom   \n",
       "1419   41   False  United States of America  United States of America   \n",
       "1421   37   False                   Estonia                   Estonia   \n",
       "1422   30   False                    Canada  United States of America   \n",
       "1423   24   False                    Canada                    Canada   \n",
       "1424   22    True                    Canada                    Canada   \n",
       "1425   24   False                    Canada                    Canada   \n",
       "1426   26    True                    Canada                    Canada   \n",
       "1427   38    True  United States of America  United States of America   \n",
       "1430   52   False  United States of America  United States of America   \n",
       "1431   30    True  United States of America  United States of America   \n",
       "\n",
       "      num_employees  employer_awareness  family_history  past_history  \\\n",
       "0                 3                   0               0             2   \n",
       "1                 2                   1               1             2   \n",
       "4                 2                   0               1             2   \n",
       "5                 6                   0               0             0   \n",
       "6                 3                   0               0             0   \n",
       "7                 6                   0               1             2   \n",
       "8                 3                   0               1             2   \n",
       "10                3                   1               2             2   \n",
       "11                4                   0               1             2   \n",
       "12                4                   0               1             2   \n",
       "13                4                   1               0             1   \n",
       "14                4                   0               1             2   \n",
       "15                4                   0               1             2   \n",
       "17                5                   0               0             0   \n",
       "19                4                   0               1             2   \n",
       "20                2                   0               1             1   \n",
       "21                6                   1               0             0   \n",
       "22                3                   0               2             1   \n",
       "23                1                   0               1             2   \n",
       "25                4                   2               0             0   \n",
       "26                3                   0               2             2   \n",
       "27                4                   0               0             0   \n",
       "28                5                   1               1             2   \n",
       "31                4                   0               0             2   \n",
       "32                6                   0               2             2   \n",
       "34                3                   0               0             2   \n",
       "35                4                   0               0             0   \n",
       "36                3                   0               1             2   \n",
       "37                4                   0               0             0   \n",
       "38                4                   1               1             2   \n",
       "...             ...                 ...             ...           ...   \n",
       "1394              3                   0               1             2   \n",
       "1397              3                   0               1             2   \n",
       "1398              6                   0               1             2   \n",
       "1399              4                   0               1             1   \n",
       "1400              2                   1               1             2   \n",
       "1401              6                   0               1             2   \n",
       "1402              3                   1               1             2   \n",
       "1403              2                   1               1             2   \n",
       "1405              6                   0               2             2   \n",
       "1407              4                   0               1             2   \n",
       "1409              4                   1               2             0   \n",
       "1410              3                   0               0             1   \n",
       "1411              2                   0               0             2   \n",
       "1412              1                   1               0             0   \n",
       "1413              4                   0               1             2   \n",
       "1414              5                   0               1             2   \n",
       "1415              6                   0               1             2   \n",
       "1416              5                   0               0             0   \n",
       "1417              3                   0               1             2   \n",
       "1418              3                   1               0             2   \n",
       "1419              6                   1               1             2   \n",
       "1421              3                   0               2             0   \n",
       "1422              3                   0               0             0   \n",
       "1423              4                   1               0             0   \n",
       "1424              4                   0               2             2   \n",
       "1425              4                   1               2             1   \n",
       "1426              4                   0               2             2   \n",
       "1427              5                   0               1             2   \n",
       "1430              4                   1               1             2   \n",
       "1431              4                   0               1             1   \n",
       "\n",
       "      current_state  treatment  remote  \n",
       "0                 0      False       1  \n",
       "1                 2       True       0  \n",
       "4                 2       True       1  \n",
       "5                 2       True       1  \n",
       "6                 0      False       1  \n",
       "7                 2       True       2  \n",
       "8                 2       True       1  \n",
       "10                2       True       0  \n",
       "11                2       True       1  \n",
       "12                2       True       2  \n",
       "13                1      False       1  \n",
       "14                2       True       2  \n",
       "15                2       True       1  \n",
       "17                0      False       0  \n",
       "19                2       True       1  \n",
       "20                0      False       1  \n",
       "21                0      False       0  \n",
       "22                0      False       1  \n",
       "23                0       True       1  \n",
       "25                0      False       0  \n",
       "26                2       True       1  \n",
       "27                1       True       0  \n",
       "28                1       True       0  \n",
       "31                2       True       1  \n",
       "32                1      False       0  \n",
       "34                2      False       1  \n",
       "35                0      False       0  \n",
       "36                2       True       2  \n",
       "37                1      False       0  \n",
       "38                1       True       1  \n",
       "...             ...        ...     ...  \n",
       "1394              1       True       0  \n",
       "1397              2       True       2  \n",
       "1398              2       True       0  \n",
       "1399              2       True       1  \n",
       "1400              1       True       2  \n",
       "1401              2      False       0  \n",
       "1402              2      False       1  \n",
       "1403              2       True       1  \n",
       "1405              1       True       0  \n",
       "1407              2       True       1  \n",
       "1409              2       True       2  \n",
       "1410              2       True       0  \n",
       "1411              2       True       1  \n",
       "1412              0      False       1  \n",
       "1413              2       True       1  \n",
       "1414              2       True       0  \n",
       "1415              2       True       0  \n",
       "1416              0      False       0  \n",
       "1417              2       True       0  \n",
       "1418              2      False       0  \n",
       "1419              2       True       1  \n",
       "1421              0      False       0  \n",
       "1422              0      False       2  \n",
       "1423              0      False       1  \n",
       "1424              2       True       1  \n",
       "1425              1      False       1  \n",
       "1426              2       True       1  \n",
       "1427              2       True       2  \n",
       "1430              1       True       1  \n",
       "1431              2      False       1  \n",
       "\n",
       "[1065 rows x 11 columns]"
      ]
     },
     "execution_count": 1636,
     "metadata": {},
     "output_type": "execute_result"
    }
   ],
   "source": [
    "df"
   ]
  },
  {
   "cell_type": "markdown",
   "metadata": {
    "collapsed": true
   },
   "source": [
    "## Visualizations"
   ]
  },
  {
   "cell_type": "code",
   "execution_count": 1615,
   "metadata": {
    "collapsed": true
   },
   "outputs": [],
   "source": [
    "import matplotlib.pyplot as plt\n",
    "import seaborn as sns\n",
    "import warnings\n",
    "\n",
    "warnings.simplefilter('ignore', DeprecationWarning)\n",
    "%matplotlib inline "
   ]
  },
  {
   "cell_type": "markdown",
   "metadata": {},
   "source": [
    "## Age"
   ]
  },
  {
   "cell_type": "code",
   "execution_count": 1616,
   "metadata": {},
   "outputs": [
    {
     "data": {
      "text/plain": [
       "<matplotlib.text.Text at 0x153c344e0>"
      ]
     },
     "execution_count": 1616,
     "metadata": {},
     "output_type": "execute_result"
    },
    {
     "data": {
      "image/png": "[encoded data removed]",
      "text/plain": [
       "<matplotlib.figure.Figure at 0x152ff4da0>"
      ]
     },
     "metadata": {},
     "output_type": "display_data"
    }
   ],
   "source": [
    "map = sns.diverging_palette(220, 10, as_cmap=True)\n",
    "\n",
    "sns.distplot(df.age)\n",
    "plt.title('Distribution of age')"
   ]
  },
  {
   "cell_type": "markdown",
   "metadata": {},
   "source": [
    "It almost looks like there is could be a bimodal distribution, but I think that could probably be explained away from the fact that there appear to be very few people who are ~33 for some reason.  Also the kernel density looks roughly normal.  So we'll say that it's roughly normal.\n",
    "\n",
    "You can also see that the distribution has a long right tail, which makes sense as tech industry jobs are generally filled by younger people."
   ]
  },
  {
   "cell_type": "markdown",
   "metadata": {},
   "source": [
    "Let's see what the age distribution is for people reporting that they currently have a mental illness"
   ]
  },
  {
   "cell_type": "code",
   "execution_count": 1644,
   "metadata": {},
   "outputs": [
    {
     "data": {
      "text/plain": [
       "<matplotlib.text.Text at 0x155c1bb00>"
      ]
     },
     "execution_count": 1644,
     "metadata": {},
     "output_type": "execute_result"
    },
    {
     "data": {
      "image/png": "[encoded data removed]",
      "text/plain": [
       "<matplotlib.figure.Figure at 0x1554f5be0>"
      ]
     },
     "metadata": {},
     "output_type": "display_data"
    }
   ],
   "source": [
    "ax = sns.violinplot(x='current_state',y='age',\n",
    "                    data=df, palette=\"muted\",inner='box')\n",
    "ax.set_title('Age Distribution by Current Mental Illness State')\n",
    "ax.set_xlabel(['No', 'Maybe', 'Yes'])"
   ]
  },
  {
   "cell_type": "markdown",
   "metadata": {},
   "source": [
    "The age distributions for each response are pretty much the same, and look similar to the overall age distribution.  This means that age is probably not a very good predictor."
   ]
  },
  {
   "cell_type": "markdown",
   "metadata": {},
   "source": [
    "We can group people into three bins based on how old they are to see if there's a more general relationship between when someone is in their career, and how they report their mental health."
   ]
  },
  {
   "cell_type": "code",
   "execution_count": 1650,
   "metadata": {},
   "outputs": [
    {
     "data": {
      "text/plain": [
       "career_stage\n",
       "middle     566\n",
       "rookie     427\n",
       "veteran     72\n",
       "dtype: int64"
      ]
     },
     "execution_count": 1650,
     "metadata": {},
     "output_type": "execute_result"
    }
   ],
   "source": [
    "df['career_stage'] = pd.cut(df.age, bins=[0,30,45,65], labels=['rookie','middle','veteran'])\n",
    "\n",
    "group_stage = df.groupby('career_stage')\n",
    "group_stage.size()"
   ]
  },
  {
   "cell_type": "markdown",
   "metadata": {},
   "source": [
    "Not too many in the 'veteran' category, but still enough to get some meaning probably"
   ]
  },
  {
   "cell_type": "markdown",
   "metadata": {},
   "source": [
    "Lets see how each group reports having mental illness, either in the past or present"
   ]
  },
  {
   "cell_type": "code",
   "execution_count": 1651,
   "metadata": {
    "scrolled": true
   },
   "outputs": [
    {
     "name": "stdout",
     "output_type": "stream",
     "text": [
      "career_stage  past_history\n",
      "middle        0               187\n",
      "              1               100\n",
      "              2               279\n",
      "rookie        0               156\n",
      "              1                67\n",
      "              2               204\n",
      "veteran       0                22\n",
      "              1                 8\n",
      "              2                42\n",
      "dtype: int64\n"
     ]
    },
    {
     "data": {
      "text/plain": [
       "<matplotlib.axes._subplots.AxesSubplot at 0x15617eda0>"
      ]
     },
     "execution_count": 1651,
     "metadata": {},
     "output_type": "execute_result"
    },
    {
     "data": {
      "image/png": "[encoded data removed]",
      "text/plain": [
       "<matplotlib.figure.Figure at 0x155ecf470>"
      ]
     },
     "metadata": {},
     "output_type": "display_data"
    }
   ],
   "source": [
    "group_stage_history = df.groupby(['career_stage', 'past_history'])\n",
    "print(group_stage_history.size())\n",
    "past_percentage = group_stage_history.size() / group_stage.size()\n",
    "past_percentage.plot(kind='bar')\n"
   ]
  },
  {
   "cell_type": "markdown",
   "metadata": {},
   "source": [
    "Looks like the break down is essentially the same across all categories"
   ]
  },
  {
   "cell_type": "markdown",
   "metadata": {},
   "source": [
    "Lets look at current state"
   ]
  },
  {
   "cell_type": "code",
   "execution_count": 1652,
   "metadata": {
    "scrolled": true
   },
   "outputs": [
    {
     "name": "stdout",
     "output_type": "stream",
     "text": [
      "career_stage  current_state\n",
      "middle        0                220\n",
      "              1                135\n",
      "              2                211\n",
      "rookie        0                164\n",
      "              1                 96\n",
      "              2                167\n",
      "veteran       0                 38\n",
      "              1                 10\n",
      "              2                 24\n",
      "dtype: int64\n"
     ]
    },
    {
     "data": {
      "text/plain": [
       "<matplotlib.axes._subplots.AxesSubplot at 0x156048ef0>"
      ]
     },
     "execution_count": 1652,
     "metadata": {},
     "output_type": "execute_result"
    },
    {
     "data": {
      "image/png": "[encoded data removed]",
      "text/plain": [
       "<matplotlib.figure.Figure at 0x155d99cf8>"
      ]
     },
     "metadata": {},
     "output_type": "display_data"
    }
   ],
   "source": [
    "group_stage_current = df.groupby(['career_stage', 'current_state'])\n",
    "print(group_stage_current.size())\n",
    "current_percentage = group_stage_current.size() / group_stage.size()\n",
    "current_percentage.plot(kind='bar')"
   ]
  },
  {
   "cell_type": "markdown",
   "metadata": {},
   "source": [
    "People are reporting mental illness essentially the same way over the career."
   ]
  },
  {
   "cell_type": "markdown",
   "metadata": {},
   "source": [
    "## Gender"
   ]
  },
  {
   "cell_type": "markdown",
   "metadata": {},
   "source": [
    "Let's start out by taking a look at the gender gap in tech.  Shouldn't be too many surprises here."
   ]
  },
  {
   "cell_type": "code",
   "execution_count": 1653,
   "metadata": {
    "scrolled": true
   },
   "outputs": [
    {
     "data": {
      "image/png": "[encoded data removed]",
      "text/plain": [
       "<matplotlib.figure.Figure at 0x156177940>"
      ]
     },
     "metadata": {},
     "output_type": "display_data"
    }
   ],
   "source": [
    "df_group_gender = df.groupby('gender')\n",
    "\n",
    "workforce = df_group_gender.age.count() / len(df)\n",
    "ax = workforce.plot(kind='bar')"
   ]
  },
  {
   "cell_type": "markdown",
   "metadata": {},
   "source": [
    "This was expected, and is very well documented.\n",
    "\n",
    "Is there a difference between men and women when it comes to how they report their mental health?"
   ]
  },
  {
   "cell_type": "code",
   "execution_count": 1669,
   "metadata": {},
   "outputs": [
    {
     "name": "stdout",
     "output_type": "stream",
     "text": [
      "gender  past_history\n",
      "False   0               309\n",
      "        1               141\n",
      "        2               371\n",
      "True    0                56\n",
      "        1                34\n",
      "        2               154\n",
      "dtype: int64\n"
     ]
    },
    {
     "data": {
      "image/png": "[encoded data removed]",
      "text/plain": [
       "<matplotlib.figure.Figure at 0x1578c0c88>"
      ]
     },
     "metadata": {},
     "output_type": "display_data"
    }
   ],
   "source": [
    "group_gender_history = df.groupby(['gender', 'past_history'])\n",
    "print(group_gender_history.size())\n",
    "past_percentage = group_gender_history.size() / df_group_gender.size()\n",
    "past = past_percentage.plot(kind='bar')\n"
   ]
  },
  {
   "cell_type": "code",
   "execution_count": 1658,
   "metadata": {},
   "outputs": [
    {
     "name": "stdout",
     "output_type": "stream",
     "text": [
      "gender  current_state\n",
      "False   0                349\n",
      "        1                199\n",
      "        2                273\n",
      "True    0                 73\n",
      "        1                 42\n",
      "        2                129\n",
      "dtype: int64\n"
     ]
    },
    {
     "data": {
      "image/png": "[encoded data removed]",
      "text/plain": [
       "<matplotlib.figure.Figure at 0x1568b2470>"
      ]
     },
     "metadata": {},
     "output_type": "display_data"
    }
   ],
   "source": [
    "group_gender_current = df.groupby(['gender', 'current_state'])\n",
    "print(group_gender_current.size())\n",
    "current_percentage_gender = group_gender_current.size() / df_group_gender.size()\n",
    "current = current_percentage_gender.plot(kind='bar')"
   ]
  },
  {
   "cell_type": "markdown",
   "metadata": {},
   "source": [
    "Women appear to have a higher probability of reporting having a mental illness."
   ]
  },
  {
   "cell_type": "markdown",
   "metadata": {},
   "source": [
    "## Family history"
   ]
  },
  {
   "cell_type": "markdown",
   "metadata": {},
   "source": [
    "Recall that repsponses to this question are\n",
    "\n",
    "- 1 = No\n",
    "- 2 = Yes\n",
    "- 3 = I don't know"
   ]
  },
  {
   "cell_type": "code",
   "execution_count": 1677,
   "metadata": {},
   "outputs": [
    {
     "name": "stdout",
     "output_type": "stream",
     "text": [
      "family_history\n",
      "0    377\n",
      "1    492\n",
      "2    196\n",
      "dtype: int64\n"
     ]
    },
    {
     "data": {
      "image/png": "[encoded data removed]",
      "text/plain": [
       "<matplotlib.figure.Figure at 0x157f38940>"
      ]
     },
     "metadata": {},
     "output_type": "display_data"
    }
   ],
   "source": [
    "group_family = df.groupby('family_history')\n",
    "print(group_family.size())\n",
    "family_percent = group_family.age.count() / len(df)\n",
    "ax = family_percent.plot(kind='pie')"
   ]
  },
  {
   "cell_type": "markdown",
   "metadata": {},
   "source": [
    "Nearly 50% of people in tech reported a family history of mental illness.  This seems very high when The National Alliance on Mental Illness reported in 2015 that about 18% of the entire U.S. Population. (https://www.nami.org/Learn-More/Mental-Health-By-the-Numbers)"
   ]
  },
  {
   "cell_type": "code",
   "execution_count": 1678,
   "metadata": {},
   "outputs": [
    {
     "name": "stdout",
     "output_type": "stream",
     "text": [
      "family_history  past_history\n",
      "0               0               236\n",
      "                1                47\n",
      "                2                94\n",
      "1               0                73\n",
      "                1                71\n",
      "                2               348\n",
      "2               0                56\n",
      "                1                57\n",
      "                2                83\n",
      "dtype: int64\n"
     ]
    },
    {
     "data": {
      "text/plain": [
       "<matplotlib.axes._subplots.AxesSubplot at 0x1583064e0>"
      ]
     },
     "execution_count": 1678,
     "metadata": {},
     "output_type": "execute_result"
    },
    {
     "data": {
      "image/png": "[encoded data removed]",
      "text/plain": [
       "<matplotlib.figure.Figure at 0x158329320>"
      ]
     },
     "metadata": {},
     "output_type": "display_data"
    }
   ],
   "source": [
    "group_family_history = df.groupby(['family_history', 'past_history'])\n",
    "print(group_family_history.size())\n",
    "past_percentage = group_family_history.size() / group_family.size()\n",
    "past_percentage.plot(kind='bar')\n"
   ]
  },
  {
   "cell_type": "code",
   "execution_count": 1679,
   "metadata": {},
   "outputs": [
    {
     "name": "stdout",
     "output_type": "stream",
     "text": [
      "family_history  current_state\n",
      "0               0                245\n",
      "                1                 65\n",
      "                2                 67\n",
      "1               0                119\n",
      "                1                102\n",
      "                2                271\n",
      "2               0                 58\n",
      "                1                 74\n",
      "                2                 64\n",
      "dtype: int64\n"
     ]
    },
    {
     "data": {
      "image/png": "[encoded data removed]",
      "text/plain": [
       "<matplotlib.figure.Figure at 0x153c34940>"
      ]
     },
     "metadata": {},
     "output_type": "display_data"
    }
   ],
   "source": [
    "group_family_current = df.groupby(['family_history', 'current_state'])\n",
    "print(group_family_current.size())\n",
    "current_percentage = group_family_current.size() / group_family.size()\n",
    "current = current_percentage.plot(kind='bar')"
   ]
  },
  {
   "cell_type": "markdown",
   "metadata": {},
   "source": [
    "Looks like a family history is a pretty good indicator of a persons mental health reporting."
   ]
  },
  {
   "cell_type": "markdown",
   "metadata": {},
   "source": [
    "## Lets see if people get treatment when they have reported mental illness"
   ]
  },
  {
   "cell_type": "code",
   "execution_count": 1683,
   "metadata": {},
   "outputs": [
    {
     "data": {
      "text/plain": [
       "<matplotlib.axes._subplots.AxesSubplot at 0x1588a69b0>"
      ]
     },
     "execution_count": 1683,
     "metadata": {},
     "output_type": "execute_result"
    },
    {
     "data": {
      "image/png": "[encoded data removed]",
      "text/plain": [
       "<matplotlib.figure.Figure at 0x157213da0>"
      ]
     },
     "metadata": {},
     "output_type": "display_data"
    }
   ],
   "source": [
    "ill = df[(df.past_history == 1) | (df.current_state == 1)]\n",
    "ill.groupby('treatment').size().plot(kind='pie')"
   ]
  },
  {
   "cell_type": "markdown",
   "metadata": {},
   "source": [
    "That's troubling.  Only about 50% of the time when someone reports a mental illness do they get treatment."
   ]
  },
  {
   "cell_type": "code",
   "execution_count": 1690,
   "metadata": {
    "scrolled": true
   },
   "outputs": [
    {
     "data": {
      "text/plain": [
       "<matplotlib.axes._subplots.AxesSubplot at 0x158dc6208>"
      ]
     },
     "execution_count": 1690,
     "metadata": {},
     "output_type": "execute_result"
    },
    {
     "data": {
      "image/png": "[encoded data removed]",
      "text/plain": [
       "<matplotlib.figure.Figure at 0x158da9b00>"
      ]
     },
     "metadata": {},
     "output_type": "display_data"
    }
   ],
   "source": [
    "helped = df[(df.past_history != 0) & (df.treatment == True)]\n",
    "helped.groupby('current_state').size().plot(kind='pie')"
   ]
  },
  {
   "cell_type": "markdown",
   "metadata": {},
   "source": [
    "This might be a reason why:  when people get treatment, there doesn't seem to be much improvement.  Only about 15% of people who reported 'Yes' or 'Maybe' to having an illness in the past that sought treatment saw improvement in their condition."
   ]
  },
  {
   "cell_type": "markdown",
   "metadata": {},
   "source": [
    "## Company Size"
   ]
  },
  {
   "cell_type": "markdown",
   "metadata": {},
   "source": [
    "There were six different options for company size (1-5), (6-25), (26-100), (101-500), (500-1000), and (1000+)."
   ]
  },
  {
   "cell_type": "code",
   "execution_count": 1698,
   "metadata": {},
   "outputs": [
    {
     "data": {
      "text/plain": [
       "<matplotlib.text.Text at 0x159a9a278>"
      ]
     },
     "execution_count": 1698,
     "metadata": {},
     "output_type": "execute_result"
    },
    {
     "data": {
      "image/png": "[encoded data removed]",
      "text/plain": [
       "<matplotlib.figure.Figure at 0x158fee860>"
      ]
     },
     "metadata": {},
     "output_type": "display_data"
    }
   ],
   "source": [
    "sns.distplot(df.num_employees)\n",
    "plt.title('Distribution of company size')\n"
   ]
  },
  {
   "cell_type": "markdown",
   "metadata": {},
   "source": [
    "There were very few participants who worked at very small companies (1-5 employees).  The remaining bins were all pretty equally represented except for the second largest bin (501-1000)."
   ]
  },
  {
   "cell_type": "code",
   "execution_count": 1699,
   "metadata": {
    "scrolled": false
   },
   "outputs": [
    {
     "name": "stdout",
     "output_type": "stream",
     "text": [
      "current_state    0   1    2\n",
      "num_employees              \n",
      "1               27  13   15\n",
      "2               81  49   65\n",
      "3              106  52  113\n",
      "4               82  63   88\n",
      "5               33  19   21\n",
      "6               93  45  100\n"
     ]
    },
    {
     "data": {
      "text/plain": [
       "<matplotlib.axes._subplots.AxesSubplot at 0x159b5d908>"
      ]
     },
     "execution_count": 1699,
     "metadata": {},
     "output_type": "execute_result"
    },
    {
     "data": {
      "image/png": "[encoded data removed]",
      "text/plain": [
       "<matplotlib.figure.Figure at 0x159b76f28>"
      ]
     },
     "metadata": {},
     "output_type": "display_data"
    }
   ],
   "source": [
    "current_ill = pd.crosstab([df.num_employees], [df.current_state])\n",
    "print(current_ill)\n",
    "\n",
    "rate = current_ill.div(current_ill.sum(1).astype(float),axis=0) # normalize the value\n",
    "rate.plot(kind='barh', stacked=True)"
   ]
  },
  {
   "cell_type": "code",
   "execution_count": 1700,
   "metadata": {},
   "outputs": [
    {
     "name": "stdout",
     "output_type": "stream",
     "text": [
      "current_state    0   1    2\n",
      "num_employees              \n",
      "1               27  13   15\n",
      "2               81  49   65\n",
      "3              106  52  113\n",
      "4               82  63   88\n",
      "5               33  19   21\n",
      "6               93  45  100\n"
     ]
    },
    {
     "data": {
      "text/plain": [
       "<matplotlib.axes._subplots.AxesSubplot at 0x159b86c88>"
      ]
     },
     "execution_count": 1700,
     "metadata": {},
     "output_type": "execute_result"
    },
    {
     "data": {
      "image/png": "[encoded data removed]",
      "text/plain": [
       "<matplotlib.figure.Figure at 0x159d5b860>"
      ]
     },
     "metadata": {},
     "output_type": "display_data"
    }
   ],
   "source": [
    "past_ill = pd.crosstab([df['num_employees']], df.current_state)\n",
    "print(past_ill)\n",
    "\n",
    "rate = past_ill.div(past_ill.sum(1).astype(float),axis=0) # normalize the value\n",
    "rate.plot(kind='barh', stacked=True)"
   ]
  },
  {
   "cell_type": "markdown",
   "metadata": {},
   "source": [
    "There seems to be a very slight relation between company size and mental health.  We should look at the correlation."
   ]
  },
  {
   "cell_type": "code",
   "execution_count": 1701,
   "metadata": {
    "scrolled": false
   },
   "outputs": [
    {
     "data": {
      "text/plain": [
       "<matplotlib.axes._subplots.AxesSubplot at 0x159ee1668>"
      ]
     },
     "execution_count": 1701,
     "metadata": {},
     "output_type": "execute_result"
    },
    {
     "data": {
      "image/png": "[encoded data removed]",
      "text/plain": [
       "<matplotlib.figure.Figure at 0x1588fe8d0>"
      ]
     },
     "metadata": {},
     "output_type": "display_data"
    }
   ],
   "source": [
    "sns.heatmap(df.corr(), cmap=cmap, annot=True)\n"
   ]
  },
  {
   "cell_type": "markdown",
   "metadata": {},
   "source": [
    "There does appear to be a very slight correlation between the size of the company and current mental health. The positive correlation indicates that higher number of employess corresponds to higher responses to the mental health question, which, because of way we encoded the mental health response (0-No, 1-Maybe, 2-Yes) matches up with the previous chart.\n",
    "\n",
    "It appears the strongest correlation is between past and current state.  Which is expected, and was evidenced earlier--i.e. people who had an illness in the past tend to keep having an illnes."
   ]
  },
  {
   "cell_type": "markdown",
   "metadata": {
    "collapsed": true
   },
   "source": [
    "## Dimensionality reduction\n",
    "\n",
    "As stated before the majority of our features are categorical.  In fact most of them are nominal, but we've encoded them in an ordinal way.  Principal Component Analysis was designed to work on continuous data, but we can try it to see what happens."
   ]
  },
  {
   "cell_type": "code",
   "execution_count": 1703,
   "metadata": {},
   "outputs": [
    {
     "data": {
      "text/html": [
       "<div>\n",
       "<style>\n",
       "    .dataframe thead tr:only-child th {\n",
       "        text-align: right;\n",
       "    }\n",
       "\n",
       "    .dataframe thead th {\n",
       "        text-align: left;\n",
       "    }\n",
       "\n",
       "    .dataframe tbody tr th {\n",
       "        vertical-align: top;\n",
       "    }\n",
       "</style>\n",
       "<table border=\"1\" class=\"dataframe\">\n",
       "  <thead>\n",
       "    <tr style=\"text-align: right;\">\n",
       "      <th></th>\n",
       "      <th>age</th>\n",
       "      <th>gender</th>\n",
       "      <th>num_employees</th>\n",
       "      <th>employer_awareness</th>\n",
       "      <th>family_history</th>\n",
       "      <th>past_history</th>\n",
       "      <th>treatment</th>\n",
       "      <th>remote</th>\n",
       "    </tr>\n",
       "  </thead>\n",
       "  <tbody>\n",
       "    <tr>\n",
       "      <th>0</th>\n",
       "      <td>0.732885</td>\n",
       "      <td>-0.545159</td>\n",
       "      <td>-0.483028</td>\n",
       "      <td>-0.588311</td>\n",
       "      <td>-1.163275</td>\n",
       "      <td>0.942376</td>\n",
       "      <td>-1.120873</td>\n",
       "      <td>0.130163</td>\n",
       "    </tr>\n",
       "    <tr>\n",
       "      <th>1</th>\n",
       "      <td>-0.599292</td>\n",
       "      <td>-0.545159</td>\n",
       "      <td>-1.135851</td>\n",
       "      <td>0.958729</td>\n",
       "      <td>0.238182</td>\n",
       "      <td>0.942376</td>\n",
       "      <td>0.892162</td>\n",
       "      <td>-1.344553</td>\n",
       "    </tr>\n",
       "    <tr>\n",
       "      <th>4</th>\n",
       "      <td>1.265756</td>\n",
       "      <td>1.834327</td>\n",
       "      <td>-1.135851</td>\n",
       "      <td>-0.588311</td>\n",
       "      <td>0.238182</td>\n",
       "      <td>0.942376</td>\n",
       "      <td>0.892162</td>\n",
       "      <td>0.130163</td>\n",
       "    </tr>\n",
       "    <tr>\n",
       "      <th>5</th>\n",
       "      <td>1.132539</td>\n",
       "      <td>-0.545159</td>\n",
       "      <td>1.475442</td>\n",
       "      <td>-0.588311</td>\n",
       "      <td>-1.163275</td>\n",
       "      <td>-1.275592</td>\n",
       "      <td>0.892162</td>\n",
       "      <td>0.130163</td>\n",
       "    </tr>\n",
       "    <tr>\n",
       "      <th>6</th>\n",
       "      <td>-0.466074</td>\n",
       "      <td>-0.545159</td>\n",
       "      <td>-0.483028</td>\n",
       "      <td>-0.588311</td>\n",
       "      <td>-1.163275</td>\n",
       "      <td>-1.275592</td>\n",
       "      <td>-1.120873</td>\n",
       "      <td>0.130163</td>\n",
       "    </tr>\n",
       "  </tbody>\n",
       "</table>\n",
       "</div>"
      ],
      "text/plain": [
       "        age    gender  num_employees  employer_awareness  family_history  \\\n",
       "0  0.732885 -0.545159      -0.483028           -0.588311       -1.163275   \n",
       "1 -0.599292 -0.545159      -1.135851            0.958729        0.238182   \n",
       "4  1.265756  1.834327      -1.135851           -0.588311        0.238182   \n",
       "5  1.132539 -0.545159       1.475442           -0.588311       -1.163275   \n",
       "6 -0.466074 -0.545159      -0.483028           -0.588311       -1.163275   \n",
       "\n",
       "   past_history  treatment    remote  \n",
       "0      0.942376  -1.120873  0.130163  \n",
       "1      0.942376   0.892162 -1.344553  \n",
       "4      0.942376   0.892162  0.130163  \n",
       "5     -1.275592   0.892162  0.130163  \n",
       "6     -1.275592  -1.120873  0.130163  "
      ]
     },
     "execution_count": 1703,
     "metadata": {},
     "output_type": "execute_result"
    }
   ],
   "source": [
    "from sklearn.decomposition.pca import PCA\n",
    "from sklearn import preprocessing\n",
    "\n",
    "# scale to 0 mean\n",
    "df_scaled = df.copy()\n",
    "df_scaled[['age', 'num_employees', 'gender', 'employer_awareness', \n",
    "           'family_history', 'past_history', 'treatment', 'remote']] = preprocessing.scale(df_scaled[['age', 'num_employees', 'gender', 'employer_awareness', \n",
    "           'family_history', 'past_history', 'treatment', 'remote']])\n",
    "\n",
    "for col in ['residence_location', 'work_location', 'career_stage', 'current_state']:\n",
    "    if col in df_scaled:\n",
    "        del df_scaled[col]\n",
    "df_scaled=pd.DataFrame(df_scaled)\n",
    "df_scaled.head()"
   ]
  },
  {
   "cell_type": "code",
   "execution_count": 1718,
   "metadata": {},
   "outputs": [
    {
     "name": "stdout",
     "output_type": "stream",
     "text": [
      "pca: [[ 0.08364416  0.24955956  0.06661364 -0.00977634  0.38755144  0.62212233\n",
      "   0.62363461 -0.00618756]\n",
      " [ 0.5284604  -0.07350175  0.59707938  0.53863387 -0.12467006 -0.030115\n",
      "   0.01298197  0.22820779]]\n",
      "Index(['age', 'gender', 'num_employees', 'employer_awareness',\n",
      "       'family_history', 'past_history', 'treatment', 'remote'],\n",
      "      dtype='object')\n"
     ]
    }
   ],
   "source": [
    "from sklearn.decomposition import PCA\n",
    "\n",
    "X = df_scaled\n",
    "y = df.current_state\n",
    "target_names='current_state'\n",
    "\n",
    "pca = PCA(n_components=2)\n",
    "X_pca = pca.fit(X).transform(X) # fit data and then transform it\n",
    "\n",
    "# print the components\n",
    "\n",
    "print ('pca:', pca.components_)\n",
    "print(df_scaled.columns)"
   ]
  },
  {
   "cell_type": "markdown",
   "metadata": {},
   "source": [
    "The highest weights on the 1st Principal Component correspond to past_history and treatment, which makes sense, as they had the highest correlation above."
   ]
  },
  {
   "cell_type": "code",
   "execution_count": 1716,
   "metadata": {},
   "outputs": [
    {
     "data": {
      "text/plain": [
       "<matplotlib.axes._subplots.AxesSubplot at 0x15ab87d30>"
      ]
     },
     "execution_count": 1716,
     "metadata": {},
     "output_type": "execute_result"
    },
    {
     "data": {
      "image/png": "[encoded data removed]",
      "text/plain": [
       "<matplotlib.figure.Figure at 0x15ac0d940>"
      ]
     },
     "metadata": {},
     "output_type": "display_data"
    }
   ],
   "source": [
    "def get_feature_names_from_weights(weights, names):\n",
    "    tmp_array = []\n",
    "    for comp in weights:\n",
    "        tmp_string = ''\n",
    "        for fidx,f in enumerate(names):\n",
    "            if fidx>0 and comp[fidx]>=0:\n",
    "                tmp_string+='+'\n",
    "            tmp_string += '%.2f*%s ' % (comp[fidx],f[:-5])\n",
    "        tmp_array.append(tmp_string)\n",
    "    return tmp_array\n",
    "  \n",
    "# now let's get to the Data Analytics!\n",
    "pca_weight_strings = get_feature_names_from_weights(pca.components_, df_scaled.columns) \n",
    "\n",
    "# create some pandas dataframes from the transformed outputs\n",
    "df_pca = pd.DataFrame(X_pca,columns=['1st PC', '2nd PC'])\n",
    "\n",
    "\n",
    "# scatter plot the output, with the names created from the weights\n",
    "#ax = scatter_plot(df_pca, pca_weight_strings[0], pca_weight_strings[1], c=y, s=(y+2)*10)\n",
    "df_pca.plot(kind='scatter', x='1st PC', y='2nd PC', c=y, s=(y+2)*10)\n"
   ]
  },
  {
   "cell_type": "markdown",
   "metadata": {},
   "source": [
    "Even though PCA wasn't designed for our type of data it seems to have produced at least something meaningful: as there is a clear trend along the 1st principal component from 'No' to 'Yes'."
   ]
  },
  {
   "cell_type": "code",
   "execution_count": null,
   "metadata": {
    "collapsed": true
   },
   "outputs": [],
   "source": []
  }
 ],
 "metadata": {
  "kernelspec": {
   "display_name": "Python 3",
   "language": "python",
   "name": "python3"
  },
  "language_info": {
   "codemirror_mode": {
    "name": "ipython",
    "version": 3
   },
   "file_extension": ".py",
   "mimetype": "text/x-python",
   "name": "python",
   "nbconvert_exporter": "python",
   "pygments_lexer": "ipython3",
   "version": "3.6.1"
  }
 },
 "nbformat": 4,
 "nbformat_minor": 2
}
