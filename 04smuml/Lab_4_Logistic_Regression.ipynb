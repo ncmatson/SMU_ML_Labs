{
 "cells": [
  {
   "cell_type": "markdown",
   "metadata": {},
   "source": [
    "Lab 4: Extending Logistic Regression\n",
    "\n",
    "Cameron Matson\n",
    "\n",
    "Zihao Mao"
   ]
  },
  {
   "cell_type": "code",
   "execution_count": 109,
   "metadata": {
    "collapsed": true
   },
   "outputs": [],
   "source": [
    "import pandas as pd\n",
    "import numpy as np\n",
    "import matplotlib.pyplot as plt\n",
    "\n",
    "import os"
   ]
  },
  {
   "cell_type": "code",
   "execution_count": 110,
   "metadata": {},
   "outputs": [
    {
     "data": {
      "text/html": [
       "<div>\n",
       "<style>\n",
       "    .dataframe thead tr:only-child th {\n",
       "        text-align: right;\n",
       "    }\n",
       "\n",
       "    .dataframe thead th {\n",
       "        text-align: left;\n",
       "    }\n",
       "\n",
       "    .dataframe tbody tr th {\n",
       "        vertical-align: top;\n",
       "    }\n",
       "</style>\n",
       "<table border=\"1\" class=\"dataframe\">\n",
       "  <thead>\n",
       "    <tr style=\"text-align: right;\">\n",
       "      <th></th>\n",
       "      <th>Unnamed: 0</th>\n",
       "      <th>Player</th>\n",
       "      <th>height</th>\n",
       "      <th>weight</th>\n",
       "      <th>collage</th>\n",
       "      <th>born</th>\n",
       "      <th>birth_city</th>\n",
       "      <th>birth_state</th>\n",
       "    </tr>\n",
       "  </thead>\n",
       "  <tbody>\n",
       "    <tr>\n",
       "      <th>0</th>\n",
       "      <td>0</td>\n",
       "      <td>Curly Armstrong</td>\n",
       "      <td>180.0</td>\n",
       "      <td>77.0</td>\n",
       "      <td>Indiana University</td>\n",
       "      <td>1918.0</td>\n",
       "      <td>NaN</td>\n",
       "      <td>NaN</td>\n",
       "    </tr>\n",
       "    <tr>\n",
       "      <th>1</th>\n",
       "      <td>1</td>\n",
       "      <td>Cliff Barker</td>\n",
       "      <td>188.0</td>\n",
       "      <td>83.0</td>\n",
       "      <td>University of Kentucky</td>\n",
       "      <td>1921.0</td>\n",
       "      <td>Yorktown</td>\n",
       "      <td>Indiana</td>\n",
       "    </tr>\n",
       "    <tr>\n",
       "      <th>2</th>\n",
       "      <td>2</td>\n",
       "      <td>Leo Barnhorst</td>\n",
       "      <td>193.0</td>\n",
       "      <td>86.0</td>\n",
       "      <td>University of Notre Dame</td>\n",
       "      <td>1924.0</td>\n",
       "      <td>NaN</td>\n",
       "      <td>NaN</td>\n",
       "    </tr>\n",
       "    <tr>\n",
       "      <th>3</th>\n",
       "      <td>3</td>\n",
       "      <td>Ed Bartels</td>\n",
       "      <td>196.0</td>\n",
       "      <td>88.0</td>\n",
       "      <td>North Carolina State University</td>\n",
       "      <td>1925.0</td>\n",
       "      <td>NaN</td>\n",
       "      <td>NaN</td>\n",
       "    </tr>\n",
       "    <tr>\n",
       "      <th>4</th>\n",
       "      <td>4</td>\n",
       "      <td>Ralph Beard</td>\n",
       "      <td>178.0</td>\n",
       "      <td>79.0</td>\n",
       "      <td>University of Kentucky</td>\n",
       "      <td>1927.0</td>\n",
       "      <td>Hardinsburg</td>\n",
       "      <td>Kentucky</td>\n",
       "    </tr>\n",
       "  </tbody>\n",
       "</table>\n",
       "</div>"
      ],
      "text/plain": [
       "   Unnamed: 0           Player  height  weight  \\\n",
       "0           0  Curly Armstrong   180.0    77.0   \n",
       "1           1     Cliff Barker   188.0    83.0   \n",
       "2           2    Leo Barnhorst   193.0    86.0   \n",
       "3           3       Ed Bartels   196.0    88.0   \n",
       "4           4      Ralph Beard   178.0    79.0   \n",
       "\n",
       "                           collage    born   birth_city birth_state  \n",
       "0               Indiana University  1918.0          NaN         NaN  \n",
       "1           University of Kentucky  1921.0     Yorktown     Indiana  \n",
       "2         University of Notre Dame  1924.0          NaN         NaN  \n",
       "3  North Carolina State University  1925.0          NaN         NaN  \n",
       "4           University of Kentucky  1927.0  Hardinsburg    Kentucky  "
      ]
     },
     "execution_count": 110,
     "metadata": {},
     "output_type": "execute_result"
    }
   ],
   "source": [
    "# first lests load the datasets in\n",
    "\n",
    "data_path = '../../data/nba-players-stats-since-1950'\n",
    "players = pd.read_csv(os.path.join(data_path, 'players.csv'))\n",
    "players.head()"
   ]
  },
  {
   "cell_type": "markdown",
   "metadata": {},
   "source": [
    "We probably don't need the \"collage [sic]\" or the their birth locationg.  Probably don't really need their birth year either, but it might be interesting to look at generational splits.  Also that unnamed column looks just like the index, so we can drop that too."
   ]
  },
  {
   "cell_type": "code",
   "execution_count": 111,
   "metadata": {},
   "outputs": [
    {
     "name": "stdout",
     "output_type": "stream",
     "text": [
      "<class 'pandas.core.frame.DataFrame'>\n",
      "RangeIndex: 3922 entries, 0 to 3921\n",
      "Data columns (total 3 columns):\n",
      "Player    3921 non-null object\n",
      "height    3921 non-null float64\n",
      "weight    3921 non-null float64\n",
      "dtypes: float64(2), object(1)\n",
      "memory usage: 92.0+ KB\n"
     ]
    }
   ],
   "source": [
    "players.drop(['Unnamed: 0', 'collage', 'birth_city', 'birth_state', 'born'], axis=1, inplace=True)\n",
    "players.info()"
   ]
  },
  {
   "cell_type": "markdown",
   "metadata": {},
   "source": [
    "Good.  They're all non null, and seem to be the correct datatype.\n",
    "\n",
    "Now let's load the players stats."
   ]
  },
  {
   "cell_type": "code",
   "execution_count": 112,
   "metadata": {},
   "outputs": [
    {
     "name": "stdout",
     "output_type": "stream",
     "text": [
      "<class 'pandas.core.frame.DataFrame'>\n",
      "RangeIndex: 24691 entries, 0 to 24690\n",
      "Data columns (total 53 columns):\n",
      "Unnamed: 0    24691 non-null int64\n",
      "Year          24624 non-null float64\n",
      "Player        24624 non-null object\n",
      "Pos           24624 non-null object\n",
      "Age           24616 non-null float64\n",
      "Tm            24624 non-null object\n",
      "G             24624 non-null float64\n",
      "GS            18233 non-null float64\n",
      "MP            24138 non-null float64\n",
      "PER           24101 non-null float64\n",
      "TS%           24538 non-null float64\n",
      "3PAr          18839 non-null float64\n",
      "FTr           24525 non-null float64\n",
      "ORB%          20792 non-null float64\n",
      "DRB%          20792 non-null float64\n",
      "TRB%          21571 non-null float64\n",
      "AST%          22555 non-null float64\n",
      "STL%          20792 non-null float64\n",
      "BLK%          20792 non-null float64\n",
      "TOV%          19582 non-null float64\n",
      "USG%          19640 non-null float64\n",
      "blanl         0 non-null float64\n",
      "OWS           24585 non-null float64\n",
      "DWS           24585 non-null float64\n",
      "WS            24585 non-null float64\n",
      "WS/48         24101 non-null float64\n",
      "blank2        0 non-null float64\n",
      "OBPM          20797 non-null float64\n",
      "DBPM          20797 non-null float64\n",
      "BPM           20797 non-null float64\n",
      "VORP          20797 non-null float64\n",
      "FG            24624 non-null float64\n",
      "FGA           24624 non-null float64\n",
      "FG%           24525 non-null float64\n",
      "3P            18927 non-null float64\n",
      "3PA           18927 non-null float64\n",
      "3P%           15416 non-null float64\n",
      "2P            24624 non-null float64\n",
      "2PA           24624 non-null float64\n",
      "2P%           24496 non-null float64\n",
      "eFG%          24525 non-null float64\n",
      "FT            24624 non-null float64\n",
      "FTA           24624 non-null float64\n",
      "FT%           23766 non-null float64\n",
      "ORB           20797 non-null float64\n",
      "DRB           20797 non-null float64\n",
      "TRB           24312 non-null float64\n",
      "AST           24624 non-null float64\n",
      "STL           20797 non-null float64\n",
      "BLK           20797 non-null float64\n",
      "TOV           19645 non-null float64\n",
      "PF            24624 non-null float64\n",
      "PTS           24624 non-null float64\n",
      "dtypes: float64(49), int64(1), object(3)\n",
      "memory usage: 10.0+ MB\n"
     ]
    }
   ],
   "source": [
    "stats = pd.read_csv(os.path.join(data_path, 'seasons_stats.csv'))\n",
    "stats.info()"
   ]
  },
  {
   "cell_type": "code",
   "execution_count": null,
   "metadata": {
    "collapsed": true
   },
   "outputs": [],
   "source": []
  },
  {
   "cell_type": "markdown",
   "metadata": {},
   "source": [
    "There are a lot of fields here, and they're pretty inconsistently filled.  Some of this arises from the fact that its such a long timeline.  For example, in 1950, there was no such thing as a 3-pointer, so it wouldn't make sense for those players to have 3pt% stats. \n",
    "\n",
    "Inspecting the dataset a little further, we notice that there is no stat for points per game (PPG).  The total number of points scored is listed, but that is hard to compare across seasons where they played different games.  To make the dataset more valid, i.e. to make the points column a valid comparisson measure, we'll only consider seasons in which they played the current full 82 game schedule.  Which doesn't reduce the power of the dataset by that much, they moved to a 82 game season in 1967, and only the lockout shortened 1998-99 season didn't have a full scehdule.\n",
    "\n",
    "Actually we might want to limit it to just seasons after 1980 when they introduced the 3 pointer.  That should just make the prediction task easier, although we lose even more of the dataset.  But if we consider the business case as being how to decide players posisitions *TODAY* it makes sense."
   ]
  },
  {
   "cell_type": "code",
   "execution_count": 113,
   "metadata": {
    "scrolled": true
   },
   "outputs": [
    {
     "name": "stdout",
     "output_type": "stream",
     "text": [
      "<class 'pandas.core.frame.DataFrame'>\n",
      "Int64Index: 18380 entries, 5727 to 24690\n",
      "Data columns (total 53 columns):\n",
      "Unnamed: 0    18380 non-null int64\n",
      "Year          18380 non-null float64\n",
      "Player        18380 non-null object\n",
      "Pos           18380 non-null object\n",
      "Age           18380 non-null float64\n",
      "Tm            18380 non-null object\n",
      "G             18380 non-null float64\n",
      "GS            17686 non-null float64\n",
      "MP            18380 non-null float64\n",
      "PER           18375 non-null float64\n",
      "TS%           18307 non-null float64\n",
      "3PAr          18295 non-null float64\n",
      "FTr           18295 non-null float64\n",
      "ORB%          18375 non-null float64\n",
      "DRB%          18375 non-null float64\n",
      "TRB%          18375 non-null float64\n",
      "AST%          18375 non-null float64\n",
      "STL%          18375 non-null float64\n",
      "BLK%          18375 non-null float64\n",
      "TOV%          18321 non-null float64\n",
      "USG%          18375 non-null float64\n",
      "blanl         0 non-null float64\n",
      "OWS           18380 non-null float64\n",
      "DWS           18380 non-null float64\n",
      "WS            18380 non-null float64\n",
      "WS/48         18375 non-null float64\n",
      "blank2        0 non-null float64\n",
      "OBPM          18380 non-null float64\n",
      "DBPM          18380 non-null float64\n",
      "BPM           18380 non-null float64\n",
      "VORP          18380 non-null float64\n",
      "FG            18380 non-null float64\n",
      "FGA           18380 non-null float64\n",
      "FG%           18295 non-null float64\n",
      "3P            18380 non-null float64\n",
      "3PA           18380 non-null float64\n",
      "3P%           14969 non-null float64\n",
      "2P            18380 non-null float64\n",
      "2PA           18380 non-null float64\n",
      "2P%           18266 non-null float64\n",
      "eFG%          18295 non-null float64\n",
      "FT            18380 non-null float64\n",
      "FTA           18380 non-null float64\n",
      "FT%           17657 non-null float64\n",
      "ORB           18380 non-null float64\n",
      "DRB           18380 non-null float64\n",
      "TRB           18380 non-null float64\n",
      "AST           18380 non-null float64\n",
      "STL           18380 non-null float64\n",
      "BLK           18380 non-null float64\n",
      "TOV           18380 non-null float64\n",
      "PF            18380 non-null float64\n",
      "PTS           18380 non-null float64\n",
      "dtypes: float64(49), int64(1), object(3)\n",
      "memory usage: 7.6+ MB\n"
     ]
    }
   ],
   "source": [
    "stats = stats[stats.Year >= 1980]\n",
    "stats = stats[stats.Year != 1998]\n",
    "stats.info()"
   ]
  },
  {
   "cell_type": "markdown",
   "metadata": {},
   "source": [
    "Now lets just focus on a few categories\n",
    "- Player\n",
    "- Year\n",
    "- Age\n",
    "- games played (G)\n",
    "- minutes played (MP)\n",
    "- field goals, feild goal attempts, and percentage (FG, FGA, FG%)\n",
    "- free throws (FT, FTA, FT%), two-pointers (2P, 2PA, 2P%), and three-pointers (3P, 3PA, 3P%)\n",
    "- offensive, defensive, and total rebounds (ORB, DRB, TRB)\n",
    "- assists (AST)\n",
    "- steals (STL)\n",
    "- blocks (BLK)\n",
    "- turnovers (TOV)\n",
    "- personal fouls (PF)\n",
    "- points (PTS)\n",
    "\n",
    "And of course our label: position.  We could probably use any of the features as a label actually, and see if one could predict performance in one aspect of the game based on info in the another.  But for now we'll stick with predicting position.\n"
   ]
  },
  {
   "cell_type": "code",
   "execution_count": 114,
   "metadata": {
    "scrolled": true
   },
   "outputs": [
    {
     "name": "stdout",
     "output_type": "stream",
     "text": [
      "<class 'pandas.core.frame.DataFrame'>\n",
      "Int64Index: 18380 entries, 5727 to 24690\n",
      "Data columns (total 27 columns):\n",
      "Year      18380 non-null float64\n",
      "Player    18380 non-null object\n",
      "Pos       18380 non-null object\n",
      "Age       18380 non-null float64\n",
      "G         18380 non-null float64\n",
      "MP        18380 non-null float64\n",
      "FG        18380 non-null float64\n",
      "FGA       18380 non-null float64\n",
      "FG%       18295 non-null float64\n",
      "3P        18380 non-null float64\n",
      "3PA       18380 non-null float64\n",
      "3P%       14969 non-null float64\n",
      "2P        18380 non-null float64\n",
      "2PA       18380 non-null float64\n",
      "2P%       18266 non-null float64\n",
      "FT        18380 non-null float64\n",
      "FTA       18380 non-null float64\n",
      "FT%       17657 non-null float64\n",
      "ORB       18380 non-null float64\n",
      "DRB       18380 non-null float64\n",
      "TRB       18380 non-null float64\n",
      "AST       18380 non-null float64\n",
      "STL       18380 non-null float64\n",
      "BLK       18380 non-null float64\n",
      "TOV       18380 non-null float64\n",
      "PF        18380 non-null float64\n",
      "PTS       18380 non-null float64\n",
      "dtypes: float64(25), object(2)\n",
      "memory usage: 3.9+ MB\n"
     ]
    }
   ],
   "source": [
    "stats_to_keep = {'Player', 'Year','Pos', 'Age', 'G', 'MP', 'FG', 'FGA', 'FG%', 'FT', 'FTA', 'FT%',\n",
    "                '2P', '2PA', '2P%', '3P', '3PA', '3P%', 'ORB', 'DRB', 'TRB', 'AST', 'STL', 'BLK',\n",
    "                'TOV', 'PF', 'PTS'}\n",
    "\n",
    "stats_to_drop = set(stats.columns)-stats_to_keep\n",
    "stats.drop(stats_to_drop, axis=1, inplace=True)\n",
    "stats.info()"
   ]
  },
  {
   "cell_type": "markdown",
   "metadata": {},
   "source": [
    "To take care of some of the null values, when players had 0 attempts in a shooting category (FG, 3P, 2P, FT) they left the percentage field blank (can't divide by 0), but for our purposes its probably okay if we just say it was 0%."
   ]
  },
  {
   "cell_type": "code",
   "execution_count": 115,
   "metadata": {
    "collapsed": true
   },
   "outputs": [],
   "source": [
    "stats['3P%'] = stats['3P%'].fillna(0)\n",
    "stats['2P%'] = stats['2P%'].fillna(0)\n",
    "stats['FT%'] = stats['FT%'].fillna(0)\n",
    "stats['FG%'] = stats['FG%'].fillna(0)\n"
   ]
  },
  {
   "cell_type": "markdown",
   "metadata": {},
   "source": [
    "Okay.  Finally, let's add the player description data to the stats dataframe."
   ]
  },
  {
   "cell_type": "code",
   "execution_count": 116,
   "metadata": {
    "collapsed": true
   },
   "outputs": [],
   "source": [
    "stats['height'] = np.nan\n",
    "stats['weight'] = np.nan"
   ]
  },
  {
   "cell_type": "code",
   "execution_count": 117,
   "metadata": {
    "scrolled": true
   },
   "outputs": [],
   "source": [
    "iplayer = players.set_index(keys='Player')\n",
    "istats = stats.reset_index(drop=True)\n",
    "for i, row in istats.iterrows():\n",
    "    name = row[1]\n",
    "    h = iplayer.loc[name].loc['height']\n",
    "    w = iplayer.loc[name].loc['weight']\n",
    "    istats.iloc[i, 27] = h\n",
    "    istats.iloc[i, 28] = w\n"
   ]
  },
  {
   "cell_type": "code",
   "execution_count": 118,
   "metadata": {},
   "outputs": [],
   "source": [
    "stats = istats"
   ]
  },
  {
   "cell_type": "code",
   "execution_count": 119,
   "metadata": {
    "scrolled": true
   },
   "outputs": [],
   "source": [
    "# and now we don't need the names anymore\n",
    "stats.drop(['Player', 'Year'], axis=1, inplace=True)"
   ]
  },
  {
   "cell_type": "markdown",
   "metadata": {
    "collapsed": true
   },
   "source": [
    "# Logistic Regression Model"
   ]
  },
  {
   "cell_type": "code",
   "execution_count": 120,
   "metadata": {},
   "outputs": [
    {
     "name": "stdout",
     "output_type": "stream",
     "text": [
      "Base Binary Logistic Regression Object, Not Trainable\n"
     ]
    }
   ],
   "source": [
    "import numpy as np\n",
    "class BinaryLogisticRegressionBase:\n",
    "    # private:\n",
    "    def __init__(self, eta, iterations=20):\n",
    "        self.eta = eta\n",
    "        self.iters = iterations\n",
    "        # internally we will store the weights as self.w_ to keep with sklearn conventions\n",
    "    \n",
    "    def __str__(self):\n",
    "        return 'Base Binary Logistic Regression Object, Not Trainable'\n",
    "    \n",
    "    # convenience, private:\n",
    "    @staticmethod\n",
    "    def _sigmoid(theta):\n",
    "        return 1/(1+np.exp(-theta)) \n",
    "    \n",
    "    @staticmethod\n",
    "    def _add_bias(X):\n",
    "        return np.hstack((np.ones((X.shape[0],1)),X)) # add bias term\n",
    "\n",
    "    # public:\n",
    "    def predict_proba(self,X,add_bias=True):\n",
    "        # add bias term if requested\n",
    "        Xb = self._add_bias(X) if add_bias else X\n",
    "        return self._sigmoid(Xb @ self.w_) # return the probability y=1\n",
    "    \n",
    "    def predict(self,X):\n",
    "        return (self.predict_proba(X)>0.5) #return the actual prediction\n",
    "    \n",
    "    \n",
    "        \n",
    "blr = BinaryLogisticRegressionBase(0.1)\n",
    "print(blr)"
   ]
  },
  {
   "cell_type": "code",
   "execution_count": 121,
   "metadata": {},
   "outputs": [
    {
     "name": "stdout",
     "output_type": "stream",
     "text": [
      "Untrained Binary Logistic Regression Object\n"
     ]
    }
   ],
   "source": [
    "# inherit from base class\n",
    "class BinaryLogisticRegression(BinaryLogisticRegressionBase):\n",
    "    #private:\n",
    "    def __str__(self):\n",
    "        if(hasattr(self,'w_')):\n",
    "            return 'Binary Logistic Regression Object with coefficients:\\n'+ str(self.w_) # is we have trained the object\n",
    "        else:\n",
    "            return 'Untrained Binary Logistic Regression Object'\n",
    "        \n",
    "    def _get_gradient(self,X,y):\n",
    "        # programming \\sum_i (yi-g(xi))xi\n",
    "        gradient = np.zeros(self.w_.shape) # set gradient to zero\n",
    "        for (xi,yi) in zip(X,y):\n",
    "            # the actual update inside of sum\n",
    "            gradi = (yi - self.predict_proba(xi,add_bias=False))*xi \n",
    "            # reshape to be column vector and add to gradient\n",
    "            gradient += gradi.reshape(self.w_.shape) \n",
    "        \n",
    "        return gradient/float(len(y))\n",
    "       \n",
    "    # public:\n",
    "    def fit(self, X, y):\n",
    "        Xb = self._add_bias(X) # add bias term\n",
    "        num_samples, num_features = Xb.shape\n",
    "        \n",
    "        self.w_ = np.zeros((num_features,1)) # init weight vector to zeros\n",
    "        \n",
    "        # for as many as the max iterations\n",
    "        for _ in range(self.iters):\n",
    "            gradient = self._get_gradient(Xb,y)\n",
    "            self.w_ += gradient*self.eta # multiply by learning rate \n",
    "\n",
    "            \n",
    "blr = BinaryLogisticRegression(0.1)\n",
    "print(blr)"
   ]
  },
  {
   "cell_type": "code",
   "execution_count": 234,
   "metadata": {},
   "outputs": [],
   "source": [
    "# now lets do some vectorized coding\n",
    "import numpy as np\n",
    "from scipy.special import expit\n",
    "\n",
    "class VectorBinaryLogisticRegression(BinaryLogisticRegression):\n",
    "    # inherit from our previous class to get same functionality\n",
    "    @staticmethod\n",
    "    def _sigmoid(theta):\n",
    "        # increase stability, redefine sigmoid operation\n",
    "        return expit(theta) #1/(1+np.exp(-theta))\n",
    "    \n",
    "    # but overwrite the gradient calculation\n",
    "    def _get_gradient(self,X,y):\n",
    "        yhat = self.predict_proba(X, add_bias=False).ravel()[:, np.newaxis]\n",
    "        ydiff = y-yhat # get y difference\n",
    "\n",
    "        \n",
    "        gradient = np.mean(X * ydiff, axis=0) # make ydiff a column vector and multiply through\n",
    "        \n",
    "        return gradient.reshape(self.w_.shape)\n",
    "\n"
   ]
  },
  {
   "cell_type": "code",
   "execution_count": 217,
   "metadata": {
    "scrolled": true
   },
   "outputs": [
    {
     "data": {
      "text/plain": [
       "{'C',\n",
       " 'C-PF',\n",
       " 'C-SF',\n",
       " 'PF',\n",
       " 'PF-C',\n",
       " 'PF-SF',\n",
       " 'PG',\n",
       " 'PG-SF',\n",
       " 'PG-SG',\n",
       " 'SF',\n",
       " 'SF-PF',\n",
       " 'SF-SG',\n",
       " 'SG',\n",
       " 'SG-PF',\n",
       " 'SG-PG',\n",
       " 'SG-SF'}"
      ]
     },
     "execution_count": 217,
     "metadata": {},
     "output_type": "execute_result"
    }
   ],
   "source": [
    "# first we need to separate out the label from the data\n",
    "y = stats.Pos\n",
    "set(y)"
   ]
  },
  {
   "cell_type": "code",
   "execution_count": 218,
   "metadata": {},
   "outputs": [],
   "source": [
    "# lets reclassify this numerically and only count their 'primary ' position, so that each player will be given a position 1-5\n",
    "# {(1, pg), (2, sg), (3, sf), (4, pf), (5, c)}"
   ]
  },
  {
   "cell_type": "code",
   "execution_count": 219,
   "metadata": {},
   "outputs": [],
   "source": [
    "import numpy as np\n",
    "def convert_pos(y):\n",
    "    newy = np.zeros((len(y), 1))\n",
    "    for i, player in enumerate(y):\n",
    "        if (player[0] == 'C'):\n",
    "            newy[i] = 5\n",
    "        elif (player[0:2] == 'PF'):\n",
    "            newy[i] = 4\n",
    "        elif (player[0:2] == 'SF'):\n",
    "            newy[i] = 3\n",
    "        elif (player[0:2] == 'SG'):\n",
    "            newy[i] = 2\n",
    "        elif (player[0:2] == 'PG'):\n",
    "            newy[i] = 1\n",
    "    return newy"
   ]
  },
  {
   "cell_type": "code",
   "execution_count": 220,
   "metadata": {},
   "outputs": [
    {
     "data": {
      "text/plain": [
       "array([[ 5.],\n",
       "       [ 4.],\n",
       "       [ 5.],\n",
       "       ..., \n",
       "       [ 5.],\n",
       "       [ 3.],\n",
       "       [ 5.]])"
      ]
     },
     "execution_count": 220,
     "metadata": {},
     "output_type": "execute_result"
    }
   ],
   "source": [
    "y = convert_pos(y)\n",
    "y"
   ]
  },
  {
   "cell_type": "code",
   "execution_count": 221,
   "metadata": {},
   "outputs": [
    {
     "data": {
      "text/plain": [
       "(18380, 1)"
      ]
     },
     "execution_count": 221,
     "metadata": {},
     "output_type": "execute_result"
    }
   ],
   "source": [
    "y.shape"
   ]
  },
  {
   "cell_type": "code",
   "execution_count": 222,
   "metadata": {},
   "outputs": [],
   "source": [
    "X = stats.drop('Pos', axis=1)"
   ]
  },
  {
   "cell_type": "code",
   "execution_count": 223,
   "metadata": {},
   "outputs": [],
   "source": [
    "from sklearn import preprocessing\n",
    "\n",
    "X = preprocessing.scale(X, axis=1)"
   ]
  },
  {
   "cell_type": "code",
   "execution_count": 224,
   "metadata": {},
   "outputs": [
    {
     "name": "stdout",
     "output_type": "stream",
     "text": [
      "(18380, 26)\n",
      "(18380, 1)\n"
     ]
    }
   ],
   "source": [
    "print(X.shape)\n",
    "print(y.shape)"
   ]
  },
  {
   "cell_type": "markdown",
   "metadata": {},
   "source": [
    "## Binary Case"
   ]
  },
  {
   "cell_type": "code",
   "execution_count": 225,
   "metadata": {},
   "outputs": [
    {
     "name": "stdout",
     "output_type": "stream",
     "text": [
      "(18380, 1)\n"
     ]
    }
   ],
   "source": [
    "yb = (y>4).astype(np.int)\n",
    "print(yb.shape)"
   ]
  },
  {
   "cell_type": "code",
   "execution_count": 226,
   "metadata": {},
   "outputs": [],
   "source": [
    "from sklearn.model_selection import train_test_split\n",
    "\n",
    "X_train, X_test, y_train, y_test = train_test_split(X, yb, test_size=0.2)\n"
   ]
  },
  {
   "cell_type": "code",
   "execution_count": 235,
   "metadata": {
    "scrolled": true
   },
   "outputs": [
    {
     "name": "stdout",
     "output_type": "stream",
     "text": [
      "[[-0.33417179]\n",
      " [-0.29242637]\n",
      " [ 0.05288225]\n",
      " [-0.62882745]\n",
      " [-0.05254612]\n",
      " [-0.98733578]\n",
      " [-0.18516478]\n",
      " [-0.66762493]\n",
      " [-1.72791743]\n",
      " [-0.20139884]\n",
      " [ 0.42976244]\n",
      " [ 0.55526528]\n",
      " [-0.1875345 ]\n",
      " [-0.09727805]\n",
      " [ 0.12954605]\n",
      " [-0.19288822]\n",
      " [ 0.45455409]\n",
      " [ 1.33830389]\n",
      " [ 1.97817434]\n",
      " [-1.62281839]\n",
      " [-0.866978  ]\n",
      " [ 1.44856858]\n",
      " [-0.15530826]\n",
      " [ 1.29662916]\n",
      " [-0.3140461 ]\n",
      " [-0.62939831]\n",
      " [ 1.12580547]]\n",
      "Accuracy of:  0.852829162133\n",
      "Wall time: 3.18 s\n"
     ]
    }
   ],
   "source": [
    "%%time\n",
    "from sklearn.metrics import accuracy_score\n",
    "\n",
    "# Now we can train the classifier\n",
    "params = dict(eta=0.2,\n",
    "              iterations=1000)\n",
    "blr = VectorBinaryLogisticRegression(**params)\n",
    "blr.fit(X_train,y_train)\n",
    "print(blr.w_)\n",
    "yhat = blr.predict(X_test)\n",
    "print('Accuracy of: ',accuracy_score(y_test,yhat))"
   ]
  },
  {
   "cell_type": "markdown",
   "metadata": {},
   "source": [
    "## Multiclass"
   ]
  },
  {
   "cell_type": "code",
   "execution_count": 236,
   "metadata": {},
   "outputs": [
    {
     "name": "stdout",
     "output_type": "stream",
     "text": [
      "Untrained MultiClass Logistic Regression Object\n"
     ]
    }
   ],
   "source": [
    "class LogisticRegression:\n",
    "    def __init__(self, eta, iterations=20):\n",
    "        self.eta = eta\n",
    "        self.iters = iterations\n",
    "        # internally we will store the weights as self.w_ to keep with sklearn conventions\n",
    "    \n",
    "    def __str__(self):\n",
    "        if(hasattr(self,'w_')):\n",
    "            return 'MultiClass Logistic Regression Object with coefficients:\\n'+ str(self.w_) # is we have trained the object\n",
    "        else:\n",
    "            return 'Untrained MultiClass Logistic Regression Object'\n",
    "        \n",
    "    def fit(self,X,y):\n",
    "        num_samples, num_features = X.shape\n",
    "        self.unique_ = np.unique(y) # get each unique class value\n",
    "        num_unique_classes = len(self.unique_)\n",
    "        self.classifiers_ = [] # will fill this array with binary classifiers\n",
    "        \n",
    "        for i,yval in enumerate(self.unique_): # for each unique value\n",
    "            y_binary = y==yval # create a binary problem\n",
    "            # train the binary classifier for this class\n",
    "            blr = VectorBinaryLogisticRegression(self.eta,self.iters)\n",
    "            blr.fit(X,y_binary)\n",
    "            # add the trained classifier to the list\n",
    "            self.classifiers_.append(blr)\n",
    "            \n",
    "        # save all the weights into one matrix, separate column for each class\n",
    "        self.w_ = np.hstack([x.w_ for x in self.classifiers_]).T\n",
    "        \n",
    "    def predict_proba(self,X):\n",
    "        probs = []\n",
    "        for blr in self.classifiers_:\n",
    "            probs.append(blr.predict_proba(X)) # get probability for each classifier\n",
    "        \n",
    "        return np.hstack(probs) # make into single matrix\n",
    "    \n",
    "    def predict(self,X):\n",
    "        return np.argmax(self.predict_proba(X),axis=1) # take argmax along row\n",
    "    \n",
    "lr = LogisticRegression(0.1,1500)\n",
    "print(lr)"
   ]
  },
  {
   "cell_type": "code",
   "execution_count": 239,
   "metadata": {
    "scrolled": true
   },
   "outputs": [
    {
     "name": "stdout",
     "output_type": "stream",
     "text": [
      "MultiClass Logistic Regression Object with coefficients:\n",
      "[[ -3.16384944e-01   3.11871606e-01   1.92616320e-01   1.24426019e-01\n",
      "   -1.64743318e-01  -7.14583433e-03   1.36211566e-01   1.91117638e-01\n",
      "    4.11670383e-01   1.41637279e-01  -2.21696359e-01  -2.84651620e-01\n",
      "    1.37133244e-01   4.64241998e-02  -1.29458514e-01   1.44426747e-01\n",
      "   -7.82113053e-01  -1.18525826e+00  -2.10153591e+00   3.52385843e+00\n",
      "    4.96093439e-01  -3.31854793e-01   7.26704678e-01  -3.38744015e-01\n",
      "   -4.94438588e-01   1.02169630e-01  -6.44720922e-01]\n",
      " [ -3.81898417e-01   2.12443557e-01   3.90683983e-01  -8.46257378e-02\n",
      "    1.64096577e-01   6.00138124e-01   2.80943393e-01   4.61967232e-01\n",
      "    8.52015501e-01   2.89078330e-01  -1.49177948e-02   3.10754833e-02\n",
      "    2.81545482e-01   1.46050949e-01  -3.06215218e-02   2.91697584e-01\n",
      "   -3.82610751e-01  -1.09152529e+00  -1.75708890e+00  -4.72292476e-01\n",
      "    4.18096642e-01  -8.52402100e-02  -2.69741378e-04  -2.50650513e-01\n",
      "    8.73527531e-02  -1.81013200e-02  -3.19241337e-01]\n",
      " [ -3.36933720e-01   7.27985830e-02   2.09027342e-01  -1.64746273e-01\n",
      "    1.22520617e-01   3.23304489e-01   1.80473965e-01   2.94811567e-01\n",
      "    5.64642772e-01   1.87332633e-01   9.54250902e-03  -5.95048239e-02\n",
      "    1.81077879e-01   6.11937914e-02  -2.11326969e-02   1.81125855e-01\n",
      "    4.51192313e-02  -2.00579079e-01  -3.37293307e-01  -1.16577969e+00\n",
      "    2.12859828e-01  -9.54609927e-02  -2.03291495e-01  -1.74111313e-01\n",
      "    5.55462137e-02  -1.30388416e-01  -1.49089193e-01]\n",
      " [ -2.96007528e-01  -1.35565154e-01   2.09257935e-02  -5.33766866e-01\n",
      "   -6.93441958e-04  -6.75389860e-02  -6.27483363e-02  -1.44883183e-01\n",
      "   -2.85127452e-01  -6.73673740e-02   8.00073175e-02   1.53406043e-01\n",
      "   -6.27554578e-02  -6.95085206e-02  -1.35882532e-02  -6.42390566e-02\n",
      "    5.62356081e-01   8.41072607e-01   1.46761111e+00  -1.17184095e+00\n",
      "   -2.17047378e-01  -2.39417300e-01  -2.68080075e-01   2.98083369e-01\n",
      "   -2.32313167e-02  -2.36653079e-01   2.40589862e-01]\n",
      " [ -2.31417244e-01  -2.01737935e-01   3.00711076e-02  -4.87747654e-01\n",
      "   -1.04942464e-01  -8.49149461e-01  -1.23517237e-01  -5.20371913e-01\n",
      "   -1.34974271e+00  -1.34130573e-01   2.91370330e-01   3.76534126e-01\n",
      "   -1.25096720e-01  -5.59116995e-02   1.70816854e-01  -1.29474801e-01\n",
      "    5.30342922e-01   1.16008608e+00   1.81448812e+00  -1.24078478e+00\n",
      "   -5.25115110e-01   8.90948777e-01  -9.22920347e-02   8.81077736e-01\n",
      "   -4.13991183e-01  -4.22304750e-01   6.30574965e-01]]\n",
      "Accuracy of:  0.185255712731\n"
     ]
    }
   ],
   "source": [
    "## %%time\n",
    "\n",
    "X_train, X_test, y_train, y_test = train_test_split(X, y, test_size=0.2)\n",
    "\n",
    "lr = LogisticRegression(0.1,1000)\n",
    "lr.fit(X_train,y_train)\n",
    "print(lr)\n",
    "\n",
    "yhat = lr.predict(X_test)\n",
    "print('Accuracy of: ',accuracy_score(y_test,yhat))"
   ]
  },
  {
   "cell_type": "code",
   "execution_count": 376,
   "metadata": {},
   "outputs": [
    {
     "data": {
      "image/png": "[encoded data removed]",
      "text/plain": [
       "<matplotlib.figure.Figure at 0x19d93605cf8>"
      ]
     },
     "metadata": {},
     "output_type": "display_data"
    }
   ],
   "source": [
    "# linear boundaries visualization from sklearn documentation\n",
    "from matplotlib import pyplot as plt\n",
    "import copy\n",
    "%matplotlib inline\n",
    "plt.style.use('ggplot')\n",
    "\n",
    "def plot_decision_boundaries(lr,Xin,y,title=''):\n",
    "    Xb = copy.deepcopy(Xin)\n",
    "    \n",
    "    # pick two random columns\n",
    "    (one, two) = np.random.randint(0,X.shape[1], 2)\n",
    "    \n",
    "    \n",
    "    lr.fit(Xb[:,(one, two)],y) # train only on two features\n",
    "\n",
    "    h=0.01\n",
    "    # create a mesh to plot in\n",
    "    x_min, x_max = Xb[:, 0].min() - 1, Xb[:, 0].max() + 1\n",
    "    y_min, y_max = Xb[:, 1].min() - 1, Xb[:, 1].max() + 1\n",
    "    xx, yy = np.meshgrid(np.arange(x_min, x_max, h),\n",
    "                         np.arange(y_min, y_max, h))\n",
    "\n",
    "    # get prediction values\n",
    "    Z = lr.predict(np.c_[xx.ravel(), yy.ravel()])\n",
    "\n",
    "    # Put the result into a color plot\n",
    "    Z = Z.reshape(xx.shape)\n",
    "    plt.contourf(xx, yy, Z, cmap=plt.cm.Paired, alpha=0.5)\n",
    "\n",
    "    # Plot also the training points\n",
    "    plt.scatter(Xb[:, 0], Xb[:, 1], c=y, cmap=plt.cm.Paired)\n",
    "    plt.xlabel(stats.columns[one])\n",
    "    plt.ylabel(stats.columns[two])\n",
    "    plt.xlim(xx.min(), xx.max())\n",
    "    plt.ylim(yy.min(), yy.max())\n",
    "    plt.xticks(())\n",
    "    plt.yticks(())\n",
    "    plt.title(title)\n",
    "    plt.show()\n",
    "    \n",
    "lr = LogisticRegression(0.1,1500) # this is still OUR LR implementation\n",
    "plot_decision_boundaries(lr,X_train,y_train)"
   ]
  },
  {
   "cell_type": "code",
   "execution_count": 350,
   "metadata": {},
   "outputs": [
    {
     "name": "stdout",
     "output_type": "stream",
     "text": [
      "Binary Logistic Regression Object with coefficients:\n",
      "[[ 100.8240577 ]\n",
      " [ -38.02762117]\n",
      " [ -36.38648063]\n",
      " [ 338.5865417 ]\n",
      " [  -3.71530316]\n",
      " [  62.74259541]\n",
      " [ -60.67104796]\n",
      " [ -56.55537161]\n",
      " [ -47.63471685]\n",
      " [ -60.93564562]\n",
      " [  -8.19032175]\n",
      " [  49.34692206]\n",
      " [ -60.66036577]\n",
      " [ -32.31810938]\n",
      " [ -20.14227123]\n",
      " [ -60.52391986]\n",
      " [ -32.6296847 ]\n",
      " [  -1.44844092]\n",
      " [  26.95226457]\n",
      " [ -38.21490233]\n",
      " [ -49.75933184]\n",
      " [ -48.83349714]\n",
      " [ -37.61932445]\n",
      " [ -14.06564886]\n",
      " [  86.78708327]\n",
      " [ 115.94097107]\n",
      " [  27.97562714]]\n",
      "Accuracy of:  0.199891186072\n"
     ]
    }
   ],
   "source": [
    "# from last time, our logistic regression algorithm is given by (including everything we previously had):\n",
    "class BinaryLogisticRegression:\n",
    "    def __init__(self, eta, iterations=20, C=0.001, regularization='L2'):\n",
    "        self.eta = eta\n",
    "        self.iterations = iterations\n",
    "        self.C = C\n",
    "        self.regularization = regularization\n",
    "        # internally we will store the weights as self.w_ to keep with sklearn conventions\n",
    "        \n",
    "    def __str__(self):\n",
    "        if(hasattr(self,'w_')):\n",
    "            return 'Binary Logistic Regression Object with coefficients:\\n'+ str(self.w_) # is we have trained the object\n",
    "        else:\n",
    "            return 'Untrained Binary Logistic Regression Object'\n",
    "        \n",
    "    # convenience, private:\n",
    "    @staticmethod\n",
    "    def _add_bias(X):\n",
    "        return np.hstack((np.ones((X.shape[0],1)),X)) # add bias term\n",
    "    \n",
    "    @staticmethod\n",
    "    def _sigmoid(theta):\n",
    "        # increase stability, redefine sigmoid operation\n",
    "        return expit(theta) #1/(1+np.exp(-theta))\n",
    "    \n",
    "    # vectorized gradient calculation with regularization using L2 Norm\n",
    "    def _get_gradient(self,X,y):\n",
    "        \n",
    "        yhat = self.predict_proba(X, add_bias=False).ravel()[:, np.newaxis]\n",
    "        ydiff = y-yhat # get y difference\n",
    "\n",
    "        \n",
    "        gradient = np.mean(X * ydiff, axis=0) # make ydiff a column vector and multiply through\n",
    "        gradient = gradient.reshape(self.w_.shape)\n",
    "        \n",
    "        # gradient will be different depending on which regularization technique we use\n",
    "    \n",
    "        gradient[1:] \n",
    "        L1 = np.sign(w_[1:]) * self.C\n",
    "        L2 = -2 * self.w_[1:] * self.C\n",
    "        if (self.regularization=='L1'):\n",
    "            gradient[1:] += L1\n",
    "        if (self.regularization == 'L2'):\n",
    "            gradient[1:] += L2\n",
    "        if (self.regularization == 'L1/L2'):\n",
    "            gradient[1:] += (L1 + L2)\n",
    "        return gradient\n",
    "    \n",
    "    # public:\n",
    "    def predict_proba(self,X,add_bias=True):\n",
    "        # add bias term if requested\n",
    "        Xb = self._add_bias(X) if add_bias else X\n",
    "        return self._sigmoid(Xb @ self.w_) # return the probability y=1\n",
    "    \n",
    "    def predict(self,X):\n",
    "        return (self.predict_proba(X)>0.5) #return the actual prediction\n",
    "    \n",
    "    \n",
    "    def fit(self, X, y):\n",
    "        Xb = self._add_bias(X) # add bias term\n",
    "        num_samples, num_features = Xb.shape\n",
    "        \n",
    "        self.w_ = np.zeros((num_features,1)) # init weight vector to zeros\n",
    "        \n",
    "        # for as many as the max iterations\n",
    "        for _ in range(self.iterations):\n",
    "            gradient = self._get_gradient(Xb,y)\n",
    "            self.w_ += gradient*self.eta # multiply by learning rate \n",
    "\n",
    "blr = BinaryLogisticRegression(eta=0.1,iterations=500,C=0.001)\n",
    "\n",
    "blr.fit(X,y)\n",
    "print(blr)\n",
    "\n",
    "yhat = blr.predict(X)\n",
    "print('Accuracy of: ',accuracy_score(y,yhat))"
   ]
  },
  {
   "cell_type": "code",
   "execution_count": null,
   "metadata": {
    "collapsed": true
   },
   "outputs": [],
   "source": []
  },
  {
   "cell_type": "code",
   "execution_count": 359,
   "metadata": {},
   "outputs": [],
   "source": [
    "import warnings\n",
    "class LRClassifier:\n",
    "    def __init__(self, eta, iterations=20, C=0.001, optimization='full', regularization='L2'):\n",
    "        self.eta = eta\n",
    "        self.iterations = iterations\n",
    "        self.C = C\n",
    "        self.opt = optimization\n",
    "        self.regularization = regularization\n",
    "        # internally we will store the weights as self.w_ to keep with sklearn conventions\n",
    "    \n",
    "    def __str__(self):\n",
    "        if(hasattr(self,'w_')):\n",
    "            return 'MultiClass Logistic Regression Object with coefficients:\\n'+ str(self.w_) # is we have trained the object\n",
    "        else:\n",
    "            return 'Untrained MultiClass Logistic Regression Object'\n",
    "        \n",
    "    def fit(self,X,y):\n",
    "        num_samples, num_features = X.shape\n",
    "        self.unique_ = np.unique(y) # get each unique class value\n",
    "        num_unique_classes = len(self.unique_)\n",
    "        self.classifiers_ = [] # will fill this array with binary classifiers\n",
    "        \n",
    "        for i,yval in enumerate(self.unique_): # for each unique value\n",
    "            y_binary = y==yval # create a binary problem\n",
    "            \n",
    "            \n",
    "            # train the binary classifier for this class\n",
    "            if (self.opt == 'stochastic'):\n",
    "                blr = StochasticLogisticRegression(self.eta, self.iterations, self.C, self.regularization)\n",
    "            elif (self.opt == 'hessian'):\n",
    "                blr = HessianBinaryLogisticRegression(self.eta, self.iterations, self.C, self.regularization)\n",
    "            elif (self.opt == 'bfgs'):\n",
    "                blr = BFGSBinaryLogisticRegression(_, 3, self.C, self.regularization)\n",
    "            else:\n",
    "                blr = BinaryLogisticRegression(self.eta, self.iterations, self.C, self.regularization)\n",
    "            \n",
    "            blr.fit(X,y_binary)\n",
    "            # add the trained classifier to the list\n",
    "            self.classifiers_.append(blr)\n",
    "            \n",
    "        # save all the weights into one matrix, separate column for each class\n",
    "        self.w_ = np.hstack([x.w_ for x in self.classifiers_]).T\n",
    "        \n",
    "    def predict_proba(self,X):\n",
    "        probs = []\n",
    "        for blr in self.classifiers_:\n",
    "            probs.append(blr.predict_proba(X)) # get probability for each classifier\n",
    "        \n",
    "        return np.hstack(probs) # make into single matrix\n",
    "    \n",
    "    def predict(self,X):\n",
    "        return np.argmax(self.predict_proba(X),axis=1) # take argmax along row\n",
    "\n",
    "    def score(self,*args, **kwargs):\n",
    "        yhat = self.predict(X)\n",
    "        return accuracy_score(y, yhat)\n",
    "    \n",
    "    # lifted straight out of sklearn source code with some modifications\n",
    "    @classmethod\n",
    "    def _get_param_names(cls):\n",
    "        # this is just specific to this classifier\n",
    "        return sorted(['eta', 'iterations', 'C', 'optimization', 'regularization'])\n",
    "\n",
    "    def get_params(self, deep=True):\n",
    "        \"\"\"Get parameters for this estimator.\n",
    "        Parameters\n",
    "        ----------\n",
    "        deep : boolean, optional\n",
    "            If True, will return the parameters for this estimator and\n",
    "            contained subobjects that are estimators.\n",
    "        Returns\n",
    "        -------\n",
    "        params : mapping of string to any\n",
    "            Parameter names mapped to their values.\n",
    "        \"\"\"\n",
    "        out = dict()\n",
    "        for key in self._get_param_names():\n",
    "            # We need deprecation warnings to always be on in order to\n",
    "            # catch deprecated param values.\n",
    "            # This is set in utils/__init__.py but it gets overwritten\n",
    "            # when running under python3 somehow.\n",
    "            warnings.simplefilter(\"always\", DeprecationWarning)\n",
    "            try:\n",
    "                with warnings.catch_warnings(record=True) as w:\n",
    "                    value = getattr(self, key, None)\n",
    "                if len(w) and w[0].category == DeprecationWarning:\n",
    "                    # if the parameter is deprecated, don't show it\n",
    "                    continue\n",
    "            finally:\n",
    "                warnings.filters.pop(0)\n",
    "\n",
    "            # XXX: should we rather test if instance of estimator?\n",
    "            if deep and hasattr(value, 'get_params'):\n",
    "                deep_items = value.get_params().items()\n",
    "                out.update((key + '__' + k, val) for k, val in deep_items)\n",
    "            out[key] = value\n",
    "        return out\n",
    "     \n",
    "    def set_params(self, **params):\n",
    "        \"\"\"Set the parameters of this estimator.\n",
    "        The method works on simple estimators as well as on nested objects\n",
    "        (such as pipelines). The latter have parameters of the form\n",
    "        ``<component>__<parameter>`` so that it's possible to update each\n",
    "        component of a nested object.\n",
    "        Returns\n",
    "        -------\n",
    "        self\n",
    "        \"\"\"\n",
    "        if not params:\n",
    "            # Simple optimization to gain speed (inspect is slow)\n",
    "            return self\n",
    "        valid_params = self.get_params(deep=True)\n",
    "        # changed from six.iteritems() bc no need for py2 vs py3 compatabillity\n",
    "        for key, value in params.items():\n",
    "            split = key.split('__', 1)\n",
    "            if len(split) > 1:\n",
    "                # nested objects case\n",
    "                name, sub_name = split\n",
    "                if name not in valid_params:\n",
    "                    raise ValueError('Invalid parameter %s for estimator %s. '\n",
    "                                     'Check the list of available parameters '\n",
    "                                     'with `estimator.get_params().keys()`.' %\n",
    "                                     (name, self))\n",
    "                sub_object = valid_params[name]\n",
    "                sub_object.set_params(**{sub_name: value})\n",
    "            else:\n",
    "                # simple objects case\n",
    "                if key not in valid_params:\n",
    "                    raise ValueError('Invalid parameter %s for estimator %s. '\n",
    "                                     'Check the list of available parameters '\n",
    "                                     'with `estimator.get_params().keys()`.' %\n",
    "                                     (key, self.__class__.__name__))\n",
    "                setattr(self, key, value)\n",
    "        return self\n",
    "\n",
    "        "
   ]
  },
  {
   "cell_type": "code",
   "execution_count": 379,
   "metadata": {},
   "outputs": [
    {
     "data": {
      "text/plain": [
       "GridSearchCV(cv=None, error_score='raise',\n",
       "       estimator=<__main__.LRClassifier object at 0x0000019D93601A20>,\n",
       "       fit_params=None, iid=True, n_jobs=1, param_grid={'C': [1, 5, 10]},\n",
       "       pre_dispatch='2*n_jobs', refit=True, return_train_score=True,\n",
       "       scoring=None, verbose=0)"
      ]
     },
     "execution_count": 379,
     "metadata": {},
     "output_type": "execute_result"
    }
   ],
   "source": [
    "#from sklearn.model_selection import GridSearchCV\n",
    "parameters = {'C':[1, 5, 10]}\n",
    "lrc = LRClassifier(eta=0.1)\n",
    "clf = GridSearchCV(lrc, parameters)\n",
    "clf.fit(X, y)\n"
   ]
  },
  {
   "cell_type": "code",
   "execution_count": 380,
   "metadata": {
    "scrolled": true
   },
   "outputs": [
    {
     "data": {
      "text/plain": [
       "{'mean_fit_time': array([ 0.2819736 ,  0.26479952,  0.25956043]),\n",
       " 'mean_score_time': array([ 0.01977348,  0.01562738,  0.01562659]),\n",
       " 'mean_test_score': array([ 0.16706502,  0.17582407,  0.19385168]),\n",
       " 'mean_train_score': array([ 0.16706565,  0.17582517,  0.19385201]),\n",
       " 'param_C': masked_array(data = [1 5 10],\n",
       "              mask = [False False False],\n",
       "        fill_value = ?),\n",
       " 'params': [{'C': 1}, {'C': 5}, {'C': 10}],\n",
       " 'rank_test_score': array([3, 2, 1]),\n",
       " 'split0_test_score': array([ 0.0984222 ,  0.09989119,  0.19113166]),\n",
       " 'split0_train_score': array([ 0.0984222 ,  0.09989119,  0.19113166]),\n",
       " 'split1_test_score': array([ 0.22404788,  0.23144723,  0.19047878]),\n",
       " 'split1_train_score': array([ 0.22404788,  0.23144723,  0.19047878]),\n",
       " 'split2_test_score': array([ 0.17872688,  0.19613711,  0.19994559]),\n",
       " 'split2_train_score': array([ 0.17872688,  0.19613711,  0.19994559]),\n",
       " 'std_fit_time': array([ 0.01939531,  0.00316119,  0.00914496]),\n",
       " 'std_score_time': array([  6.39836968e-03,   5.15042996e-07,   2.97360213e-07]),\n",
       " 'std_test_score': array([ 0.05194645,  0.05559615,  0.00431693]),\n",
       " 'std_train_score': array([ 0.05194511,  0.05559484,  0.00431705])}"
      ]
     },
     "execution_count": 380,
     "metadata": {},
     "output_type": "execute_result"
    }
   ],
   "source": [
    "clf.cv_results_"
   ]
  },
  {
   "cell_type": "code",
   "execution_count": 381,
   "metadata": {},
   "outputs": [
    {
     "data": {
      "text/plain": [
       "0.18416757344940152"
      ]
     },
     "execution_count": 381,
     "metadata": {},
     "output_type": "execute_result"
    }
   ],
   "source": [
    "lrc = LRClassifier(eta=0.1, C=10)\n",
    "lrc.fit(X_train,y_train)\n",
    "accuracy_score(y_test,lrc.predict(X_test))"
   ]
  },
  {
   "cell_type": "code",
   "execution_count": null,
   "metadata": {
    "collapsed": true
   },
   "outputs": [],
   "source": []
  }
 ],
 "metadata": {
  "kernelspec": {
   "display_name": "Python [conda env:mlenv]",
   "language": "python",
   "name": "conda-env-mlenv-py"
  },
  "language_info": {
   "codemirror_mode": {
    "name": "ipython",
    "version": 3
   },
   "file_extension": ".py",
   "mimetype": "text/x-python",
   "name": "python",
   "nbconvert_exporter": "python",
   "pygments_lexer": "ipython3",
   "version": "3.5.4"
  }
 },
 "nbformat": 4,
 "nbformat_minor": 2
}
