{
 "cells": [
  {
   "cell_type": "markdown",
   "metadata": {},
   "source": [
    "# Lab 2 Text Data"
   ]
  },
  {
   "cell_type": "markdown",
   "metadata": {},
   "source": [
    "Cameron Matson"
   ]
  },
  {
   "cell_type": "markdown",
   "metadata": {},
   "source": [
    "## Purpose\n",
    "\n",
    "This dataset is a collection reviews from Pitchfork, a music review site.  It 18,393 reviews contains reviews from 1999 to the present day.\n",
    "\n",
    "There is a lot of research being done related to the way that people interact with music, specifically how they describe it in words.  What we'd like to get out of this data is if there is any relation between way the music is described in the reviews and the music itself.  There's also interesting work to be done in sentiment analysis, what is what the emotion contained in a text is.  One of the crudest forms of this is just whether that emotion is positive or negative.\n",
    "\n",
    "The data was acquired at https://www.kaggle.com/nolanbconaway/pitchfork-data"
   ]
  },
  {
   "cell_type": "markdown",
   "metadata": {},
   "source": [
    "## Data\n",
    "### Aggregation and Cleaning"
   ]
  },
  {
   "cell_type": "markdown",
   "metadata": {},
   "source": [
    "The data was stored in a database in several tables, so first we need to restructure it."
   ]
  },
  {
   "cell_type": "code",
   "execution_count": 606,
   "metadata": {},
   "outputs": [
    {
     "name": "stdout",
     "output_type": "stream",
     "text": [
      "number of reviews: 18393\n"
     ]
    },
    {
     "data": {
      "text/html": [
       "<div>\n",
       "<style>\n",
       "    .dataframe thead tr:only-child th {\n",
       "        text-align: right;\n",
       "    }\n",
       "\n",
       "    .dataframe thead th {\n",
       "        text-align: left;\n",
       "    }\n",
       "\n",
       "    .dataframe tbody tr th {\n",
       "        vertical-align: top;\n",
       "    }\n",
       "</style>\n",
       "<table border=\"1\" class=\"dataframe\">\n",
       "  <thead>\n",
       "    <tr style=\"text-align: right;\">\n",
       "      <th></th>\n",
       "      <th>reviewid</th>\n",
       "      <th>content</th>\n",
       "    </tr>\n",
       "  </thead>\n",
       "  <tbody>\n",
       "    <tr>\n",
       "      <th>0</th>\n",
       "      <td>22703</td>\n",
       "      <td>“Trip-hop” eventually became a ’90s punchline,...</td>\n",
       "    </tr>\n",
       "    <tr>\n",
       "      <th>1</th>\n",
       "      <td>22721</td>\n",
       "      <td>Eight years, five albums, and two EPs in, the ...</td>\n",
       "    </tr>\n",
       "    <tr>\n",
       "      <th>2</th>\n",
       "      <td>22659</td>\n",
       "      <td>Minneapolis’ Uranium Club seem to revel in bei...</td>\n",
       "    </tr>\n",
       "    <tr>\n",
       "      <th>3</th>\n",
       "      <td>22661</td>\n",
       "      <td>Kleenex began with a crash. It transpired one ...</td>\n",
       "    </tr>\n",
       "    <tr>\n",
       "      <th>4</th>\n",
       "      <td>22725</td>\n",
       "      <td>It is impossible to consider a given release b...</td>\n",
       "    </tr>\n",
       "  </tbody>\n",
       "</table>\n",
       "</div>"
      ],
      "text/plain": [
       "   reviewid                                            content\n",
       "0     22703  “Trip-hop” eventually became a ’90s punchline,...\n",
       "1     22721  Eight years, five albums, and two EPs in, the ...\n",
       "2     22659  Minneapolis’ Uranium Club seem to revel in bei...\n",
       "3     22661  Kleenex began with a crash. It transpired one ...\n",
       "4     22725  It is impossible to consider a given release b..."
      ]
     },
     "execution_count": 606,
     "metadata": {},
     "output_type": "execute_result"
    }
   ],
   "source": [
    "import pandas as pd\n",
    "import numpy as np\n",
    "\n",
    "reviews = pd.read_csv('../data/reviews.csv')\n",
    "print('number of reviews:',len(reviews))\n",
    "reviews.head()"
   ]
  },
  {
   "cell_type": "code",
   "execution_count": 607,
   "metadata": {},
   "outputs": [
    {
     "name": "stdout",
     "output_type": "stream",
     "text": [
      "<class 'pandas.core.frame.DataFrame'>\n",
      "RangeIndex: 18393 entries, 0 to 18392\n",
      "Data columns (total 13 columns):\n",
      "reviewid          18393 non-null int64\n",
      "title             18391 non-null object\n",
      "artist            18391 non-null object\n",
      "url               18393 non-null object\n",
      "score             18393 non-null float64\n",
      "best_new_music    18393 non-null int64\n",
      "author            18393 non-null object\n",
      "author_type       14487 non-null object\n",
      "pub_date          18393 non-null object\n",
      "pub_weekday       18393 non-null int64\n",
      "pub_day           18393 non-null int64\n",
      "pub_month         18393 non-null int64\n",
      "pub_year          18393 non-null int64\n",
      "dtypes: float64(1), int64(6), object(6)\n",
      "memory usage: 1.8+ MB\n"
     ]
    },
    {
     "data": {
      "text/html": [
       "<div>\n",
       "<style>\n",
       "    .dataframe thead tr:only-child th {\n",
       "        text-align: right;\n",
       "    }\n",
       "\n",
       "    .dataframe thead th {\n",
       "        text-align: left;\n",
       "    }\n",
       "\n",
       "    .dataframe tbody tr th {\n",
       "        vertical-align: top;\n",
       "    }\n",
       "</style>\n",
       "<table border=\"1\" class=\"dataframe\">\n",
       "  <thead>\n",
       "    <tr style=\"text-align: right;\">\n",
       "      <th></th>\n",
       "      <th>reviewid</th>\n",
       "      <th>title</th>\n",
       "      <th>artist</th>\n",
       "      <th>url</th>\n",
       "      <th>score</th>\n",
       "      <th>best_new_music</th>\n",
       "      <th>author</th>\n",
       "      <th>author_type</th>\n",
       "      <th>pub_date</th>\n",
       "      <th>pub_weekday</th>\n",
       "      <th>pub_day</th>\n",
       "      <th>pub_month</th>\n",
       "      <th>pub_year</th>\n",
       "    </tr>\n",
       "  </thead>\n",
       "  <tbody>\n",
       "    <tr>\n",
       "      <th>0</th>\n",
       "      <td>22703</td>\n",
       "      <td>mezzanine</td>\n",
       "      <td>massive attack</td>\n",
       "      <td>http://pitchfork.com/reviews/albums/22703-mezz...</td>\n",
       "      <td>9.3</td>\n",
       "      <td>0</td>\n",
       "      <td>nate patrin</td>\n",
       "      <td>contributor</td>\n",
       "      <td>2017-01-08</td>\n",
       "      <td>6</td>\n",
       "      <td>8</td>\n",
       "      <td>1</td>\n",
       "      <td>2017</td>\n",
       "    </tr>\n",
       "    <tr>\n",
       "      <th>1</th>\n",
       "      <td>22721</td>\n",
       "      <td>prelapsarian</td>\n",
       "      <td>krallice</td>\n",
       "      <td>http://pitchfork.com/reviews/albums/22721-prel...</td>\n",
       "      <td>7.9</td>\n",
       "      <td>0</td>\n",
       "      <td>zoe camp</td>\n",
       "      <td>contributor</td>\n",
       "      <td>2017-01-07</td>\n",
       "      <td>5</td>\n",
       "      <td>7</td>\n",
       "      <td>1</td>\n",
       "      <td>2017</td>\n",
       "    </tr>\n",
       "    <tr>\n",
       "      <th>2</th>\n",
       "      <td>22659</td>\n",
       "      <td>all of them naturals</td>\n",
       "      <td>uranium club</td>\n",
       "      <td>http://pitchfork.com/reviews/albums/22659-all-...</td>\n",
       "      <td>7.3</td>\n",
       "      <td>0</td>\n",
       "      <td>david glickman</td>\n",
       "      <td>contributor</td>\n",
       "      <td>2017-01-07</td>\n",
       "      <td>5</td>\n",
       "      <td>7</td>\n",
       "      <td>1</td>\n",
       "      <td>2017</td>\n",
       "    </tr>\n",
       "    <tr>\n",
       "      <th>3</th>\n",
       "      <td>22661</td>\n",
       "      <td>first songs</td>\n",
       "      <td>kleenex, liliput</td>\n",
       "      <td>http://pitchfork.com/reviews/albums/22661-firs...</td>\n",
       "      <td>9.0</td>\n",
       "      <td>1</td>\n",
       "      <td>jenn pelly</td>\n",
       "      <td>associate reviews editor</td>\n",
       "      <td>2017-01-06</td>\n",
       "      <td>4</td>\n",
       "      <td>6</td>\n",
       "      <td>1</td>\n",
       "      <td>2017</td>\n",
       "    </tr>\n",
       "    <tr>\n",
       "      <th>4</th>\n",
       "      <td>22725</td>\n",
       "      <td>new start</td>\n",
       "      <td>taso</td>\n",
       "      <td>http://pitchfork.com/reviews/albums/22725-new-...</td>\n",
       "      <td>8.1</td>\n",
       "      <td>0</td>\n",
       "      <td>kevin lozano</td>\n",
       "      <td>tracks coordinator</td>\n",
       "      <td>2017-01-06</td>\n",
       "      <td>4</td>\n",
       "      <td>6</td>\n",
       "      <td>1</td>\n",
       "      <td>2017</td>\n",
       "    </tr>\n",
       "  </tbody>\n",
       "</table>\n",
       "</div>"
      ],
      "text/plain": [
       "   reviewid                 title            artist  \\\n",
       "0     22703             mezzanine    massive attack   \n",
       "1     22721          prelapsarian          krallice   \n",
       "2     22659  all of them naturals      uranium club   \n",
       "3     22661           first songs  kleenex, liliput   \n",
       "4     22725             new start              taso   \n",
       "\n",
       "                                                 url  score  best_new_music  \\\n",
       "0  http://pitchfork.com/reviews/albums/22703-mezz...    9.3               0   \n",
       "1  http://pitchfork.com/reviews/albums/22721-prel...    7.9               0   \n",
       "2  http://pitchfork.com/reviews/albums/22659-all-...    7.3               0   \n",
       "3  http://pitchfork.com/reviews/albums/22661-firs...    9.0               1   \n",
       "4  http://pitchfork.com/reviews/albums/22725-new-...    8.1               0   \n",
       "\n",
       "           author               author_type    pub_date  pub_weekday  pub_day  \\\n",
       "0     nate patrin               contributor  2017-01-08            6        8   \n",
       "1        zoe camp               contributor  2017-01-07            5        7   \n",
       "2  david glickman               contributor  2017-01-07            5        7   \n",
       "3      jenn pelly  associate reviews editor  2017-01-06            4        6   \n",
       "4    kevin lozano        tracks coordinator  2017-01-06            4        6   \n",
       "\n",
       "   pub_month  pub_year  \n",
       "0          1      2017  \n",
       "1          1      2017  \n",
       "2          1      2017  \n",
       "3          1      2017  \n",
       "4          1      2017  "
      ]
     },
     "execution_count": 607,
     "metadata": {},
     "output_type": "execute_result"
    }
   ],
   "source": [
    "meta = pd.read_csv('../data/meta.csv')\n",
    "meta.info()\n",
    "meta.head()"
   ]
  },
  {
   "cell_type": "markdown",
   "metadata": {},
   "source": [
    "All we want from the meta data is the score and best_new_music feature, because we want to see if we can label the reviewers feelings about the album from the text itself."
   ]
  },
  {
   "cell_type": "code",
   "execution_count": 608,
   "metadata": {
    "scrolled": true
   },
   "outputs": [
    {
     "name": "stdout",
     "output_type": "stream",
     "text": [
      "<class 'pandas.core.frame.DataFrame'>\n",
      "RangeIndex: 18393 entries, 0 to 18392\n",
      "Data columns (total 2 columns):\n",
      "reviewid    18393 non-null int64\n",
      "score       18393 non-null float64\n",
      "dtypes: float64(1), int64(1)\n",
      "memory usage: 287.5 KB\n"
     ]
    },
    {
     "data": {
      "text/html": [
       "<div>\n",
       "<style>\n",
       "    .dataframe thead tr:only-child th {\n",
       "        text-align: right;\n",
       "    }\n",
       "\n",
       "    .dataframe thead th {\n",
       "        text-align: left;\n",
       "    }\n",
       "\n",
       "    .dataframe tbody tr th {\n",
       "        vertical-align: top;\n",
       "    }\n",
       "</style>\n",
       "<table border=\"1\" class=\"dataframe\">\n",
       "  <thead>\n",
       "    <tr style=\"text-align: right;\">\n",
       "      <th></th>\n",
       "      <th>reviewid</th>\n",
       "      <th>score</th>\n",
       "    </tr>\n",
       "  </thead>\n",
       "  <tbody>\n",
       "    <tr>\n",
       "      <th>0</th>\n",
       "      <td>22703</td>\n",
       "      <td>9.3</td>\n",
       "    </tr>\n",
       "    <tr>\n",
       "      <th>1</th>\n",
       "      <td>22721</td>\n",
       "      <td>7.9</td>\n",
       "    </tr>\n",
       "    <tr>\n",
       "      <th>2</th>\n",
       "      <td>22659</td>\n",
       "      <td>7.3</td>\n",
       "    </tr>\n",
       "    <tr>\n",
       "      <th>3</th>\n",
       "      <td>22661</td>\n",
       "      <td>9.0</td>\n",
       "    </tr>\n",
       "    <tr>\n",
       "      <th>4</th>\n",
       "      <td>22725</td>\n",
       "      <td>8.1</td>\n",
       "    </tr>\n",
       "  </tbody>\n",
       "</table>\n",
       "</div>"
      ],
      "text/plain": [
       "   reviewid  score\n",
       "0     22703    9.3\n",
       "1     22721    7.9\n",
       "2     22659    7.3\n",
       "3     22661    9.0\n",
       "4     22725    8.1"
      ]
     },
     "execution_count": 608,
     "metadata": {},
     "output_type": "execute_result"
    }
   ],
   "source": [
    "meta.drop(['title','artist', 'url', 'author', 'author_type', 'best_new_music', 'pub_date', 'pub_weekday', 'pub_day', 'pub_month', 'pub_year'], axis=1, inplace=True)\n",
    "meta.info()\n",
    "meta.head()"
   ]
  },
  {
   "cell_type": "markdown",
   "metadata": {},
   "source": [
    "Finally we want the genre to see if we can infer that from the review"
   ]
  },
  {
   "cell_type": "code",
   "execution_count": 609,
   "metadata": {},
   "outputs": [
    {
     "name": "stdout",
     "output_type": "stream",
     "text": [
      "<class 'pandas.core.frame.DataFrame'>\n",
      "Int64Index: 18389 entries, 0 to 22679\n",
      "Data columns (total 2 columns):\n",
      "reviewid    18389 non-null int64\n",
      "genre       16024 non-null object\n",
      "dtypes: int64(1), object(1)\n",
      "memory usage: 431.0+ KB\n"
     ]
    },
    {
     "data": {
      "text/html": [
       "<div>\n",
       "<style>\n",
       "    .dataframe thead tr:only-child th {\n",
       "        text-align: right;\n",
       "    }\n",
       "\n",
       "    .dataframe thead th {\n",
       "        text-align: left;\n",
       "    }\n",
       "\n",
       "    .dataframe tbody tr th {\n",
       "        vertical-align: top;\n",
       "    }\n",
       "</style>\n",
       "<table border=\"1\" class=\"dataframe\">\n",
       "  <thead>\n",
       "    <tr style=\"text-align: right;\">\n",
       "      <th></th>\n",
       "      <th>reviewid</th>\n",
       "      <th>genre</th>\n",
       "    </tr>\n",
       "  </thead>\n",
       "  <tbody>\n",
       "    <tr>\n",
       "      <th>0</th>\n",
       "      <td>22703</td>\n",
       "      <td>electronic</td>\n",
       "    </tr>\n",
       "    <tr>\n",
       "      <th>1</th>\n",
       "      <td>22721</td>\n",
       "      <td>metal</td>\n",
       "    </tr>\n",
       "    <tr>\n",
       "      <th>2</th>\n",
       "      <td>22659</td>\n",
       "      <td>rock</td>\n",
       "    </tr>\n",
       "    <tr>\n",
       "      <th>3</th>\n",
       "      <td>22661</td>\n",
       "      <td>rock</td>\n",
       "    </tr>\n",
       "    <tr>\n",
       "      <th>4</th>\n",
       "      <td>22725</td>\n",
       "      <td>electronic</td>\n",
       "    </tr>\n",
       "  </tbody>\n",
       "</table>\n",
       "</div>"
      ],
      "text/plain": [
       "   reviewid       genre\n",
       "0     22703  electronic\n",
       "1     22721       metal\n",
       "2     22659        rock\n",
       "3     22661        rock\n",
       "4     22725  electronic"
      ]
     },
     "execution_count": 609,
     "metadata": {},
     "output_type": "execute_result"
    }
   ],
   "source": [
    "genres = pd.read_csv('../data/genres.csv')\n",
    "\n",
    "# some have multiple genres, for now lets just choose the first one\n",
    "genres.drop_duplicates(subset=['reviewid'],inplace=True)\n",
    "\n",
    "genres.info()\n",
    "genres.head()"
   ]
  },
  {
   "cell_type": "markdown",
   "metadata": {},
   "source": [
    "It appears that some of the reviews didn't have genres listed.  We'll drop these."
   ]
  },
  {
   "cell_type": "code",
   "execution_count": 610,
   "metadata": {},
   "outputs": [
    {
     "name": "stdout",
     "output_type": "stream",
     "text": [
      "<class 'pandas.core.frame.DataFrame'>\n",
      "Int64Index: 16024 entries, 0 to 22676\n",
      "Data columns (total 2 columns):\n",
      "reviewid    16024 non-null int64\n",
      "genre       16024 non-null object\n",
      "dtypes: int64(1), object(1)\n",
      "memory usage: 375.6+ KB\n"
     ]
    }
   ],
   "source": [
    "genres.dropna(inplace=True)\n",
    "genres.info()"
   ]
  },
  {
   "cell_type": "code",
   "execution_count": 611,
   "metadata": {},
   "outputs": [
    {
     "name": "stdout",
     "output_type": "stream",
     "text": [
      "<class 'pandas.core.frame.DataFrame'>\n",
      "Int64Index: 16030 entries, 0 to 16029\n",
      "Data columns (total 4 columns):\n",
      "reviewid    16030 non-null int64\n",
      "genre       16030 non-null object\n",
      "content     16021 non-null object\n",
      "score       16030 non-null float64\n",
      "dtypes: float64(1), int64(1), object(2)\n",
      "memory usage: 626.2+ KB\n"
     ]
    },
    {
     "data": {
      "text/html": [
       "<div>\n",
       "<style>\n",
       "    .dataframe thead tr:only-child th {\n",
       "        text-align: right;\n",
       "    }\n",
       "\n",
       "    .dataframe thead th {\n",
       "        text-align: left;\n",
       "    }\n",
       "\n",
       "    .dataframe tbody tr th {\n",
       "        vertical-align: top;\n",
       "    }\n",
       "</style>\n",
       "<table border=\"1\" class=\"dataframe\">\n",
       "  <thead>\n",
       "    <tr style=\"text-align: right;\">\n",
       "      <th></th>\n",
       "      <th>reviewid</th>\n",
       "      <th>genre</th>\n",
       "      <th>content</th>\n",
       "      <th>score</th>\n",
       "    </tr>\n",
       "  </thead>\n",
       "  <tbody>\n",
       "    <tr>\n",
       "      <th>0</th>\n",
       "      <td>22703</td>\n",
       "      <td>electronic</td>\n",
       "      <td>“Trip-hop” eventually became a ’90s punchline,...</td>\n",
       "      <td>9.3</td>\n",
       "    </tr>\n",
       "    <tr>\n",
       "      <th>1</th>\n",
       "      <td>22721</td>\n",
       "      <td>metal</td>\n",
       "      <td>Eight years, five albums, and two EPs in, the ...</td>\n",
       "      <td>7.9</td>\n",
       "    </tr>\n",
       "    <tr>\n",
       "      <th>2</th>\n",
       "      <td>22659</td>\n",
       "      <td>rock</td>\n",
       "      <td>Minneapolis’ Uranium Club seem to revel in bei...</td>\n",
       "      <td>7.3</td>\n",
       "    </tr>\n",
       "    <tr>\n",
       "      <th>3</th>\n",
       "      <td>22661</td>\n",
       "      <td>rock</td>\n",
       "      <td>Kleenex began with a crash. It transpired one ...</td>\n",
       "      <td>9.0</td>\n",
       "    </tr>\n",
       "    <tr>\n",
       "      <th>4</th>\n",
       "      <td>22725</td>\n",
       "      <td>electronic</td>\n",
       "      <td>It is impossible to consider a given release b...</td>\n",
       "      <td>8.1</td>\n",
       "    </tr>\n",
       "  </tbody>\n",
       "</table>\n",
       "</div>"
      ],
      "text/plain": [
       "   reviewid       genre                                            content  \\\n",
       "0     22703  electronic  “Trip-hop” eventually became a ’90s punchline,...   \n",
       "1     22721       metal  Eight years, five albums, and two EPs in, the ...   \n",
       "2     22659        rock  Minneapolis’ Uranium Club seem to revel in bei...   \n",
       "3     22661        rock  Kleenex began with a crash. It transpired one ...   \n",
       "4     22725  electronic  It is impossible to consider a given release b...   \n",
       "\n",
       "   score  \n",
       "0    9.3  \n",
       "1    7.9  \n",
       "2    7.3  \n",
       "3    9.0  \n",
       "4    8.1  "
      ]
     },
     "execution_count": 611,
     "metadata": {},
     "output_type": "execute_result"
    }
   ],
   "source": [
    "df = pd.merge(genres, reviews, on='reviewid')\n",
    "df = pd.merge(df, meta, on='reviewid')\n",
    "df.info()\n",
    "df.head()"
   ]
  },
  {
   "cell_type": "markdown",
   "metadata": {},
   "source": [
    "Looks like there were still a few reviews that didn't match up in all three tables, or that there were some null values in which if fine, we'll just drop to the lowest common denominator"
   ]
  },
  {
   "cell_type": "code",
   "execution_count": 612,
   "metadata": {},
   "outputs": [
    {
     "name": "stdout",
     "output_type": "stream",
     "text": [
      "<class 'pandas.core.frame.DataFrame'>\n",
      "Int64Index: 16021 entries, 0 to 16029\n",
      "Data columns (total 4 columns):\n",
      "reviewid    16021 non-null int64\n",
      "genre       16021 non-null object\n",
      "content     16021 non-null object\n",
      "score       16021 non-null float64\n",
      "dtypes: float64(1), int64(1), object(2)\n",
      "memory usage: 625.8+ KB\n"
     ]
    }
   ],
   "source": [
    "df.dropna(inplace=True)\n",
    "df.info()"
   ]
  },
  {
   "cell_type": "markdown",
   "metadata": {},
   "source": [
    "That's a lot of reviews, for efficiency's sake lets just take a sample"
   ]
  },
  {
   "cell_type": "code",
   "execution_count": 613,
   "metadata": {},
   "outputs": [
    {
     "name": "stdout",
     "output_type": "stream",
     "text": [
      "<class 'pandas.core.frame.DataFrame'>\n",
      "Int64Index: 1000 entries, 346 to 6550\n",
      "Data columns (total 4 columns):\n",
      "reviewid    1000 non-null int64\n",
      "genre       1000 non-null object\n",
      "content     1000 non-null object\n",
      "score       1000 non-null float64\n",
      "dtypes: float64(1), int64(1), object(2)\n",
      "memory usage: 39.1+ KB\n"
     ]
    }
   ],
   "source": [
    "df_sample = df.sample(n=1000).dropna()\n",
    "df_sample.info()"
   ]
  },
  {
   "cell_type": "markdown",
   "metadata": {},
   "source": [
    "\n",
    "## Feature Representation\n",
    "### Bag of Words\n"
   ]
  },
  {
   "cell_type": "code",
   "execution_count": 614,
   "metadata": {},
   "outputs": [
    {
     "name": "stdout",
     "output_type": "stream",
     "text": [
      "(1000, 36657)\n"
     ]
    }
   ],
   "source": [
    "from sklearn.feature_extraction.text import CountVectorizer\n",
    "\n",
    "# make a CountVectorizer object\n",
    "counter = CountVectorizer(stop_words='english')\n",
    "\n",
    "# list where each element is an entire review\n",
    "all_text = df_sample.content.tolist()\n",
    "\n",
    "# use counter object to transorm the text in to BOW\n",
    "bag_words = counter.fit_transform(all_text)\n",
    "print(bag_words.shape)"
   ]
  },
  {
   "cell_type": "code",
   "execution_count": 615,
   "metadata": {
    "collapsed": true
   },
   "outputs": [],
   "source": [
    "# I'm not even going to run this cell, because it takes too long\n",
    "# print(counter.vocabulary_)"
   ]
  },
  {
   "cell_type": "markdown",
   "metadata": {},
   "source": [
    "That's a lot of words.  How might we be able to reduce it?  The problem is that the most common way that people talk about music is through metaphor, so it makes it difficult to choose a narrow vocabulary in general.  However, for this analysis, we are primarilly concerned with how the reviewer *described* the album, therefore we might limit our vocabulary to words that describe things i.e. adjectives and adverbs.\n",
    "\n",
    "To do this we'll use a Parts of Speech Tagger from the Natrual Language Toolkit.  We will be using a unigram tagger, which assigns the most common tag to a word, based on a corpus.  We do this because our bag of words model has already stripped the potential part of speech context provided by the sentence."
   ]
  },
  {
   "cell_type": "code",
   "execution_count": 616,
   "metadata": {
    "collapsed": true
   },
   "outputs": [],
   "source": [
    "def make_descriptor_vocab(old_vocab):\n",
    "    '''Returns a list of adjectives and adverbs found in (list) old_vocab'''\n",
    "    vocab = []\n",
    "\n",
    "    # Unigram Tagger is an object that is trained on an already tagged dataset, in this case the Brown Corpus.\n",
    "    # https://en.wikipedia.org/wiki/Brown_Corpus\n",
    "    unigram_tagger = UnigramTagger(brown.tagged_sents())\n",
    "\n",
    "\n",
    "    for tok, tag in unigram_tagger.tag(old_vocab):\n",
    "        # words unknown to the tagger are taged None, JJ and RB corespond to adj. and adv. respectively\n",
    "        if tag is not None and (tag[0:2] == 'JJ' or tag[0:2] == 'RB'):\n",
    "            vocab.append(tok)\n",
    "\n",
    "    return vocab\n"
   ]
  },
  {
   "cell_type": "code",
   "execution_count": 617,
   "metadata": {
    "collapsed": true
   },
   "outputs": [],
   "source": [
    "from nltk.tag import UnigramTagger\n",
    "from nltk.corpus import brown"
   ]
  },
  {
   "cell_type": "code",
   "execution_count": 618,
   "metadata": {},
   "outputs": [
    {
     "name": "stdout",
     "output_type": "stream",
     "text": [
      "CPU times: user 13 s, sys: 668 ms, total: 13.7 s\n",
      "Wall time: 16.3 s\n"
     ]
    }
   ],
   "source": [
    "%%time\n",
    "\n",
    "vocab = make_descriptor_vocab([w for w in counter.vocabulary_.keys()]) # pass in the list of words in the old vocab"
   ]
  },
  {
   "cell_type": "code",
   "execution_count": 619,
   "metadata": {},
   "outputs": [
    {
     "name": "stdout",
     "output_type": "stream",
     "text": [
      "3780\n"
     ]
    }
   ],
   "source": [
    "print(len(vocab))"
   ]
  },
  {
   "cell_type": "markdown",
   "metadata": {},
   "source": [
    "Hey! That seems managable!"
   ]
  },
  {
   "cell_type": "code",
   "execution_count": 621,
   "metadata": {},
   "outputs": [
    {
     "name": "stdout",
     "output_type": "stream",
     "text": [
      "(1000, 3780)\n"
     ]
    },
    {
     "data": {
      "text/html": [
       "<div>\n",
       "<style>\n",
       "    .dataframe thead tr:only-child th {\n",
       "        text-align: right;\n",
       "    }\n",
       "\n",
       "    .dataframe thead th {\n",
       "        text-align: left;\n",
       "    }\n",
       "\n",
       "    .dataframe tbody tr th {\n",
       "        vertical-align: top;\n",
       "    }\n",
       "</style>\n",
       "<table border=\"1\" class=\"dataframe\">\n",
       "  <thead>\n",
       "    <tr style=\"text-align: right;\">\n",
       "      <th></th>\n",
       "      <th>homemade</th>\n",
       "      <th>weirdly</th>\n",
       "      <th>lunar</th>\n",
       "      <th>early</th>\n",
       "      <th>hard</th>\n",
       "      <th>undeniably</th>\n",
       "      <th>playful</th>\n",
       "      <th>soulful</th>\n",
       "      <th>cosmic</th>\n",
       "      <th>new</th>\n",
       "      <th>...</th>\n",
       "      <th>hourly</th>\n",
       "      <th>innermost</th>\n",
       "      <th>youngish</th>\n",
       "      <th>roughshod</th>\n",
       "      <th>unenviable</th>\n",
       "      <th>crotchety</th>\n",
       "      <th>epileptic</th>\n",
       "      <th>imprecise</th>\n",
       "      <th>astringent</th>\n",
       "      <th>fusty</th>\n",
       "    </tr>\n",
       "  </thead>\n",
       "  <tbody>\n",
       "    <tr>\n",
       "      <th>0</th>\n",
       "      <td>1</td>\n",
       "      <td>1</td>\n",
       "      <td>1</td>\n",
       "      <td>1</td>\n",
       "      <td>1</td>\n",
       "      <td>1</td>\n",
       "      <td>1</td>\n",
       "      <td>1</td>\n",
       "      <td>1</td>\n",
       "      <td>8</td>\n",
       "      <td>...</td>\n",
       "      <td>0</td>\n",
       "      <td>0</td>\n",
       "      <td>0</td>\n",
       "      <td>0</td>\n",
       "      <td>0</td>\n",
       "      <td>0</td>\n",
       "      <td>0</td>\n",
       "      <td>0</td>\n",
       "      <td>0</td>\n",
       "      <td>0</td>\n",
       "    </tr>\n",
       "    <tr>\n",
       "      <th>1</th>\n",
       "      <td>0</td>\n",
       "      <td>0</td>\n",
       "      <td>0</td>\n",
       "      <td>2</td>\n",
       "      <td>0</td>\n",
       "      <td>0</td>\n",
       "      <td>0</td>\n",
       "      <td>0</td>\n",
       "      <td>0</td>\n",
       "      <td>0</td>\n",
       "      <td>...</td>\n",
       "      <td>0</td>\n",
       "      <td>0</td>\n",
       "      <td>0</td>\n",
       "      <td>0</td>\n",
       "      <td>0</td>\n",
       "      <td>0</td>\n",
       "      <td>0</td>\n",
       "      <td>0</td>\n",
       "      <td>0</td>\n",
       "      <td>0</td>\n",
       "    </tr>\n",
       "    <tr>\n",
       "      <th>2</th>\n",
       "      <td>0</td>\n",
       "      <td>0</td>\n",
       "      <td>0</td>\n",
       "      <td>0</td>\n",
       "      <td>0</td>\n",
       "      <td>0</td>\n",
       "      <td>0</td>\n",
       "      <td>0</td>\n",
       "      <td>0</td>\n",
       "      <td>1</td>\n",
       "      <td>...</td>\n",
       "      <td>0</td>\n",
       "      <td>0</td>\n",
       "      <td>0</td>\n",
       "      <td>0</td>\n",
       "      <td>0</td>\n",
       "      <td>0</td>\n",
       "      <td>0</td>\n",
       "      <td>0</td>\n",
       "      <td>0</td>\n",
       "      <td>0</td>\n",
       "    </tr>\n",
       "    <tr>\n",
       "      <th>3</th>\n",
       "      <td>0</td>\n",
       "      <td>0</td>\n",
       "      <td>0</td>\n",
       "      <td>1</td>\n",
       "      <td>2</td>\n",
       "      <td>0</td>\n",
       "      <td>0</td>\n",
       "      <td>0</td>\n",
       "      <td>0</td>\n",
       "      <td>1</td>\n",
       "      <td>...</td>\n",
       "      <td>0</td>\n",
       "      <td>0</td>\n",
       "      <td>0</td>\n",
       "      <td>0</td>\n",
       "      <td>0</td>\n",
       "      <td>0</td>\n",
       "      <td>0</td>\n",
       "      <td>0</td>\n",
       "      <td>0</td>\n",
       "      <td>0</td>\n",
       "    </tr>\n",
       "    <tr>\n",
       "      <th>4</th>\n",
       "      <td>0</td>\n",
       "      <td>0</td>\n",
       "      <td>0</td>\n",
       "      <td>0</td>\n",
       "      <td>1</td>\n",
       "      <td>0</td>\n",
       "      <td>0</td>\n",
       "      <td>0</td>\n",
       "      <td>0</td>\n",
       "      <td>2</td>\n",
       "      <td>...</td>\n",
       "      <td>0</td>\n",
       "      <td>0</td>\n",
       "      <td>0</td>\n",
       "      <td>0</td>\n",
       "      <td>0</td>\n",
       "      <td>0</td>\n",
       "      <td>0</td>\n",
       "      <td>0</td>\n",
       "      <td>0</td>\n",
       "      <td>0</td>\n",
       "    </tr>\n",
       "  </tbody>\n",
       "</table>\n",
       "<p>5 rows × 3780 columns</p>\n",
       "</div>"
      ],
      "text/plain": [
       "   homemade  weirdly  lunar  early  hard  undeniably  playful  soulful  \\\n",
       "0         1        1      1      1     1           1        1        1   \n",
       "1         0        0      0      2     0           0        0        0   \n",
       "2         0        0      0      0     0           0        0        0   \n",
       "3         0        0      0      1     2           0        0        0   \n",
       "4         0        0      0      0     1           0        0        0   \n",
       "\n",
       "   cosmic  new  ...    hourly  innermost  youngish  roughshod  unenviable  \\\n",
       "0       1    8  ...         0          0         0          0           0   \n",
       "1       0    0  ...         0          0         0          0           0   \n",
       "2       0    1  ...         0          0         0          0           0   \n",
       "3       0    1  ...         0          0         0          0           0   \n",
       "4       0    2  ...         0          0         0          0           0   \n",
       "\n",
       "   crotchety  epileptic  imprecise  astringent  fusty  \n",
       "0          0          0          0           0      0  \n",
       "1          0          0          0           0      0  \n",
       "2          0          0          0           0      0  \n",
       "3          0          0          0           0      0  \n",
       "4          0          0          0           0      0  \n",
       "\n",
       "[5 rows x 3780 columns]"
      ]
     },
     "execution_count": 621,
     "metadata": {},
     "output_type": "execute_result"
    }
   ],
   "source": [
    "counter = CountVectorizer(stop_words='english', vocabulary=vocab)\n",
    "\n",
    "bag_words = counter.fit_transform(all_text)\n",
    "\n",
    "df_bow = pd.DataFrame(data=bag_words.toarray(), columns=counter.get_feature_names())\n",
    "\n",
    "print(df_bow.shape)\n",
    "df_bow.head()"
   ]
  },
  {
   "cell_type": "markdown",
   "metadata": {},
   "source": [
    "The words that have the highest frequency in the corpus are:"
   ]
  },
  {
   "cell_type": "code",
   "execution_count": 622,
   "metadata": {},
   "outputs": [
    {
     "data": {
      "text/plain": [
       "good      11\n",
       "happy     11\n",
       "white     12\n",
       "vile      12\n",
       "slim      12\n",
       "black     12\n",
       "tricky    15\n",
       "big       16\n",
       "rocky     18\n",
       "frank     30\n",
       "dtype: int64"
      ]
     },
     "execution_count": 622,
     "metadata": {},
     "output_type": "execute_result"
    }
   ],
   "source": [
    "df_bow.max().sort_values()[-10:]"
   ]
  },
  {
   "cell_type": "markdown",
   "metadata": {},
   "source": [
    "Those really don't seem too descriptive, or rather descriptive in the sense of conveying information about the genre, or the valence of the reviewers emotion."
   ]
  },
  {
   "cell_type": "markdown",
   "metadata": {},
   "source": [
    "### TF-IDF\n",
    "A more compmlex representation of the dataset would be term frequency, inverse document frequency or TFIDF which takes into consideration not only how frequently a word appears in each document (tf), but also how frequently it appears in the corpus as a whole (idf).  Again we'll limit the model to descriptors (adj. and adv.)"
   ]
  },
  {
   "cell_type": "code",
   "execution_count": 623,
   "metadata": {},
   "outputs": [
    {
     "name": "stdout",
     "output_type": "stream",
     "text": [
      "(1000, 3780)\n"
     ]
    },
    {
     "data": {
      "text/html": [
       "<div>\n",
       "<style>\n",
       "    .dataframe thead tr:only-child th {\n",
       "        text-align: right;\n",
       "    }\n",
       "\n",
       "    .dataframe thead th {\n",
       "        text-align: left;\n",
       "    }\n",
       "\n",
       "    .dataframe tbody tr th {\n",
       "        vertical-align: top;\n",
       "    }\n",
       "</style>\n",
       "<table border=\"1\" class=\"dataframe\">\n",
       "  <thead>\n",
       "    <tr style=\"text-align: right;\">\n",
       "      <th></th>\n",
       "      <th>homemade</th>\n",
       "      <th>weirdly</th>\n",
       "      <th>lunar</th>\n",
       "      <th>early</th>\n",
       "      <th>hard</th>\n",
       "      <th>undeniably</th>\n",
       "      <th>playful</th>\n",
       "      <th>soulful</th>\n",
       "      <th>cosmic</th>\n",
       "      <th>new</th>\n",
       "      <th>...</th>\n",
       "      <th>hourly</th>\n",
       "      <th>innermost</th>\n",
       "      <th>youngish</th>\n",
       "      <th>roughshod</th>\n",
       "      <th>unenviable</th>\n",
       "      <th>crotchety</th>\n",
       "      <th>epileptic</th>\n",
       "      <th>imprecise</th>\n",
       "      <th>astringent</th>\n",
       "      <th>fusty</th>\n",
       "    </tr>\n",
       "  </thead>\n",
       "  <tbody>\n",
       "    <tr>\n",
       "      <th>0</th>\n",
       "      <td>0.150493</td>\n",
       "      <td>0.147042</td>\n",
       "      <td>0.174715</td>\n",
       "      <td>0.068132</td>\n",
       "      <td>0.065100</td>\n",
       "      <td>0.156577</td>\n",
       "      <td>0.122216</td>\n",
       "      <td>0.131114</td>\n",
       "      <td>0.142525</td>\n",
       "      <td>0.370134</td>\n",
       "      <td>...</td>\n",
       "      <td>0.0</td>\n",
       "      <td>0.0</td>\n",
       "      <td>0.0</td>\n",
       "      <td>0.0</td>\n",
       "      <td>0.0</td>\n",
       "      <td>0.0</td>\n",
       "      <td>0.0</td>\n",
       "      <td>0.0</td>\n",
       "      <td>0.0</td>\n",
       "      <td>0.0</td>\n",
       "    </tr>\n",
       "    <tr>\n",
       "      <th>1</th>\n",
       "      <td>0.000000</td>\n",
       "      <td>0.000000</td>\n",
       "      <td>0.000000</td>\n",
       "      <td>0.118105</td>\n",
       "      <td>0.000000</td>\n",
       "      <td>0.000000</td>\n",
       "      <td>0.000000</td>\n",
       "      <td>0.000000</td>\n",
       "      <td>0.000000</td>\n",
       "      <td>0.000000</td>\n",
       "      <td>...</td>\n",
       "      <td>0.0</td>\n",
       "      <td>0.0</td>\n",
       "      <td>0.0</td>\n",
       "      <td>0.0</td>\n",
       "      <td>0.0</td>\n",
       "      <td>0.0</td>\n",
       "      <td>0.0</td>\n",
       "      <td>0.0</td>\n",
       "      <td>0.0</td>\n",
       "      <td>0.0</td>\n",
       "    </tr>\n",
       "    <tr>\n",
       "      <th>2</th>\n",
       "      <td>0.000000</td>\n",
       "      <td>0.000000</td>\n",
       "      <td>0.000000</td>\n",
       "      <td>0.000000</td>\n",
       "      <td>0.000000</td>\n",
       "      <td>0.000000</td>\n",
       "      <td>0.000000</td>\n",
       "      <td>0.000000</td>\n",
       "      <td>0.000000</td>\n",
       "      <td>0.041492</td>\n",
       "      <td>...</td>\n",
       "      <td>0.0</td>\n",
       "      <td>0.0</td>\n",
       "      <td>0.0</td>\n",
       "      <td>0.0</td>\n",
       "      <td>0.0</td>\n",
       "      <td>0.0</td>\n",
       "      <td>0.0</td>\n",
       "      <td>0.0</td>\n",
       "      <td>0.0</td>\n",
       "      <td>0.0</td>\n",
       "    </tr>\n",
       "    <tr>\n",
       "      <th>3</th>\n",
       "      <td>0.000000</td>\n",
       "      <td>0.000000</td>\n",
       "      <td>0.000000</td>\n",
       "      <td>0.040902</td>\n",
       "      <td>0.078164</td>\n",
       "      <td>0.000000</td>\n",
       "      <td>0.000000</td>\n",
       "      <td>0.000000</td>\n",
       "      <td>0.000000</td>\n",
       "      <td>0.027776</td>\n",
       "      <td>...</td>\n",
       "      <td>0.0</td>\n",
       "      <td>0.0</td>\n",
       "      <td>0.0</td>\n",
       "      <td>0.0</td>\n",
       "      <td>0.0</td>\n",
       "      <td>0.0</td>\n",
       "      <td>0.0</td>\n",
       "      <td>0.0</td>\n",
       "      <td>0.0</td>\n",
       "      <td>0.0</td>\n",
       "    </tr>\n",
       "    <tr>\n",
       "      <th>4</th>\n",
       "      <td>0.000000</td>\n",
       "      <td>0.000000</td>\n",
       "      <td>0.000000</td>\n",
       "      <td>0.000000</td>\n",
       "      <td>0.072437</td>\n",
       "      <td>0.000000</td>\n",
       "      <td>0.000000</td>\n",
       "      <td>0.000000</td>\n",
       "      <td>0.000000</td>\n",
       "      <td>0.102963</td>\n",
       "      <td>...</td>\n",
       "      <td>0.0</td>\n",
       "      <td>0.0</td>\n",
       "      <td>0.0</td>\n",
       "      <td>0.0</td>\n",
       "      <td>0.0</td>\n",
       "      <td>0.0</td>\n",
       "      <td>0.0</td>\n",
       "      <td>0.0</td>\n",
       "      <td>0.0</td>\n",
       "      <td>0.0</td>\n",
       "    </tr>\n",
       "  </tbody>\n",
       "</table>\n",
       "<p>5 rows × 3780 columns</p>\n",
       "</div>"
      ],
      "text/plain": [
       "   homemade   weirdly     lunar     early      hard  undeniably   playful  \\\n",
       "0  0.150493  0.147042  0.174715  0.068132  0.065100    0.156577  0.122216   \n",
       "1  0.000000  0.000000  0.000000  0.118105  0.000000    0.000000  0.000000   \n",
       "2  0.000000  0.000000  0.000000  0.000000  0.000000    0.000000  0.000000   \n",
       "3  0.000000  0.000000  0.000000  0.040902  0.078164    0.000000  0.000000   \n",
       "4  0.000000  0.000000  0.000000  0.000000  0.072437    0.000000  0.000000   \n",
       "\n",
       "    soulful    cosmic       new  ...    hourly  innermost  youngish  \\\n",
       "0  0.131114  0.142525  0.370134  ...       0.0        0.0       0.0   \n",
       "1  0.000000  0.000000  0.000000  ...       0.0        0.0       0.0   \n",
       "2  0.000000  0.000000  0.041492  ...       0.0        0.0       0.0   \n",
       "3  0.000000  0.000000  0.027776  ...       0.0        0.0       0.0   \n",
       "4  0.000000  0.000000  0.102963  ...       0.0        0.0       0.0   \n",
       "\n",
       "   roughshod  unenviable  crotchety  epileptic  imprecise  astringent  fusty  \n",
       "0        0.0         0.0        0.0        0.0        0.0         0.0    0.0  \n",
       "1        0.0         0.0        0.0        0.0        0.0         0.0    0.0  \n",
       "2        0.0         0.0        0.0        0.0        0.0         0.0    0.0  \n",
       "3        0.0         0.0        0.0        0.0        0.0         0.0    0.0  \n",
       "4        0.0         0.0        0.0        0.0        0.0         0.0    0.0  \n",
       "\n",
       "[5 rows x 3780 columns]"
      ]
     },
     "execution_count": 623,
     "metadata": {},
     "output_type": "execute_result"
    }
   ],
   "source": [
    "from sklearn.feature_extraction.text import TfidfVectorizer\n",
    "\n",
    "# TFIDF object\n",
    "tfidfer = TfidfVectorizer(stop_words='english', vocabulary=vocab)\n",
    "\n",
    "\n",
    "tfidf = tfidfer.fit_transform(all_text)\n",
    "print(tfidf.shape)\n",
    "\n",
    "df_tfidf = pd.DataFrame(data=tfidf.toarray(),columns=tfidfer.get_feature_names())\n",
    "df_tfidf.head()\n"
   ]
  },
  {
   "cell_type": "code",
   "execution_count": 624,
   "metadata": {},
   "outputs": [
    {
     "data": {
      "text/plain": [
       "happy     0.834964\n",
       "colder    0.842374\n",
       "slim      0.846052\n",
       "swift     0.848238\n",
       "tricky    0.854978\n",
       "larval    0.859511\n",
       "wooden    0.900176\n",
       "rocky     0.904355\n",
       "vile      0.933890\n",
       "frank     0.940141\n",
       "dtype: float64"
      ]
     },
     "execution_count": 624,
     "metadata": {},
     "output_type": "execute_result"
    }
   ],
   "source": [
    "# 10 highest tfidf terms\n",
    "df_tfidf.max().sort_values()[-10:]"
   ]
  },
  {
   "cell_type": "markdown",
   "metadata": {},
   "source": [
    "These words definitely have stronger (for the most part negative) connotations than the top words by frequency.  This might be a better model for classifying."
   ]
  },
  {
   "cell_type": "markdown",
   "metadata": {},
   "source": [
    "## Summary Statistics"
   ]
  },
  {
   "cell_type": "code",
   "execution_count": 625,
   "metadata": {
    "collapsed": true
   },
   "outputs": [],
   "source": [
    "import matplotlib.pyplot as plt\n",
    "import seaborn as sns\n",
    "%matplotlib inline"
   ]
  },
  {
   "cell_type": "markdown",
   "metadata": {},
   "source": [
    "### Word Frequencies"
   ]
  },
  {
   "cell_type": "markdown",
   "metadata": {},
   "source": [
    "**insert viz code here**"
   ]
  },
  {
   "cell_type": "code",
   "execution_count": null,
   "metadata": {
    "collapsed": true
   },
   "outputs": [],
   "source": []
  },
  {
   "cell_type": "markdown",
   "metadata": {},
   "source": [
    "### Document Length\n",
    "First we need to add a feature corresponding to the length of the review"
   ]
  },
  {
   "cell_type": "code",
   "execution_count": 626,
   "metadata": {},
   "outputs": [
    {
     "data": {
      "text/html": [
       "<div>\n",
       "<style>\n",
       "    .dataframe thead tr:only-child th {\n",
       "        text-align: right;\n",
       "    }\n",
       "\n",
       "    .dataframe thead th {\n",
       "        text-align: left;\n",
       "    }\n",
       "\n",
       "    .dataframe tbody tr th {\n",
       "        vertical-align: top;\n",
       "    }\n",
       "</style>\n",
       "<table border=\"1\" class=\"dataframe\">\n",
       "  <thead>\n",
       "    <tr style=\"text-align: right;\">\n",
       "      <th></th>\n",
       "      <th>reviewid</th>\n",
       "      <th>genre</th>\n",
       "      <th>content</th>\n",
       "      <th>score</th>\n",
       "      <th>length</th>\n",
       "    </tr>\n",
       "  </thead>\n",
       "  <tbody>\n",
       "    <tr>\n",
       "      <th>346</th>\n",
       "      <td>22365</td>\n",
       "      <td>electronic</td>\n",
       "      <td>In terms of homemade instruments, Silver Apple...</td>\n",
       "      <td>7.1</td>\n",
       "      <td>3622</td>\n",
       "    </tr>\n",
       "    <tr>\n",
       "      <th>11313</th>\n",
       "      <td>494</td>\n",
       "      <td>metal</td>\n",
       "      <td>Of 80s thrash metal's Big Four, Anthrax perhap...</td>\n",
       "      <td>7.7</td>\n",
       "      <td>4607</td>\n",
       "    </tr>\n",
       "    <tr>\n",
       "      <th>11087</th>\n",
       "      <td>8262</td>\n",
       "      <td>rock</td>\n",
       "      <td>Nostalgic indie bands treat history like a pla...</td>\n",
       "      <td>4.8</td>\n",
       "      <td>3712</td>\n",
       "    </tr>\n",
       "    <tr>\n",
       "      <th>10031</th>\n",
       "      <td>10021</td>\n",
       "      <td>pop/r&amp;b</td>\n",
       "      <td>On Mary Weiss' homepage, there's a photo of he...</td>\n",
       "      <td>7.6</td>\n",
       "      <td>5131</td>\n",
       "    </tr>\n",
       "    <tr>\n",
       "      <th>9475</th>\n",
       "      <td>10663</td>\n",
       "      <td>rock</td>\n",
       "      <td>\\r\\n    Quite literally, Christy &amp; Emily is a ...</td>\n",
       "      <td>6.2</td>\n",
       "      <td>3119</td>\n",
       "    </tr>\n",
       "  </tbody>\n",
       "</table>\n",
       "</div>"
      ],
      "text/plain": [
       "       reviewid       genre  \\\n",
       "346       22365  electronic   \n",
       "11313       494       metal   \n",
       "11087      8262        rock   \n",
       "10031     10021     pop/r&b   \n",
       "9475      10663        rock   \n",
       "\n",
       "                                                 content  score  length  \n",
       "346    In terms of homemade instruments, Silver Apple...    7.1    3622  \n",
       "11313  Of 80s thrash metal's Big Four, Anthrax perhap...    7.7    4607  \n",
       "11087  Nostalgic indie bands treat history like a pla...    4.8    3712  \n",
       "10031  On Mary Weiss' homepage, there's a photo of he...    7.6    5131  \n",
       "9475   \\r\\n    Quite literally, Christy & Emily is a ...    6.2    3119  "
      ]
     },
     "execution_count": 626,
     "metadata": {},
     "output_type": "execute_result"
    }
   ],
   "source": [
    "df_sample['length'] = df.content.str.len()\n",
    "df_sample.head()"
   ]
  },
  {
   "cell_type": "markdown",
   "metadata": {},
   "source": [
    "Let's look at the distribution of review lengths."
   ]
  },
  {
   "cell_type": "code",
   "execution_count": 627,
   "metadata": {},
   "outputs": [
    {
     "data": {
      "text/plain": [
       "<matplotlib.axes._subplots.AxesSubplot at 0x124ce36a0>"
      ]
     },
     "execution_count": 627,
     "metadata": {},
     "output_type": "execute_result"
    },
    {
     "data": {
      "image/png": "[encoded data removed]",
      "text/plain": [
       "<matplotlib.figure.Figure at 0x122047550>"
      ]
     },
     "metadata": {},
     "output_type": "display_data"
    }
   ],
   "source": [
    "sns.distplot(df_sample.length)"
   ]
  },
  {
   "cell_type": "markdown",
   "metadata": {},
   "source": [
    "Looks like a nice normal distribution with a long left tail, which make sense.  They probably have at pitchfork a standard min and max length for reviews, with the occasional long winded write-up thrown in."
   ]
  },
  {
   "cell_type": "markdown",
   "metadata": {},
   "source": [
    "### most relevant words"
   ]
  },
  {
   "cell_type": "markdown",
   "metadata": {},
   "source": [
    "**insert viz code here**"
   ]
  },
  {
   "cell_type": "code",
   "execution_count": null,
   "metadata": {
    "collapsed": true
   },
   "outputs": [],
   "source": []
  },
  {
   "cell_type": "markdown",
   "metadata": {},
   "source": [
    "### vocabulary size"
   ]
  },
  {
   "cell_type": "markdown",
   "metadata": {},
   "source": [
    "**insert viz code here**"
   ]
  },
  {
   "cell_type": "code",
   "execution_count": null,
   "metadata": {
    "collapsed": true
   },
   "outputs": [],
   "source": []
  },
  {
   "cell_type": "markdown",
   "metadata": {},
   "source": [
    "## Relation to Target Class"
   ]
  },
  {
   "cell_type": "markdown",
   "metadata": {},
   "source": [
    "What we want to do is look at how the text relates to the following labels:\n",
    "   - genre\n",
    "   - reviewer emotion (score/best_new_music)"
   ]
  },
  {
   "cell_type": "markdown",
   "metadata": {},
   "source": [
    "### Genre"
   ]
  },
  {
   "cell_type": "markdown",
   "metadata": {},
   "source": [
    "We'd like to see if we could classify the genre of an album from the way that it was reviewed.  Pitchfork categorizes albums from the following categories."
   ]
  },
  {
   "cell_type": "code",
   "execution_count": 628,
   "metadata": {},
   "outputs": [
    {
     "data": {
      "text/plain": [
       "{'electronic',\n",
       " 'experimental',\n",
       " 'folk/country',\n",
       " 'global',\n",
       " 'jazz',\n",
       " 'metal',\n",
       " 'pop/r&b',\n",
       " 'rap',\n",
       " 'rock'}"
      ]
     },
     "execution_count": 628,
     "metadata": {},
     "output_type": "execute_result"
    }
   ],
   "source": [
    "set(df.genre)"
   ]
  },
  {
   "cell_type": "code",
   "execution_count": 629,
   "metadata": {},
   "outputs": [
    {
     "data": {
      "image/png": "[encoded data removed]",
      "text/plain": [
       "<matplotlib.figure.Figure at 0x126557828>"
      ]
     },
     "metadata": {},
     "output_type": "display_data"
    }
   ],
   "source": [
    "df.groupby(by='genre').size().plot(kind='bar') # note that this not the sampled DataFrame from above\n",
    "plt.show()"
   ]
  },
  {
   "cell_type": "markdown",
   "metadata": {},
   "source": [
    "Clearly rock is the most reviewed genre.  This makes sense as Pitchfork started out as a site for exclusively for Indie music reviews, and I wouldn't be suprised to see if most of those reviews were labeled 'rock'.  Let's look at 2 differnet genres (rock and rap) and resample the corpus so that they have the same number of reviews.\n",
    "\n"
   ]
  },
  {
   "cell_type": "code",
   "execution_count": 650,
   "metadata": {
    "collapsed": true
   },
   "outputs": [],
   "source": [
    "from time import time\n",
    "\n",
    "rock = df[df.genre == 'rock'].sample(n=750, random_state=int(time()))\n",
    "rap = df[df.genre=='rap'].sample(n=750, random_state=int(time()))\n"
   ]
  },
  {
   "cell_type": "markdown",
   "metadata": {},
   "source": [
    "#### Word Frequency"
   ]
  },
  {
   "cell_type": "markdown",
   "metadata": {},
   "source": [
    "Let's make a bag of words model for each of genres to see if there are any noticeable differences between them."
   ]
  },
  {
   "cell_type": "code",
   "execution_count": 651,
   "metadata": {
    "collapsed": true
   },
   "outputs": [],
   "source": [
    "def make_bow(data, descriptor_only=False):\n",
    "    '''Creates a Bag of Words Dataframe from the list <data>.  If <descriptor_only> is true \\\n",
    "it will remove all words that aren't adjectives adverbs'''\n",
    "    counter = CountVectorizer(stop_words='english')\n",
    "    \n",
    "    words = counter.fit_transform(data)\n",
    "    \n",
    "    if descriptor_only:\n",
    "        vocab = make_descriptor_vocab([w for w in counter.vocabulary_.keys()])\n",
    "        \n",
    "        counter = CountVectorizer(stop_words='english', vocabulary=vocab)\n",
    "\n",
    "        words = counter.fit_transform(data)\n",
    "\n",
    "    df_bow = pd.DataFrame(data=words.toarray(), columns=counter.get_feature_names())\n",
    "    return df_bow        "
   ]
  },
  {
   "cell_type": "code",
   "execution_count": 653,
   "metadata": {},
   "outputs": [
    {
     "name": "stdout",
     "output_type": "stream",
     "text": [
      "CPU times: user 28.9 s, sys: 894 ms, total: 29.8 s\n",
      "Wall time: 30.6 s\n"
     ]
    }
   ],
   "source": [
    "%%time\n",
    "rock_bow = make_bow(rock.content.tolist(), True)\n",
    "rap_bow = make_bow(rap.content.tolist(), True)\n"
   ]
  },
  {
   "cell_type": "code",
   "execution_count": 654,
   "metadata": {},
   "outputs": [
    {
     "name": "stdout",
     "output_type": "stream",
     "text": [
      "Rock reviews had a vocabulary of 3544 words\n",
      "Rap reviews had a vocabulary of 3416 words\n"
     ]
    }
   ],
   "source": [
    "print('Rock reviews had a vocabulary of {} words'.format(rock_bow.shape[1]))\n",
    "print('Rap reviews had a vocabulary of {} words'.format(rap_bow.shape[1]))\n"
   ]
  },
  {
   "cell_type": "markdown",
   "metadata": {},
   "source": [
    "Lets look at the overlap and difference"
   ]
  },
  {
   "cell_type": "code",
   "execution_count": 655,
   "metadata": {},
   "outputs": [
    {
     "data": {
      "text/html": [
       "<div>\n",
       "<style>\n",
       "    .dataframe thead tr:only-child th {\n",
       "        text-align: right;\n",
       "    }\n",
       "\n",
       "    .dataframe thead th {\n",
       "        text-align: left;\n",
       "    }\n",
       "\n",
       "    .dataframe tbody tr th {\n",
       "        vertical-align: top;\n",
       "    }\n",
       "</style>\n",
       "<table border=\"1\" class=\"dataframe\">\n",
       "  <thead>\n",
       "    <tr style=\"text-align: right;\">\n",
       "      <th></th>\n",
       "      <th>vocab size</th>\n",
       "    </tr>\n",
       "  </thead>\n",
       "  <tbody>\n",
       "    <tr>\n",
       "      <th>rock</th>\n",
       "      <td>622</td>\n",
       "    </tr>\n",
       "    <tr>\n",
       "      <th>rap</th>\n",
       "      <td>494</td>\n",
       "    </tr>\n",
       "    <tr>\n",
       "      <th>both</th>\n",
       "      <td>2922</td>\n",
       "    </tr>\n",
       "  </tbody>\n",
       "</table>\n",
       "</div>"
      ],
      "text/plain": [
       "      vocab size\n",
       "rock         622\n",
       "rap          494\n",
       "both        2922"
      ]
     },
     "execution_count": 655,
     "metadata": {},
     "output_type": "execute_result"
    }
   ],
   "source": [
    "# words and their freq for genre as a whole\n",
    "rock_vocab = rock_bow.agg('sum', axis=0)\n",
    "rap_vocab = rap_bow.agg('sum', axis=0)\n",
    "\n",
    "# words that appear in both genres\n",
    "intersection = set.intersection(set(rock_vocab.keys()), set(rap_vocab.keys()))\n",
    "\n",
    "# words that only appear in each genre\n",
    "rock_only = set(rock_vocab.keys()) - intersection\n",
    "rap_only = set(rap_vocab.keys()) - intersection\n",
    "\n",
    "pd.DataFrame([len(rock_only), len(rap_only), len(intersection)], index=['rock', 'rap', 'both'], columns=['vocab size'])\n"
   ]
  },
  {
   "cell_type": "markdown",
   "metadata": {},
   "source": [
    "This result implies that the way people the reviewers describe each of these genres is similar.  There are over 4x more words used to describe both genres, than words which are only used to describe one or the other."
   ]
  },
  {
   "cell_type": "code",
   "execution_count": 656,
   "metadata": {
    "collapsed": true
   },
   "outputs": [],
   "source": [
    "# top ten of each category\n",
    "rock_top = rock_vocab[rock_only].sort_values(ascending=False)[:10]\n",
    "rap_top = rap_vocab[rap_only].sort_values(ascending=False)[:10]\n",
    "general_top = rock_vocab[intersection].sort_values(ascending=False)[:10] # since the intersection is \n",
    "                                                                            # both we just pull from one series\n"
   ]
  },
  {
   "cell_type": "code",
   "execution_count": 673,
   "metadata": {},
   "outputs": [
    {
     "data": {
      "application/vnd.plotly.v1+json": {
       "data": [
        {
         "name": "rock",
         "text": [
          "tweedy",
          "arty",
          "cleaner",
          "patiently",
          "lacey",
          "deserving",
          "beady",
          "aloof",
          "secretly",
          "autumnal"
         ],
         "type": "bar",
         "x": [
          1,
          2,
          3,
          4,
          5,
          6,
          7,
          8,
          9,
          10
         ],
         "y": [
          21,
          11,
          10,
          10,
          9,
          8,
          8,
          8,
          8,
          8
         ]
        },
        {
         "name": "rap",
         "text": [
          "retail",
          "socially",
          "rugged",
          "inglorious",
          "mandatory",
          "educational",
          "illegal",
          "adjacent",
          "unsure",
          "restlessly"
         ],
         "type": "bar",
         "x": [
          1,
          2,
          3,
          4,
          5,
          6,
          7,
          8,
          9,
          10
         ],
         "y": [
          13,
          9,
          8,
          8,
          7,
          7,
          7,
          7,
          7,
          7
         ]
        },
        {
         "name": "both",
         "text": [
          "just",
          "new",
          "best",
          "good",
          "long",
          "big",
          "old",
          "better",
          "really",
          "hard"
         ],
         "type": "bar",
         "x": [
          1,
          2,
          3,
          4,
          5,
          6,
          7,
          8,
          9,
          10
         ],
         "y": [
          1135,
          828,
          496,
          491,
          395,
          307,
          306,
          300,
          300,
          299
         ]
        }
       ],
       "layout": {
        "barmode": "group",
        "title": "Most Frequent Words",
        "xaxis": {
         "title": "word rank"
        },
        "yaxis": {
         "title": "Frequency",
         "type": "log"
        }
       }
      },
      "text/html": [
       "<div id=\"fa4beffa-1fdf-40b7-bbac-652daf0c7f21\" style=\"height: 525px; width: 100%;\" class=\"plotly-graph-div\"></div><script type=\"text/javascript\">require([\"plotly\"], function(Plotly) { window.PLOTLYENV=window.PLOTLYENV || {};window.PLOTLYENV.BASE_URL=\"https://plot.ly\";Plotly.newPlot(\"fa4beffa-1fdf-40b7-bbac-652daf0c7f21\", [{\"type\": \"bar\", \"x\": [1, 2, 3, 4, 5, 6, 7, 8, 9, 10], \"y\": [21, 11, 10, 10, 9, 8, 8, 8, 8, 8], \"text\": [\"tweedy\", \"arty\", \"cleaner\", \"patiently\", \"lacey\", \"deserving\", \"beady\", \"aloof\", \"secretly\", \"autumnal\"], \"name\": \"rock\"}, {\"type\": \"bar\", \"x\": [1, 2, 3, 4, 5, 6, 7, 8, 9, 10], \"y\": [13, 9, 8, 8, 7, 7, 7, 7, 7, 7], \"text\": [\"retail\", \"socially\", \"rugged\", \"inglorious\", \"mandatory\", \"educational\", \"illegal\", \"adjacent\", \"unsure\", \"restlessly\"], \"name\": \"rap\"}, {\"type\": \"bar\", \"x\": [1, 2, 3, 4, 5, 6, 7, 8, 9, 10], \"y\": [1135, 828, 496, 491, 395, 307, 306, 300, 300, 299], \"text\": [\"just\", \"new\", \"best\", \"good\", \"long\", \"big\", \"old\", \"better\", \"really\", \"hard\"], \"name\": \"both\"}], {\"barmode\": \"group\", \"title\": \"Most Frequent Words\", \"xaxis\": {\"title\": \"word rank\"}, \"yaxis\": {\"title\": \"Frequency\", \"type\": \"log\"}}, {\"showLink\": true, \"linkText\": \"Export to plot.ly\"})});</script>"
      ],
      "text/vnd.plotly.v1+html": [
       "<div id=\"fa4beffa-1fdf-40b7-bbac-652daf0c7f21\" style=\"height: 525px; width: 100%;\" class=\"plotly-graph-div\"></div><script type=\"text/javascript\">require([\"plotly\"], function(Plotly) { window.PLOTLYENV=window.PLOTLYENV || {};window.PLOTLYENV.BASE_URL=\"https://plot.ly\";Plotly.newPlot(\"fa4beffa-1fdf-40b7-bbac-652daf0c7f21\", [{\"type\": \"bar\", \"x\": [1, 2, 3, 4, 5, 6, 7, 8, 9, 10], \"y\": [21, 11, 10, 10, 9, 8, 8, 8, 8, 8], \"text\": [\"tweedy\", \"arty\", \"cleaner\", \"patiently\", \"lacey\", \"deserving\", \"beady\", \"aloof\", \"secretly\", \"autumnal\"], \"name\": \"rock\"}, {\"type\": \"bar\", \"x\": [1, 2, 3, 4, 5, 6, 7, 8, 9, 10], \"y\": [13, 9, 8, 8, 7, 7, 7, 7, 7, 7], \"text\": [\"retail\", \"socially\", \"rugged\", \"inglorious\", \"mandatory\", \"educational\", \"illegal\", \"adjacent\", \"unsure\", \"restlessly\"], \"name\": \"rap\"}, {\"type\": \"bar\", \"x\": [1, 2, 3, 4, 5, 6, 7, 8, 9, 10], \"y\": [1135, 828, 496, 491, 395, 307, 306, 300, 300, 299], \"text\": [\"just\", \"new\", \"best\", \"good\", \"long\", \"big\", \"old\", \"better\", \"really\", \"hard\"], \"name\": \"both\"}], {\"barmode\": \"group\", \"title\": \"Most Frequent Words\", \"xaxis\": {\"title\": \"word rank\"}, \"yaxis\": {\"title\": \"Frequency\", \"type\": \"log\"}}, {\"showLink\": true, \"linkText\": \"Export to plot.ly\"})});</script>"
      ]
     },
     "metadata": {},
     "output_type": "display_data"
    }
   ],
   "source": [
    "import plotly as py\n",
    "import plotly.graph_objs as go\n",
    "\n",
    "rock_trace = go.Bar(\n",
    "    x=list(range(1,len(rock_top)+1)),\n",
    "    y=rock_top.values,\n",
    "    text=rock_top.keys(),\n",
    "    name='rock'\n",
    "    \n",
    ")\n",
    "\n",
    "rap_trace = go.Bar(\n",
    "    x=list(range(1,len(rap_top)+1)),\n",
    "    y=rap_top.values,\n",
    "    text=rap_top.keys(),\n",
    "    name='rap'   \n",
    ")\n",
    "\n",
    "both_trace = go.Bar(\n",
    "    x=list(range(1,len(general_top)+1)),\n",
    "    y=general_top.values,\n",
    "    text=general_top.keys(),\n",
    "    name='both'   \n",
    ")\n",
    "\n",
    "data = [rock_trace, rap_trace, both_trace]\n",
    "layout = go.Layout(\n",
    "    barmode='group',\n",
    "    title='Most Frequent Words',\n",
    "    xaxis={'title':'word rank'},\n",
    "    yaxis={'title':'Frequency', 'type':'log'}\n",
    ")\n",
    "\n",
    "fig = go.Figure(data=data, layout=layout)\n",
    "py.offline.iplot(fig, filename='most_frequent')"
   ]
  },
  {
   "cell_type": "markdown",
   "metadata": {
    "collapsed": true
   },
   "source": [
    "We can interpret two things from the above chart:\n",
    "1. The most common words used in both genres appear *way* more often than words used specifically in one genre\n",
    "2. The words specific to one genre are more descriptive, and have stronger connotations.  For example, (in one running of the notebook*) look at the third most frequent word in each of the groups\n",
    "    - both: best\n",
    "    - rock: fluffy\n",
    "    - rap: **murderous**\n",
    "    \n",
    "Both of these points make sense, as words that are less descriptive and more general can be used to describe, in general, more things.  However, its hard to say whether the words that only appear in rock reviews are inheirently more *rock* than the words that appear only in rap reviews, or vice versa.\n",
    "\n",
    "\n",
    "\n",
    "*since reviews are randomly sampled each time this will change from run to run, but its included because it illustrates the point well."
   ]
  },
  {
   "cell_type": "markdown",
   "metadata": {},
   "source": [
    "#### \"Relevant\" Words"
   ]
  },
  {
   "cell_type": "markdown",
   "metadata": {},
   "source": [
    "Let's look at which words are \"relevant\" to each category according to they're TFIDF rank.  We'll be performing the same analysis as before, but grouped by genre."
   ]
  },
  {
   "cell_type": "code",
   "execution_count": 658,
   "metadata": {},
   "outputs": [
    {
     "name": "stdout",
     "output_type": "stream",
     "text": [
      "CPU times: user 849 ms, sys: 28.5 ms, total: 877 ms\n",
      "Wall time: 888 ms\n"
     ]
    }
   ],
   "source": [
    "%%time\n",
    "\n",
    "rock_tfidfer = TfidfVectorizer(stop_words='english', vocabulary=rock_vocab.keys())\n",
    "\n",
    "tfidf = tfidfer.fit_transform(rock.content.tolist())\n",
    "\n",
    "rock_tfidf = pd.DataFrame(data=tfidf.toarray(),columns=tfidfer.get_feature_names())\n",
    "\n",
    "####\n",
    "\n",
    "rap_tfidfer = TfidfVectorizer(stop_words='english', vocabulary=rap_vocab.keys())\n",
    "\n",
    "tfidf = tfidfer.fit_transform(rap.content.tolist())\n",
    "\n",
    "rap_tfidf = pd.DataFrame(data=tfidf.toarray(),columns=tfidfer.get_feature_names())"
   ]
  },
  {
   "cell_type": "code",
   "execution_count": 659,
   "metadata": {
    "scrolled": true
   },
   "outputs": [],
   "source": [
    "rock_tfidf_top = rock_tfidf.max().sort_values(ascending=False)[:10]\n",
    "rap_tfidf_top = rap_tfidf.max().sort_values(ascending=False)[:10]"
   ]
  },
  {
   "cell_type": "code",
   "execution_count": 660,
   "metadata": {},
   "outputs": [
    {
     "data": {
      "application/vnd.plotly.v1+json": {
       "data": [
        {
         "name": "rock",
         "text": [
          "dear",
          "brown",
          "astral",
          "green",
          "shy",
          "swift",
          "beady",
          "macabre",
          "lacey",
          "grievous"
         ],
         "type": "bar",
         "x": [
          1,
          2,
          3,
          4,
          5,
          6,
          7,
          8,
          9,
          10
         ],
         "y": [
          0.9432211291107504,
          0.9177433123498016,
          0.8997634339170826,
          0.8858624318803118,
          0.8710287579031426,
          0.8556445095385372,
          0.8527955039132608,
          0.8518581807633111,
          0.8461343470256951,
          0.8438442560270712
         ]
        },
        {
         "name": "rap",
         "text": [
          "meek",
          "rocky",
          "sole",
          "juicy",
          "static",
          "purple",
          "abstract",
          "sincerely",
          "red",
          "diverse"
         ],
         "type": "bar",
         "x": [
          1,
          2,
          3,
          4,
          5,
          6,
          7,
          8,
          9,
          10
         ],
         "y": [
          0.897955407471882,
          0.8960843508507518,
          0.8772466539976577,
          0.8728294687788815,
          0.8633756569177132,
          0.8569836890096246,
          0.8471395778500757,
          0.8339698065590302,
          0.829925604843456,
          0.8283921345553912
         ]
        }
       ],
       "layout": {
        "barmode": "group",
        "title": "Most Relevant Words",
        "xaxis": {
         "title": "word rank"
        },
        "yaxis": {
         "title": "TFIDF"
        }
       }
      },
      "text/html": [
       "<div id=\"4f05c549-da54-4423-be22-887eb82e3c01\" style=\"height: 525px; width: 100%;\" class=\"plotly-graph-div\"></div><script type=\"text/javascript\">require([\"plotly\"], function(Plotly) { window.PLOTLYENV=window.PLOTLYENV || {};window.PLOTLYENV.BASE_URL=\"https://plot.ly\";Plotly.newPlot(\"4f05c549-da54-4423-be22-887eb82e3c01\", [{\"type\": \"bar\", \"x\": [1, 2, 3, 4, 5, 6, 7, 8, 9, 10], \"y\": [0.9432211291107504, 0.9177433123498016, 0.8997634339170826, 0.8858624318803118, 0.8710287579031426, 0.8556445095385372, 0.8527955039132608, 0.8518581807633111, 0.8461343470256951, 0.8438442560270712], \"text\": [\"dear\", \"brown\", \"astral\", \"green\", \"shy\", \"swift\", \"beady\", \"macabre\", \"lacey\", \"grievous\"], \"name\": \"rock\"}, {\"type\": \"bar\", \"x\": [1, 2, 3, 4, 5, 6, 7, 8, 9, 10], \"y\": [0.897955407471882, 0.8960843508507518, 0.8772466539976577, 0.8728294687788815, 0.8633756569177132, 0.8569836890096246, 0.8471395778500757, 0.8339698065590302, 0.829925604843456, 0.8283921345553912], \"text\": [\"meek\", \"rocky\", \"sole\", \"juicy\", \"static\", \"purple\", \"abstract\", \"sincerely\", \"red\", \"diverse\"], \"name\": \"rap\"}], {\"barmode\": \"group\", \"title\": \"Most Relevant Words\", \"xaxis\": {\"title\": \"word rank\"}, \"yaxis\": {\"title\": \"TFIDF\"}}, {\"showLink\": true, \"linkText\": \"Export to plot.ly\"})});</script>"
      ],
      "text/vnd.plotly.v1+html": [
       "<div id=\"4f05c549-da54-4423-be22-887eb82e3c01\" style=\"height: 525px; width: 100%;\" class=\"plotly-graph-div\"></div><script type=\"text/javascript\">require([\"plotly\"], function(Plotly) { window.PLOTLYENV=window.PLOTLYENV || {};window.PLOTLYENV.BASE_URL=\"https://plot.ly\";Plotly.newPlot(\"4f05c549-da54-4423-be22-887eb82e3c01\", [{\"type\": \"bar\", \"x\": [1, 2, 3, 4, 5, 6, 7, 8, 9, 10], \"y\": [0.9432211291107504, 0.9177433123498016, 0.8997634339170826, 0.8858624318803118, 0.8710287579031426, 0.8556445095385372, 0.8527955039132608, 0.8518581807633111, 0.8461343470256951, 0.8438442560270712], \"text\": [\"dear\", \"brown\", \"astral\", \"green\", \"shy\", \"swift\", \"beady\", \"macabre\", \"lacey\", \"grievous\"], \"name\": \"rock\"}, {\"type\": \"bar\", \"x\": [1, 2, 3, 4, 5, 6, 7, 8, 9, 10], \"y\": [0.897955407471882, 0.8960843508507518, 0.8772466539976577, 0.8728294687788815, 0.8633756569177132, 0.8569836890096246, 0.8471395778500757, 0.8339698065590302, 0.829925604843456, 0.8283921345553912], \"text\": [\"meek\", \"rocky\", \"sole\", \"juicy\", \"static\", \"purple\", \"abstract\", \"sincerely\", \"red\", \"diverse\"], \"name\": \"rap\"}], {\"barmode\": \"group\", \"title\": \"Most Relevant Words\", \"xaxis\": {\"title\": \"word rank\"}, \"yaxis\": {\"title\": \"TFIDF\"}}, {\"showLink\": true, \"linkText\": \"Export to plot.ly\"})});</script>"
      ]
     },
     "metadata": {},
     "output_type": "display_data"
    }
   ],
   "source": [
    "rock_trace = go.Bar(\n",
    "    x=list(range(1,len(w)+1)),\n",
    "    y=rock_tfidf_top.values,\n",
    "    text=rock_tfidf_top.keys(),\n",
    "    name='rock'\n",
    "    \n",
    ")\n",
    "rap_trace = go.Bar(\n",
    "    x=list(range(1,len(w)+1)),\n",
    "    y=rap_tfidf_top.values,\n",
    "    text=rap_tfidf_top.keys(),\n",
    "    name='rap'\n",
    "    \n",
    ")\n",
    "\n",
    "data = [rock_trace, rap_trace]\n",
    "layout = go.Layout(\n",
    "    barmode='group',\n",
    "    title='Most Relevant Words',\n",
    "    xaxis={'title':'word rank'},\n",
    "    yaxis={'title':'TFIDF',}\n",
    ")\n",
    "\n",
    "fig = go.Figure(data=data, layout=layout)\n",
    "py.offline.iplot(fig, filename='most_frequent')"
   ]
  },
  {
   "cell_type": "markdown",
   "metadata": {},
   "source": [
    "That doesn't really seem very effective either.  Again there's no clear distinction between rock words and rap words.  I think this boils down the difficulty of talking about music, and shows how flexible people can be when doing so.  Pretty much any word is up for grabs it seems."
   ]
  },
  {
   "cell_type": "markdown",
   "metadata": {},
   "source": [
    "### Rating"
   ]
  },
  {
   "cell_type": "markdown",
   "metadata": {},
   "source": [
    "Perhaps if we group by a different a label, namely the score that the review recieved.  In theory this should be a more defining feature, as english has a well defined set of words with positive and negative connotations."
   ]
  },
  {
   "cell_type": "markdown",
   "metadata": {},
   "source": [
    "First let's take a look at the score distributions."
   ]
  },
  {
   "cell_type": "code",
   "execution_count": 661,
   "metadata": {},
   "outputs": [
    {
     "data": {
      "image/png": "[encoded data removed]",
      "text/plain": [
       "<matplotlib.figure.Figure at 0x119650da0>"
      ]
     },
     "metadata": {},
     "output_type": "display_data"
    }
   ],
   "source": [
    "sns.distplot(df.score)\n",
    "plt.show()"
   ]
  },
  {
   "cell_type": "markdown",
   "metadata": {},
   "source": [
    "Looks pretty top heavy with a relatively wide peak, which is expected--no one wants to read a site that just says every album is bad, but they also want a little variety.\n",
    "\n",
    "Let's just see how it breaks down by genre."
   ]
  },
  {
   "cell_type": "code",
   "execution_count": 662,
   "metadata": {},
   "outputs": [
    {
     "data": {
      "image/png": "[encoded data removed]",
      "text/plain": [
       "<matplotlib.figure.Figure at 0x11f981668>"
      ]
     },
     "metadata": {},
     "output_type": "display_data"
    }
   ],
   "source": [
    "plt.figure(figsize=(20,5))\n",
    "sns.violinplot(x='genre', y='score', data=df, inner='quartile')\n",
    "plt.show()\n"
   ]
  },
  {
   "cell_type": "markdown",
   "metadata": {},
   "source": [
    "They appear to all have relatively the same distribution, with a median score around 7.  This means that we shouldn't have to worry about the genre biasing the score.\n",
    "\n",
    "Lets discretize the score column into three bins: bad, neutral, and good."
   ]
  },
  {
   "cell_type": "code",
   "execution_count": 663,
   "metadata": {},
   "outputs": [
    {
     "data": {
      "text/html": [
       "<div>\n",
       "<style>\n",
       "    .dataframe thead tr:only-child th {\n",
       "        text-align: right;\n",
       "    }\n",
       "\n",
       "    .dataframe thead th {\n",
       "        text-align: left;\n",
       "    }\n",
       "\n",
       "    .dataframe tbody tr th {\n",
       "        vertical-align: top;\n",
       "    }\n",
       "</style>\n",
       "<table border=\"1\" class=\"dataframe\">\n",
       "  <thead>\n",
       "    <tr style=\"text-align: right;\">\n",
       "      <th></th>\n",
       "      <th>reviewid</th>\n",
       "      <th>genre</th>\n",
       "      <th>content</th>\n",
       "      <th>score</th>\n",
       "      <th>feeling</th>\n",
       "    </tr>\n",
       "  </thead>\n",
       "  <tbody>\n",
       "    <tr>\n",
       "      <th>0</th>\n",
       "      <td>22703</td>\n",
       "      <td>electronic</td>\n",
       "      <td>“Trip-hop” eventually became a ’90s punchline,...</td>\n",
       "      <td>9.3</td>\n",
       "      <td>good</td>\n",
       "    </tr>\n",
       "    <tr>\n",
       "      <th>1</th>\n",
       "      <td>22721</td>\n",
       "      <td>metal</td>\n",
       "      <td>Eight years, five albums, and two EPs in, the ...</td>\n",
       "      <td>7.9</td>\n",
       "      <td>good</td>\n",
       "    </tr>\n",
       "    <tr>\n",
       "      <th>2</th>\n",
       "      <td>22659</td>\n",
       "      <td>rock</td>\n",
       "      <td>Minneapolis’ Uranium Club seem to revel in bei...</td>\n",
       "      <td>7.3</td>\n",
       "      <td>good</td>\n",
       "    </tr>\n",
       "    <tr>\n",
       "      <th>3</th>\n",
       "      <td>22661</td>\n",
       "      <td>rock</td>\n",
       "      <td>Kleenex began with a crash. It transpired one ...</td>\n",
       "      <td>9.0</td>\n",
       "      <td>good</td>\n",
       "    </tr>\n",
       "    <tr>\n",
       "      <th>4</th>\n",
       "      <td>22725</td>\n",
       "      <td>electronic</td>\n",
       "      <td>It is impossible to consider a given release b...</td>\n",
       "      <td>8.1</td>\n",
       "      <td>good</td>\n",
       "    </tr>\n",
       "  </tbody>\n",
       "</table>\n",
       "</div>"
      ],
      "text/plain": [
       "   reviewid       genre                                            content  \\\n",
       "0     22703  electronic  “Trip-hop” eventually became a ’90s punchline,...   \n",
       "1     22721       metal  Eight years, five albums, and two EPs in, the ...   \n",
       "2     22659        rock  Minneapolis’ Uranium Club seem to revel in bei...   \n",
       "3     22661        rock  Kleenex began with a crash. It transpired one ...   \n",
       "4     22725  electronic  It is impossible to consider a given release b...   \n",
       "\n",
       "   score feeling  \n",
       "0    9.3    good  \n",
       "1    7.9    good  \n",
       "2    7.3    good  \n",
       "3    9.0    good  \n",
       "4    8.1    good  "
      ]
     },
     "execution_count": 663,
     "metadata": {},
     "output_type": "execute_result"
    }
   ],
   "source": [
    "df['feeling'] = pd.cut(df.score, 3, labels=['bad', 'neutral', 'good'])\n",
    "df.head()"
   ]
  },
  {
   "cell_type": "markdown",
   "metadata": {},
   "source": [
    "Again let's look at the distribution of these categories"
   ]
  },
  {
   "cell_type": "code",
   "execution_count": 678,
   "metadata": {},
   "outputs": [
    {
     "data": {
      "image/png": "[encoded data removed]",
      "text/plain": [
       "<matplotlib.figure.Figure at 0x119cfee10>"
      ]
     },
     "metadata": {},
     "output_type": "display_data"
    }
   ],
   "source": [
    "df.groupby('feeling').size().plot.bar()\n",
    "plt.ylabel('number of reviews')\n",
    "plt.show()"
   ]
  },
  {
   "cell_type": "markdown",
   "metadata": {},
   "source": [
    "So the sizes of the groups are pretty disparate, however, since we're only looking within each group for word frequency and relevancy it shouldn't matter."
   ]
  },
  {
   "cell_type": "markdown",
   "metadata": {},
   "source": [
    "#### Frequency\n",
    "Now we'll go throught the same Bag-of-Words and TFIDF modeling as before."
   ]
  },
  {
   "cell_type": "code",
   "execution_count": 664,
   "metadata": {
    "scrolled": true
   },
   "outputs": [
    {
     "name": "stdout",
     "output_type": "stream",
     "text": [
      "CPU times: user 1min, sys: 1.63 s, total: 1min 1s\n",
      "Wall time: 1min 3s\n"
     ]
    }
   ],
   "source": [
    "%%time\n",
    "bad_bow = make_bow(df[df.feeling=='bad'].content, True)\n",
    "eh_bow = make_bow(df[df.feeling=='neutral'].content, True)\n",
    "good_bow = make_bow(df[df.feeling=='good'].content, True)"
   ]
  },
  {
   "cell_type": "code",
   "execution_count": 665,
   "metadata": {},
   "outputs": [],
   "source": [
    "# words and their freq for each category\n",
    "bad_vocab = bad_bow.agg('sum', axis=0)\n",
    "eh_vocab = eh_bow.agg('sum', axis=0)\n",
    "good_vocab = good_bow.agg('sum', axis=0)\n",
    "\n",
    "# words that appear in all categories\n",
    "intersection = set.intersection(set(bad_vocab.keys()), set(eh_vocab.keys()), set(good_vocab.keys()))\n",
    "\n",
    "# words that only appear in each category\n",
    "bad_only = set(bad_vocab.keys()) - intersection\n",
    "eh_only = set(eh_vocab.keys()) - intersection\n",
    "good_only = set(good_vocab.keys()) - intersection\n"
   ]
  },
  {
   "cell_type": "code",
   "execution_count": 666,
   "metadata": {},
   "outputs": [],
   "source": [
    "# grab top ten words in each category\n",
    "bad_top = bad_vocab[rock_only].sort_values(ascending=False)[:10]\n",
    "eh_top = eh_vocab[rap_only].sort_values(ascending=False)[:10]\n",
    "good_top = good_vocab[rap_only].sort_values(ascending=False)[:10]"
   ]
  },
  {
   "cell_type": "code",
   "execution_count": 667,
   "metadata": {},
   "outputs": [
    {
     "data": {
      "application/vnd.plotly.v1+json": {
       "data": [
        {
         "marker": {
          "color": "rgb(168, 21, 21)"
         },
         "name": "bad",
         "text": [
          "airborne",
          "vagrant",
          "inept",
          "oblivious",
          "consequently",
          "deserving",
          "plausible",
          "crimson",
          "kindly",
          "apathetic"
         ],
         "type": "bar",
         "x": [
          1,
          2,
          3,
          4,
          5,
          6,
          7,
          8,
          9,
          10
         ],
         "y": [
          8,
          7,
          7,
          6,
          6,
          5,
          4,
          4,
          4,
          4
         ]
        },
        {
         "marker": {
          "color": "rgb(224, 226, 206)"
         },
         "name": "eh",
         "text": [
          "unsure",
          "lukewarm",
          "luscious",
          "decadent",
          "throaty",
          "silky",
          "rugged",
          "socially",
          "mawkish",
          "colder"
         ],
         "type": "bar",
         "x": [
          1,
          2,
          3,
          4,
          5,
          6,
          7,
          8,
          9,
          10
         ],
         "y": [
          35,
          35,
          29,
          24,
          24,
          23,
          23,
          22,
          22,
          22
         ]
        },
        {
         "marker": {
          "color": "rgb(14, 122, 34)"
         },
         "name": "good",
         "text": [
          "throaty",
          "innate",
          "haggard",
          "rugged",
          "unsteady",
          "unsure",
          "divergent",
          "viscous",
          "decadent",
          "obsolete"
         ],
         "type": "bar",
         "x": [
          1,
          2,
          3,
          4,
          5,
          6,
          7,
          8,
          9,
          10
         ],
         "y": [
          84,
          75,
          73,
          68,
          67,
          64,
          63,
          58,
          58,
          54
         ]
        }
       ],
       "layout": {
        "barmode": "group",
        "title": "Most Frequent Words",
        "xaxis": {
         "title": "word rank"
        },
        "yaxis": {
         "title": "Frequency",
         "type": "log"
        }
       }
      },
      "text/html": [
       "<div id=\"1a061d05-4cca-4dbc-9bfb-6d47abde0721\" style=\"height: 525px; width: 100%;\" class=\"plotly-graph-div\"></div><script type=\"text/javascript\">require([\"plotly\"], function(Plotly) { window.PLOTLYENV=window.PLOTLYENV || {};window.PLOTLYENV.BASE_URL=\"https://plot.ly\";Plotly.newPlot(\"1a061d05-4cca-4dbc-9bfb-6d47abde0721\", [{\"type\": \"bar\", \"x\": [1, 2, 3, 4, 5, 6, 7, 8, 9, 10], \"y\": [8.0, 7.0, 7.0, 6.0, 6.0, 5.0, 4.0, 4.0, 4.0, 4.0], \"text\": [\"airborne\", \"vagrant\", \"inept\", \"oblivious\", \"consequently\", \"deserving\", \"plausible\", \"crimson\", \"kindly\", \"apathetic\"], \"name\": \"bad\", \"marker\": {\"color\": \"rgb(168, 21, 21)\"}}, {\"type\": \"bar\", \"x\": [1, 2, 3, 4, 5, 6, 7, 8, 9, 10], \"y\": [35.0, 35.0, 29.0, 24.0, 24.0, 23.0, 23.0, 22.0, 22.0, 22.0], \"text\": [\"unsure\", \"lukewarm\", \"luscious\", \"decadent\", \"throaty\", \"silky\", \"rugged\", \"socially\", \"mawkish\", \"colder\"], \"name\": \"eh\", \"marker\": {\"color\": \"rgb(224, 226, 206)\"}}, {\"type\": \"bar\", \"x\": [1, 2, 3, 4, 5, 6, 7, 8, 9, 10], \"y\": [84.0, 75.0, 73.0, 68.0, 67.0, 64.0, 63.0, 58.0, 58.0, 54.0], \"text\": [\"throaty\", \"innate\", \"haggard\", \"rugged\", \"unsteady\", \"unsure\", \"divergent\", \"viscous\", \"decadent\", \"obsolete\"], \"name\": \"good\", \"marker\": {\"color\": \"rgb(14, 122, 34)\"}}], {\"barmode\": \"group\", \"title\": \"Most Frequent Words\", \"xaxis\": {\"title\": \"word rank\"}, \"yaxis\": {\"title\": \"Frequency\", \"type\": \"log\"}}, {\"showLink\": true, \"linkText\": \"Export to plot.ly\"})});</script>"
      ],
      "text/vnd.plotly.v1+html": [
       "<div id=\"1a061d05-4cca-4dbc-9bfb-6d47abde0721\" style=\"height: 525px; width: 100%;\" class=\"plotly-graph-div\"></div><script type=\"text/javascript\">require([\"plotly\"], function(Plotly) { window.PLOTLYENV=window.PLOTLYENV || {};window.PLOTLYENV.BASE_URL=\"https://plot.ly\";Plotly.newPlot(\"1a061d05-4cca-4dbc-9bfb-6d47abde0721\", [{\"type\": \"bar\", \"x\": [1, 2, 3, 4, 5, 6, 7, 8, 9, 10], \"y\": [8.0, 7.0, 7.0, 6.0, 6.0, 5.0, 4.0, 4.0, 4.0, 4.0], \"text\": [\"airborne\", \"vagrant\", \"inept\", \"oblivious\", \"consequently\", \"deserving\", \"plausible\", \"crimson\", \"kindly\", \"apathetic\"], \"name\": \"bad\", \"marker\": {\"color\": \"rgb(168, 21, 21)\"}}, {\"type\": \"bar\", \"x\": [1, 2, 3, 4, 5, 6, 7, 8, 9, 10], \"y\": [35.0, 35.0, 29.0, 24.0, 24.0, 23.0, 23.0, 22.0, 22.0, 22.0], \"text\": [\"unsure\", \"lukewarm\", \"luscious\", \"decadent\", \"throaty\", \"silky\", \"rugged\", \"socially\", \"mawkish\", \"colder\"], \"name\": \"eh\", \"marker\": {\"color\": \"rgb(224, 226, 206)\"}}, {\"type\": \"bar\", \"x\": [1, 2, 3, 4, 5, 6, 7, 8, 9, 10], \"y\": [84.0, 75.0, 73.0, 68.0, 67.0, 64.0, 63.0, 58.0, 58.0, 54.0], \"text\": [\"throaty\", \"innate\", \"haggard\", \"rugged\", \"unsteady\", \"unsure\", \"divergent\", \"viscous\", \"decadent\", \"obsolete\"], \"name\": \"good\", \"marker\": {\"color\": \"rgb(14, 122, 34)\"}}], {\"barmode\": \"group\", \"title\": \"Most Frequent Words\", \"xaxis\": {\"title\": \"word rank\"}, \"yaxis\": {\"title\": \"Frequency\", \"type\": \"log\"}}, {\"showLink\": true, \"linkText\": \"Export to plot.ly\"})});</script>"
      ]
     },
     "metadata": {},
     "output_type": "display_data"
    }
   ],
   "source": [
    "bad_trace = go.Bar(\n",
    "    x=list(range(1,len(bad_top)+1)),\n",
    "    y=bad_top.values,\n",
    "    text=bad_top.keys(),\n",
    "    name='bad',\n",
    "    marker={'color':'rgb(168, 21, 21)'}\n",
    "    \n",
    ")\n",
    "\n",
    "eh_trace = go.Bar(\n",
    "    x=list(range(1,len(eh_top)+1)),\n",
    "    y=eh_top.values,\n",
    "    text=eh_top.keys(),\n",
    "    name='eh',\n",
    "    marker={'color':'rgb(224, 226, 206)'}  \n",
    ")\n",
    "\n",
    "good_trace = go.Bar(\n",
    "    x=list(range(1,len(good_top)+1)),\n",
    "    y=good_top.values,\n",
    "    text=good_top.keys(),\n",
    "    name='good',\n",
    "    marker={'color':'rgb(14, 122, 34)'}\n",
    ")\n",
    "\n",
    "data = [bad_trace, eh_trace, good_trace]\n",
    "layout = go.Layout(\n",
    "    barmode='group',\n",
    "    title='Most Frequent Words',\n",
    "    xaxis={'title':'word rank'},\n",
    "    yaxis={'title':'Frequency', 'type':'log'}\n",
    ")\n",
    "\n",
    "fig = go.Figure(data=data, layout=layout)\n",
    "py.offline.iplot(fig, filename='most_frequent')"
   ]
  },
  {
   "cell_type": "markdown",
   "metadata": {},
   "source": [
    "This is promising!  For the most part, the words that only appear in bad reviews, are words that have negative connotations; words that only appear in good reviews are words that have positive connotations; and the words that appear in reviews that got middle level scores are a mix of both.\n",
    "\n",
    "#### Relevancy\n",
    "\n",
    "Now we'll look at TFIDF as a measure of relevancy."
   ]
  },
  {
   "cell_type": "code",
   "execution_count": 668,
   "metadata": {},
   "outputs": [
    {
     "name": "stdout",
     "output_type": "stream",
     "text": [
      "CPU times: user 8.68 s, sys: 237 ms, total: 8.92 s\n",
      "Wall time: 9.03 s\n"
     ]
    }
   ],
   "source": [
    "%%time\n",
    "\n",
    "bad_tfidfer = TfidfVectorizer(stop_words='english', vocabulary=bad_vocab.keys())\n",
    "\n",
    "tfidf = tfidfer.fit_transform(df[df.feeling=='bad'].content.tolist())\n",
    "\n",
    "bad_tfidf = pd.DataFrame(data=tfidf.toarray(),columns=tfidfer.get_feature_names())\n",
    "\n",
    "####\n",
    "\n",
    "eh_tfidfer = TfidfVectorizer(stop_words='english', vocabulary=eh_vocab.keys())\n",
    "\n",
    "tfidf = tfidfer.fit_transform(df[df.feeling=='neutral'].content.tolist())\n",
    "\n",
    "eh_tfidf = pd.DataFrame(data=tfidf.toarray(),columns=tfidfer.get_feature_names())\n",
    "\n",
    "####\n",
    "\n",
    "good_tfidfer = TfidfVectorizer(stop_words='english', vocabulary=good_vocab.keys())\n",
    "\n",
    "tfidf = tfidfer.fit_transform(df[df.feeling=='good'].content.tolist())\n",
    "\n",
    "good_tfidf = pd.DataFrame(data=tfidf.toarray(),columns=tfidfer.get_feature_names())\n",
    "\n"
   ]
  },
  {
   "cell_type": "code",
   "execution_count": 669,
   "metadata": {
    "collapsed": true
   },
   "outputs": [],
   "source": [
    "bad_tfidf_top = bad_tfidf.max().sort_values(ascending=False)[:10]\n",
    "eh_tfidf_top = eh_tfidf.max().sort_values(ascending=False)[:10]\n",
    "good_tfidf_top = good_tfidf.max().sort_values(ascending=False)[:10]"
   ]
  },
  {
   "cell_type": "code",
   "execution_count": 670,
   "metadata": {},
   "outputs": [
    {
     "data": {
      "application/vnd.plotly.v1+json": {
       "data": [
        {
         "marker": {
          "color": "rgb(168, 21, 21)"
         },
         "name": "bad",
         "text": [
          "tricky",
          "dear",
          "blank",
          "dressy",
          "green",
          "fragile",
          "northern",
          "nice",
          "steely",
          "sonic"
         ],
         "type": "bar",
         "x": [
          1,
          2,
          3,
          4,
          5,
          6,
          7,
          8,
          9,
          10
         ],
         "y": [
          0.881431979034366,
          0.7971776756287611,
          0.7759855582967258,
          0.7689780797168297,
          0.7646896918978289,
          0.7429042315363344,
          0.7326697755138095,
          0.732273044740968,
          0.7281367434078931,
          0.7056710090242215
         ]
        },
        {
         "marker": {
          "color": "rgb(224, 226, 206)"
         },
         "name": "eh",
         "text": [
          "young",
          "long",
          "askew",
          "penetrating",
          "astral",
          "brown",
          "sylvan",
          "imperial",
          "pink",
          "jolly"
         ],
         "type": "bar",
         "x": [
          1,
          2,
          3,
          4,
          5,
          6,
          7,
          8,
          9,
          10
         ],
         "y": [
          1,
          0.9812509943480597,
          0.9395767340646823,
          0.9205472583316697,
          0.9198224964404091,
          0.9193478283916838,
          0.9122320869192679,
          0.9109988299767312,
          0.9001384516848062,
          0.8996345062094783
         ]
        },
        {
         "marker": {
          "color": "rgb(14, 122, 34)"
         },
         "name": "good",
         "text": [
          "human",
          "askew",
          "vile",
          "dear",
          "haggard",
          "hardy",
          "rocky",
          "frank",
          "orbital",
          "purple"
         ],
         "type": "bar",
         "x": [
          1,
          2,
          3,
          4,
          5,
          6,
          7,
          8,
          9,
          10
         ],
         "y": [
          1,
          0.9541762587989069,
          0.9486134877245391,
          0.948525969509803,
          0.939162109452814,
          0.9391272020717657,
          0.9341544364456333,
          0.9328108369333373,
          0.9310245792372129,
          0.9289237797593622
         ]
        }
       ],
       "layout": {
        "barmode": "group",
        "title": "Most Relevant Words",
        "xaxis": {
         "title": "word rank"
        },
        "yaxis": {
         "title": "TFIDF"
        }
       }
      },
      "text/html": [
       "<div id=\"b9d978f0-a29c-4e5b-b948-c52696ba62bc\" style=\"height: 525px; width: 100%;\" class=\"plotly-graph-div\"></div><script type=\"text/javascript\">require([\"plotly\"], function(Plotly) { window.PLOTLYENV=window.PLOTLYENV || {};window.PLOTLYENV.BASE_URL=\"https://plot.ly\";Plotly.newPlot(\"b9d978f0-a29c-4e5b-b948-c52696ba62bc\", [{\"type\": \"bar\", \"x\": [1, 2, 3, 4, 5, 6, 7, 8, 9, 10], \"y\": [0.881431979034366, 0.7971776756287611, 0.7759855582967258, 0.7689780797168297, 0.7646896918978289, 0.7429042315363344, 0.7326697755138095, 0.732273044740968, 0.7281367434078931, 0.7056710090242215], \"text\": [\"tricky\", \"dear\", \"blank\", \"dressy\", \"green\", \"fragile\", \"northern\", \"nice\", \"steely\", \"sonic\"], \"name\": \"bad\", \"marker\": {\"color\": \"rgb(168, 21, 21)\"}}, {\"type\": \"bar\", \"x\": [1, 2, 3, 4, 5, 6, 7, 8, 9, 10], \"y\": [1.0, 0.9812509943480597, 0.9395767340646823, 0.9205472583316697, 0.9198224964404091, 0.9193478283916838, 0.9122320869192679, 0.9109988299767312, 0.9001384516848062, 0.8996345062094783], \"text\": [\"young\", \"long\", \"askew\", \"penetrating\", \"astral\", \"brown\", \"sylvan\", \"imperial\", \"pink\", \"jolly\"], \"name\": \"eh\", \"marker\": {\"color\": \"rgb(224, 226, 206)\"}}, {\"type\": \"bar\", \"x\": [1, 2, 3, 4, 5, 6, 7, 8, 9, 10], \"y\": [1.0, 0.9541762587989069, 0.9486134877245391, 0.948525969509803, 0.939162109452814, 0.9391272020717657, 0.9341544364456333, 0.9328108369333373, 0.9310245792372129, 0.9289237797593622], \"text\": [\"human\", \"askew\", \"vile\", \"dear\", \"haggard\", \"hardy\", \"rocky\", \"frank\", \"orbital\", \"purple\"], \"name\": \"good\", \"marker\": {\"color\": \"rgb(14, 122, 34)\"}}], {\"barmode\": \"group\", \"title\": \"Most Relevant Words\", \"xaxis\": {\"title\": \"word rank\"}, \"yaxis\": {\"title\": \"TFIDF\"}}, {\"showLink\": true, \"linkText\": \"Export to plot.ly\"})});</script>"
      ],
      "text/vnd.plotly.v1+html": [
       "<div id=\"b9d978f0-a29c-4e5b-b948-c52696ba62bc\" style=\"height: 525px; width: 100%;\" class=\"plotly-graph-div\"></div><script type=\"text/javascript\">require([\"plotly\"], function(Plotly) { window.PLOTLYENV=window.PLOTLYENV || {};window.PLOTLYENV.BASE_URL=\"https://plot.ly\";Plotly.newPlot(\"b9d978f0-a29c-4e5b-b948-c52696ba62bc\", [{\"type\": \"bar\", \"x\": [1, 2, 3, 4, 5, 6, 7, 8, 9, 10], \"y\": [0.881431979034366, 0.7971776756287611, 0.7759855582967258, 0.7689780797168297, 0.7646896918978289, 0.7429042315363344, 0.7326697755138095, 0.732273044740968, 0.7281367434078931, 0.7056710090242215], \"text\": [\"tricky\", \"dear\", \"blank\", \"dressy\", \"green\", \"fragile\", \"northern\", \"nice\", \"steely\", \"sonic\"], \"name\": \"bad\", \"marker\": {\"color\": \"rgb(168, 21, 21)\"}}, {\"type\": \"bar\", \"x\": [1, 2, 3, 4, 5, 6, 7, 8, 9, 10], \"y\": [1.0, 0.9812509943480597, 0.9395767340646823, 0.9205472583316697, 0.9198224964404091, 0.9193478283916838, 0.9122320869192679, 0.9109988299767312, 0.9001384516848062, 0.8996345062094783], \"text\": [\"young\", \"long\", \"askew\", \"penetrating\", \"astral\", \"brown\", \"sylvan\", \"imperial\", \"pink\", \"jolly\"], \"name\": \"eh\", \"marker\": {\"color\": \"rgb(224, 226, 206)\"}}, {\"type\": \"bar\", \"x\": [1, 2, 3, 4, 5, 6, 7, 8, 9, 10], \"y\": [1.0, 0.9541762587989069, 0.9486134877245391, 0.948525969509803, 0.939162109452814, 0.9391272020717657, 0.9341544364456333, 0.9328108369333373, 0.9310245792372129, 0.9289237797593622], \"text\": [\"human\", \"askew\", \"vile\", \"dear\", \"haggard\", \"hardy\", \"rocky\", \"frank\", \"orbital\", \"purple\"], \"name\": \"good\", \"marker\": {\"color\": \"rgb(14, 122, 34)\"}}], {\"barmode\": \"group\", \"title\": \"Most Relevant Words\", \"xaxis\": {\"title\": \"word rank\"}, \"yaxis\": {\"title\": \"TFIDF\"}}, {\"showLink\": true, \"linkText\": \"Export to plot.ly\"})});</script>"
      ]
     },
     "metadata": {},
     "output_type": "display_data"
    }
   ],
   "source": [
    "bad_trace = go.Bar(\n",
    "    x=list(range(1,len(bad_tfidf_top)+1)),\n",
    "    y=bad_tfidf_top.values,\n",
    "    text=bad_tfidf_top.keys(),\n",
    "    name='bad',\n",
    "    marker={'color':'rgb(168, 21, 21)'}    \n",
    ")\n",
    "\n",
    "eh_trace = go.Bar(\n",
    "    x=list(range(1,len(eh_tfidf_top)+1)),\n",
    "    y=eh_tfidf_top.values,\n",
    "    text=eh_tfidf_top.keys(),\n",
    "    name='eh',\n",
    "    marker={'color':'rgb(224, 226, 206)'}  \n",
    ")\n",
    "\n",
    "good_trace = go.Bar(\n",
    "    x=list(range(1,len(good_tfidf_top)+1)),\n",
    "    y=good_tfidf_top.values,\n",
    "    text=good_tfidf_top.keys(),\n",
    "    name='good',\n",
    "    marker={'color':'rgb(14, 122, 34)'}    \n",
    ")\n",
    "\n",
    "data = [bad_trace, eh_trace, good_trace]\n",
    "layout = go.Layout(\n",
    "    barmode='group',\n",
    "    title='Most Relevant Words',\n",
    "    xaxis={'title':'word rank'},\n",
    "    yaxis={'title':'TFIDF',}\n",
    ")\n",
    "\n",
    "fig = go.Figure(data=data, layout=layout)\n",
    "py.offline.iplot(fig, filename='most_frequent')"
   ]
  },
  {
   "cell_type": "markdown",
   "metadata": {},
   "source": [
    "This doesn't seem to be a very effective model for this grouping either.  There's not detectable pattern between words in each group or overall for that matter.  It's likely it could improve with some modification to the TFIDF algorithm used or the vocabulary that it works on."
   ]
  },
  {
   "cell_type": "code",
   "execution_count": null,
   "metadata": {
    "collapsed": true
   },
   "outputs": [],
   "source": []
  }
 ],
 "metadata": {
  "kernelspec": {
   "display_name": "Python [conda env:mlenv]",
   "language": "python",
   "name": "conda-env-mlenv-py"
  },
  "language_info": {
   "codemirror_mode": {
    "name": "ipython",
    "version": 3
   },
   "file_extension": ".py",
   "mimetype": "text/x-python",
   "name": "python",
   "nbconvert_exporter": "python",
   "pygments_lexer": "ipython3",
   "version": "3.6.2"
  }
 },
 "nbformat": 4,
 "nbformat_minor": 2
}
