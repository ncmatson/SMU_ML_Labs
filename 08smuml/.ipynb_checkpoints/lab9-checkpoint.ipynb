{
 "cells": [
  {
   "cell_type": "code",
   "execution_count": 69,
   "metadata": {},
   "outputs": [
    {
     "name": "stdout",
     "output_type": "stream",
     "text": [
      "number of reviews: 18393\n",
      "<class 'pandas.core.frame.DataFrame'>\n",
      "RangeIndex: 18393 entries, 0 to 18392\n",
      "Data columns (total 2 columns):\n",
      "reviewid    18393 non-null int64\n",
      "content     18383 non-null object\n",
      "dtypes: int64(1), object(1)\n",
      "memory usage: 287.5+ KB\n"
     ]
    },
    {
     "data": {
      "text/html": [
       "<div>\n",
       "<style>\n",
       "    .dataframe thead tr:only-child th {\n",
       "        text-align: right;\n",
       "    }\n",
       "\n",
       "    .dataframe thead th {\n",
       "        text-align: left;\n",
       "    }\n",
       "\n",
       "    .dataframe tbody tr th {\n",
       "        vertical-align: top;\n",
       "    }\n",
       "</style>\n",
       "<table border=\"1\" class=\"dataframe\">\n",
       "  <thead>\n",
       "    <tr style=\"text-align: right;\">\n",
       "      <th></th>\n",
       "      <th>reviewid</th>\n",
       "      <th>content</th>\n",
       "    </tr>\n",
       "  </thead>\n",
       "  <tbody>\n",
       "    <tr>\n",
       "      <th>0</th>\n",
       "      <td>22703</td>\n",
       "      <td>“Trip-hop” eventually became a ’90s punchline,...</td>\n",
       "    </tr>\n",
       "    <tr>\n",
       "      <th>1</th>\n",
       "      <td>22721</td>\n",
       "      <td>Eight years, five albums, and two EPs in, the ...</td>\n",
       "    </tr>\n",
       "    <tr>\n",
       "      <th>2</th>\n",
       "      <td>22659</td>\n",
       "      <td>Minneapolis’ Uranium Club seem to revel in bei...</td>\n",
       "    </tr>\n",
       "    <tr>\n",
       "      <th>3</th>\n",
       "      <td>22661</td>\n",
       "      <td>Kleenex began with a crash. It transpired one ...</td>\n",
       "    </tr>\n",
       "    <tr>\n",
       "      <th>4</th>\n",
       "      <td>22725</td>\n",
       "      <td>It is impossible to consider a given release b...</td>\n",
       "    </tr>\n",
       "  </tbody>\n",
       "</table>\n",
       "</div>"
      ],
      "text/plain": [
       "   reviewid                                            content\n",
       "0     22703  “Trip-hop” eventually became a ’90s punchline,...\n",
       "1     22721  Eight years, five albums, and two EPs in, the ...\n",
       "2     22659  Minneapolis’ Uranium Club seem to revel in bei...\n",
       "3     22661  Kleenex began with a crash. It transpired one ...\n",
       "4     22725  It is impossible to consider a given release b..."
      ]
     },
     "execution_count": 69,
     "metadata": {},
     "output_type": "execute_result"
    }
   ],
   "source": [
    "import pandas as pd\n",
    "import numpy as np\n",
    "\n",
    "reviews = pd.read_csv('../data/reviews.csv', encoding='utf-8')\n",
    "print('number of reviews:',len(reviews))\n",
    "reviews.info()\n",
    "reviews.head()"
   ]
  },
  {
   "cell_type": "code",
   "execution_count": 70,
   "metadata": {},
   "outputs": [
    {
     "name": "stdout",
     "output_type": "stream",
     "text": [
      "<class 'pandas.core.frame.DataFrame'>\n",
      "RangeIndex: 18393 entries, 0 to 18392\n",
      "Data columns (total 13 columns):\n",
      "reviewid          18393 non-null int64\n",
      "title             18391 non-null object\n",
      "artist            18391 non-null object\n",
      "url               18393 non-null object\n",
      "score             18393 non-null float64\n",
      "best_new_music    18393 non-null int64\n",
      "author            18393 non-null object\n",
      "author_type       14487 non-null object\n",
      "pub_date          18393 non-null object\n",
      "pub_weekday       18393 non-null int64\n",
      "pub_day           18393 non-null int64\n",
      "pub_month         18393 non-null int64\n",
      "pub_year          18393 non-null int64\n",
      "dtypes: float64(1), int64(6), object(6)\n",
      "memory usage: 1.8+ MB\n"
     ]
    },
    {
     "data": {
      "text/html": [
       "<div>\n",
       "<style>\n",
       "    .dataframe thead tr:only-child th {\n",
       "        text-align: right;\n",
       "    }\n",
       "\n",
       "    .dataframe thead th {\n",
       "        text-align: left;\n",
       "    }\n",
       "\n",
       "    .dataframe tbody tr th {\n",
       "        vertical-align: top;\n",
       "    }\n",
       "</style>\n",
       "<table border=\"1\" class=\"dataframe\">\n",
       "  <thead>\n",
       "    <tr style=\"text-align: right;\">\n",
       "      <th></th>\n",
       "      <th>reviewid</th>\n",
       "      <th>title</th>\n",
       "      <th>artist</th>\n",
       "      <th>url</th>\n",
       "      <th>score</th>\n",
       "      <th>best_new_music</th>\n",
       "      <th>author</th>\n",
       "      <th>author_type</th>\n",
       "      <th>pub_date</th>\n",
       "      <th>pub_weekday</th>\n",
       "      <th>pub_day</th>\n",
       "      <th>pub_month</th>\n",
       "      <th>pub_year</th>\n",
       "    </tr>\n",
       "  </thead>\n",
       "  <tbody>\n",
       "    <tr>\n",
       "      <th>0</th>\n",
       "      <td>22703</td>\n",
       "      <td>mezzanine</td>\n",
       "      <td>massive attack</td>\n",
       "      <td>http://pitchfork.com/reviews/albums/22703-mezz...</td>\n",
       "      <td>9.3</td>\n",
       "      <td>0</td>\n",
       "      <td>nate patrin</td>\n",
       "      <td>contributor</td>\n",
       "      <td>2017-01-08</td>\n",
       "      <td>6</td>\n",
       "      <td>8</td>\n",
       "      <td>1</td>\n",
       "      <td>2017</td>\n",
       "    </tr>\n",
       "    <tr>\n",
       "      <th>1</th>\n",
       "      <td>22721</td>\n",
       "      <td>prelapsarian</td>\n",
       "      <td>krallice</td>\n",
       "      <td>http://pitchfork.com/reviews/albums/22721-prel...</td>\n",
       "      <td>7.9</td>\n",
       "      <td>0</td>\n",
       "      <td>zoe camp</td>\n",
       "      <td>contributor</td>\n",
       "      <td>2017-01-07</td>\n",
       "      <td>5</td>\n",
       "      <td>7</td>\n",
       "      <td>1</td>\n",
       "      <td>2017</td>\n",
       "    </tr>\n",
       "    <tr>\n",
       "      <th>2</th>\n",
       "      <td>22659</td>\n",
       "      <td>all of them naturals</td>\n",
       "      <td>uranium club</td>\n",
       "      <td>http://pitchfork.com/reviews/albums/22659-all-...</td>\n",
       "      <td>7.3</td>\n",
       "      <td>0</td>\n",
       "      <td>david glickman</td>\n",
       "      <td>contributor</td>\n",
       "      <td>2017-01-07</td>\n",
       "      <td>5</td>\n",
       "      <td>7</td>\n",
       "      <td>1</td>\n",
       "      <td>2017</td>\n",
       "    </tr>\n",
       "    <tr>\n",
       "      <th>3</th>\n",
       "      <td>22661</td>\n",
       "      <td>first songs</td>\n",
       "      <td>kleenex, liliput</td>\n",
       "      <td>http://pitchfork.com/reviews/albums/22661-firs...</td>\n",
       "      <td>9.0</td>\n",
       "      <td>1</td>\n",
       "      <td>jenn pelly</td>\n",
       "      <td>associate reviews editor</td>\n",
       "      <td>2017-01-06</td>\n",
       "      <td>4</td>\n",
       "      <td>6</td>\n",
       "      <td>1</td>\n",
       "      <td>2017</td>\n",
       "    </tr>\n",
       "    <tr>\n",
       "      <th>4</th>\n",
       "      <td>22725</td>\n",
       "      <td>new start</td>\n",
       "      <td>taso</td>\n",
       "      <td>http://pitchfork.com/reviews/albums/22725-new-...</td>\n",
       "      <td>8.1</td>\n",
       "      <td>0</td>\n",
       "      <td>kevin lozano</td>\n",
       "      <td>tracks coordinator</td>\n",
       "      <td>2017-01-06</td>\n",
       "      <td>4</td>\n",
       "      <td>6</td>\n",
       "      <td>1</td>\n",
       "      <td>2017</td>\n",
       "    </tr>\n",
       "  </tbody>\n",
       "</table>\n",
       "</div>"
      ],
      "text/plain": [
       "   reviewid                 title            artist  \\\n",
       "0     22703             mezzanine    massive attack   \n",
       "1     22721          prelapsarian          krallice   \n",
       "2     22659  all of them naturals      uranium club   \n",
       "3     22661           first songs  kleenex, liliput   \n",
       "4     22725             new start              taso   \n",
       "\n",
       "                                                 url  score  best_new_music  \\\n",
       "0  http://pitchfork.com/reviews/albums/22703-mezz...    9.3               0   \n",
       "1  http://pitchfork.com/reviews/albums/22721-prel...    7.9               0   \n",
       "2  http://pitchfork.com/reviews/albums/22659-all-...    7.3               0   \n",
       "3  http://pitchfork.com/reviews/albums/22661-firs...    9.0               1   \n",
       "4  http://pitchfork.com/reviews/albums/22725-new-...    8.1               0   \n",
       "\n",
       "           author               author_type    pub_date  pub_weekday  pub_day  \\\n",
       "0     nate patrin               contributor  2017-01-08            6        8   \n",
       "1        zoe camp               contributor  2017-01-07            5        7   \n",
       "2  david glickman               contributor  2017-01-07            5        7   \n",
       "3      jenn pelly  associate reviews editor  2017-01-06            4        6   \n",
       "4    kevin lozano        tracks coordinator  2017-01-06            4        6   \n",
       "\n",
       "   pub_month  pub_year  \n",
       "0          1      2017  \n",
       "1          1      2017  \n",
       "2          1      2017  \n",
       "3          1      2017  \n",
       "4          1      2017  "
      ]
     },
     "execution_count": 70,
     "metadata": {},
     "output_type": "execute_result"
    }
   ],
   "source": [
    "meta = pd.read_csv('../data/meta.csv')\n",
    "meta.info()\n",
    "meta.head()"
   ]
  },
  {
   "cell_type": "code",
   "execution_count": 71,
   "metadata": {},
   "outputs": [
    {
     "name": "stdout",
     "output_type": "stream",
     "text": [
      "<class 'pandas.core.frame.DataFrame'>\n",
      "RangeIndex: 18393 entries, 0 to 18392\n",
      "Data columns (total 2 columns):\n",
      "reviewid    18393 non-null int64\n",
      "score       18393 non-null float64\n",
      "dtypes: float64(1), int64(1)\n",
      "memory usage: 287.5 KB\n"
     ]
    },
    {
     "data": {
      "text/html": [
       "<div>\n",
       "<style>\n",
       "    .dataframe thead tr:only-child th {\n",
       "        text-align: right;\n",
       "    }\n",
       "\n",
       "    .dataframe thead th {\n",
       "        text-align: left;\n",
       "    }\n",
       "\n",
       "    .dataframe tbody tr th {\n",
       "        vertical-align: top;\n",
       "    }\n",
       "</style>\n",
       "<table border=\"1\" class=\"dataframe\">\n",
       "  <thead>\n",
       "    <tr style=\"text-align: right;\">\n",
       "      <th></th>\n",
       "      <th>reviewid</th>\n",
       "      <th>score</th>\n",
       "    </tr>\n",
       "  </thead>\n",
       "  <tbody>\n",
       "    <tr>\n",
       "      <th>0</th>\n",
       "      <td>22703</td>\n",
       "      <td>9.3</td>\n",
       "    </tr>\n",
       "    <tr>\n",
       "      <th>1</th>\n",
       "      <td>22721</td>\n",
       "      <td>7.9</td>\n",
       "    </tr>\n",
       "    <tr>\n",
       "      <th>2</th>\n",
       "      <td>22659</td>\n",
       "      <td>7.3</td>\n",
       "    </tr>\n",
       "    <tr>\n",
       "      <th>3</th>\n",
       "      <td>22661</td>\n",
       "      <td>9.0</td>\n",
       "    </tr>\n",
       "    <tr>\n",
       "      <th>4</th>\n",
       "      <td>22725</td>\n",
       "      <td>8.1</td>\n",
       "    </tr>\n",
       "  </tbody>\n",
       "</table>\n",
       "</div>"
      ],
      "text/plain": [
       "   reviewid  score\n",
       "0     22703    9.3\n",
       "1     22721    7.9\n",
       "2     22659    7.3\n",
       "3     22661    9.0\n",
       "4     22725    8.1"
      ]
     },
     "execution_count": 71,
     "metadata": {},
     "output_type": "execute_result"
    }
   ],
   "source": [
    "meta.drop(['title','artist', 'url', 'author', 'author_type', 'best_new_music', 'pub_date', 'pub_weekday', 'pub_day', 'pub_month', 'pub_year'], axis=1, inplace=True)\n",
    "meta.info()\n",
    "meta.head()"
   ]
  },
  {
   "cell_type": "code",
   "execution_count": 87,
   "metadata": {},
   "outputs": [
    {
     "name": "stdout",
     "output_type": "stream",
     "text": [
      "<class 'pandas.core.frame.DataFrame'>\n",
      "Int64Index: 18391 entries, 0 to 18400\n",
      "Data columns (total 2 columns):\n",
      "content    18391 non-null object\n",
      "score      18391 non-null float64\n",
      "dtypes: float64(1), object(1)\n",
      "memory usage: 431.0+ KB\n"
     ]
    },
    {
     "data": {
      "text/html": [
       "<div>\n",
       "<style>\n",
       "    .dataframe thead tr:only-child th {\n",
       "        text-align: right;\n",
       "    }\n",
       "\n",
       "    .dataframe thead th {\n",
       "        text-align: left;\n",
       "    }\n",
       "\n",
       "    .dataframe tbody tr th {\n",
       "        vertical-align: top;\n",
       "    }\n",
       "</style>\n",
       "<table border=\"1\" class=\"dataframe\">\n",
       "  <thead>\n",
       "    <tr style=\"text-align: right;\">\n",
       "      <th></th>\n",
       "      <th>content</th>\n",
       "      <th>score</th>\n",
       "    </tr>\n",
       "  </thead>\n",
       "  <tbody>\n",
       "    <tr>\n",
       "      <th>0</th>\n",
       "      <td>“Trip-hop” eventually became a ’90s punchline,...</td>\n",
       "      <td>9.3</td>\n",
       "    </tr>\n",
       "    <tr>\n",
       "      <th>1</th>\n",
       "      <td>Eight years, five albums, and two EPs in, the ...</td>\n",
       "      <td>7.9</td>\n",
       "    </tr>\n",
       "    <tr>\n",
       "      <th>2</th>\n",
       "      <td>Minneapolis’ Uranium Club seem to revel in bei...</td>\n",
       "      <td>7.3</td>\n",
       "    </tr>\n",
       "    <tr>\n",
       "      <th>3</th>\n",
       "      <td>Kleenex began with a crash. It transpired one ...</td>\n",
       "      <td>9.0</td>\n",
       "    </tr>\n",
       "    <tr>\n",
       "      <th>4</th>\n",
       "      <td>It is impossible to consider a given release b...</td>\n",
       "      <td>8.1</td>\n",
       "    </tr>\n",
       "  </tbody>\n",
       "</table>\n",
       "</div>"
      ],
      "text/plain": [
       "                                             content  score\n",
       "0  “Trip-hop” eventually became a ’90s punchline,...    9.3\n",
       "1  Eight years, five albums, and two EPs in, the ...    7.9\n",
       "2  Minneapolis’ Uranium Club seem to revel in bei...    7.3\n",
       "3  Kleenex began with a crash. It transpired one ...    9.0\n",
       "4  It is impossible to consider a given release b...    8.1"
      ]
     },
     "execution_count": 87,
     "metadata": {},
     "output_type": "execute_result"
    }
   ],
   "source": [
    "df = pd.merge(reviews, meta, on='reviewid')\n",
    "df.drop('reviewid', axis=1, inplace=True)\n",
    "df.dropna(inplace=True)\n",
    "df.info()\n",
    "df.head()"
   ]
  },
  {
   "cell_type": "code",
   "execution_count": 88,
   "metadata": {},
   "outputs": [
    {
     "data": {
      "text/html": [
       "<div>\n",
       "<style>\n",
       "    .dataframe thead tr:only-child th {\n",
       "        text-align: right;\n",
       "    }\n",
       "\n",
       "    .dataframe thead th {\n",
       "        text-align: left;\n",
       "    }\n",
       "\n",
       "    .dataframe tbody tr th {\n",
       "        vertical-align: top;\n",
       "    }\n",
       "</style>\n",
       "<table border=\"1\" class=\"dataframe\">\n",
       "  <thead>\n",
       "    <tr style=\"text-align: right;\">\n",
       "      <th></th>\n",
       "      <th>content</th>\n",
       "      <th>score</th>\n",
       "      <th>target</th>\n",
       "    </tr>\n",
       "  </thead>\n",
       "  <tbody>\n",
       "    <tr>\n",
       "      <th>0</th>\n",
       "      <td>“Trip-hop” eventually became a ’90s punchline,...</td>\n",
       "      <td>9.3</td>\n",
       "      <td>2</td>\n",
       "    </tr>\n",
       "    <tr>\n",
       "      <th>1</th>\n",
       "      <td>Eight years, five albums, and two EPs in, the ...</td>\n",
       "      <td>7.9</td>\n",
       "      <td>2</td>\n",
       "    </tr>\n",
       "    <tr>\n",
       "      <th>2</th>\n",
       "      <td>Minneapolis’ Uranium Club seem to revel in bei...</td>\n",
       "      <td>7.3</td>\n",
       "      <td>2</td>\n",
       "    </tr>\n",
       "    <tr>\n",
       "      <th>3</th>\n",
       "      <td>Kleenex began with a crash. It transpired one ...</td>\n",
       "      <td>9.0</td>\n",
       "      <td>2</td>\n",
       "    </tr>\n",
       "    <tr>\n",
       "      <th>4</th>\n",
       "      <td>It is impossible to consider a given release b...</td>\n",
       "      <td>8.1</td>\n",
       "      <td>2</td>\n",
       "    </tr>\n",
       "  </tbody>\n",
       "</table>\n",
       "</div>"
      ],
      "text/plain": [
       "                                             content  score target\n",
       "0  “Trip-hop” eventually became a ’90s punchline,...    9.3      2\n",
       "1  Eight years, five albums, and two EPs in, the ...    7.9      2\n",
       "2  Minneapolis’ Uranium Club seem to revel in bei...    7.3      2\n",
       "3  Kleenex began with a crash. It transpired one ...    9.0      2\n",
       "4  It is impossible to consider a given release b...    8.1      2"
      ]
     },
     "execution_count": 88,
     "metadata": {},
     "output_type": "execute_result"
    }
   ],
   "source": [
    "df['target'] = pd.cut(df.score, 3, labels=[0, 1, 2])\n",
    "df.head()"
   ]
  },
  {
   "cell_type": "code",
   "execution_count": 89,
   "metadata": {
    "collapsed": true
   },
   "outputs": [],
   "source": [
    "# this is an array of the reviews\n",
    "texts = df.content.values"
   ]
  },
  {
   "cell_type": "code",
   "execution_count": 90,
   "metadata": {
    "scrolled": true
   },
   "outputs": [
    {
     "data": {
      "text/plain": [
       "\"“Trip-hop” eventually became a ’90s punchline, a music-press shorthand for “overhyped hotel lounge music.” But today, the much-maligned subgenre almost feels like a secret precedent. Listen to any of the canonical Bristol-scene albums of the mid-late ’90s, when the genre was starting to chafe against its boundaries, and you’d think the claustrophobic, anxious 21st century started a few years ahead of schedule. Looked at from the right angle, trip-hop\\xa0is part of an unbroken chain that runs from the abrasion of ’80s post-punk to the ruminative pop-R&B-dance fusion of the moment.\\xa0The best of it has aged far more gracefully (and forcefully) than anything recorded in the waning days of the record industry’s pre-filesharing monomania has any right to. Tricky rebelled against being attached at the hip to a scene he was already looking to shed and decamped for Jamaica to record a more aggressive, bristling-energy mutation of his style in ’96; the name\\xa0Pre-Millennium Tension is the only obvious thing that tells you it’s two decades old rather than two weeks. And Portishead’s ’97 self-titled saw the stress-fractured voice of Beth Gibbons envisioning romance as codependent, mutually assured destruction while Geoff Barrow sunk into his RZA-noir beats like The Conversation’s Gene Hackman ruminating over his surveillance tapes. This was raw-nerved music, too single-minded and intense to carry an obvious timestamp.\\xa0But Massive Attack were the origin point of the trip-hop movement they and their peers were striving to escape the orbit of, and they nearly tore themselves to shreds in the process. Instead— or maybe as a result—they laid down their going-nova genre's definitive paranoia statement with Mezzanine. The band's third album (not counting the Mad Professor-remixed No Protection) completes the last in a sort of de facto Bristol trilogy, where Tricky’s youthful iconoclasm and Portishead’s deep-focus emotional intensity set the scene for Massive Attack’s sense of near-suffocating dread. The album corroded their tendencies to make big-wheel hymnals of interconnected lives where hope and despair trade precedent—on Mezzanine, it’s alienation all the way down. There’s no safety from harm here, nothing you’ve got to be thankful for, nobody to take the force of the blow: what Mezzanine provides instead is a succession of parties and relationships and panopticons where the walls won’t stop closing in.The lyrics establish this atmosphere all on their own. Sex, in “Inertia Creeps,” is reduced to a meeting of “two undernourished egos, four rotating hips,” the focus of a failing relationship that's left its participants too numbed with their own routine dishonesty to break it off. The voice singing it—Massive Attack's cornerstone co-writer/producer Robert “3D” Del Naja—is raspy from exhaustion. “Dissolved Girl” reiterates this\\xa0theme from\\xa0the perspective of guest vocalist Sarah Jay Hawley (“Passion’s overrated anyway”). On “Risingson,” Grant “Daddy G” Marshall nails the boredom and anxiety of being stuck somewhere you\\xa0can’t stand with someone you’re\\xa0starting to feel the same way about (“Why you want to take me to this party and breathe/I’m dying to leave/Every time we grind you know we severed lines”). But Mezzanine’s defining moments come from guest vocalists who were famous long before Massive Attack even released their first album. Horace Andy\\xa0was already a legend in reggae circles, but his collaborations with Massive Attack gave him a wider crossover exposure, and all three of his appearances on Mezzanine are homages or nods to songs he'd charted with in his early-’70s come-up. “Angel” is a loose rewrite of his 1973 single “You Are My Angel,” but it’s a fakeout after the first verse—originally a vision of beauty (“Come from way above/To bring me love”), transformed into an Old Testament avenger: “On the dark side/Neutralize every man in sight.” The parenthetically titled, album-closing reprise of “(Exchange)” is a ghostly invocation of Andy’s “See A Man's Face” cleverly disguised as a comedown track. And then there’s “Man Next Door,” the John Holt standard that Andy had\\xa0previously recorded as “Quiet Place”—on Mezzanine, it sounds less like an overheard argument from the next apartment over and more like a close-quarters reckoning with violence heard through thin walls ready to break. It’s Andy at his emotionally nuanced and evocative best.The other outside vocalist was even more of a coup: Liz Fraser, the singer and songwriter of Cocteau Twins, lends her virtuoso soprano to three songs that feel like exorcisms of\\xa0the personal strife accompanying her band’s\\xa0breakup. Her\\xa0voice serves as an ethereal counterpoint to speaker-rattling production around it. “Black Milk” contains the album’s most spiritually unnerving words (“Eat me/In the space/Within my heart/Love you for God/Love you for the Mother”), even as her lead\\xa0and the elegiac beat make for some of its most beautiful sounds. She provides\\xa0the wistful counterpoint to the night-shift alienation of “Group Four.” And then there's “Teardrop,” her finest moment on the album. Legend has it the song was briefly considered for Madonna; Andrew “Mushroom” Vowles sent the demo to her, but was overruled by Daddy G and 3D, who both wanted Fraser. Democracy thankfully worked this time around, as Fraser’s performance—recorded in part on the day she discovered that Jeff Buckley, who she’d had an estranged working relationship and friendship with, had drowned in Memphis’ Wolf River—was a heart-rending performance that gave Massive Attack their first (and so far only) UK Top 10 hit.Originally set for a late ’97 release, Mezzanine got pushed back four months because Del Naja refused to stop reworking the tracks, tearing them apart and rebuilding them until they’re so polished they gleam. It sure sounds like the product of bloody-knuckled labor, all that empty-space reverb and melted-together multitrack vocals and oppressive low-end. (The first sound you hear on the album, that lead-jointed bassline on “Angel,” is to subwoofers what “Planet Earth”\\xa0is to high-def television.) But it also groans with the burden of creative conflict, a working process that created rifts between Del Naja and Vowles, who left shortly after Mezzanine dropped following nearly 15 years of collaboration.Mezzanine began the band’s relationship with producer Neil Davidge, who’d known Vowles dating back to the early ’90s and met the rest of the band after the completion of Protection. He picked a chaotic time to jump in, but Davidge and 3D forged a creative bond working through that pressure.\\xa0Mezzanine was a document of unity, not fragmentation. Despite their rifts, they were a\\xa0post-genre outfit, one that couldn’t separate dub from punk from hip-hop from R&B because the basslines all worked together and because classifications are for toe tags. All their\\xa0acknowledged samples—including the joy-buzzer synths from Ultravox’s “Rockwrok” (“Inertia Creeps”), the opulent ache of Isaac Hayes’ celestial-soul take on “Our Day Will Come” (“Exchange”), Robert Smith’s nervous “tick tick tick” from the Cure’s “10:15 Saturday Night,” and the most concrete-crumbling throwdown of the Led Zep “Levee” break ever deployed (the latter two on “Man Next Door”)—were sourced from \\xa01968 and 1978, well-traveled crate-digging territory. But what they build from that is its own beast.\\xa0\\xa0Their\\xa0working method never got any faster. The four-year gap between Protection\\xa0and Mezzanine became a five-year gap until 2003’s 100th Window, then another seven years between that record and 2010’s Heligoland, plus another seven years and counting with no full-lengths to show for it. Not that they've been slacking: we've gotten a multimedia film/music collaboration with Adam Curtis, the respectable but underrated\\xa0Ritual Spirit EP, and Del Naja’s notoriously rumored side gig as Banksy. (Hey, 3D does have a background in graffiti art.) But the ordeal of both recording and touring Mezzanine took its own toll. A late ’98 interview with Del Naja saw him optimistic about its reputation-shedding style: “I always said it was for the greater good of the fucking project because if this album was a bit different from the last two, the next one would be even freer to be whatever it wants to be.” But fatigue and restlessness rarely make for a productive mixture, and that same spark of tension which carried Mezzanine over the threshold proved unsustainable, not just for Massive Attack’s creativity but their continued existence.Still, it’s hard not to feel the album’s legacy resonating elsewhere—and not just in “Teardrop” becoming the cue for millions of TV viewers to brace themselves for Hugh Laurie’s cranky-genius-doctor schtick.\\xa0Graft its tense feelings of nervy isolation and late-night melancholy onto two-step, and you’re partway to the blueprint for Plastician and Burial. You can hear flashes of that mournful romantic alienation in James Blake, the graceful, bass-riddled emotional abrasion in FKA twigs, the all-absorbing post-genre rock/soul ambitions in Young Fathers or Algiers. Mezzanine stands as an album built around echoes of the ’70s, wrestled through the immediacy of its creators' tumultuous late ’90s, and fearless enough that it still sounds like it belongs in whatever timeframe you're playing it.\""
      ]
     },
     "execution_count": 90,
     "metadata": {},
     "output_type": "execute_result"
    }
   ],
   "source": [
    "texts[0]"
   ]
  },
  {
   "cell_type": "code",
   "execution_count": 91,
   "metadata": {},
   "outputs": [],
   "source": [
    "import keras\n",
    "from keras.preprocessing.text import Tokenizer\n",
    "from keras.preprocessing.sequence import pad_sequences"
   ]
  },
  {
   "cell_type": "code",
   "execution_count": 104,
   "metadata": {},
   "outputs": [
    {
     "name": "stdout",
     "output_type": "stream",
     "text": [
      "Shape of data tensor: (18391, 1000)\n",
      "Shape of label tensor: (18391, 3)\n",
      "4999\n"
     ]
    }
   ],
   "source": [
    "NUM_WORDS = 5000\n",
    "MAX_ART_LEN = 1000\n",
    "\n",
    "tkn = Tokenizer(num_words=NUM_WORDS)\n",
    "tkn.fit_on_texts(texts)\n",
    "\n",
    "sequences = tkn.texts_to_sequences(texts)\n",
    "X = pad_sequences(sequences, maxlen=MAX_ART_LEN)\n",
    "\n",
    "y = np.asanyarray(df.target)\n",
    "y_ohe = keras.utils.to_categorical(y)\n",
    "print('Shape of data tensor:', X.shape)\n",
    "print('Shape of label tensor:', y_ohe.shape)\n",
    "print(np.max(X))"
   ]
  },
  {
   "cell_type": "markdown",
   "metadata": {},
   "source": [
    "## RNN stuff\n"
   ]
  },
  {
   "cell_type": "code",
   "execution_count": null,
   "metadata": {
    "collapsed": true
   },
   "outputs": [],
   "source": [
    "from keras.models import Sequential, Input, Model\n",
    "from keras.layers import Dense\n",
    "from keras.layers import LSTM, GRU, SimpleRNN\n",
    "from keras.layers.embeddings import Embedding\n",
    "\n",
    "EMBED_SIZE = 50\n",
    "rnns = []\n",
    "input_holder = Input(shape=(X_train.shape[1], ))\n",
    "shared_embed = Embedding(top_words, \n",
    "                EMBED_SIZE, \n",
    "                input_length=max_review_length)(input_holder)\n",
    "\n",
    "x = LSTM(50,dropout=0.2, recurrent_dropout=0.2)(shared_embed)\n",
    "x = Dense(NUM_CLASSES, activation='sigmoid')(x)\n",
    "rnn=Model(inputs=input_holder,outputs=x)\n",
    "rnn.compile(loss='binary_crossentropy', \n",
    "              optimizer='rmsprop', \n",
    "              metrics=['accuracy'])\n",
    "print(rnn.summary())\n"
   ]
  }
 ],
 "metadata": {
  "kernelspec": {
   "display_name": "Python [conda env:mlenv]",
   "language": "python",
   "name": "conda-env-mlenv-py"
  },
  "language_info": {
   "codemirror_mode": {
    "name": "ipython",
    "version": 3
   },
   "file_extension": ".py",
   "mimetype": "text/x-python",
   "name": "python",
   "nbconvert_exporter": "python",
   "pygments_lexer": "ipython3",
   "version": "3.6.3"
  }
 },
 "nbformat": 4,
 "nbformat_minor": 2
}
