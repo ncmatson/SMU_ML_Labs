{
 "cells": [
  {
   "cell_type": "markdown",
   "metadata": {},
   "source": [
    "# Lab 8\n",
    "Cameron Matson\n",
    "\n",
    "Zihao Mao\n",
    "\n",
    "Yichen Duan"
   ]
  },
  {
   "cell_type": "markdown",
   "metadata": {},
   "source": [
    "## Sentiment Analysis on Music Reviews\n",
    "\n",
    "Our data set consists of every review from pitchfork.com since 1999, a total of 18,393 reviews of muisc albums.  Accompanied with the full lenght review, each album is rated on a scale from 0 to 10, 10 being the highest.  What we'd like to do is use a recurrent neural network to predict, from the text of the review itself, whether the reviewer gave the album a high score (7-10), a neutral score (4-7), or a low score (0-3).\n",
    "\n",
    "One of the most common uses of sentiment analysis is to classify social media posts.  This type of information can then be used by marketing professionals as a sort of consumer survey.  This could potentially be used by music labels as well.  A music label might collect tweets, or facebook posts, or even articles on the web that mention an album that they recently released.  Then they could use our model (trained on the pitchfork reviews) to classify whether there is a consesus (or not) on how the album was recieved.\n",
    "\n",
    "In terms of metrics, since the business case is essentially to replace human observers of the data, and we probably won't have someone observing the output at the end (because then whats the point) accuracy is probably the best metric to use when evaluating our performance."
   ]
  },
  {
   "cell_type": "markdown",
   "metadata": {},
   "source": [
    "## Data prep\n",
    "\n",
    "The data is stored in two separate `csv` files, one that has the reviews in it, and one that has a bunch of meta data, including the score, in a different one."
   ]
  },
  {
   "cell_type": "code",
   "execution_count": 1,
   "metadata": {},
   "outputs": [
    {
     "name": "stdout",
     "output_type": "stream",
     "text": [
      "number of reviews: 18393\n",
      "<class 'pandas.core.frame.DataFrame'>\n",
      "RangeIndex: 18393 entries, 0 to 18392\n",
      "Data columns (total 2 columns):\n",
      "reviewid    18393 non-null int64\n",
      "content     18383 non-null object\n",
      "dtypes: int64(1), object(1)\n",
      "memory usage: 287.5+ KB\n"
     ]
    },
    {
     "data": {
      "text/html": [
       "<div>\n",
       "<style scoped>\n",
       "    .dataframe tbody tr th:only-of-type {\n",
       "        vertical-align: middle;\n",
       "    }\n",
       "\n",
       "    .dataframe tbody tr th {\n",
       "        vertical-align: top;\n",
       "    }\n",
       "\n",
       "    .dataframe thead th {\n",
       "        text-align: right;\n",
       "    }\n",
       "</style>\n",
       "<table border=\"1\" class=\"dataframe\">\n",
       "  <thead>\n",
       "    <tr style=\"text-align: right;\">\n",
       "      <th></th>\n",
       "      <th>reviewid</th>\n",
       "      <th>content</th>\n",
       "    </tr>\n",
       "  </thead>\n",
       "  <tbody>\n",
       "    <tr>\n",
       "      <th>0</th>\n",
       "      <td>22703</td>\n",
       "      <td>“Trip-hop” eventually became a ’90s punchline,...</td>\n",
       "    </tr>\n",
       "    <tr>\n",
       "      <th>1</th>\n",
       "      <td>22721</td>\n",
       "      <td>Eight years, five albums, and two EPs in, the ...</td>\n",
       "    </tr>\n",
       "    <tr>\n",
       "      <th>2</th>\n",
       "      <td>22659</td>\n",
       "      <td>Minneapolis’ Uranium Club seem to revel in bei...</td>\n",
       "    </tr>\n",
       "    <tr>\n",
       "      <th>3</th>\n",
       "      <td>22661</td>\n",
       "      <td>Kleenex began with a crash. It transpired one ...</td>\n",
       "    </tr>\n",
       "    <tr>\n",
       "      <th>4</th>\n",
       "      <td>22725</td>\n",
       "      <td>It is impossible to consider a given release b...</td>\n",
       "    </tr>\n",
       "  </tbody>\n",
       "</table>\n",
       "</div>"
      ],
      "text/plain": [
       "   reviewid                                            content\n",
       "0     22703  “Trip-hop” eventually became a ’90s punchline,...\n",
       "1     22721  Eight years, five albums, and two EPs in, the ...\n",
       "2     22659  Minneapolis’ Uranium Club seem to revel in bei...\n",
       "3     22661  Kleenex began with a crash. It transpired one ...\n",
       "4     22725  It is impossible to consider a given release b..."
      ]
     },
     "execution_count": 1,
     "metadata": {},
     "output_type": "execute_result"
    }
   ],
   "source": [
    "import pandas as pd\n",
    "import numpy as np\n",
    "\n",
    "reviews = pd.read_csv('../data/reviews.csv', encoding='utf-8')\n",
    "print('number of reviews:',len(reviews))\n",
    "reviews.info()\n",
    "reviews.head()"
   ]
  },
  {
   "cell_type": "code",
   "execution_count": 2,
   "metadata": {},
   "outputs": [
    {
     "name": "stdout",
     "output_type": "stream",
     "text": [
      "<class 'pandas.core.frame.DataFrame'>\n",
      "RangeIndex: 18393 entries, 0 to 18392\n",
      "Data columns (total 13 columns):\n",
      "reviewid          18393 non-null int64\n",
      "title             18391 non-null object\n",
      "artist            18391 non-null object\n",
      "url               18393 non-null object\n",
      "score             18393 non-null float64\n",
      "best_new_music    18393 non-null int64\n",
      "author            18393 non-null object\n",
      "author_type       14487 non-null object\n",
      "pub_date          18393 non-null object\n",
      "pub_weekday       18393 non-null int64\n",
      "pub_day           18393 non-null int64\n",
      "pub_month         18393 non-null int64\n",
      "pub_year          18393 non-null int64\n",
      "dtypes: float64(1), int64(6), object(6)\n",
      "memory usage: 1.8+ MB\n"
     ]
    },
    {
     "data": {
      "text/html": [
       "<div>\n",
       "<style scoped>\n",
       "    .dataframe tbody tr th:only-of-type {\n",
       "        vertical-align: middle;\n",
       "    }\n",
       "\n",
       "    .dataframe tbody tr th {\n",
       "        vertical-align: top;\n",
       "    }\n",
       "\n",
       "    .dataframe thead th {\n",
       "        text-align: right;\n",
       "    }\n",
       "</style>\n",
       "<table border=\"1\" class=\"dataframe\">\n",
       "  <thead>\n",
       "    <tr style=\"text-align: right;\">\n",
       "      <th></th>\n",
       "      <th>reviewid</th>\n",
       "      <th>title</th>\n",
       "      <th>artist</th>\n",
       "      <th>url</th>\n",
       "      <th>score</th>\n",
       "      <th>best_new_music</th>\n",
       "      <th>author</th>\n",
       "      <th>author_type</th>\n",
       "      <th>pub_date</th>\n",
       "      <th>pub_weekday</th>\n",
       "      <th>pub_day</th>\n",
       "      <th>pub_month</th>\n",
       "      <th>pub_year</th>\n",
       "    </tr>\n",
       "  </thead>\n",
       "  <tbody>\n",
       "    <tr>\n",
       "      <th>0</th>\n",
       "      <td>22703</td>\n",
       "      <td>mezzanine</td>\n",
       "      <td>massive attack</td>\n",
       "      <td>http://pitchfork.com/reviews/albums/22703-mezz...</td>\n",
       "      <td>9.3</td>\n",
       "      <td>0</td>\n",
       "      <td>nate patrin</td>\n",
       "      <td>contributor</td>\n",
       "      <td>2017-01-08</td>\n",
       "      <td>6</td>\n",
       "      <td>8</td>\n",
       "      <td>1</td>\n",
       "      <td>2017</td>\n",
       "    </tr>\n",
       "    <tr>\n",
       "      <th>1</th>\n",
       "      <td>22721</td>\n",
       "      <td>prelapsarian</td>\n",
       "      <td>krallice</td>\n",
       "      <td>http://pitchfork.com/reviews/albums/22721-prel...</td>\n",
       "      <td>7.9</td>\n",
       "      <td>0</td>\n",
       "      <td>zoe camp</td>\n",
       "      <td>contributor</td>\n",
       "      <td>2017-01-07</td>\n",
       "      <td>5</td>\n",
       "      <td>7</td>\n",
       "      <td>1</td>\n",
       "      <td>2017</td>\n",
       "    </tr>\n",
       "    <tr>\n",
       "      <th>2</th>\n",
       "      <td>22659</td>\n",
       "      <td>all of them naturals</td>\n",
       "      <td>uranium club</td>\n",
       "      <td>http://pitchfork.com/reviews/albums/22659-all-...</td>\n",
       "      <td>7.3</td>\n",
       "      <td>0</td>\n",
       "      <td>david glickman</td>\n",
       "      <td>contributor</td>\n",
       "      <td>2017-01-07</td>\n",
       "      <td>5</td>\n",
       "      <td>7</td>\n",
       "      <td>1</td>\n",
       "      <td>2017</td>\n",
       "    </tr>\n",
       "    <tr>\n",
       "      <th>3</th>\n",
       "      <td>22661</td>\n",
       "      <td>first songs</td>\n",
       "      <td>kleenex, liliput</td>\n",
       "      <td>http://pitchfork.com/reviews/albums/22661-firs...</td>\n",
       "      <td>9.0</td>\n",
       "      <td>1</td>\n",
       "      <td>jenn pelly</td>\n",
       "      <td>associate reviews editor</td>\n",
       "      <td>2017-01-06</td>\n",
       "      <td>4</td>\n",
       "      <td>6</td>\n",
       "      <td>1</td>\n",
       "      <td>2017</td>\n",
       "    </tr>\n",
       "    <tr>\n",
       "      <th>4</th>\n",
       "      <td>22725</td>\n",
       "      <td>new start</td>\n",
       "      <td>taso</td>\n",
       "      <td>http://pitchfork.com/reviews/albums/22725-new-...</td>\n",
       "      <td>8.1</td>\n",
       "      <td>0</td>\n",
       "      <td>kevin lozano</td>\n",
       "      <td>tracks coordinator</td>\n",
       "      <td>2017-01-06</td>\n",
       "      <td>4</td>\n",
       "      <td>6</td>\n",
       "      <td>1</td>\n",
       "      <td>2017</td>\n",
       "    </tr>\n",
       "  </tbody>\n",
       "</table>\n",
       "</div>"
      ],
      "text/plain": [
       "   reviewid                 title            artist  \\\n",
       "0     22703             mezzanine    massive attack   \n",
       "1     22721          prelapsarian          krallice   \n",
       "2     22659  all of them naturals      uranium club   \n",
       "3     22661           first songs  kleenex, liliput   \n",
       "4     22725             new start              taso   \n",
       "\n",
       "                                                 url  score  best_new_music  \\\n",
       "0  http://pitchfork.com/reviews/albums/22703-mezz...    9.3               0   \n",
       "1  http://pitchfork.com/reviews/albums/22721-prel...    7.9               0   \n",
       "2  http://pitchfork.com/reviews/albums/22659-all-...    7.3               0   \n",
       "3  http://pitchfork.com/reviews/albums/22661-firs...    9.0               1   \n",
       "4  http://pitchfork.com/reviews/albums/22725-new-...    8.1               0   \n",
       "\n",
       "           author               author_type    pub_date  pub_weekday  pub_day  \\\n",
       "0     nate patrin               contributor  2017-01-08            6        8   \n",
       "1        zoe camp               contributor  2017-01-07            5        7   \n",
       "2  david glickman               contributor  2017-01-07            5        7   \n",
       "3      jenn pelly  associate reviews editor  2017-01-06            4        6   \n",
       "4    kevin lozano        tracks coordinator  2017-01-06            4        6   \n",
       "\n",
       "   pub_month  pub_year  \n",
       "0          1      2017  \n",
       "1          1      2017  \n",
       "2          1      2017  \n",
       "3          1      2017  \n",
       "4          1      2017  "
      ]
     },
     "execution_count": 2,
     "metadata": {},
     "output_type": "execute_result"
    }
   ],
   "source": [
    "meta = pd.read_csv('../data/meta.csv')\n",
    "meta.info()\n",
    "meta.head()"
   ]
  },
  {
   "cell_type": "code",
   "execution_count": 3,
   "metadata": {},
   "outputs": [
    {
     "name": "stdout",
     "output_type": "stream",
     "text": [
      "<class 'pandas.core.frame.DataFrame'>\n",
      "RangeIndex: 18393 entries, 0 to 18392\n",
      "Data columns (total 2 columns):\n",
      "reviewid    18393 non-null int64\n",
      "score       18393 non-null float64\n",
      "dtypes: float64(1), int64(1)\n",
      "memory usage: 287.5 KB\n"
     ]
    },
    {
     "data": {
      "text/html": [
       "<div>\n",
       "<style scoped>\n",
       "    .dataframe tbody tr th:only-of-type {\n",
       "        vertical-align: middle;\n",
       "    }\n",
       "\n",
       "    .dataframe tbody tr th {\n",
       "        vertical-align: top;\n",
       "    }\n",
       "\n",
       "    .dataframe thead th {\n",
       "        text-align: right;\n",
       "    }\n",
       "</style>\n",
       "<table border=\"1\" class=\"dataframe\">\n",
       "  <thead>\n",
       "    <tr style=\"text-align: right;\">\n",
       "      <th></th>\n",
       "      <th>reviewid</th>\n",
       "      <th>score</th>\n",
       "    </tr>\n",
       "  </thead>\n",
       "  <tbody>\n",
       "    <tr>\n",
       "      <th>0</th>\n",
       "      <td>22703</td>\n",
       "      <td>9.3</td>\n",
       "    </tr>\n",
       "    <tr>\n",
       "      <th>1</th>\n",
       "      <td>22721</td>\n",
       "      <td>7.9</td>\n",
       "    </tr>\n",
       "    <tr>\n",
       "      <th>2</th>\n",
       "      <td>22659</td>\n",
       "      <td>7.3</td>\n",
       "    </tr>\n",
       "    <tr>\n",
       "      <th>3</th>\n",
       "      <td>22661</td>\n",
       "      <td>9.0</td>\n",
       "    </tr>\n",
       "    <tr>\n",
       "      <th>4</th>\n",
       "      <td>22725</td>\n",
       "      <td>8.1</td>\n",
       "    </tr>\n",
       "  </tbody>\n",
       "</table>\n",
       "</div>"
      ],
      "text/plain": [
       "   reviewid  score\n",
       "0     22703    9.3\n",
       "1     22721    7.9\n",
       "2     22659    7.3\n",
       "3     22661    9.0\n",
       "4     22725    8.1"
      ]
     },
     "execution_count": 3,
     "metadata": {},
     "output_type": "execute_result"
    }
   ],
   "source": [
    "meta.drop(['title','artist', 'url', 'author', 'author_type', 'best_new_music', 'pub_date', 'pub_weekday', 'pub_day', 'pub_month', 'pub_year'], axis=1, inplace=True)\n",
    "meta.info()\n",
    "meta.head()"
   ]
  },
  {
   "cell_type": "code",
   "execution_count": 4,
   "metadata": {},
   "outputs": [
    {
     "name": "stdout",
     "output_type": "stream",
     "text": [
      "<class 'pandas.core.frame.DataFrame'>\n",
      "Int64Index: 18391 entries, 0 to 18400\n",
      "Data columns (total 2 columns):\n",
      "content    18391 non-null object\n",
      "score      18391 non-null float64\n",
      "dtypes: float64(1), object(1)\n",
      "memory usage: 431.0+ KB\n"
     ]
    },
    {
     "data": {
      "text/html": [
       "<div>\n",
       "<style scoped>\n",
       "    .dataframe tbody tr th:only-of-type {\n",
       "        vertical-align: middle;\n",
       "    }\n",
       "\n",
       "    .dataframe tbody tr th {\n",
       "        vertical-align: top;\n",
       "    }\n",
       "\n",
       "    .dataframe thead th {\n",
       "        text-align: right;\n",
       "    }\n",
       "</style>\n",
       "<table border=\"1\" class=\"dataframe\">\n",
       "  <thead>\n",
       "    <tr style=\"text-align: right;\">\n",
       "      <th></th>\n",
       "      <th>content</th>\n",
       "      <th>score</th>\n",
       "    </tr>\n",
       "  </thead>\n",
       "  <tbody>\n",
       "    <tr>\n",
       "      <th>0</th>\n",
       "      <td>“Trip-hop” eventually became a ’90s punchline,...</td>\n",
       "      <td>9.3</td>\n",
       "    </tr>\n",
       "    <tr>\n",
       "      <th>1</th>\n",
       "      <td>Eight years, five albums, and two EPs in, the ...</td>\n",
       "      <td>7.9</td>\n",
       "    </tr>\n",
       "    <tr>\n",
       "      <th>2</th>\n",
       "      <td>Minneapolis’ Uranium Club seem to revel in bei...</td>\n",
       "      <td>7.3</td>\n",
       "    </tr>\n",
       "    <tr>\n",
       "      <th>3</th>\n",
       "      <td>Kleenex began with a crash. It transpired one ...</td>\n",
       "      <td>9.0</td>\n",
       "    </tr>\n",
       "    <tr>\n",
       "      <th>4</th>\n",
       "      <td>It is impossible to consider a given release b...</td>\n",
       "      <td>8.1</td>\n",
       "    </tr>\n",
       "  </tbody>\n",
       "</table>\n",
       "</div>"
      ],
      "text/plain": [
       "                                             content  score\n",
       "0  “Trip-hop” eventually became a ’90s punchline,...    9.3\n",
       "1  Eight years, five albums, and two EPs in, the ...    7.9\n",
       "2  Minneapolis’ Uranium Club seem to revel in bei...    7.3\n",
       "3  Kleenex began with a crash. It transpired one ...    9.0\n",
       "4  It is impossible to consider a given release b...    8.1"
      ]
     },
     "execution_count": 4,
     "metadata": {},
     "output_type": "execute_result"
    }
   ],
   "source": [
    "df = pd.merge(reviews, meta, on='reviewid')\n",
    "df.drop('reviewid', axis=1, inplace=True)\n",
    "df.dropna(inplace=True)\n",
    "df.info()\n",
    "df.head()"
   ]
  },
  {
   "cell_type": "markdown",
   "metadata": {},
   "source": [
    "Finally lets group the score column so that we have a categorical target variable.  And then take a look at the distribution of the classes we set up."
   ]
  },
  {
   "cell_type": "code",
   "execution_count": 5,
   "metadata": {},
   "outputs": [
    {
     "data": {
      "image/png": "[encoded data removed]",
      "text/plain": [
       "<matplotlib.figure.Figure at 0x2d8ce467fd0>"
      ]
     },
     "metadata": {},
     "output_type": "display_data"
    }
   ],
   "source": [
    "import matplotlib.pyplot as plt\n",
    "\n",
    "NUM_CLASSES = 2\n",
    "THRESH = 7\n",
    "labels = np.arange(NUM_CLASSES)\n",
    "df['target'] = pd.cut(df.score, [-1, 7.0, 10.0], labels=labels)\n",
    "#df['target'] = pd.cut(df.score, NUM_CLASSES, labels=labels)\n",
    "df.head()\n",
    "\n",
    "plt.hist(df.target, bins=NUM_CLASSES)\n",
    "plt.xticks(labels)\n",
    "plt.yticks()\n",
    "plt.show()"
   ]
  },
  {
   "cell_type": "markdown",
   "metadata": {},
   "source": [
    "What we've decided to do here is make it a binary classification problem, but to set the threshold at a review score of 7.  This is because most albums get pretty favorable reviews.  You can see this in the distribution, as even when the top bin accounts for more than half of all reviews.  When we do our cross-validation we'll use stratified splits so it shouldn't be that important, but we'll cover it anyway."
   ]
  },
  {
   "cell_type": "code",
   "execution_count": 6,
   "metadata": {
    "collapsed": true
   },
   "outputs": [],
   "source": [
    "#finally lets reduce the number of articles we're working with\n",
    "NUM_SAMPLES = 5000\n",
    "df = df.sample(n=NUM_SAMPLES, random_state=42)"
   ]
  },
  {
   "cell_type": "code",
   "execution_count": 7,
   "metadata": {},
   "outputs": [
    {
     "data": {
      "text/plain": [
       "'The Waco Brothers should be awful. There shouldn\\'t be any way possible on\\n    God\\'s green earth that a British art-punk with anarchosyndicalist leanings\\n    could put together a band that includes an acknowledged ex-member of KMFDM\\n    on pedal steel guitar and make credible-sounding circa-1960 roots country.\\n    Worse, this lot of expats do it a lot better than most Americans of the same\\n    ilk.\\n    \\n    Admit it. It rankles a little bit when someone from exotic climes with his or\\n    her own cultural legacy waiting to be exploited comes along and exploits ours\\n    better than we do. By all rights, Jon Langford\\'s roots project ought to be a\\n    collection of rockin\\' madrigals and ballads about flowers. We\\'ve got a brace\\n    of alt-country upstarts who can defame our glorious traditions just fine,\\n    thanks. Where does this pack of goofy bastards get off thinking they can\\n    one-up our national heritage?\\n    \\n    But they do, damn it. Jon Langford has always utilized his extracurricular\\n    time with the Wacos to exorcise the C&W; demons that have lurked in his work\\n    with the Mekons since the 1980s. Where great Mekons albums integrate a vaguely\\n    folkish, space cowboy vibe, the Waco Brothers sound like real-deal ten-gallon\\n    hatters with a grouchy streak and a subscription to The Nation. There\\n    are no body-positive-feminist allegories about pirates to be found here. Sure,\\n    there\\'s a William Blake nod on occasion, but mostly, Langford and\\n    co-singer/songwriter Dean Schlabowske invoke the spirit of the common man,\\n    crank up the hollow-body guitars and rock their wary ways.\\n    \\n    Hoping for artistic growth is completely off the subject when talking about\\n    the Waco Brothers. After all, the band\\'s an acknowledged nostalgia act. All\\n    the same, despite its bellicose title, Electric Waco Chair finds our\\n    boys in a relatively contemplative mood: the songs center generally on getting\\n    older; the tempos aren\\'t nearly as frantic as they\\'ve been in the past; and\\n    the jokes here are at least a little bit subtler. The Wacos still want to be\\n    the party band in the honky-tonk at the end of the world, but they\\'ve come to\\n    realize they need a couple slow jams for couples to dance to.\\nChair, eager to please as other Waco offerings, includes a brace of\\n    crowdpleasers. The air of scabrousness that hovers over most Mekons projects\\n    isn\\'t anywhere to be found here, replaced instead with a rummy goodheartedness\\n    in short supply among independent-label socialists these days. Langford seems\\n    unnecessarily into channeling Billy Bragg at times-- particularly on the\\n    egregious \"Walking on Hell\\'s Roof Looking at the Flowers\"-- and some of the\\n    arrangements are a little shticky, like when the Brothers attempt a\\n    Spanish-flavored feel on \"Cornered.\"  But nit-picking individual moments here\\n    is pointless spoil-sportsmanship. It\\'s like going to a great rent party and\\n    complaining that the beer sucks.\\n    \\n    The Waco Brothers aren\\'t about flawless, detailed songcraft. They\\'re about\\n    lager-soaked good times with just enough anxiety and doubt to make the trip\\n    worth taking.  And, in that respect, Electric Waco Chair never\\n    disappoints. Though these fellas don\\'t take the country idiom as seriously as\\n    your favorite American punk-countryist might, they sure have a great time\\n    doing their work.\\n    \\n    If anything, their irreverence toward country music is what separates the\\n    Waco Brothers from the herd. Where American revivalists are frustratingly\\n    serious about their music, treating country like holy writ, the Waco Brothers\\n    don\\'t have the same stake in it. Because it\\'s not their history, they can\\n    treat it as a contemporary event and return it to the go-for-broke fun spirit\\n    behind all that worship old-time tunage gets subjected to. Besides, who wants\\n    to listen to madrigals all day, anyhow?'"
      ]
     },
     "execution_count": 7,
     "metadata": {},
     "output_type": "execute_result"
    }
   ],
   "source": [
    "# this is an array of the reviews\n",
    "texts = df.content.values\n",
    "texts[0]"
   ]
  },
  {
   "cell_type": "markdown",
   "metadata": {},
   "source": [
    "Now we'll use Keras's tokenizer module and pad_sequences to convert the texts into integer sequences of all the same length which makes the computation much easier and quicker"
   ]
  },
  {
   "cell_type": "code",
   "execution_count": 8,
   "metadata": {},
   "outputs": [
    {
     "name": "stderr",
     "output_type": "stream",
     "text": [
      "Using TensorFlow backend.\n"
     ]
    }
   ],
   "source": [
    "import keras\n",
    "from keras.preprocessing.text import Tokenizer\n",
    "from keras.preprocessing.sequence import pad_sequences"
   ]
  },
  {
   "cell_type": "code",
   "execution_count": 9,
   "metadata": {},
   "outputs": [
    {
     "name": "stdout",
     "output_type": "stream",
     "text": [
      "Shape of data tensor: (5000, 500)\n",
      "Shape of label tensor: (5000, 2)\n",
      "999\n"
     ]
    }
   ],
   "source": [
    "NUM_WORDS = 1000\n",
    "MAX_ART_LEN = 500\n",
    "\n",
    "tkn = Tokenizer(num_words=NUM_WORDS)\n",
    "tkn.fit_on_texts(texts)\n",
    "\n",
    "sequences = tkn.texts_to_sequences(texts)\n",
    "X = pad_sequences(sequences, maxlen=MAX_ART_LEN)\n",
    "\n",
    "y = np.asanyarray(df.target)\n",
    "y_ohe = keras.utils.to_categorical(y)\n",
    "print('Shape of data tensor:', X.shape)\n",
    "print('Shape of label tensor:', y_ohe.shape)\n",
    "print(np.max(X))"
   ]
  },
  {
   "cell_type": "markdown",
   "metadata": {},
   "source": [
    "## RNN stuff\n",
    "\n",
    "Okay now our data is ready to use for in the rnn.\n",
    "\n",
    "We'll design two networks one using a LSTM cell and one using a GRU.  For each of them we'll try a few different hyper parameters first on each of them to see if we can find the best architecture.  After that we'll do a cross validation loop of five iterations on an 80/20 train/test split to evaluate the general performance\n",
    "\n",
    "The parameters we'll investigate are dropout/recurrent_dropout (we'll move these together as one variable) and the output dimension of the RNN cell.\n",
    "\n",
    "Both the LSTM and GRU architectures will have the same overall structure\n",
    "- embedding (which will be shared between the two architectures)\n",
    "- the rnn cell\n",
    "- 2 dense layers (one with a hidden number of neurons and the final with the number of classes)"
   ]
  },
  {
   "cell_type": "markdown",
   "metadata": {},
   "source": [
    "### Hyper parameter tuning"
   ]
  },
  {
   "cell_type": "code",
   "execution_count": 15,
   "metadata": {
    "collapsed": true
   },
   "outputs": [],
   "source": [
    "# hyper parameters\n",
    "#dropout_rates = [0.0, 0.2, 0.6]\n",
    "#latent_dims = [20, 30, 50]\n",
    "\n",
    "dropout_rates = [0.2]\n",
    "latent_dims = [50]"
   ]
  },
  {
   "cell_type": "code",
   "execution_count": 21,
   "metadata": {
    "scrolled": true
   },
   "outputs": [],
   "source": [
    "from keras.models import Sequential, Input, Model\n",
    "from keras.layers import Dense, Flatten\n",
    "from keras.layers import LSTM, GRU, SimpleRNN\n",
    "from keras.layers.embeddings import Embedding\n",
    "\n",
    "EMBED_SIZE = 50\n",
    "\n",
    "#archs = ['LSTM', 'GRU']\n",
    "archs = ['LSTM']\n",
    "\n",
    "dropout = dropout_rates[0]\n",
    "latent_dim = latent_dims[0]\n",
    "\n",
    "input_holder = Input(shape=(MAX_ART_LEN, ), name='in')\n",
    "shared_embed = Embedding(NUM_WORDS, \n",
    "                         EMBED_SIZE, \n",
    "                         input_length=MAX_ART_LEN, name='embed')(input_holder)\n",
    "\n",
    "            \n"
   ]
  },
  {
   "cell_type": "code",
   "execution_count": 22,
   "metadata": {},
   "outputs": [
    {
     "name": "stdout",
     "output_type": "stream",
     "text": [
      "****** LSTM : 0.2 , 50 ********\n",
      "_________________________________________________________________\n",
      "Layer (type)                 Output Shape              Param #   \n",
      "=================================================================\n",
      "in (InputLayer)              (None, 500)               0         \n",
      "_________________________________________________________________\n",
      "embed (Embedding)            (None, 500, 50)           50000     \n",
      "_________________________________________________________________\n",
      "LSTM (LSTM)                  (None, 50)                20200     \n",
      "_________________________________________________________________\n",
      "hidden (Dense)               (None, 50)                2550      \n",
      "_________________________________________________________________\n",
      "out (Dense)                  (None, 2)                 102       \n",
      "=================================================================\n",
      "Total params: 72,852\n",
      "Trainable params: 72,852\n",
      "Non-trainable params: 0\n",
      "_________________________________________________________________\n",
      "None\n"
     ]
    }
   ],
   "source": [
    "rnns = []\n",
    "for arch in archs:\n",
    "    for dropout in dropout_rates:\n",
    "        for latent_dim in latent_dims:\n",
    "            func = eval(arch)\n",
    "            rnn_cell = func(latent_dim, dropout=dropout, recurrent_dropout=dropout, name=arch)(shared_embed)\n",
    "            hidden = Dense(50, activation='relu', name='hidden')(rnn_cell)\n",
    "            out = Dense(NUM_CLASSES, activation='softmax', name='out')(hidden)\n",
    "\n",
    "            rnn=Model(inputs=input_holder, outputs=out)\n",
    "            rnn.compile(loss='binary_crossentropy', \n",
    "                          optimizer='rmsprop', \n",
    "                          metrics=['accuracy'])\n",
    "\n",
    "            print('******', arch, ':', dropout, ',', latent_dim, '********')\n",
    "            print(rnn.summary())\n",
    "            rnns.append((rnn, (arch, dropout, latent_dim)))\n"
   ]
  },
  {
   "cell_type": "code",
   "execution_count": 23,
   "metadata": {},
   "outputs": [
    {
     "data": {
      "text/plain": [
       "1"
      ]
     },
     "execution_count": 23,
     "metadata": {},
     "output_type": "execute_result"
    }
   ],
   "source": [
    "len(rnns)"
   ]
  },
  {
   "cell_type": "code",
   "execution_count": 24,
   "metadata": {
    "collapsed": true
   },
   "outputs": [],
   "source": [
    "from sklearn.model_selection import train_test_split, StratifiedShuffleSplit\n",
    "\n",
    "\n",
    "X_train, X_test, y_train, y_test = train_test_split(X, y_ohe, test_size=0.35, stratify=y_ohe)"
   ]
  },
  {
   "cell_type": "code",
   "execution_count": 25,
   "metadata": {
    "scrolled": true
   },
   "outputs": [
    {
     "name": "stdout",
     "output_type": "stream",
     "text": [
      "\n",
      "\n",
      "fitting  ('LSTM', 0.2, 50)\n",
      "Train on 3250 samples, validate on 1750 samples\n",
      "Epoch 1/3\n",
      "3250/3250 [==============================] - 33s 10ms/step - loss: 0.6824 - acc: 0.5735 - val_loss: 0.6843 - val_acc: 0.5491\n",
      "Epoch 2/3\n",
      "3250/3250 [==============================] - 29s 9ms/step - loss: 0.6581 - acc: 0.6046 - val_loss: 0.6660 - val_acc: 0.5874\n",
      "Epoch 3/3\n",
      "3250/3250 [==============================] - 30s 9ms/step - loss: 0.6014 - acc: 0.6895 - val_loss: 0.6585 - val_acc: 0.6251\n"
     ]
    }
   ],
   "source": [
    "import sklearn.metrics as mt\n",
    "\n",
    "accuracies = []\n",
    "\n",
    "for rnn in rnns:\n",
    "    print('\\n\\nfitting ', rnn[1])\n",
    "    rnn[0].fit(X_train, y_train, batch_size=100, epochs=3, validation_data=[X_test, y_test])\n",
    "    \n",
    "    yhat = np.round(rnn[0].predict(X_test))\n",
    "    acc = mt.accuracy_score(yhat, y_test)\n",
    "    accuracies.append((acc, rnn[1]))"
   ]
  },
  {
   "cell_type": "code",
   "execution_count": 26,
   "metadata": {},
   "outputs": [
    {
     "name": "stdout",
     "output_type": "stream",
     "text": [
      "LSTM_0.2_50.h5\n"
     ]
    },
    {
     "ename": "FileNotFoundError",
     "evalue": "[WinError 3] The system cannot find the path specified: './models/2017-12-0530'",
     "output_type": "error",
     "traceback": [
      "\u001b[1;31m---------------------------------------------------------------------------\u001b[0m",
      "\u001b[1;31mFileNotFoundError\u001b[0m                         Traceback (most recent call last)",
      "\u001b[1;32m<ipython-input-26-29c7fa8b93d5>\u001b[0m in \u001b[0;36m<module>\u001b[1;34m()\u001b[0m\n\u001b[0;32m      5\u001b[0m     \u001b[0mprint\u001b[0m\u001b[1;33m(\u001b[0m\u001b[0mname\u001b[0m\u001b[1;33m)\u001b[0m\u001b[1;33m\u001b[0m\u001b[0m\n\u001b[0;32m      6\u001b[0m     \u001b[0mpath_name\u001b[0m \u001b[1;33m=\u001b[0m \u001b[1;34m'./models/'\u001b[0m\u001b[1;33m+\u001b[0m\u001b[0mstr\u001b[0m\u001b[1;33m(\u001b[0m\u001b[0mdatetime\u001b[0m\u001b[1;33m.\u001b[0m\u001b[0mnow\u001b[0m\u001b[1;33m(\u001b[0m\u001b[1;33m)\u001b[0m\u001b[1;33m.\u001b[0m\u001b[0mdate\u001b[0m\u001b[1;33m(\u001b[0m\u001b[1;33m)\u001b[0m\u001b[1;33m)\u001b[0m\u001b[1;33m+\u001b[0m\u001b[0mstr\u001b[0m\u001b[1;33m(\u001b[0m\u001b[0mdatetime\u001b[0m\u001b[1;33m.\u001b[0m\u001b[0mnow\u001b[0m\u001b[1;33m(\u001b[0m\u001b[1;33m)\u001b[0m\u001b[1;33m.\u001b[0m\u001b[0msecond\u001b[0m\u001b[1;33m)\u001b[0m\u001b[1;33m\u001b[0m\u001b[0m\n\u001b[1;32m----> 7\u001b[1;33m     \u001b[0mos\u001b[0m\u001b[1;33m.\u001b[0m\u001b[0mmkdir\u001b[0m\u001b[1;33m(\u001b[0m\u001b[0mpath_name\u001b[0m\u001b[1;33m)\u001b[0m\u001b[1;33m\u001b[0m\u001b[0m\n\u001b[0m\u001b[0;32m      8\u001b[0m     \u001b[0mrnn\u001b[0m\u001b[1;33m[\u001b[0m\u001b[1;36m0\u001b[0m\u001b[1;33m]\u001b[0m\u001b[1;33m.\u001b[0m\u001b[0msave\u001b[0m\u001b[1;33m(\u001b[0m\u001b[0mpath_name\u001b[0m \u001b[1;33m+\u001b[0m \u001b[1;34m'/'\u001b[0m \u001b[1;33m+\u001b[0m \u001b[0mname\u001b[0m\u001b[1;33m)\u001b[0m\u001b[1;33m\u001b[0m\u001b[0m\n",
      "\u001b[1;31mFileNotFoundError\u001b[0m: [WinError 3] The system cannot find the path specified: './models/2017-12-0530'"
     ]
    }
   ],
   "source": [
    "from datetime import datetime\n",
    "import os\n",
    "for rnn in rnns:\n",
    "    name = rnn[1][0]+'_'+str(rnn[1][1])+'_'+str(rnn[1][2])+'.h5'\n",
    "    print(name)\n",
    "    path_name = './models/'+str(datetime.now().date())+str(datetime.now().second)\n",
    "    os.mkdir(path_name)\n",
    "    rnn[0].save(path_name + '/' + name)"
   ]
  },
  {
   "cell_type": "markdown",
   "metadata": {},
   "source": [
    "### \"You're the best. AROUND!\"\n",
    "\n",
    "Let's pick the best one (in terms of overall accuracy) and visualize how it did and how its perfromance might generalize."
   ]
  },
  {
   "cell_type": "code",
   "execution_count": 27,
   "metadata": {},
   "outputs": [
    {
     "name": "stdout",
     "output_type": "stream",
     "text": [
      "The best model we made was... ('LSTM', 0.2, 50)\n",
      "...with a performance of  0.625142857143\n"
     ]
    }
   ],
   "source": [
    "BEST_IDX = np.argmax([a for (a, n) in accuracies])\n",
    "\n",
    "print('The best model we made was...', accuracies[BEST_IDX][1])\n",
    "print('...with a performance of ', accuracies[BEST_IDX][0])\n",
    "\n",
    "best_model = rnns[BEST_IDX][0]"
   ]
  },
  {
   "cell_type": "markdown",
   "metadata": {},
   "source": [
    "#### Visualize"
   ]
  },
  {
   "cell_type": "code",
   "execution_count": 28,
   "metadata": {
    "collapsed": true
   },
   "outputs": [],
   "source": [
    "from sklearn import metrics as mt\n",
    "from matplotlib import pyplot as plt\n",
    "import seaborn as sns\n",
    "%matplotlib inline\n",
    "from sklearn.preprocessing import LabelEncoder\n",
    "enc = LabelEncoder()\n",
    "def confusion_matrix_plot(rnn, X_test, y_test, enc):\n",
    "    plt.figure(figsize=(20,5))\n",
    "    yhat2 = np.round(rnn.predict(X_test))\n",
    "    yhat = np.argmax(rnn.predict(X_test), axis=1)\n",
    "    rec_rnn = mt.accuracy_score(y_test,yhat2)\n",
    "    plt.subplot(1,3,1)\n",
    "    cm = mt.confusion_matrix(np.argmax(y_test, axis=1),yhat)\n",
    "    cm = cm/np.sum(cm,axis=1)[:,np.newaxis]\n",
    "    sns.heatmap(cm, annot=True, fmt='.2f')\n",
    "    plt.title('RNN: '+str(rnn))\n",
    " "
   ]
  },
  {
   "cell_type": "code",
   "execution_count": 29,
   "metadata": {},
   "outputs": [
    {
     "data": {
      "image/png": "[encoded data removed]",
      "text/plain": [
       "<matplotlib.figure.Figure at 0x2d8fdb9a278>"
      ]
     },
     "metadata": {},
     "output_type": "display_data"
    }
   ],
   "source": [
    "confusion_matrix_plot(best_model, X_test, y_test, enc)"
   ]
  },
  {
   "cell_type": "markdown",
   "metadata": {},
   "source": [
    "#### Cross Validation\n",
    "\n",
    "Now we'll pick the best model and do cross validation to see how the performance of it might generalize.  We'll use a stratified 5-fold cv loop.  We'll use K-fold because we've limited our dataset size to speed things up a bit and that way we can train on all of the data that we do have."
   ]
  },
  {
   "cell_type": "code",
   "execution_count": 30,
   "metadata": {},
   "outputs": [
    {
     "name": "stdout",
     "output_type": "stream",
     "text": [
      "\n",
      "\n",
      "CV  1\n",
      "Train on 2499 samples, validate on 2501 samples\n",
      "Epoch 1/1\n",
      "2499/2499 [==============================] - 25s 10ms/step - loss: 0.6188 - acc: 0.6659 - val_loss: 0.6348 - val_acc: 0.6465\n",
      "\n",
      "\n",
      "CV  2\n",
      "Train on 2501 samples, validate on 2499 samples\n",
      "Epoch 1/1\n",
      "2501/2501 [==============================] - 24s 10ms/step - loss: 0.6351 - acc: 0.6397 - val_loss: 0.5866 - val_acc: 0.7003\n"
     ]
    }
   ],
   "source": [
    "from sklearn.model_selection import StratifiedKFold\n",
    "\n",
    "NUM_SPLITS = 2\n",
    "skf = StratifiedKFold(NUM_SPLITS, shuffle=False)\n",
    "\n",
    "cv_acc = []\n",
    "\n",
    "for i, (train, test) in enumerate(skf.split(X, y)):\n",
    "    X_train = X[train]\n",
    "    X_test = X[test]\n",
    "    y_train = keras.utils.to_categorical(y[train])\n",
    "    y_test = keras.utils.to_categorical(y[test])\n",
    "    \n",
    "    print('\\n\\nCV ', i+1)\n",
    "    best_model.fit(X_train, y_train, batch_size=100, epochs=1, validation_data=[X_test, y_test])\n",
    "    \n",
    "    yhat = np.round(rnn[0].predict(X_test))\n",
    "    acc = mt.accuracy_score(yhat, y_test)\n",
    "    cv_acc.append(acc)\n",
    "   \n"
   ]
  },
  {
   "cell_type": "code",
   "execution_count": 33,
   "metadata": {},
   "outputs": [
    {
     "data": {
      "text/plain": [
       "[0.64654138344662138, 0.70028011204481788]"
      ]
     },
     "execution_count": 33,
     "metadata": {},
     "output_type": "execute_result"
    }
   ],
   "source": [
    "cv_acc"
   ]
  },
  {
   "cell_type": "code",
   "execution_count": 34,
   "metadata": {},
   "outputs": [
    {
     "name": "stdout",
     "output_type": "stream",
     "text": [
      "Accuracy: 0.673410747746 +- 0.0268693642991\n"
     ]
    }
   ],
   "source": [
    "print('Accuracy:', np.mean(cv_acc), '+-', np.std(cv_acc))\n"
   ]
  },
  {
   "cell_type": "markdown",
   "metadata": {},
   "source": [
    "## Embeddings Visualization\n",
    "\n",
    "Lets take a look at how our embedding is doing.  Ideally what we'd like to see is that words with similar meanings are relatively close together in the embedding space while opposite words are far apart."
   ]
  },
  {
   "cell_type": "code",
   "execution_count": 35,
   "metadata": {
    "collapsed": true
   },
   "outputs": [],
   "source": [
    "# grabe the weights of the embedding\n",
    "embed_layer = best_model.get_layer('embed')  # note that since this was shared,\n",
    "                                             # it doesn't really matter which model we pick it from\n",
    "weights = embed_layer.get_weights()[0]"
   ]
  },
  {
   "cell_type": "markdown",
   "metadata": {},
   "source": [
    "The function below takes four words as inputs, consisting of two pairs of \"opposites.\"  The two pairs themselves should have similar connotations though."
   ]
  },
  {
   "cell_type": "code",
   "execution_count": 36,
   "metadata": {
    "collapsed": true
   },
   "outputs": [],
   "source": [
    "def visualize_weights(w1, w2, w3, w4):\n",
    "    # get the index of each word\n",
    "    p1 = tkn.word_index[w1]\n",
    "    p2 = tkn.word_index[w2]\n",
    "    p3 = tkn.word_index[w3]\n",
    "    p4 = tkn.word_index[w4]\n",
    "    \n",
    "    # embedding vectors\n",
    "    e1 = weights[p1]\n",
    "    e2 = weights[p2]\n",
    "    e3 = weights[p3]\n",
    "    e4 = weights[p4]\n",
    "\n",
    "    # we'll project into the space defined by the greatest distance between each pair\n",
    "    distance1 = np.abs(e1 - e2)\n",
    "    distance2 = np.abs(e3 - e4)\n",
    "    \n",
    "    d1 = np.argmax(distance1)\n",
    "    d2 = np.argmax(distance2)\n",
    "\n",
    "    # projections of each vector into the plane\n",
    "    e1_2d = (e1[d1], e1[d2])\n",
    "    e2_2d = (e2[d1], e2[d2])\n",
    "    e3_2d = (e3[d1], e3[d2])\n",
    "    e4_2d = (e4[d1], e4[d2])\n",
    "\n",
    "    # plot\n",
    "    plt.scatter([e1_2d[0], e2_2d[0], e3_2d[0], e4_2d[0]],[e1_2d[1], e2_2d[1], e3_2d[1], e4_2d[1]])\n",
    "    plt.annotate(w1, e1_2d)\n",
    "    plt.annotate(w2, e2_2d)\n",
    "    plt.annotate(w3, e3_2d)\n",
    "    plt.annotate(w4, e4_2d)\n",
    "    plt.show()"
   ]
  },
  {
   "cell_type": "code",
   "execution_count": 37,
   "metadata": {},
   "outputs": [
    {
     "data": {
      "image/png": "[encoded data removed]",
      "text/plain": [
       "<matplotlib.figure.Figure at 0x2d8fde27588>"
      ]
     },
     "metadata": {},
     "output_type": "display_data"
    }
   ],
   "source": [
    "w1 = 'loud'\n",
    "w2 = 'quiet'\n",
    "w3 = 'hard'\n",
    "w4 = 'soft'\n",
    "\n",
    "visualize_weights(w1, w2, w3, w4)"
   ]
  },
  {
   "cell_type": "code",
   "execution_count": null,
   "metadata": {
    "collapsed": true
   },
   "outputs": [],
   "source": []
  },
  {
   "cell_type": "code",
   "execution_count": null,
   "metadata": {
    "collapsed": true
   },
   "outputs": [],
   "source": []
  },
  {
   "cell_type": "code",
   "execution_count": null,
   "metadata": {
    "collapsed": true
   },
   "outputs": [],
   "source": []
  }
 ],
 "metadata": {
  "kernelspec": {
   "display_name": "Python 3",
   "language": "python",
   "name": "python3"
  },
  "language_info": {
   "codemirror_mode": {
    "name": "ipython",
    "version": 3
   },
   "file_extension": ".py",
   "mimetype": "text/x-python",
   "name": "python",
   "nbconvert_exporter": "python",
   "pygments_lexer": "ipython3",
   "version": "3.6.3"
  }
 },
 "nbformat": 4,
 "nbformat_minor": 2
}
